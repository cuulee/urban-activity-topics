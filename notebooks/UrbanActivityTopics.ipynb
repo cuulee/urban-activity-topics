{
 "cells": [
  {
   "cell_type": "markdown",
   "metadata": {},
   "source": [
    "# Urban Activity Topics "
   ]
  },
  {
   "cell_type": "code",
   "execution_count": 20,
   "metadata": {},
   "outputs": [],
   "source": [
    "import os\n",
    "import glob\n",
    "import datetime\n",
    "\n",
    "import numpy as np\n",
    "import pandas as pd\n",
    "import geopandas as gpd\n",
    "\n",
    "from sklearn.decomposition import NMF\n",
    "from sklearn.preprocessing import normalize\n",
    "import altair as alt"
   ]
  },
  {
   "cell_type": "markdown",
   "metadata": {},
   "source": [
    "## Hourly population data\n",
    "\n",
    "City of Seoul publishes dataset for estimated hourly population for each census tract (total 19153) collaborating with a major cell phone carrier company. \n",
    "We are going to use September 2018 data (LOCAL_PEOPLE_201809.zip) from the url below.\n",
    "\n",
    "https://data.seoul.go.kr/dataList/datasetView.do?infId=OA-14979&srvType=F&serviceKind=1&currentPageNo=1&searchValue=&searchKey=null\n",
    "\n",
    "Download the file and unzip in the raw data folder. In the zip fle, one day's estimated popuation for each hour is saved as a csv file for each day. Let's look at one of the csv files.\n",
    "\n",
    "Here's the column info.\n",
    "* date (yyyymmdd), \n",
    "* hour\n",
    "* neighborhood code\n",
    "* census tract code \n",
    "* estimated population\n",
    "* estimated population male 0-9\n",
    "\n",
    "...\n",
    "\n",
    "* estimated population female >=70"
   ]
  },
  {
   "cell_type": "code",
   "execution_count": 2,
   "metadata": {},
   "outputs": [
    {
     "data": {
      "text/html": [
       "<div>\n",
       "<style scoped>\n",
       "    .dataframe tbody tr th:only-of-type {\n",
       "        vertical-align: middle;\n",
       "    }\n",
       "\n",
       "    .dataframe tbody tr th {\n",
       "        vertical-align: top;\n",
       "    }\n",
       "\n",
       "    .dataframe thead th {\n",
       "        text-align: right;\n",
       "    }\n",
       "</style>\n",
       "<table border=\"1\" class=\"dataframe\">\n",
       "  <thead>\n",
       "    <tr style=\"text-align: right;\">\n",
       "      <th></th>\n",
       "      <th>기준일ID</th>\n",
       "      <th>시간대구분</th>\n",
       "      <th>행정동코드</th>\n",
       "      <th>집계구코드</th>\n",
       "      <th>총생활인구수</th>\n",
       "      <th>남자0세부터9세생활인구수</th>\n",
       "      <th>남자10세부터14세생활인구수</th>\n",
       "      <th>남자15세부터19세생활인구수</th>\n",
       "      <th>남자20세부터24세생활인구수</th>\n",
       "      <th>남자25세부터29세생활인구수</th>\n",
       "      <th>...</th>\n",
       "      <th>여자25세부터29세생활인구수</th>\n",
       "      <th>여자30세부터34세생활인구수</th>\n",
       "      <th>여자35세부터39세생활인구수</th>\n",
       "      <th>여자40세부터44세생활인구수</th>\n",
       "      <th>여자45세부터49세생활인구수</th>\n",
       "      <th>여자50세부터54세생활인구수</th>\n",
       "      <th>여자55세부터59세생활인구수</th>\n",
       "      <th>여자60세부터64세생활인구수</th>\n",
       "      <th>여자65세부터69세생활인구수</th>\n",
       "      <th>여자70세이상생활인구수</th>\n",
       "    </tr>\n",
       "  </thead>\n",
       "  <tbody>\n",
       "    <tr>\n",
       "      <th>0</th>\n",
       "      <td>20181005</td>\n",
       "      <td>7</td>\n",
       "      <td>11260610</td>\n",
       "      <td>1107062010002</td>\n",
       "      <td>445.0</td>\n",
       "      <td>17</td>\n",
       "      <td>7</td>\n",
       "      <td>8</td>\n",
       "      <td>11</td>\n",
       "      <td>12</td>\n",
       "      <td>...</td>\n",
       "      <td>21</td>\n",
       "      <td>19</td>\n",
       "      <td>15</td>\n",
       "      <td>16</td>\n",
       "      <td>22</td>\n",
       "      <td>25</td>\n",
       "      <td>20</td>\n",
       "      <td>16</td>\n",
       "      <td>11</td>\n",
       "      <td>34</td>\n",
       "    </tr>\n",
       "    <tr>\n",
       "      <th>1</th>\n",
       "      <td>20181005</td>\n",
       "      <td>23</td>\n",
       "      <td>11260610</td>\n",
       "      <td>1107062010004</td>\n",
       "      <td>505.0</td>\n",
       "      <td>19</td>\n",
       "      <td>8</td>\n",
       "      <td>7</td>\n",
       "      <td>13</td>\n",
       "      <td>20</td>\n",
       "      <td>...</td>\n",
       "      <td>11</td>\n",
       "      <td>18</td>\n",
       "      <td>17</td>\n",
       "      <td>11</td>\n",
       "      <td>17</td>\n",
       "      <td>19</td>\n",
       "      <td>24</td>\n",
       "      <td>21</td>\n",
       "      <td>13</td>\n",
       "      <td>55</td>\n",
       "    </tr>\n",
       "    <tr>\n",
       "      <th>2</th>\n",
       "      <td>20181005</td>\n",
       "      <td>13</td>\n",
       "      <td>11260610</td>\n",
       "      <td>1107062010005</td>\n",
       "      <td>175.0</td>\n",
       "      <td>7</td>\n",
       "      <td>*</td>\n",
       "      <td>6</td>\n",
       "      <td>*</td>\n",
       "      <td>4</td>\n",
       "      <td>...</td>\n",
       "      <td>4</td>\n",
       "      <td>5</td>\n",
       "      <td>4</td>\n",
       "      <td>5</td>\n",
       "      <td>5</td>\n",
       "      <td>8</td>\n",
       "      <td>10</td>\n",
       "      <td>5</td>\n",
       "      <td>5</td>\n",
       "      <td>24</td>\n",
       "    </tr>\n",
       "    <tr>\n",
       "      <th>3</th>\n",
       "      <td>20181005</td>\n",
       "      <td>15</td>\n",
       "      <td>11440630</td>\n",
       "      <td>1114063040403</td>\n",
       "      <td>39.0</td>\n",
       "      <td>*</td>\n",
       "      <td>*</td>\n",
       "      <td>*</td>\n",
       "      <td>*</td>\n",
       "      <td>*</td>\n",
       "      <td>...</td>\n",
       "      <td>*</td>\n",
       "      <td>*</td>\n",
       "      <td>*</td>\n",
       "      <td>*</td>\n",
       "      <td>*</td>\n",
       "      <td>*</td>\n",
       "      <td>*</td>\n",
       "      <td>*</td>\n",
       "      <td>*</td>\n",
       "      <td>*</td>\n",
       "    </tr>\n",
       "    <tr>\n",
       "      <th>4</th>\n",
       "      <td>20181005</td>\n",
       "      <td>18</td>\n",
       "      <td>11140680</td>\n",
       "      <td>1102068010401</td>\n",
       "      <td>137.0</td>\n",
       "      <td>*</td>\n",
       "      <td>*</td>\n",
       "      <td>*</td>\n",
       "      <td>*</td>\n",
       "      <td>6</td>\n",
       "      <td>...</td>\n",
       "      <td>*</td>\n",
       "      <td>7</td>\n",
       "      <td>18</td>\n",
       "      <td>8</td>\n",
       "      <td>*</td>\n",
       "      <td>4</td>\n",
       "      <td>5</td>\n",
       "      <td>*</td>\n",
       "      <td>4</td>\n",
       "      <td>9</td>\n",
       "    </tr>\n",
       "  </tbody>\n",
       "</table>\n",
       "<p>5 rows × 33 columns</p>\n",
       "</div>"
      ],
      "text/plain": [
       "      기준일ID  시간대구분     행정동코드          집계구코드  총생활인구수 남자0세부터9세생활인구수  \\\n",
       "0  20181005      7  11260610  1107062010002   445.0            17   \n",
       "1  20181005     23  11260610  1107062010004   505.0            19   \n",
       "2  20181005     13  11260610  1107062010005   175.0             7   \n",
       "3  20181005     15  11440630  1114063040403    39.0             *   \n",
       "4  20181005     18  11140680  1102068010401   137.0             *   \n",
       "\n",
       "  남자10세부터14세생활인구수 남자15세부터19세생활인구수 남자20세부터24세생활인구수 남자25세부터29세생활인구수  \\\n",
       "0               7               8              11              12   \n",
       "1               8               7              13              20   \n",
       "2               *               6               *               4   \n",
       "3               *               *               *               *   \n",
       "4               *               *               *               6   \n",
       "\n",
       "      ...      여자25세부터29세생활인구수 여자30세부터34세생활인구수 여자35세부터39세생활인구수  \\\n",
       "0     ...                   21              19              15   \n",
       "1     ...                   11              18              17   \n",
       "2     ...                    4               5               4   \n",
       "3     ...                    *               *               *   \n",
       "4     ...                    *               7              18   \n",
       "\n",
       "  여자40세부터44세생활인구수 여자45세부터49세생활인구수 여자50세부터54세생활인구수 여자55세부터59세생활인구수  \\\n",
       "0              16              22              25              20   \n",
       "1              11              17              19              24   \n",
       "2               5               5               8              10   \n",
       "3               *               *               *               *   \n",
       "4               8               *               4               5   \n",
       "\n",
       "  여자60세부터64세생활인구수 여자65세부터69세생활인구수 여자70세이상생활인구수  \n",
       "0              16              11           34  \n",
       "1              21              13           55  \n",
       "2               5               5           24  \n",
       "3               *               *            *  \n",
       "4               *               4            9  \n",
       "\n",
       "[5 rows x 33 columns]"
      ]
     },
     "execution_count": 2,
     "metadata": {},
     "output_type": "execute_result"
    }
   ],
   "source": [
    "filename = \"../data/raw/LOCAL_PEOPLE_20181005.csv\"\n",
    "pop = pd.read_csv(filename)\n",
    "pop.head()"
   ]
  },
  {
   "cell_type": "markdown",
   "metadata": {},
   "source": [
    "## Merge the csv files into one dataframe\n",
    "Sep 25, 26, 27 are missed. Don't know the reason."
   ]
  },
  {
   "cell_type": "code",
   "execution_count": 3,
   "metadata": {},
   "outputs": [
    {
     "data": {
      "text/plain": [
       "27"
      ]
     },
     "execution_count": 3,
     "metadata": {},
     "output_type": "execute_result"
    }
   ],
   "source": [
    "csv_files = glob.glob(\"../data/raw/LOCAL_PEOPLE_201809/*.csv\")\n",
    "len(csv_files)"
   ]
  },
  {
   "cell_type": "markdown",
   "metadata": {},
   "source": [
    "A function reading a csv and extract date, hour, census tract and population. This function will be applied to the list of csv files."
   ]
  },
  {
   "cell_type": "code",
   "execution_count": null,
   "metadata": {},
   "outputs": [],
   "source": [
    "def read_population(raw_file):\n",
    "    ped = pd.read_csv(raw_file)[[\"기준일ID\", \"시간대구분\", \"집계구코드\", \"총생활인구수\"]]\n",
    "    ped.columns = ['date', 'time', 'census', 'pop']\n",
    "    return ped\n",
    "\n",
    "df_pop = pd.concat(map(read_population, csv_files))"
   ]
  },
  {
   "cell_type": "code",
   "execution_count": 12,
   "metadata": {},
   "outputs": [
    {
     "data": {
      "text/html": [
       "<div>\n",
       "<style scoped>\n",
       "    .dataframe tbody tr th:only-of-type {\n",
       "        vertical-align: middle;\n",
       "    }\n",
       "\n",
       "    .dataframe tbody tr th {\n",
       "        vertical-align: top;\n",
       "    }\n",
       "\n",
       "    .dataframe thead th {\n",
       "        text-align: right;\n",
       "    }\n",
       "</style>\n",
       "<table border=\"1\" class=\"dataframe\">\n",
       "  <thead>\n",
       "    <tr style=\"text-align: right;\">\n",
       "      <th></th>\n",
       "      <th>date</th>\n",
       "      <th>time</th>\n",
       "      <th>census</th>\n",
       "      <th>pop</th>\n",
       "      <th>timeslot</th>\n",
       "    </tr>\n",
       "  </thead>\n",
       "  <tbody>\n",
       "    <tr>\n",
       "      <th>0</th>\n",
       "      <td>20180917</td>\n",
       "      <td>15</td>\n",
       "      <td>1120071050005</td>\n",
       "      <td>1.0</td>\n",
       "      <td>D0T15</td>\n",
       "    </tr>\n",
       "    <tr>\n",
       "      <th>1</th>\n",
       "      <td>20180917</td>\n",
       "      <td>2</td>\n",
       "      <td>1107069020203</td>\n",
       "      <td>29.0</td>\n",
       "      <td>D0T02</td>\n",
       "    </tr>\n",
       "    <tr>\n",
       "      <th>2</th>\n",
       "      <td>20180917</td>\n",
       "      <td>18</td>\n",
       "      <td>1104068010006</td>\n",
       "      <td>23.0</td>\n",
       "      <td>D0T18</td>\n",
       "    </tr>\n",
       "    <tr>\n",
       "      <th>3</th>\n",
       "      <td>20180917</td>\n",
       "      <td>10</td>\n",
       "      <td>1120069010016</td>\n",
       "      <td>15.0</td>\n",
       "      <td>D0T10</td>\n",
       "    </tr>\n",
       "    <tr>\n",
       "      <th>4</th>\n",
       "      <td>20180917</td>\n",
       "      <td>14</td>\n",
       "      <td>1108083030005</td>\n",
       "      <td>157.0</td>\n",
       "      <td>D0T14</td>\n",
       "    </tr>\n",
       "  </tbody>\n",
       "</table>\n",
       "</div>"
      ],
      "text/plain": [
       "       date  time         census    pop timeslot\n",
       "0  20180917    15  1120071050005    1.0    D0T15\n",
       "1  20180917     2  1107069020203   29.0    D0T02\n",
       "2  20180917    18  1104068010006   23.0    D0T18\n",
       "3  20180917    10  1120069010016   15.0    D0T10\n",
       "4  20180917    14  1108083030005  157.0    D0T14"
      ]
     },
     "execution_count": 12,
     "metadata": {},
     "output_type": "execute_result"
    }
   ],
   "source": [
    "df_pop.head()"
   ]
  },
  {
   "cell_type": "markdown",
   "metadata": {},
   "source": [
    "## Aggregate data by timeslots\n",
    "Hourly estimated population will be aggregated by 128 timeslots (7day * 24hour). We will use mean for each time slot. Then convert it to a wide format to make a matrix for NMF.\n",
    "\n",
    "Day 0: Monday,..., Day5:Saturday, Day6: Sunday"
   ]
  },
  {
   "cell_type": "code",
   "execution_count": 6,
   "metadata": {},
   "outputs": [],
   "source": [
    "# add timeslot\n",
    "df_pop['timeslot'] = (pd.to_datetime(df_pop['date'], format='%Y%m%d').dt.dayofweek)\\\n",
    ".map('D{}'.format).str.cat(df_pop['time'].map('T{:02d}'.format))"
   ]
  },
  {
   "cell_type": "code",
   "execution_count": 7,
   "metadata": {},
   "outputs": [
    {
     "data": {
      "text/html": [
       "<div>\n",
       "<style scoped>\n",
       "    .dataframe tbody tr th:only-of-type {\n",
       "        vertical-align: middle;\n",
       "    }\n",
       "\n",
       "    .dataframe tbody tr th {\n",
       "        vertical-align: top;\n",
       "    }\n",
       "\n",
       "    .dataframe thead th {\n",
       "        text-align: right;\n",
       "    }\n",
       "</style>\n",
       "<table border=\"1\" class=\"dataframe\">\n",
       "  <thead>\n",
       "    <tr style=\"text-align: right;\">\n",
       "      <th>timeslot</th>\n",
       "      <th>D0T00</th>\n",
       "      <th>D0T01</th>\n",
       "      <th>D0T02</th>\n",
       "      <th>D0T03</th>\n",
       "      <th>D0T04</th>\n",
       "      <th>D0T05</th>\n",
       "      <th>D0T06</th>\n",
       "      <th>D0T07</th>\n",
       "      <th>D0T08</th>\n",
       "      <th>D0T09</th>\n",
       "      <th>...</th>\n",
       "      <th>D6T14</th>\n",
       "      <th>D6T15</th>\n",
       "      <th>D6T16</th>\n",
       "      <th>D6T17</th>\n",
       "      <th>D6T18</th>\n",
       "      <th>D6T19</th>\n",
       "      <th>D6T20</th>\n",
       "      <th>D6T21</th>\n",
       "      <th>D6T22</th>\n",
       "      <th>D6T23</th>\n",
       "    </tr>\n",
       "    <tr>\n",
       "      <th>census</th>\n",
       "      <th></th>\n",
       "      <th></th>\n",
       "      <th></th>\n",
       "      <th></th>\n",
       "      <th></th>\n",
       "      <th></th>\n",
       "      <th></th>\n",
       "      <th></th>\n",
       "      <th></th>\n",
       "      <th></th>\n",
       "      <th></th>\n",
       "      <th></th>\n",
       "      <th></th>\n",
       "      <th></th>\n",
       "      <th></th>\n",
       "      <th></th>\n",
       "      <th></th>\n",
       "      <th></th>\n",
       "      <th></th>\n",
       "      <th></th>\n",
       "      <th></th>\n",
       "    </tr>\n",
       "  </thead>\n",
       "  <tbody>\n",
       "    <tr>\n",
       "      <th>1101053010001</th>\n",
       "      <td>311.25</td>\n",
       "      <td>294.25</td>\n",
       "      <td>284.00</td>\n",
       "      <td>278.50</td>\n",
       "      <td>208.75</td>\n",
       "      <td>205.25</td>\n",
       "      <td>222.25</td>\n",
       "      <td>240.00</td>\n",
       "      <td>214.50</td>\n",
       "      <td>215.00</td>\n",
       "      <td>...</td>\n",
       "      <td>290.8</td>\n",
       "      <td>314.0</td>\n",
       "      <td>310.6</td>\n",
       "      <td>330.0</td>\n",
       "      <td>334.4</td>\n",
       "      <td>325.0</td>\n",
       "      <td>319.2</td>\n",
       "      <td>287.0</td>\n",
       "      <td>272.0</td>\n",
       "      <td>296.6</td>\n",
       "    </tr>\n",
       "    <tr>\n",
       "      <th>1101053010002</th>\n",
       "      <td>1352.50</td>\n",
       "      <td>1370.25</td>\n",
       "      <td>1377.50</td>\n",
       "      <td>1386.25</td>\n",
       "      <td>1382.00</td>\n",
       "      <td>1412.50</td>\n",
       "      <td>1482.25</td>\n",
       "      <td>1707.50</td>\n",
       "      <td>1731.75</td>\n",
       "      <td>1781.75</td>\n",
       "      <td>...</td>\n",
       "      <td>1945.8</td>\n",
       "      <td>1918.0</td>\n",
       "      <td>1927.2</td>\n",
       "      <td>1958.8</td>\n",
       "      <td>2000.6</td>\n",
       "      <td>1927.4</td>\n",
       "      <td>1921.0</td>\n",
       "      <td>1743.8</td>\n",
       "      <td>1620.2</td>\n",
       "      <td>1366.0</td>\n",
       "    </tr>\n",
       "    <tr>\n",
       "      <th>1101053010003</th>\n",
       "      <td>1249.25</td>\n",
       "      <td>1249.75</td>\n",
       "      <td>1249.25</td>\n",
       "      <td>1258.00</td>\n",
       "      <td>1237.25</td>\n",
       "      <td>1229.25</td>\n",
       "      <td>1206.75</td>\n",
       "      <td>1474.50</td>\n",
       "      <td>1509.25</td>\n",
       "      <td>1554.75</td>\n",
       "      <td>...</td>\n",
       "      <td>2032.6</td>\n",
       "      <td>2042.0</td>\n",
       "      <td>2138.4</td>\n",
       "      <td>2137.0</td>\n",
       "      <td>1977.8</td>\n",
       "      <td>1715.2</td>\n",
       "      <td>1426.4</td>\n",
       "      <td>1221.2</td>\n",
       "      <td>1149.4</td>\n",
       "      <td>1271.2</td>\n",
       "    </tr>\n",
       "    <tr>\n",
       "      <th>1101053010004</th>\n",
       "      <td>1261.75</td>\n",
       "      <td>1136.75</td>\n",
       "      <td>1127.25</td>\n",
       "      <td>1122.75</td>\n",
       "      <td>1087.75</td>\n",
       "      <td>1170.00</td>\n",
       "      <td>1435.00</td>\n",
       "      <td>2150.25</td>\n",
       "      <td>2798.50</td>\n",
       "      <td>3283.25</td>\n",
       "      <td>...</td>\n",
       "      <td>3315.4</td>\n",
       "      <td>3404.8</td>\n",
       "      <td>3526.0</td>\n",
       "      <td>3472.2</td>\n",
       "      <td>3053.6</td>\n",
       "      <td>2590.8</td>\n",
       "      <td>2291.2</td>\n",
       "      <td>2038.4</td>\n",
       "      <td>1740.0</td>\n",
       "      <td>1373.6</td>\n",
       "    </tr>\n",
       "    <tr>\n",
       "      <th>1101053010005</th>\n",
       "      <td>765.00</td>\n",
       "      <td>720.00</td>\n",
       "      <td>675.75</td>\n",
       "      <td>672.25</td>\n",
       "      <td>622.25</td>\n",
       "      <td>672.75</td>\n",
       "      <td>869.00</td>\n",
       "      <td>1248.25</td>\n",
       "      <td>2085.00</td>\n",
       "      <td>2417.75</td>\n",
       "      <td>...</td>\n",
       "      <td>2258.4</td>\n",
       "      <td>2277.4</td>\n",
       "      <td>2170.6</td>\n",
       "      <td>1976.4</td>\n",
       "      <td>1731.4</td>\n",
       "      <td>1751.0</td>\n",
       "      <td>1562.4</td>\n",
       "      <td>1339.0</td>\n",
       "      <td>1179.4</td>\n",
       "      <td>794.2</td>\n",
       "    </tr>\n",
       "  </tbody>\n",
       "</table>\n",
       "<p>5 rows × 168 columns</p>\n",
       "</div>"
      ],
      "text/plain": [
       "timeslot         D0T00    D0T01    D0T02    D0T03    D0T04    D0T05    D0T06  \\\n",
       "census                                                                         \n",
       "1101053010001   311.25   294.25   284.00   278.50   208.75   205.25   222.25   \n",
       "1101053010002  1352.50  1370.25  1377.50  1386.25  1382.00  1412.50  1482.25   \n",
       "1101053010003  1249.25  1249.75  1249.25  1258.00  1237.25  1229.25  1206.75   \n",
       "1101053010004  1261.75  1136.75  1127.25  1122.75  1087.75  1170.00  1435.00   \n",
       "1101053010005   765.00   720.00   675.75   672.25   622.25   672.75   869.00   \n",
       "\n",
       "timeslot         D0T07    D0T08    D0T09   ...     D6T14   D6T15   D6T16  \\\n",
       "census                                     ...                             \n",
       "1101053010001   240.00   214.50   215.00   ...     290.8   314.0   310.6   \n",
       "1101053010002  1707.50  1731.75  1781.75   ...    1945.8  1918.0  1927.2   \n",
       "1101053010003  1474.50  1509.25  1554.75   ...    2032.6  2042.0  2138.4   \n",
       "1101053010004  2150.25  2798.50  3283.25   ...    3315.4  3404.8  3526.0   \n",
       "1101053010005  1248.25  2085.00  2417.75   ...    2258.4  2277.4  2170.6   \n",
       "\n",
       "timeslot        D6T17   D6T18   D6T19   D6T20   D6T21   D6T22   D6T23  \n",
       "census                                                                 \n",
       "1101053010001   330.0   334.4   325.0   319.2   287.0   272.0   296.6  \n",
       "1101053010002  1958.8  2000.6  1927.4  1921.0  1743.8  1620.2  1366.0  \n",
       "1101053010003  2137.0  1977.8  1715.2  1426.4  1221.2  1149.4  1271.2  \n",
       "1101053010004  3472.2  3053.6  2590.8  2291.2  2038.4  1740.0  1373.6  \n",
       "1101053010005  1976.4  1731.4  1751.0  1562.4  1339.0  1179.4   794.2  \n",
       "\n",
       "[5 rows x 168 columns]"
      ]
     },
     "execution_count": 7,
     "metadata": {},
     "output_type": "execute_result"
    }
   ],
   "source": [
    "# mean by timeslot\n",
    "df_pop_wide = df_pop.groupby(['census', 'timeslot'])\\\n",
    ".mean()[['pop']]\\\n",
    ".reset_index()\\\n",
    ".pivot(index='census', columns='timeslot', values='pop')\n",
    "df_pop_wide.head()"
   ]
  },
  {
   "cell_type": "markdown",
   "metadata": {},
   "source": [
    "## Run NMF"
   ]
  },
  {
   "cell_type": "markdown",
   "metadata": {},
   "source": [
    "### Find best topic number"
   ]
  },
  {
   "cell_type": "code",
   "execution_count": 59,
   "metadata": {},
   "outputs": [],
   "source": [
    "def get_rss(no_topics):\n",
    "    nmf = NMF(n_components=no_topics, random_state=1, alpha=.2, l1_ratio=0, init='nndsvd').fit(X)\n",
    "    basis = nmf.fit_transform(X) \n",
    "    coef = nmf.components_  \n",
    "    rss = np.sum(np.square(X - np.matmul(basis, coef)))\n",
    "    return rss"
   ]
  },
  {
   "cell_type": "code",
   "execution_count": 62,
   "metadata": {},
   "outputs": [],
   "source": [
    "topic_numbers = list(range(5, 25))\n",
    "rss_scores = list(map(get_rss, topic_numbers))"
   ]
  },
  {
   "cell_type": "code",
   "execution_count": 65,
   "metadata": {},
   "outputs": [
    {
     "data": {
      "application/vnd.vegalite.v2+json": {
       "$schema": "https://vega.github.io/schema/vega-lite/v2.6.0.json",
       "config": {
        "view": {
         "height": 300,
         "width": 400
        }
       },
       "data": {
        "name": "data-031498ce7162d70f40392c1289216041"
       },
       "datasets": {
        "data-031498ce7162d70f40392c1289216041": [
         {
          "n": 5,
          "rss": 25502273998.82786
         },
         {
          "n": 6,
          "rss": 21390369868.876472
         },
         {
          "n": 7,
          "rss": 17681498199.52611
         },
         {
          "n": 8,
          "rss": 14748898872.348793
         },
         {
          "n": 9,
          "rss": 12539155732.594177
         },
         {
          "n": 10,
          "rss": 10653012972.225597
         },
         {
          "n": 11,
          "rss": 8939046392.486767
         },
         {
          "n": 12,
          "rss": 7920874457.613288
         },
         {
          "n": 13,
          "rss": 7673618215.007177
         },
         {
          "n": 14,
          "rss": 6638062469.7320795
         },
         {
          "n": 15,
          "rss": 6050517175.050156
         },
         {
          "n": 16,
          "rss": 5545987643.173866
         },
         {
          "n": 17,
          "rss": 5243698738.867807
         },
         {
          "n": 18,
          "rss": 4864294645.250038
         },
         {
          "n": 19,
          "rss": 4568623698.278045
         },
         {
          "n": 20,
          "rss": 4270552252.1713495
         },
         {
          "n": 21,
          "rss": 3946686264.6671076
         },
         {
          "n": 22,
          "rss": 3621819144.695947
         },
         {
          "n": 23,
          "rss": 3406194885.455132
         },
         {
          "n": 24,
          "rss": 3219466227.8873196
         }
        ]
       },
       "encoding": {
        "x": {
         "field": "n",
         "type": "quantitative"
        },
        "y": {
         "field": "rss",
         "type": "quantitative"
        }
       },
       "mark": {
        "point": true,
        "type": "line"
       }
      },
      "image/png": "[encoded data removed]",
      "text/plain": [
       "<VegaLite 2 object>\n",
       "\n",
       "If you see this message, it means the renderer has not been properly enabled\n",
       "for the frontend that you are using. For more information, see\n",
       "https://altair-viz.github.io/user_guide/troubleshooting.html\n"
      ]
     },
     "execution_count": 65,
     "metadata": {},
     "output_type": "execute_result"
    }
   ],
   "source": [
    "alt.Chart(pd.DataFrame({'n':topic_numbers, 'rss':rss_scores}))\\\n",
    ".mark_line(point=True)\\\n",
    ".encode(\n",
    "    x='n:Q',\n",
    "    y='rss:Q',\n",
    ")"
   ]
  },
  {
   "cell_type": "markdown",
   "metadata": {},
   "source": [
    "### Run with N=12"
   ]
  },
  {
   "cell_type": "code",
   "execution_count": 66,
   "metadata": {},
   "outputs": [
    {
     "name": "stdout",
     "output_type": "stream",
     "text": [
      "(19153, 168)\n",
      "(19153, 12)\n",
      "(12, 168)\n"
     ]
    }
   ],
   "source": [
    "no_topics = 12\n",
    "X = df_pop_wide.values\n",
    "feature_names = list(df_pop_wide.columns)\n",
    "print(X.shape)\n",
    "\n",
    "nmf = NMF(n_components=no_topics, random_state=1, alpha=.2, l1_ratio=0, init='nndsvd').fit(X)\n",
    "\n",
    "# W\n",
    "basis = nmf.fit_transform(X) \n",
    "print(basis.shape)\n",
    "\n",
    "# H\n",
    "coef = nmf.components_  \n",
    "print(coef.shape)"
   ]
  },
  {
   "cell_type": "markdown",
   "metadata": {},
   "source": [
    "## Visualize topics"
   ]
  },
  {
   "cell_type": "code",
   "execution_count": 68,
   "metadata": {},
   "outputs": [
    {
     "data": {
      "text/html": [
       "<div>\n",
       "<style scoped>\n",
       "    .dataframe tbody tr th:only-of-type {\n",
       "        vertical-align: middle;\n",
       "    }\n",
       "\n",
       "    .dataframe tbody tr th {\n",
       "        vertical-align: top;\n",
       "    }\n",
       "\n",
       "    .dataframe thead th {\n",
       "        text-align: right;\n",
       "    }\n",
       "</style>\n",
       "<table border=\"1\" class=\"dataframe\">\n",
       "  <thead>\n",
       "    <tr style=\"text-align: right;\">\n",
       "      <th></th>\n",
       "      <th>day</th>\n",
       "      <th>hour</th>\n",
       "      <th>score</th>\n",
       "      <th>topic</th>\n",
       "    </tr>\n",
       "  </thead>\n",
       "  <tbody>\n",
       "    <tr>\n",
       "      <th>0</th>\n",
       "      <td>0</td>\n",
       "      <td>0</td>\n",
       "      <td>0.00</td>\n",
       "      <td>topic_00</td>\n",
       "    </tr>\n",
       "    <tr>\n",
       "      <th>1</th>\n",
       "      <td>0</td>\n",
       "      <td>1</td>\n",
       "      <td>0.00</td>\n",
       "      <td>topic_00</td>\n",
       "    </tr>\n",
       "    <tr>\n",
       "      <th>2</th>\n",
       "      <td>0</td>\n",
       "      <td>2</td>\n",
       "      <td>0.00</td>\n",
       "      <td>topic_00</td>\n",
       "    </tr>\n",
       "    <tr>\n",
       "      <th>3</th>\n",
       "      <td>0</td>\n",
       "      <td>3</td>\n",
       "      <td>0.10</td>\n",
       "      <td>topic_00</td>\n",
       "    </tr>\n",
       "    <tr>\n",
       "      <th>4</th>\n",
       "      <td>0</td>\n",
       "      <td>4</td>\n",
       "      <td>0.31</td>\n",
       "      <td>topic_00</td>\n",
       "    </tr>\n",
       "  </tbody>\n",
       "</table>\n",
       "</div>"
      ],
      "text/plain": [
       "   day  hour  score     topic\n",
       "0    0     0   0.00  topic_00\n",
       "1    0     1   0.00  topic_00\n",
       "2    0     2   0.00  topic_00\n",
       "3    0     3   0.10  topic_00\n",
       "4    0     4   0.31  topic_00"
      ]
     },
     "execution_count": 68,
     "metadata": {},
     "output_type": "execute_result"
    }
   ],
   "source": [
    "records = []\n",
    "for topic_idx, topic in enumerate(coef):\n",
    "    for feature_idx, score in enumerate(topic):\n",
    "        feature_name = feature_names[feature_idx]\n",
    "        day = int(feature_name[1:2])\n",
    "        hour = int(feature_name[3:5])\n",
    "        record = {'topic': 'topic_{:02d}'.format(topic_idx), \n",
    "                  'day':day, \n",
    "                  'hour':hour, \n",
    "                  'score':round(score,2)}\n",
    "        records.append(record)\n",
    "df_topic = pd.DataFrame.from_records(records)\n",
    "df_topic.head()"
   ]
  },
  {
   "cell_type": "code",
   "execution_count": 69,
   "metadata": {},
   "outputs": [
    {
     "data": {
      "application/vnd.vegalite.v2+json": {
       "$schema": "https://vega.github.io/schema/vega-lite/v2.6.0.json",
       "config": {
        "view": {
         "height": 300,
         "width": 400
        }
       },
       "data": {
        "name": "data-54d632e75a646d1510d25b56401b585b"
       },
       "datasets": {
        "data-54d632e75a646d1510d25b56401b585b": [
         {
          "day": 0,
          "hour": 0,
          "score": 0,
          "topic": "topic_00"
         },
         {
          "day": 0,
          "hour": 1,
          "score": 0,
          "topic": "topic_00"
         },
         {
          "day": 0,
          "hour": 2,
          "score": 0,
          "topic": "topic_00"
         },
         {
          "day": 0,
          "hour": 3,
          "score": 0.1,
          "topic": "topic_00"
         },
         {
          "day": 0,
          "hour": 4,
          "score": 0.31,
          "topic": "topic_00"
         },
         {
          "day": 0,
          "hour": 5,
          "score": 0,
          "topic": "topic_00"
         },
         {
          "day": 0,
          "hour": 6,
          "score": 0,
          "topic": "topic_00"
         },
         {
          "day": 0,
          "hour": 7,
          "score": 12.62,
          "topic": "topic_00"
         },
         {
          "day": 0,
          "hour": 8,
          "score": 71.1,
          "topic": "topic_00"
         },
         {
          "day": 0,
          "hour": 9,
          "score": 102.54,
          "topic": "topic_00"
         },
         {
          "day": 0,
          "hour": 10,
          "score": 114.62,
          "topic": "topic_00"
         },
         {
          "day": 0,
          "hour": 11,
          "score": 125.86,
          "topic": "topic_00"
         },
         {
          "day": 0,
          "hour": 12,
          "score": 133.26,
          "topic": "topic_00"
         },
         {
          "day": 0,
          "hour": 13,
          "score": 136.94,
          "topic": "topic_00"
         },
         {
          "day": 0,
          "hour": 14,
          "score": 138.35,
          "topic": "topic_00"
         },
         {
          "day": 0,
          "hour": 15,
          "score": 137.9,
          "topic": "topic_00"
         },
         {
          "day": 0,
          "hour": 16,
          "score": 134.4,
          "topic": "topic_00"
         },
         {
          "day": 0,
          "hour": 17,
          "score": 123.03,
          "topic": "topic_00"
         },
         {
          "day": 0,
          "hour": 18,
          "score": 82.06,
          "topic": "topic_00"
         },
         {
          "day": 0,
          "hour": 19,
          "score": 53.87,
          "topic": "topic_00"
         },
         {
          "day": 0,
          "hour": 20,
          "score": 37.43,
          "topic": "topic_00"
         },
         {
          "day": 0,
          "hour": 21,
          "score": 22.45,
          "topic": "topic_00"
         },
         {
          "day": 0,
          "hour": 22,
          "score": 11.32,
          "topic": "topic_00"
         },
         {
          "day": 0,
          "hour": 23,
          "score": 3.04,
          "topic": "topic_00"
         },
         {
          "day": 1,
          "hour": 0,
          "score": 4.43,
          "topic": "topic_00"
         },
         {
          "day": 1,
          "hour": 1,
          "score": 3.27,
          "topic": "topic_00"
         },
         {
          "day": 1,
          "hour": 2,
          "score": 2.98,
          "topic": "topic_00"
         },
         {
          "day": 1,
          "hour": 3,
          "score": 3.04,
          "topic": "topic_00"
         },
         {
          "day": 1,
          "hour": 4,
          "score": 3.34,
          "topic": "topic_00"
         },
         {
          "day": 1,
          "hour": 5,
          "score": 2.93,
          "topic": "topic_00"
         },
         {
          "day": 1,
          "hour": 6,
          "score": 3.71,
          "topic": "topic_00"
         },
         {
          "day": 1,
          "hour": 7,
          "score": 21.02,
          "topic": "topic_00"
         },
         {
          "day": 1,
          "hour": 8,
          "score": 95.18,
          "topic": "topic_00"
         },
         {
          "day": 1,
          "hour": 9,
          "score": 134.95,
          "topic": "topic_00"
         },
         {
          "day": 1,
          "hour": 10,
          "score": 151.7,
          "topic": "topic_00"
         },
         {
          "day": 1,
          "hour": 11,
          "score": 165.16,
          "topic": "topic_00"
         },
         {
          "day": 1,
          "hour": 12,
          "score": 173.87,
          "topic": "topic_00"
         },
         {
          "day": 1,
          "hour": 13,
          "score": 179.48,
          "topic": "topic_00"
         },
         {
          "day": 1,
          "hour": 14,
          "score": 180.2,
          "topic": "topic_00"
         },
         {
          "day": 1,
          "hour": 15,
          "score": 177.19,
          "topic": "topic_00"
         },
         {
          "day": 1,
          "hour": 16,
          "score": 171.91,
          "topic": "topic_00"
         },
         {
          "day": 1,
          "hour": 17,
          "score": 153.12,
          "topic": "topic_00"
         },
         {
          "day": 1,
          "hour": 18,
          "score": 96.19,
          "topic": "topic_00"
         },
         {
          "day": 1,
          "hour": 19,
          "score": 59.8,
          "topic": "topic_00"
         },
         {
          "day": 1,
          "hour": 20,
          "score": 40.2,
          "topic": "topic_00"
         },
         {
          "day": 1,
          "hour": 21,
          "score": 24.37,
          "topic": "topic_00"
         },
         {
          "day": 1,
          "hour": 22,
          "score": 14.51,
          "topic": "topic_00"
         },
         {
          "day": 1,
          "hour": 23,
          "score": 4.58,
          "topic": "topic_00"
         },
         {
          "day": 2,
          "hour": 0,
          "score": 4.24,
          "topic": "topic_00"
         },
         {
          "day": 2,
          "hour": 1,
          "score": 3.21,
          "topic": "topic_00"
         },
         {
          "day": 2,
          "hour": 2,
          "score": 2.81,
          "topic": "topic_00"
         },
         {
          "day": 2,
          "hour": 3,
          "score": 2.53,
          "topic": "topic_00"
         },
         {
          "day": 2,
          "hour": 4,
          "score": 2.91,
          "topic": "topic_00"
         },
         {
          "day": 2,
          "hour": 5,
          "score": 2.54,
          "topic": "topic_00"
         },
         {
          "day": 2,
          "hour": 6,
          "score": 3.37,
          "topic": "topic_00"
         },
         {
          "day": 2,
          "hour": 7,
          "score": 20.12,
          "topic": "topic_00"
         },
         {
          "day": 2,
          "hour": 8,
          "score": 93.25,
          "topic": "topic_00"
         },
         {
          "day": 2,
          "hour": 9,
          "score": 134.09,
          "topic": "topic_00"
         },
         {
          "day": 2,
          "hour": 10,
          "score": 151.14,
          "topic": "topic_00"
         },
         {
          "day": 2,
          "hour": 11,
          "score": 165.12,
          "topic": "topic_00"
         },
         {
          "day": 2,
          "hour": 12,
          "score": 173.66,
          "topic": "topic_00"
         },
         {
          "day": 2,
          "hour": 13,
          "score": 178.98,
          "topic": "topic_00"
         },
         {
          "day": 2,
          "hour": 14,
          "score": 178.54,
          "topic": "topic_00"
         },
         {
          "day": 2,
          "hour": 15,
          "score": 175.83,
          "topic": "topic_00"
         },
         {
          "day": 2,
          "hour": 16,
          "score": 168.58,
          "topic": "topic_00"
         },
         {
          "day": 2,
          "hour": 17,
          "score": 150.39,
          "topic": "topic_00"
         },
         {
          "day": 2,
          "hour": 18,
          "score": 93.3,
          "topic": "topic_00"
         },
         {
          "day": 2,
          "hour": 19,
          "score": 57.25,
          "topic": "topic_00"
         },
         {
          "day": 2,
          "hour": 20,
          "score": 38.31,
          "topic": "topic_00"
         },
         {
          "day": 2,
          "hour": 21,
          "score": 23.48,
          "topic": "topic_00"
         },
         {
          "day": 2,
          "hour": 22,
          "score": 12.67,
          "topic": "topic_00"
         },
         {
          "day": 2,
          "hour": 23,
          "score": 4.14,
          "topic": "topic_00"
         },
         {
          "day": 3,
          "hour": 0,
          "score": 3.57,
          "topic": "topic_00"
         },
         {
          "day": 3,
          "hour": 1,
          "score": 2.75,
          "topic": "topic_00"
         },
         {
          "day": 3,
          "hour": 2,
          "score": 2.41,
          "topic": "topic_00"
         },
         {
          "day": 3,
          "hour": 3,
          "score": 2.41,
          "topic": "topic_00"
         },
         {
          "day": 3,
          "hour": 4,
          "score": 2.73,
          "topic": "topic_00"
         },
         {
          "day": 3,
          "hour": 5,
          "score": 2.66,
          "topic": "topic_00"
         },
         {
          "day": 3,
          "hour": 6,
          "score": 3.78,
          "topic": "topic_00"
         },
         {
          "day": 3,
          "hour": 7,
          "score": 19.66,
          "topic": "topic_00"
         },
         {
          "day": 3,
          "hour": 8,
          "score": 92.4,
          "topic": "topic_00"
         },
         {
          "day": 3,
          "hour": 9,
          "score": 134.69,
          "topic": "topic_00"
         },
         {
          "day": 3,
          "hour": 10,
          "score": 150.06,
          "topic": "topic_00"
         },
         {
          "day": 3,
          "hour": 11,
          "score": 164.53,
          "topic": "topic_00"
         },
         {
          "day": 3,
          "hour": 12,
          "score": 173.54,
          "topic": "topic_00"
         },
         {
          "day": 3,
          "hour": 13,
          "score": 178.28,
          "topic": "topic_00"
         },
         {
          "day": 3,
          "hour": 14,
          "score": 178.69,
          "topic": "topic_00"
         },
         {
          "day": 3,
          "hour": 15,
          "score": 175.75,
          "topic": "topic_00"
         },
         {
          "day": 3,
          "hour": 16,
          "score": 169.1,
          "topic": "topic_00"
         },
         {
          "day": 3,
          "hour": 17,
          "score": 153.57,
          "topic": "topic_00"
         },
         {
          "day": 3,
          "hour": 18,
          "score": 97.04,
          "topic": "topic_00"
         },
         {
          "day": 3,
          "hour": 19,
          "score": 63.31,
          "topic": "topic_00"
         },
         {
          "day": 3,
          "hour": 20,
          "score": 44.32,
          "topic": "topic_00"
         },
         {
          "day": 3,
          "hour": 21,
          "score": 26.96,
          "topic": "topic_00"
         },
         {
          "day": 3,
          "hour": 22,
          "score": 15.43,
          "topic": "topic_00"
         },
         {
          "day": 3,
          "hour": 23,
          "score": 4.95,
          "topic": "topic_00"
         },
         {
          "day": 4,
          "hour": 0,
          "score": 4.38,
          "topic": "topic_00"
         },
         {
          "day": 4,
          "hour": 1,
          "score": 3.41,
          "topic": "topic_00"
         },
         {
          "day": 4,
          "hour": 2,
          "score": 3,
          "topic": "topic_00"
         },
         {
          "day": 4,
          "hour": 3,
          "score": 2.96,
          "topic": "topic_00"
         },
         {
          "day": 4,
          "hour": 4,
          "score": 3.22,
          "topic": "topic_00"
         },
         {
          "day": 4,
          "hour": 5,
          "score": 2.83,
          "topic": "topic_00"
         },
         {
          "day": 4,
          "hour": 6,
          "score": 4.01,
          "topic": "topic_00"
         },
         {
          "day": 4,
          "hour": 7,
          "score": 20.3,
          "topic": "topic_00"
         },
         {
          "day": 4,
          "hour": 8,
          "score": 91.25,
          "topic": "topic_00"
         },
         {
          "day": 4,
          "hour": 9,
          "score": 131.22,
          "topic": "topic_00"
         },
         {
          "day": 4,
          "hour": 10,
          "score": 146.38,
          "topic": "topic_00"
         },
         {
          "day": 4,
          "hour": 11,
          "score": 158.81,
          "topic": "topic_00"
         },
         {
          "day": 4,
          "hour": 12,
          "score": 166.86,
          "topic": "topic_00"
         },
         {
          "day": 4,
          "hour": 13,
          "score": 169.31,
          "topic": "topic_00"
         },
         {
          "day": 4,
          "hour": 14,
          "score": 168.56,
          "topic": "topic_00"
         },
         {
          "day": 4,
          "hour": 15,
          "score": 162.61,
          "topic": "topic_00"
         },
         {
          "day": 4,
          "hour": 16,
          "score": 151.61,
          "topic": "topic_00"
         },
         {
          "day": 4,
          "hour": 17,
          "score": 127.22,
          "topic": "topic_00"
         },
         {
          "day": 4,
          "hour": 18,
          "score": 72.87,
          "topic": "topic_00"
         },
         {
          "day": 4,
          "hour": 19,
          "score": 42.52,
          "topic": "topic_00"
         },
         {
          "day": 4,
          "hour": 20,
          "score": 27.48,
          "topic": "topic_00"
         },
         {
          "day": 4,
          "hour": 21,
          "score": 17.16,
          "topic": "topic_00"
         },
         {
          "day": 4,
          "hour": 22,
          "score": 8.47,
          "topic": "topic_00"
         },
         {
          "day": 4,
          "hour": 23,
          "score": 2.12,
          "topic": "topic_00"
         },
         {
          "day": 5,
          "hour": 0,
          "score": 0.35,
          "topic": "topic_00"
         },
         {
          "day": 5,
          "hour": 1,
          "score": 0,
          "topic": "topic_00"
         },
         {
          "day": 5,
          "hour": 2,
          "score": 0.44,
          "topic": "topic_00"
         },
         {
          "day": 5,
          "hour": 3,
          "score": 0.84,
          "topic": "topic_00"
         },
         {
          "day": 5,
          "hour": 4,
          "score": 0.76,
          "topic": "topic_00"
         },
         {
          "day": 5,
          "hour": 5,
          "score": 0,
          "topic": "topic_00"
         },
         {
          "day": 5,
          "hour": 6,
          "score": 0,
          "topic": "topic_00"
         },
         {
          "day": 5,
          "hour": 7,
          "score": 0,
          "topic": "topic_00"
         },
         {
          "day": 5,
          "hour": 8,
          "score": 0,
          "topic": "topic_00"
         },
         {
          "day": 5,
          "hour": 9,
          "score": 1.92,
          "topic": "topic_00"
         },
         {
          "day": 5,
          "hour": 10,
          "score": 6.83,
          "topic": "topic_00"
         },
         {
          "day": 5,
          "hour": 11,
          "score": 14.41,
          "topic": "topic_00"
         },
         {
          "day": 5,
          "hour": 12,
          "score": 21.51,
          "topic": "topic_00"
         },
         {
          "day": 5,
          "hour": 13,
          "score": 26.41,
          "topic": "topic_00"
         },
         {
          "day": 5,
          "hour": 14,
          "score": 29.1,
          "topic": "topic_00"
         },
         {
          "day": 5,
          "hour": 15,
          "score": 28.62,
          "topic": "topic_00"
         },
         {
          "day": 5,
          "hour": 16,
          "score": 23.06,
          "topic": "topic_00"
         },
         {
          "day": 5,
          "hour": 17,
          "score": 17.47,
          "topic": "topic_00"
         },
         {
          "day": 5,
          "hour": 18,
          "score": 12.66,
          "topic": "topic_00"
         },
         {
          "day": 5,
          "hour": 19,
          "score": 10.35,
          "topic": "topic_00"
         },
         {
          "day": 5,
          "hour": 20,
          "score": 4.02,
          "topic": "topic_00"
         },
         {
          "day": 5,
          "hour": 21,
          "score": 0,
          "topic": "topic_00"
         },
         {
          "day": 5,
          "hour": 22,
          "score": 0,
          "topic": "topic_00"
         },
         {
          "day": 5,
          "hour": 23,
          "score": 1.06,
          "topic": "topic_00"
         },
         {
          "day": 6,
          "hour": 0,
          "score": 0,
          "topic": "topic_00"
         },
         {
          "day": 6,
          "hour": 1,
          "score": 0,
          "topic": "topic_00"
         },
         {
          "day": 6,
          "hour": 2,
          "score": 0,
          "topic": "topic_00"
         },
         {
          "day": 6,
          "hour": 3,
          "score": 0.64,
          "topic": "topic_00"
         },
         {
          "day": 6,
          "hour": 4,
          "score": 1.11,
          "topic": "topic_00"
         },
         {
          "day": 6,
          "hour": 5,
          "score": 0.08,
          "topic": "topic_00"
         },
         {
          "day": 6,
          "hour": 6,
          "score": 0.41,
          "topic": "topic_00"
         },
         {
          "day": 6,
          "hour": 7,
          "score": 0.41,
          "topic": "topic_00"
         },
         {
          "day": 6,
          "hour": 8,
          "score": 0,
          "topic": "topic_00"
         },
         {
          "day": 6,
          "hour": 9,
          "score": 0.64,
          "topic": "topic_00"
         },
         {
          "day": 6,
          "hour": 10,
          "score": 4.23,
          "topic": "topic_00"
         },
         {
          "day": 6,
          "hour": 11,
          "score": 10.56,
          "topic": "topic_00"
         },
         {
          "day": 6,
          "hour": 12,
          "score": 15.91,
          "topic": "topic_00"
         },
         {
          "day": 6,
          "hour": 13,
          "score": 17.88,
          "topic": "topic_00"
         },
         {
          "day": 6,
          "hour": 14,
          "score": 19.44,
          "topic": "topic_00"
         },
         {
          "day": 6,
          "hour": 15,
          "score": 19.52,
          "topic": "topic_00"
         },
         {
          "day": 6,
          "hour": 16,
          "score": 18.8,
          "topic": "topic_00"
         },
         {
          "day": 6,
          "hour": 17,
          "score": 19.93,
          "topic": "topic_00"
         },
         {
          "day": 6,
          "hour": 18,
          "score": 16.67,
          "topic": "topic_00"
         },
         {
          "day": 6,
          "hour": 19,
          "score": 11.39,
          "topic": "topic_00"
         },
         {
          "day": 6,
          "hour": 20,
          "score": 3.56,
          "topic": "topic_00"
         },
         {
          "day": 6,
          "hour": 21,
          "score": 0,
          "topic": "topic_00"
         },
         {
          "day": 6,
          "hour": 22,
          "score": 0,
          "topic": "topic_00"
         },
         {
          "day": 6,
          "hour": 23,
          "score": 0,
          "topic": "topic_00"
         },
         {
          "day": 0,
          "hour": 0,
          "score": 101.64,
          "topic": "topic_01"
         },
         {
          "day": 0,
          "hour": 1,
          "score": 98.54,
          "topic": "topic_01"
         },
         {
          "day": 0,
          "hour": 2,
          "score": 98.13,
          "topic": "topic_01"
         },
         {
          "day": 0,
          "hour": 3,
          "score": 97.54,
          "topic": "topic_01"
         },
         {
          "day": 0,
          "hour": 4,
          "score": 89.42,
          "topic": "topic_01"
         },
         {
          "day": 0,
          "hour": 5,
          "score": 85.43,
          "topic": "topic_01"
         },
         {
          "day": 0,
          "hour": 6,
          "score": 74.85,
          "topic": "topic_01"
         },
         {
          "day": 0,
          "hour": 7,
          "score": 50.84,
          "topic": "topic_01"
         },
         {
          "day": 0,
          "hour": 8,
          "score": 30.07,
          "topic": "topic_01"
         },
         {
          "day": 0,
          "hour": 9,
          "score": 21.18,
          "topic": "topic_01"
         },
         {
          "day": 0,
          "hour": 10,
          "score": 16.78,
          "topic": "topic_01"
         },
         {
          "day": 0,
          "hour": 11,
          "score": 15.36,
          "topic": "topic_01"
         },
         {
          "day": 0,
          "hour": 12,
          "score": 14.92,
          "topic": "topic_01"
         },
         {
          "day": 0,
          "hour": 13,
          "score": 14.16,
          "topic": "topic_01"
         },
         {
          "day": 0,
          "hour": 14,
          "score": 13.53,
          "topic": "topic_01"
         },
         {
          "day": 0,
          "hour": 15,
          "score": 12.17,
          "topic": "topic_01"
         },
         {
          "day": 0,
          "hour": 16,
          "score": 10.36,
          "topic": "topic_01"
         },
         {
          "day": 0,
          "hour": 17,
          "score": 10.14,
          "topic": "topic_01"
         },
         {
          "day": 0,
          "hour": 18,
          "score": 11.86,
          "topic": "topic_01"
         },
         {
          "day": 0,
          "hour": 19,
          "score": 16.16,
          "topic": "topic_01"
         },
         {
          "day": 0,
          "hour": 20,
          "score": 17.39,
          "topic": "topic_01"
         },
         {
          "day": 0,
          "hour": 21,
          "score": 20.54,
          "topic": "topic_01"
         },
         {
          "day": 0,
          "hour": 22,
          "score": 26.57,
          "topic": "topic_01"
         },
         {
          "day": 0,
          "hour": 23,
          "score": 85.9,
          "topic": "topic_01"
         },
         {
          "day": 1,
          "hour": 0,
          "score": 96.6,
          "topic": "topic_01"
         },
         {
          "day": 1,
          "hour": 1,
          "score": 95.15,
          "topic": "topic_01"
         },
         {
          "day": 1,
          "hour": 2,
          "score": 94.89,
          "topic": "topic_01"
         },
         {
          "day": 1,
          "hour": 3,
          "score": 94.83,
          "topic": "topic_01"
         },
         {
          "day": 1,
          "hour": 4,
          "score": 86.28,
          "topic": "topic_01"
         },
         {
          "day": 1,
          "hour": 5,
          "score": 82.22,
          "topic": "topic_01"
         },
         {
          "day": 1,
          "hour": 6,
          "score": 71.52,
          "topic": "topic_01"
         },
         {
          "day": 1,
          "hour": 7,
          "score": 45.64,
          "topic": "topic_01"
         },
         {
          "day": 1,
          "hour": 8,
          "score": 21.93,
          "topic": "topic_01"
         },
         {
          "day": 1,
          "hour": 9,
          "score": 12.1,
          "topic": "topic_01"
         },
         {
          "day": 1,
          "hour": 10,
          "score": 8.8,
          "topic": "topic_01"
         },
         {
          "day": 1,
          "hour": 11,
          "score": 8.42,
          "topic": "topic_01"
         },
         {
          "day": 1,
          "hour": 12,
          "score": 8.66,
          "topic": "topic_01"
         },
         {
          "day": 1,
          "hour": 13,
          "score": 8.18,
          "topic": "topic_01"
         },
         {
          "day": 1,
          "hour": 14,
          "score": 8.02,
          "topic": "topic_01"
         },
         {
          "day": 1,
          "hour": 15,
          "score": 6.52,
          "topic": "topic_01"
         },
         {
          "day": 1,
          "hour": 16,
          "score": 4.8,
          "topic": "topic_01"
         },
         {
          "day": 1,
          "hour": 17,
          "score": 5.64,
          "topic": "topic_01"
         },
         {
          "day": 1,
          "hour": 18,
          "score": 9.64,
          "topic": "topic_01"
         },
         {
          "day": 1,
          "hour": 19,
          "score": 15.04,
          "topic": "topic_01"
         },
         {
          "day": 1,
          "hour": 20,
          "score": 15.94,
          "topic": "topic_01"
         },
         {
          "day": 1,
          "hour": 21,
          "score": 17.32,
          "topic": "topic_01"
         },
         {
          "day": 1,
          "hour": 22,
          "score": 24.99,
          "topic": "topic_01"
         },
         {
          "day": 1,
          "hour": 23,
          "score": 90.48,
          "topic": "topic_01"
         },
         {
          "day": 2,
          "hour": 0,
          "score": 96.05,
          "topic": "topic_01"
         },
         {
          "day": 2,
          "hour": 1,
          "score": 94.27,
          "topic": "topic_01"
         },
         {
          "day": 2,
          "hour": 2,
          "score": 94.41,
          "topic": "topic_01"
         },
         {
          "day": 2,
          "hour": 3,
          "score": 94.7,
          "topic": "topic_01"
         },
         {
          "day": 2,
          "hour": 4,
          "score": 85.82,
          "topic": "topic_01"
         },
         {
          "day": 2,
          "hour": 5,
          "score": 82.08,
          "topic": "topic_01"
         },
         {
          "day": 2,
          "hour": 6,
          "score": 71.59,
          "topic": "topic_01"
         },
         {
          "day": 2,
          "hour": 7,
          "score": 45.95,
          "topic": "topic_01"
         },
         {
          "day": 2,
          "hour": 8,
          "score": 21.7,
          "topic": "topic_01"
         },
         {
          "day": 2,
          "hour": 9,
          "score": 10.4,
          "topic": "topic_01"
         },
         {
          "day": 2,
          "hour": 10,
          "score": 6.32,
          "topic": "topic_01"
         },
         {
          "day": 2,
          "hour": 11,
          "score": 5.48,
          "topic": "topic_01"
         },
         {
          "day": 2,
          "hour": 12,
          "score": 7.34,
          "topic": "topic_01"
         },
         {
          "day": 2,
          "hour": 13,
          "score": 7.62,
          "topic": "topic_01"
         },
         {
          "day": 2,
          "hour": 14,
          "score": 7.28,
          "topic": "topic_01"
         },
         {
          "day": 2,
          "hour": 15,
          "score": 6.23,
          "topic": "topic_01"
         },
         {
          "day": 2,
          "hour": 16,
          "score": 5,
          "topic": "topic_01"
         },
         {
          "day": 2,
          "hour": 17,
          "score": 5.04,
          "topic": "topic_01"
         },
         {
          "day": 2,
          "hour": 18,
          "score": 9.91,
          "topic": "topic_01"
         },
         {
          "day": 2,
          "hour": 19,
          "score": 13.99,
          "topic": "topic_01"
         },
         {
          "day": 2,
          "hour": 20,
          "score": 15.2,
          "topic": "topic_01"
         },
         {
          "day": 2,
          "hour": 21,
          "score": 18.33,
          "topic": "topic_01"
         },
         {
          "day": 2,
          "hour": 22,
          "score": 25.21,
          "topic": "topic_01"
         },
         {
          "day": 2,
          "hour": 23,
          "score": 92.24,
          "topic": "topic_01"
         },
         {
          "day": 3,
          "hour": 0,
          "score": 96.13,
          "topic": "topic_01"
         },
         {
          "day": 3,
          "hour": 1,
          "score": 94.86,
          "topic": "topic_01"
         },
         {
          "day": 3,
          "hour": 2,
          "score": 95.13,
          "topic": "topic_01"
         },
         {
          "day": 3,
          "hour": 3,
          "score": 94.8,
          "topic": "topic_01"
         },
         {
          "day": 3,
          "hour": 4,
          "score": 85.73,
          "topic": "topic_01"
         },
         {
          "day": 3,
          "hour": 5,
          "score": 81.69,
          "topic": "topic_01"
         },
         {
          "day": 3,
          "hour": 6,
          "score": 71.95,
          "topic": "topic_01"
         },
         {
          "day": 3,
          "hour": 7,
          "score": 46.14,
          "topic": "topic_01"
         },
         {
          "day": 3,
          "hour": 8,
          "score": 21.88,
          "topic": "topic_01"
         },
         {
          "day": 3,
          "hour": 9,
          "score": 12.68,
          "topic": "topic_01"
         },
         {
          "day": 3,
          "hour": 10,
          "score": 8.1,
          "topic": "topic_01"
         },
         {
          "day": 3,
          "hour": 11,
          "score": 9.32,
          "topic": "topic_01"
         },
         {
          "day": 3,
          "hour": 12,
          "score": 8.88,
          "topic": "topic_01"
         },
         {
          "day": 3,
          "hour": 13,
          "score": 7.82,
          "topic": "topic_01"
         },
         {
          "day": 3,
          "hour": 14,
          "score": 6.94,
          "topic": "topic_01"
         },
         {
          "day": 3,
          "hour": 15,
          "score": 5.04,
          "topic": "topic_01"
         },
         {
          "day": 3,
          "hour": 16,
          "score": 4.25,
          "topic": "topic_01"
         },
         {
          "day": 3,
          "hour": 17,
          "score": 4.67,
          "topic": "topic_01"
         },
         {
          "day": 3,
          "hour": 18,
          "score": 8.49,
          "topic": "topic_01"
         },
         {
          "day": 3,
          "hour": 19,
          "score": 12.47,
          "topic": "topic_01"
         },
         {
          "day": 3,
          "hour": 20,
          "score": 13.5,
          "topic": "topic_01"
         },
         {
          "day": 3,
          "hour": 21,
          "score": 16.8,
          "topic": "topic_01"
         },
         {
          "day": 3,
          "hour": 22,
          "score": 23.99,
          "topic": "topic_01"
         },
         {
          "day": 3,
          "hour": 23,
          "score": 90.67,
          "topic": "topic_01"
         },
         {
          "day": 4,
          "hour": 0,
          "score": 95.19,
          "topic": "topic_01"
         },
         {
          "day": 4,
          "hour": 1,
          "score": 93.87,
          "topic": "topic_01"
         },
         {
          "day": 4,
          "hour": 2,
          "score": 93.84,
          "topic": "topic_01"
         },
         {
          "day": 4,
          "hour": 3,
          "score": 93.85,
          "topic": "topic_01"
         },
         {
          "day": 4,
          "hour": 4,
          "score": 85.14,
          "topic": "topic_01"
         },
         {
          "day": 4,
          "hour": 5,
          "score": 81.01,
          "topic": "topic_01"
         },
         {
          "day": 4,
          "hour": 6,
          "score": 71.34,
          "topic": "topic_01"
         },
         {
          "day": 4,
          "hour": 7,
          "score": 46.24,
          "topic": "topic_01"
         },
         {
          "day": 4,
          "hour": 8,
          "score": 22.21,
          "topic": "topic_01"
         },
         {
          "day": 4,
          "hour": 9,
          "score": 11.03,
          "topic": "topic_01"
         },
         {
          "day": 4,
          "hour": 10,
          "score": 7.15,
          "topic": "topic_01"
         },
         {
          "day": 4,
          "hour": 11,
          "score": 5.24,
          "topic": "topic_01"
         },
         {
          "day": 4,
          "hour": 12,
          "score": 4.35,
          "topic": "topic_01"
         },
         {
          "day": 4,
          "hour": 13,
          "score": 2.62,
          "topic": "topic_01"
         },
         {
          "day": 4,
          "hour": 14,
          "score": 1.39,
          "topic": "topic_01"
         },
         {
          "day": 4,
          "hour": 15,
          "score": 0,
          "topic": "topic_01"
         },
         {
          "day": 4,
          "hour": 16,
          "score": 0,
          "topic": "topic_01"
         },
         {
          "day": 4,
          "hour": 17,
          "score": 0.48,
          "topic": "topic_01"
         },
         {
          "day": 4,
          "hour": 18,
          "score": 5.28,
          "topic": "topic_01"
         },
         {
          "day": 4,
          "hour": 19,
          "score": 7.06,
          "topic": "topic_01"
         },
         {
          "day": 4,
          "hour": 20,
          "score": 6.89,
          "topic": "topic_01"
         },
         {
          "day": 4,
          "hour": 21,
          "score": 12.82,
          "topic": "topic_01"
         },
         {
          "day": 4,
          "hour": 22,
          "score": 23.43,
          "topic": "topic_01"
         },
         {
          "day": 4,
          "hour": 23,
          "score": 83.08,
          "topic": "topic_01"
         },
         {
          "day": 5,
          "hour": 0,
          "score": 83.75,
          "topic": "topic_01"
         },
         {
          "day": 5,
          "hour": 1,
          "score": 86.06,
          "topic": "topic_01"
         },
         {
          "day": 5,
          "hour": 2,
          "score": 87.65,
          "topic": "topic_01"
         },
         {
          "day": 5,
          "hour": 3,
          "score": 88.38,
          "topic": "topic_01"
         },
         {
          "day": 5,
          "hour": 4,
          "score": 81.26,
          "topic": "topic_01"
         },
         {
          "day": 5,
          "hour": 5,
          "score": 77.59,
          "topic": "topic_01"
         },
         {
          "day": 5,
          "hour": 6,
          "score": 70.69,
          "topic": "topic_01"
         },
         {
          "day": 5,
          "hour": 7,
          "score": 62.65,
          "topic": "topic_01"
         },
         {
          "day": 5,
          "hour": 8,
          "score": 51.11,
          "topic": "topic_01"
         },
         {
          "day": 5,
          "hour": 9,
          "score": 38.56,
          "topic": "topic_01"
         },
         {
          "day": 5,
          "hour": 10,
          "score": 28.33,
          "topic": "topic_01"
         },
         {
          "day": 5,
          "hour": 11,
          "score": 19.38,
          "topic": "topic_01"
         },
         {
          "day": 5,
          "hour": 12,
          "score": 11.41,
          "topic": "topic_01"
         },
         {
          "day": 5,
          "hour": 13,
          "score": 5.5,
          "topic": "topic_01"
         },
         {
          "day": 5,
          "hour": 14,
          "score": 1.75,
          "topic": "topic_01"
         },
         {
          "day": 5,
          "hour": 15,
          "score": 0.75,
          "topic": "topic_01"
         },
         {
          "day": 5,
          "hour": 16,
          "score": 0,
          "topic": "topic_01"
         },
         {
          "day": 5,
          "hour": 17,
          "score": 0,
          "topic": "topic_01"
         },
         {
          "day": 5,
          "hour": 18,
          "score": 0,
          "topic": "topic_01"
         },
         {
          "day": 5,
          "hour": 19,
          "score": 0,
          "topic": "topic_01"
         },
         {
          "day": 5,
          "hour": 20,
          "score": 4.42,
          "topic": "topic_01"
         },
         {
          "day": 5,
          "hour": 21,
          "score": 15.77,
          "topic": "topic_01"
         },
         {
          "day": 5,
          "hour": 22,
          "score": 33.07,
          "topic": "topic_01"
         },
         {
          "day": 5,
          "hour": 23,
          "score": 106.79,
          "topic": "topic_01"
         },
         {
          "day": 6,
          "hour": 0,
          "score": 96.41,
          "topic": "topic_01"
         },
         {
          "day": 6,
          "hour": 1,
          "score": 97.34,
          "topic": "topic_01"
         },
         {
          "day": 6,
          "hour": 2,
          "score": 97.49,
          "topic": "topic_01"
         },
         {
          "day": 6,
          "hour": 3,
          "score": 97.29,
          "topic": "topic_01"
         },
         {
          "day": 6,
          "hour": 4,
          "score": 89.64,
          "topic": "topic_01"
         },
         {
          "day": 6,
          "hour": 5,
          "score": 84.59,
          "topic": "topic_01"
         },
         {
          "day": 6,
          "hour": 6,
          "score": 78.63,
          "topic": "topic_01"
         },
         {
          "day": 6,
          "hour": 7,
          "score": 70.42,
          "topic": "topic_01"
         },
         {
          "day": 6,
          "hour": 8,
          "score": 60.31,
          "topic": "topic_01"
         },
         {
          "day": 6,
          "hour": 9,
          "score": 45.64,
          "topic": "topic_01"
         },
         {
          "day": 6,
          "hour": 10,
          "score": 32.2,
          "topic": "topic_01"
         },
         {
          "day": 6,
          "hour": 11,
          "score": 20.28,
          "topic": "topic_01"
         },
         {
          "day": 6,
          "hour": 12,
          "score": 10.73,
          "topic": "topic_01"
         },
         {
          "day": 6,
          "hour": 13,
          "score": 3.1,
          "topic": "topic_01"
         },
         {
          "day": 6,
          "hour": 14,
          "score": 0.02,
          "topic": "topic_01"
         },
         {
          "day": 6,
          "hour": 15,
          "score": 0,
          "topic": "topic_01"
         },
         {
          "day": 6,
          "hour": 16,
          "score": 0,
          "topic": "topic_01"
         },
         {
          "day": 6,
          "hour": 17,
          "score": 0,
          "topic": "topic_01"
         },
         {
          "day": 6,
          "hour": 18,
          "score": 0,
          "topic": "topic_01"
         },
         {
          "day": 6,
          "hour": 19,
          "score": 1.61,
          "topic": "topic_01"
         },
         {
          "day": 6,
          "hour": 20,
          "score": 10.19,
          "topic": "topic_01"
         },
         {
          "day": 6,
          "hour": 21,
          "score": 23.03,
          "topic": "topic_01"
         },
         {
          "day": 6,
          "hour": 22,
          "score": 36.06,
          "topic": "topic_01"
         },
         {
          "day": 6,
          "hour": 23,
          "score": 100.2,
          "topic": "topic_01"
         },
         {
          "day": 0,
          "hour": 0,
          "score": 6.1,
          "topic": "topic_02"
         },
         {
          "day": 0,
          "hour": 1,
          "score": 7.19,
          "topic": "topic_02"
         },
         {
          "day": 0,
          "hour": 2,
          "score": 7.59,
          "topic": "topic_02"
         },
         {
          "day": 0,
          "hour": 3,
          "score": 7.06,
          "topic": "topic_02"
         },
         {
          "day": 0,
          "hour": 4,
          "score": 5.94,
          "topic": "topic_02"
         },
         {
          "day": 0,
          "hour": 5,
          "score": 5.49,
          "topic": "topic_02"
         },
         {
          "day": 0,
          "hour": 6,
          "score": 4.6,
          "topic": "topic_02"
         },
         {
          "day": 0,
          "hour": 7,
          "score": 12.04,
          "topic": "topic_02"
         },
         {
          "day": 0,
          "hour": 8,
          "score": 25.71,
          "topic": "topic_02"
         },
         {
          "day": 0,
          "hour": 9,
          "score": 27.45,
          "topic": "topic_02"
         },
         {
          "day": 0,
          "hour": 10,
          "score": 29.17,
          "topic": "topic_02"
         },
         {
          "day": 0,
          "hour": 11,
          "score": 35.59,
          "topic": "topic_02"
         },
         {
          "day": 0,
          "hour": 12,
          "score": 42.78,
          "topic": "topic_02"
         },
         {
          "day": 0,
          "hour": 13,
          "score": 47.89,
          "topic": "topic_02"
         },
         {
          "day": 0,
          "hour": 14,
          "score": 52.98,
          "topic": "topic_02"
         },
         {
          "day": 0,
          "hour": 15,
          "score": 57.32,
          "topic": "topic_02"
         },
         {
          "day": 0,
          "hour": 16,
          "score": 60.37,
          "topic": "topic_02"
         },
         {
          "day": 0,
          "hour": 17,
          "score": 61.24,
          "topic": "topic_02"
         },
         {
          "day": 0,
          "hour": 18,
          "score": 54.59,
          "topic": "topic_02"
         },
         {
          "day": 0,
          "hour": 19,
          "score": 51.63,
          "topic": "topic_02"
         },
         {
          "day": 0,
          "hour": 20,
          "score": 43.36,
          "topic": "topic_02"
         },
         {
          "day": 0,
          "hour": 21,
          "score": 30.36,
          "topic": "topic_02"
         },
         {
          "day": 0,
          "hour": 22,
          "score": 16.91,
          "topic": "topic_02"
         },
         {
          "day": 0,
          "hour": 23,
          "score": 11.29,
          "topic": "topic_02"
         },
         {
          "day": 1,
          "hour": 0,
          "score": 0,
          "topic": "topic_02"
         },
         {
          "day": 1,
          "hour": 1,
          "score": 0.64,
          "topic": "topic_02"
         },
         {
          "day": 1,
          "hour": 2,
          "score": 0.09,
          "topic": "topic_02"
         },
         {
          "day": 1,
          "hour": 3,
          "score": 1.24,
          "topic": "topic_02"
         },
         {
          "day": 1,
          "hour": 4,
          "score": 1.05,
          "topic": "topic_02"
         },
         {
          "day": 1,
          "hour": 5,
          "score": 0,
          "topic": "topic_02"
         },
         {
          "day": 1,
          "hour": 6,
          "score": 0,
          "topic": "topic_02"
         },
         {
          "day": 1,
          "hour": 7,
          "score": 0,
          "topic": "topic_02"
         },
         {
          "day": 1,
          "hour": 8,
          "score": 7,
          "topic": "topic_02"
         },
         {
          "day": 1,
          "hour": 9,
          "score": 2.43,
          "topic": "topic_02"
         },
         {
          "day": 1,
          "hour": 10,
          "score": 3.16,
          "topic": "topic_02"
         },
         {
          "day": 1,
          "hour": 11,
          "score": 7.58,
          "topic": "topic_02"
         },
         {
          "day": 1,
          "hour": 12,
          "score": 12.05,
          "topic": "topic_02"
         },
         {
          "day": 1,
          "hour": 13,
          "score": 17.4,
          "topic": "topic_02"
         },
         {
          "day": 1,
          "hour": 14,
          "score": 21.95,
          "topic": "topic_02"
         },
         {
          "day": 1,
          "hour": 15,
          "score": 25.41,
          "topic": "topic_02"
         },
         {
          "day": 1,
          "hour": 16,
          "score": 27.84,
          "topic": "topic_02"
         },
         {
          "day": 1,
          "hour": 17,
          "score": 31.16,
          "topic": "topic_02"
         },
         {
          "day": 1,
          "hour": 18,
          "score": 30.71,
          "topic": "topic_02"
         },
         {
          "day": 1,
          "hour": 19,
          "score": 31.79,
          "topic": "topic_02"
         },
         {
          "day": 1,
          "hour": 20,
          "score": 23.58,
          "topic": "topic_02"
         },
         {
          "day": 1,
          "hour": 21,
          "score": 12.14,
          "topic": "topic_02"
         },
         {
          "day": 1,
          "hour": 22,
          "score": 0,
          "topic": "topic_02"
         },
         {
          "day": 1,
          "hour": 23,
          "score": 0,
          "topic": "topic_02"
         },
         {
          "day": 2,
          "hour": 0,
          "score": 0,
          "topic": "topic_02"
         },
         {
          "day": 2,
          "hour": 1,
          "score": 0.12,
          "topic": "topic_02"
         },
         {
          "day": 2,
          "hour": 2,
          "score": 0.4,
          "topic": "topic_02"
         },
         {
          "day": 2,
          "hour": 3,
          "score": 1.92,
          "topic": "topic_02"
         },
         {
          "day": 2,
          "hour": 4,
          "score": 0.79,
          "topic": "topic_02"
         },
         {
          "day": 2,
          "hour": 5,
          "score": 0,
          "topic": "topic_02"
         },
         {
          "day": 2,
          "hour": 6,
          "score": 0,
          "topic": "topic_02"
         },
         {
          "day": 2,
          "hour": 7,
          "score": 0,
          "topic": "topic_02"
         },
         {
          "day": 2,
          "hour": 8,
          "score": 8.06,
          "topic": "topic_02"
         },
         {
          "day": 2,
          "hour": 9,
          "score": 0.03,
          "topic": "topic_02"
         },
         {
          "day": 2,
          "hour": 10,
          "score": 2.06,
          "topic": "topic_02"
         },
         {
          "day": 2,
          "hour": 11,
          "score": 6.08,
          "topic": "topic_02"
         },
         {
          "day": 2,
          "hour": 12,
          "score": 13.49,
          "topic": "topic_02"
         },
         {
          "day": 2,
          "hour": 13,
          "score": 20.14,
          "topic": "topic_02"
         },
         {
          "day": 2,
          "hour": 14,
          "score": 24.87,
          "topic": "topic_02"
         },
         {
          "day": 2,
          "hour": 15,
          "score": 29.44,
          "topic": "topic_02"
         },
         {
          "day": 2,
          "hour": 16,
          "score": 31.24,
          "topic": "topic_02"
         },
         {
          "day": 2,
          "hour": 17,
          "score": 35.67,
          "topic": "topic_02"
         },
         {
          "day": 2,
          "hour": 18,
          "score": 35.57,
          "topic": "topic_02"
         },
         {
          "day": 2,
          "hour": 19,
          "score": 37.89,
          "topic": "topic_02"
         },
         {
          "day": 2,
          "hour": 20,
          "score": 27.41,
          "topic": "topic_02"
         },
         {
          "day": 2,
          "hour": 21,
          "score": 13.7,
          "topic": "topic_02"
         },
         {
          "day": 2,
          "hour": 22,
          "score": 0.21,
          "topic": "topic_02"
         },
         {
          "day": 2,
          "hour": 23,
          "score": 1.11,
          "topic": "topic_02"
         },
         {
          "day": 3,
          "hour": 0,
          "score": 0,
          "topic": "topic_02"
         },
         {
          "day": 3,
          "hour": 1,
          "score": 1.01,
          "topic": "topic_02"
         },
         {
          "day": 3,
          "hour": 2,
          "score": 0.85,
          "topic": "topic_02"
         },
         {
          "day": 3,
          "hour": 3,
          "score": 1.13,
          "topic": "topic_02"
         },
         {
          "day": 3,
          "hour": 4,
          "score": 0.42,
          "topic": "topic_02"
         },
         {
          "day": 3,
          "hour": 5,
          "score": 0,
          "topic": "topic_02"
         },
         {
          "day": 3,
          "hour": 6,
          "score": 0,
          "topic": "topic_02"
         },
         {
          "day": 3,
          "hour": 7,
          "score": 0,
          "topic": "topic_02"
         },
         {
          "day": 3,
          "hour": 8,
          "score": 9.08,
          "topic": "topic_02"
         },
         {
          "day": 3,
          "hour": 9,
          "score": 5.38,
          "topic": "topic_02"
         },
         {
          "day": 3,
          "hour": 10,
          "score": 7.15,
          "topic": "topic_02"
         },
         {
          "day": 3,
          "hour": 11,
          "score": 12.4,
          "topic": "topic_02"
         },
         {
          "day": 3,
          "hour": 12,
          "score": 19.27,
          "topic": "topic_02"
         },
         {
          "day": 3,
          "hour": 13,
          "score": 25.03,
          "topic": "topic_02"
         },
         {
          "day": 3,
          "hour": 14,
          "score": 30.24,
          "topic": "topic_02"
         },
         {
          "day": 3,
          "hour": 15,
          "score": 30.4,
          "topic": "topic_02"
         },
         {
          "day": 3,
          "hour": 16,
          "score": 33.93,
          "topic": "topic_02"
         },
         {
          "day": 3,
          "hour": 17,
          "score": 35.65,
          "topic": "topic_02"
         },
         {
          "day": 3,
          "hour": 18,
          "score": 35.24,
          "topic": "topic_02"
         },
         {
          "day": 3,
          "hour": 19,
          "score": 36.59,
          "topic": "topic_02"
         },
         {
          "day": 3,
          "hour": 20,
          "score": 30.53,
          "topic": "topic_02"
         },
         {
          "day": 3,
          "hour": 21,
          "score": 14.3,
          "topic": "topic_02"
         },
         {
          "day": 3,
          "hour": 22,
          "score": 0,
          "topic": "topic_02"
         },
         {
          "day": 3,
          "hour": 23,
          "score": 0,
          "topic": "topic_02"
         },
         {
          "day": 4,
          "hour": 0,
          "score": 0,
          "topic": "topic_02"
         },
         {
          "day": 4,
          "hour": 1,
          "score": 1.08,
          "topic": "topic_02"
         },
         {
          "day": 4,
          "hour": 2,
          "score": 1.17,
          "topic": "topic_02"
         },
         {
          "day": 4,
          "hour": 3,
          "score": 1.37,
          "topic": "topic_02"
         },
         {
          "day": 4,
          "hour": 4,
          "score": 1.7,
          "topic": "topic_02"
         },
         {
          "day": 4,
          "hour": 5,
          "score": 0,
          "topic": "topic_02"
         },
         {
          "day": 4,
          "hour": 6,
          "score": 0,
          "topic": "topic_02"
         },
         {
          "day": 4,
          "hour": 7,
          "score": 0,
          "topic": "topic_02"
         },
         {
          "day": 4,
          "hour": 8,
          "score": 9.66,
          "topic": "topic_02"
         },
         {
          "day": 4,
          "hour": 9,
          "score": 8.71,
          "topic": "topic_02"
         },
         {
          "day": 4,
          "hour": 10,
          "score": 10.17,
          "topic": "topic_02"
         },
         {
          "day": 4,
          "hour": 11,
          "score": 15.6,
          "topic": "topic_02"
         },
         {
          "day": 4,
          "hour": 12,
          "score": 23.15,
          "topic": "topic_02"
         },
         {
          "day": 4,
          "hour": 13,
          "score": 29.16,
          "topic": "topic_02"
         },
         {
          "day": 4,
          "hour": 14,
          "score": 35.55,
          "topic": "topic_02"
         },
         {
          "day": 4,
          "hour": 15,
          "score": 37.83,
          "topic": "topic_02"
         },
         {
          "day": 4,
          "hour": 16,
          "score": 42.34,
          "topic": "topic_02"
         },
         {
          "day": 4,
          "hour": 17,
          "score": 44.74,
          "topic": "topic_02"
         },
         {
          "day": 4,
          "hour": 18,
          "score": 45.57,
          "topic": "topic_02"
         },
         {
          "day": 4,
          "hour": 19,
          "score": 42.74,
          "topic": "topic_02"
         },
         {
          "day": 4,
          "hour": 20,
          "score": 35.83,
          "topic": "topic_02"
         },
         {
          "day": 4,
          "hour": 21,
          "score": 20.46,
          "topic": "topic_02"
         },
         {
          "day": 4,
          "hour": 22,
          "score": 4.19,
          "topic": "topic_02"
         },
         {
          "day": 4,
          "hour": 23,
          "score": 0,
          "topic": "topic_02"
         },
         {
          "day": 5,
          "hour": 0,
          "score": 2.93,
          "topic": "topic_02"
         },
         {
          "day": 5,
          "hour": 1,
          "score": 0.89,
          "topic": "topic_02"
         },
         {
          "day": 5,
          "hour": 2,
          "score": 0,
          "topic": "topic_02"
         },
         {
          "day": 5,
          "hour": 3,
          "score": 1.02,
          "topic": "topic_02"
         },
         {
          "day": 5,
          "hour": 4,
          "score": 0.77,
          "topic": "topic_02"
         },
         {
          "day": 5,
          "hour": 5,
          "score": 0,
          "topic": "topic_02"
         },
         {
          "day": 5,
          "hour": 6,
          "score": 0,
          "topic": "topic_02"
         },
         {
          "day": 5,
          "hour": 7,
          "score": 2.32,
          "topic": "topic_02"
         },
         {
          "day": 5,
          "hour": 8,
          "score": 7.3,
          "topic": "topic_02"
         },
         {
          "day": 5,
          "hour": 9,
          "score": 15.8,
          "topic": "topic_02"
         },
         {
          "day": 5,
          "hour": 10,
          "score": 29.45,
          "topic": "topic_02"
         },
         {
          "day": 5,
          "hour": 11,
          "score": 48.97,
          "topic": "topic_02"
         },
         {
          "day": 5,
          "hour": 12,
          "score": 75.86,
          "topic": "topic_02"
         },
         {
          "day": 5,
          "hour": 13,
          "score": 110.29,
          "topic": "topic_02"
         },
         {
          "day": 5,
          "hour": 14,
          "score": 146.72,
          "topic": "topic_02"
         },
         {
          "day": 5,
          "hour": 15,
          "score": 171.05,
          "topic": "topic_02"
         },
         {
          "day": 5,
          "hour": 16,
          "score": 196.11,
          "topic": "topic_02"
         },
         {
          "day": 5,
          "hour": 17,
          "score": 216.98,
          "topic": "topic_02"
         },
         {
          "day": 5,
          "hour": 18,
          "score": 234.34,
          "topic": "topic_02"
         },
         {
          "day": 5,
          "hour": 19,
          "score": 226.14,
          "topic": "topic_02"
         },
         {
          "day": 5,
          "hour": 20,
          "score": 149.42,
          "topic": "topic_02"
         },
         {
          "day": 5,
          "hour": 21,
          "score": 71.96,
          "topic": "topic_02"
         },
         {
          "day": 5,
          "hour": 22,
          "score": 10.57,
          "topic": "topic_02"
         },
         {
          "day": 5,
          "hour": 23,
          "score": 0,
          "topic": "topic_02"
         },
         {
          "day": 6,
          "hour": 0,
          "score": 11.47,
          "topic": "topic_02"
         },
         {
          "day": 6,
          "hour": 1,
          "score": 10.61,
          "topic": "topic_02"
         },
         {
          "day": 6,
          "hour": 2,
          "score": 8.67,
          "topic": "topic_02"
         },
         {
          "day": 6,
          "hour": 3,
          "score": 8.77,
          "topic": "topic_02"
         },
         {
          "day": 6,
          "hour": 4,
          "score": 6.85,
          "topic": "topic_02"
         },
         {
          "day": 6,
          "hour": 5,
          "score": 7.3,
          "topic": "topic_02"
         },
         {
          "day": 6,
          "hour": 6,
          "score": 5.34,
          "topic": "topic_02"
         },
         {
          "day": 6,
          "hour": 7,
          "score": 2.1,
          "topic": "topic_02"
         },
         {
          "day": 6,
          "hour": 8,
          "score": 4.98,
          "topic": "topic_02"
         },
         {
          "day": 6,
          "hour": 9,
          "score": 9.59,
          "topic": "topic_02"
         },
         {
          "day": 6,
          "hour": 10,
          "score": 22.86,
          "topic": "topic_02"
         },
         {
          "day": 6,
          "hour": 11,
          "score": 47.67,
          "topic": "topic_02"
         },
         {
          "day": 6,
          "hour": 12,
          "score": 95.4,
          "topic": "topic_02"
         },
         {
          "day": 6,
          "hour": 13,
          "score": 154.82,
          "topic": "topic_02"
         },
         {
          "day": 6,
          "hour": 14,
          "score": 189.87,
          "topic": "topic_02"
         },
         {
          "day": 6,
          "hour": 15,
          "score": 208,
          "topic": "topic_02"
         },
         {
          "day": 6,
          "hour": 16,
          "score": 223.56,
          "topic": "topic_02"
         },
         {
          "day": 6,
          "hour": 17,
          "score": 230.34,
          "topic": "topic_02"
         },
         {
          "day": 6,
          "hour": 18,
          "score": 223.27,
          "topic": "topic_02"
         },
         {
          "day": 6,
          "hour": 19,
          "score": 195.14,
          "topic": "topic_02"
         },
         {
          "day": 6,
          "hour": 20,
          "score": 130.15,
          "topic": "topic_02"
         },
         {
          "day": 6,
          "hour": 21,
          "score": 61.56,
          "topic": "topic_02"
         },
         {
          "day": 6,
          "hour": 22,
          "score": 24.79,
          "topic": "topic_02"
         },
         {
          "day": 6,
          "hour": 23,
          "score": 5.99,
          "topic": "topic_02"
         },
         {
          "day": 0,
          "hour": 0,
          "score": 5.31,
          "topic": "topic_03"
         },
         {
          "day": 0,
          "hour": 1,
          "score": 1.76,
          "topic": "topic_03"
         },
         {
          "day": 0,
          "hour": 2,
          "score": 0.13,
          "topic": "topic_03"
         },
         {
          "day": 0,
          "hour": 3,
          "score": 0.05,
          "topic": "topic_03"
         },
         {
          "day": 0,
          "hour": 4,
          "score": 0,
          "topic": "topic_03"
         },
         {
          "day": 0,
          "hour": 5,
          "score": 4.33,
          "topic": "topic_03"
         },
         {
          "day": 0,
          "hour": 6,
          "score": 12.38,
          "topic": "topic_03"
         },
         {
          "day": 0,
          "hour": 7,
          "score": 19.72,
          "topic": "topic_03"
         },
         {
          "day": 0,
          "hour": 8,
          "score": 3.02,
          "topic": "topic_03"
         },
         {
          "day": 0,
          "hour": 9,
          "score": 1.81,
          "topic": "topic_03"
         },
         {
          "day": 0,
          "hour": 10,
          "score": 5.94,
          "topic": "topic_03"
         },
         {
          "day": 0,
          "hour": 11,
          "score": 7.81,
          "topic": "topic_03"
         },
         {
          "day": 0,
          "hour": 12,
          "score": 9.68,
          "topic": "topic_03"
         },
         {
          "day": 0,
          "hour": 13,
          "score": 9.61,
          "topic": "topic_03"
         },
         {
          "day": 0,
          "hour": 14,
          "score": 13.88,
          "topic": "topic_03"
         },
         {
          "day": 0,
          "hour": 15,
          "score": 23.83,
          "topic": "topic_03"
         },
         {
          "day": 0,
          "hour": 16,
          "score": 38.62,
          "topic": "topic_03"
         },
         {
          "day": 0,
          "hour": 17,
          "score": 53.56,
          "topic": "topic_03"
         },
         {
          "day": 0,
          "hour": 18,
          "score": 82.54,
          "topic": "topic_03"
         },
         {
          "day": 0,
          "hour": 19,
          "score": 100.64,
          "topic": "topic_03"
         },
         {
          "day": 0,
          "hour": 20,
          "score": 111.59,
          "topic": "topic_03"
         },
         {
          "day": 0,
          "hour": 21,
          "score": 117.76,
          "topic": "topic_03"
         },
         {
          "day": 0,
          "hour": 22,
          "score": 117.11,
          "topic": "topic_03"
         },
         {
          "day": 0,
          "hour": 23,
          "score": 15.47,
          "topic": "topic_03"
         },
         {
          "day": 1,
          "hour": 0,
          "score": 11.32,
          "topic": "topic_03"
         },
         {
          "day": 1,
          "hour": 1,
          "score": 4.82,
          "topic": "topic_03"
         },
         {
          "day": 1,
          "hour": 2,
          "score": 3.31,
          "topic": "topic_03"
         },
         {
          "day": 1,
          "hour": 3,
          "score": 1.99,
          "topic": "topic_03"
         },
         {
          "day": 1,
          "hour": 4,
          "score": 0,
          "topic": "topic_03"
         },
         {
          "day": 1,
          "hour": 5,
          "score": 5.53,
          "topic": "topic_03"
         },
         {
          "day": 1,
          "hour": 6,
          "score": 13.08,
          "topic": "topic_03"
         },
         {
          "day": 1,
          "hour": 7,
          "score": 21.36,
          "topic": "topic_03"
         },
         {
          "day": 1,
          "hour": 8,
          "score": 1.1,
          "topic": "topic_03"
         },
         {
          "day": 1,
          "hour": 9,
          "score": 0,
          "topic": "topic_03"
         },
         {
          "day": 1,
          "hour": 10,
          "score": 4.21,
          "topic": "topic_03"
         },
         {
          "day": 1,
          "hour": 11,
          "score": 5.66,
          "topic": "topic_03"
         },
         {
          "day": 1,
          "hour": 12,
          "score": 6.95,
          "topic": "topic_03"
         },
         {
          "day": 1,
          "hour": 13,
          "score": 7.34,
          "topic": "topic_03"
         },
         {
          "day": 1,
          "hour": 14,
          "score": 15.74,
          "topic": "topic_03"
         },
         {
          "day": 1,
          "hour": 15,
          "score": 22.82,
          "topic": "topic_03"
         },
         {
          "day": 1,
          "hour": 16,
          "score": 42.1,
          "topic": "topic_03"
         },
         {
          "day": 1,
          "hour": 17,
          "score": 57.92,
          "topic": "topic_03"
         },
         {
          "day": 1,
          "hour": 18,
          "score": 86.59,
          "topic": "topic_03"
         },
         {
          "day": 1,
          "hour": 19,
          "score": 103.38,
          "topic": "topic_03"
         },
         {
          "day": 1,
          "hour": 20,
          "score": 113.7,
          "topic": "topic_03"
         },
         {
          "day": 1,
          "hour": 21,
          "score": 124,
          "topic": "topic_03"
         },
         {
          "day": 1,
          "hour": 22,
          "score": 126.17,
          "topic": "topic_03"
         },
         {
          "day": 1,
          "hour": 23,
          "score": 14.3,
          "topic": "topic_03"
         },
         {
          "day": 2,
          "hour": 0,
          "score": 11.59,
          "topic": "topic_03"
         },
         {
          "day": 2,
          "hour": 1,
          "score": 5.65,
          "topic": "topic_03"
         },
         {
          "day": 2,
          "hour": 2,
          "score": 3.41,
          "topic": "topic_03"
         },
         {
          "day": 2,
          "hour": 3,
          "score": 1.56,
          "topic": "topic_03"
         },
         {
          "day": 2,
          "hour": 4,
          "score": 0,
          "topic": "topic_03"
         },
         {
          "day": 2,
          "hour": 5,
          "score": 5.21,
          "topic": "topic_03"
         },
         {
          "day": 2,
          "hour": 6,
          "score": 12.3,
          "topic": "topic_03"
         },
         {
          "day": 2,
          "hour": 7,
          "score": 21.19,
          "topic": "topic_03"
         },
         {
          "day": 2,
          "hour": 8,
          "score": 0.99,
          "topic": "topic_03"
         },
         {
          "day": 2,
          "hour": 9,
          "score": 0,
          "topic": "topic_03"
         },
         {
          "day": 2,
          "hour": 10,
          "score": 1.46,
          "topic": "topic_03"
         },
         {
          "day": 2,
          "hour": 11,
          "score": 4.47,
          "topic": "topic_03"
         },
         {
          "day": 2,
          "hour": 12,
          "score": 7.14,
          "topic": "topic_03"
         },
         {
          "day": 2,
          "hour": 13,
          "score": 8.6,
          "topic": "topic_03"
         },
         {
          "day": 2,
          "hour": 14,
          "score": 12.83,
          "topic": "topic_03"
         },
         {
          "day": 2,
          "hour": 15,
          "score": 23.33,
          "topic": "topic_03"
         },
         {
          "day": 2,
          "hour": 16,
          "score": 40.45,
          "topic": "topic_03"
         },
         {
          "day": 2,
          "hour": 17,
          "score": 56.97,
          "topic": "topic_03"
         },
         {
          "day": 2,
          "hour": 18,
          "score": 84.85,
          "topic": "topic_03"
         },
         {
          "day": 2,
          "hour": 19,
          "score": 103.11,
          "topic": "topic_03"
         },
         {
          "day": 2,
          "hour": 20,
          "score": 113.77,
          "topic": "topic_03"
         },
         {
          "day": 2,
          "hour": 21,
          "score": 124.38,
          "topic": "topic_03"
         },
         {
          "day": 2,
          "hour": 22,
          "score": 125.45,
          "topic": "topic_03"
         },
         {
          "day": 2,
          "hour": 23,
          "score": 8.99,
          "topic": "topic_03"
         },
         {
          "day": 3,
          "hour": 0,
          "score": 11.97,
          "topic": "topic_03"
         },
         {
          "day": 3,
          "hour": 1,
          "score": 4.43,
          "topic": "topic_03"
         },
         {
          "day": 3,
          "hour": 2,
          "score": 2.17,
          "topic": "topic_03"
         },
         {
          "day": 3,
          "hour": 3,
          "score": 1.53,
          "topic": "topic_03"
         },
         {
          "day": 3,
          "hour": 4,
          "score": 0,
          "topic": "topic_03"
         },
         {
          "day": 3,
          "hour": 5,
          "score": 6.47,
          "topic": "topic_03"
         },
         {
          "day": 3,
          "hour": 6,
          "score": 12.97,
          "topic": "topic_03"
         },
         {
          "day": 3,
          "hour": 7,
          "score": 22.24,
          "topic": "topic_03"
         },
         {
          "day": 3,
          "hour": 8,
          "score": 1.46,
          "topic": "topic_03"
         },
         {
          "day": 3,
          "hour": 9,
          "score": 0,
          "topic": "topic_03"
         },
         {
          "day": 3,
          "hour": 10,
          "score": 0,
          "topic": "topic_03"
         },
         {
          "day": 3,
          "hour": 11,
          "score": 1.81,
          "topic": "topic_03"
         },
         {
          "day": 3,
          "hour": 12,
          "score": 5.91,
          "topic": "topic_03"
         },
         {
          "day": 3,
          "hour": 13,
          "score": 6.69,
          "topic": "topic_03"
         },
         {
          "day": 3,
          "hour": 14,
          "score": 12.05,
          "topic": "topic_03"
         },
         {
          "day": 3,
          "hour": 15,
          "score": 22.56,
          "topic": "topic_03"
         },
         {
          "day": 3,
          "hour": 16,
          "score": 40.3,
          "topic": "topic_03"
         },
         {
          "day": 3,
          "hour": 17,
          "score": 55.64,
          "topic": "topic_03"
         },
         {
          "day": 3,
          "hour": 18,
          "score": 86.56,
          "topic": "topic_03"
         },
         {
          "day": 3,
          "hour": 19,
          "score": 103.7,
          "topic": "topic_03"
         },
         {
          "day": 3,
          "hour": 20,
          "score": 115.78,
          "topic": "topic_03"
         },
         {
          "day": 3,
          "hour": 21,
          "score": 126.15,
          "topic": "topic_03"
         },
         {
          "day": 3,
          "hour": 22,
          "score": 127.66,
          "topic": "topic_03"
         },
         {
          "day": 3,
          "hour": 23,
          "score": 14.67,
          "topic": "topic_03"
         },
         {
          "day": 4,
          "hour": 0,
          "score": 12.67,
          "topic": "topic_03"
         },
         {
          "day": 4,
          "hour": 1,
          "score": 5.1,
          "topic": "topic_03"
         },
         {
          "day": 4,
          "hour": 2,
          "score": 3.11,
          "topic": "topic_03"
         },
         {
          "day": 4,
          "hour": 3,
          "score": 2.18,
          "topic": "topic_03"
         },
         {
          "day": 4,
          "hour": 4,
          "score": 0,
          "topic": "topic_03"
         },
         {
          "day": 4,
          "hour": 5,
          "score": 6.89,
          "topic": "topic_03"
         },
         {
          "day": 4,
          "hour": 6,
          "score": 13.78,
          "topic": "topic_03"
         },
         {
          "day": 4,
          "hour": 7,
          "score": 23.27,
          "topic": "topic_03"
         },
         {
          "day": 4,
          "hour": 8,
          "score": 1.53,
          "topic": "topic_03"
         },
         {
          "day": 4,
          "hour": 9,
          "score": 0,
          "topic": "topic_03"
         },
         {
          "day": 4,
          "hour": 10,
          "score": 0.22,
          "topic": "topic_03"
         },
         {
          "day": 4,
          "hour": 11,
          "score": 2.85,
          "topic": "topic_03"
         },
         {
          "day": 4,
          "hour": 12,
          "score": 4.94,
          "topic": "topic_03"
         },
         {
          "day": 4,
          "hour": 13,
          "score": 4.19,
          "topic": "topic_03"
         },
         {
          "day": 4,
          "hour": 14,
          "score": 10.9,
          "topic": "topic_03"
         },
         {
          "day": 4,
          "hour": 15,
          "score": 25.62,
          "topic": "topic_03"
         },
         {
          "day": 4,
          "hour": 16,
          "score": 40.41,
          "topic": "topic_03"
         },
         {
          "day": 4,
          "hour": 17,
          "score": 55.58,
          "topic": "topic_03"
         },
         {
          "day": 4,
          "hour": 18,
          "score": 79.57,
          "topic": "topic_03"
         },
         {
          "day": 4,
          "hour": 19,
          "score": 96.29,
          "topic": "topic_03"
         },
         {
          "day": 4,
          "hour": 20,
          "score": 105.96,
          "topic": "topic_03"
         },
         {
          "day": 4,
          "hour": 21,
          "score": 111.63,
          "topic": "topic_03"
         },
         {
          "day": 4,
          "hour": 22,
          "score": 112.35,
          "topic": "topic_03"
         },
         {
          "day": 4,
          "hour": 23,
          "score": 17.25,
          "topic": "topic_03"
         },
         {
          "day": 5,
          "hour": 0,
          "score": 17,
          "topic": "topic_03"
         },
         {
          "day": 5,
          "hour": 1,
          "score": 7.85,
          "topic": "topic_03"
         },
         {
          "day": 5,
          "hour": 2,
          "score": 5.42,
          "topic": "topic_03"
         },
         {
          "day": 5,
          "hour": 3,
          "score": 4.25,
          "topic": "topic_03"
         },
         {
          "day": 5,
          "hour": 4,
          "score": 0.34,
          "topic": "topic_03"
         },
         {
          "day": 5,
          "hour": 5,
          "score": 9.06,
          "topic": "topic_03"
         },
         {
          "day": 5,
          "hour": 6,
          "score": 17.91,
          "topic": "topic_03"
         },
         {
          "day": 5,
          "hour": 7,
          "score": 25.59,
          "topic": "topic_03"
         },
         {
          "day": 5,
          "hour": 8,
          "score": 34.88,
          "topic": "topic_03"
         },
         {
          "day": 5,
          "hour": 9,
          "score": 42.12,
          "topic": "topic_03"
         },
         {
          "day": 5,
          "hour": 10,
          "score": 44,
          "topic": "topic_03"
         },
         {
          "day": 5,
          "hour": 11,
          "score": 41.84,
          "topic": "topic_03"
         },
         {
          "day": 5,
          "hour": 12,
          "score": 35.93,
          "topic": "topic_03"
         },
         {
          "day": 5,
          "hour": 13,
          "score": 22.82,
          "topic": "topic_03"
         },
         {
          "day": 5,
          "hour": 14,
          "score": 8.52,
          "topic": "topic_03"
         },
         {
          "day": 5,
          "hour": 15,
          "score": 2.56,
          "topic": "topic_03"
         },
         {
          "day": 5,
          "hour": 16,
          "score": 0,
          "topic": "topic_03"
         },
         {
          "day": 5,
          "hour": 17,
          "score": 0,
          "topic": "topic_03"
         },
         {
          "day": 5,
          "hour": 18,
          "score": 0,
          "topic": "topic_03"
         },
         {
          "day": 5,
          "hour": 19,
          "score": 15.39,
          "topic": "topic_03"
         },
         {
          "day": 5,
          "hour": 20,
          "score": 59.93,
          "topic": "topic_03"
         },
         {
          "day": 5,
          "hour": 21,
          "score": 93.81,
          "topic": "topic_03"
         },
         {
          "day": 5,
          "hour": 22,
          "score": 105.67,
          "topic": "topic_03"
         },
         {
          "day": 5,
          "hour": 23,
          "score": 0,
          "topic": "topic_03"
         },
         {
          "day": 6,
          "hour": 0,
          "score": 13.08,
          "topic": "topic_03"
         },
         {
          "day": 6,
          "hour": 1,
          "score": 5.34,
          "topic": "topic_03"
         },
         {
          "day": 6,
          "hour": 2,
          "score": 3.22,
          "topic": "topic_03"
         },
         {
          "day": 6,
          "hour": 3,
          "score": 2.63,
          "topic": "topic_03"
         },
         {
          "day": 6,
          "hour": 4,
          "score": 0,
          "topic": "topic_03"
         },
         {
          "day": 6,
          "hour": 5,
          "score": 6.37,
          "topic": "topic_03"
         },
         {
          "day": 6,
          "hour": 6,
          "score": 13.99,
          "topic": "topic_03"
         },
         {
          "day": 6,
          "hour": 7,
          "score": 20.53,
          "topic": "topic_03"
         },
         {
          "day": 6,
          "hour": 8,
          "score": 31.33,
          "topic": "topic_03"
         },
         {
          "day": 6,
          "hour": 9,
          "score": 40.22,
          "topic": "topic_03"
         },
         {
          "day": 6,
          "hour": 10,
          "score": 46.29,
          "topic": "topic_03"
         },
         {
          "day": 6,
          "hour": 11,
          "score": 43.24,
          "topic": "topic_03"
         },
         {
          "day": 6,
          "hour": 12,
          "score": 32.65,
          "topic": "topic_03"
         },
         {
          "day": 6,
          "hour": 13,
          "score": 7.87,
          "topic": "topic_03"
         },
         {
          "day": 6,
          "hour": 14,
          "score": 0,
          "topic": "topic_03"
         },
         {
          "day": 6,
          "hour": 15,
          "score": 0,
          "topic": "topic_03"
         },
         {
          "day": 6,
          "hour": 16,
          "score": 0,
          "topic": "topic_03"
         },
         {
          "day": 6,
          "hour": 17,
          "score": 12.06,
          "topic": "topic_03"
         },
         {
          "day": 6,
          "hour": 18,
          "score": 29.03,
          "topic": "topic_03"
         },
         {
          "day": 6,
          "hour": 19,
          "score": 48.23,
          "topic": "topic_03"
         },
         {
          "day": 6,
          "hour": 20,
          "score": 77.34,
          "topic": "topic_03"
         },
         {
          "day": 6,
          "hour": 21,
          "score": 99.3,
          "topic": "topic_03"
         },
         {
          "day": 6,
          "hour": 22,
          "score": 101.14,
          "topic": "topic_03"
         },
         {
          "day": 6,
          "hour": 23,
          "score": 5.37,
          "topic": "topic_03"
         },
         {
          "day": 0,
          "hour": 0,
          "score": 0,
          "topic": "topic_04"
         },
         {
          "day": 0,
          "hour": 1,
          "score": 0,
          "topic": "topic_04"
         },
         {
          "day": 0,
          "hour": 2,
          "score": 0,
          "topic": "topic_04"
         },
         {
          "day": 0,
          "hour": 3,
          "score": 0,
          "topic": "topic_04"
         },
         {
          "day": 0,
          "hour": 4,
          "score": 2.28,
          "topic": "topic_04"
         },
         {
          "day": 0,
          "hour": 5,
          "score": 18.31,
          "topic": "topic_04"
         },
         {
          "day": 0,
          "hour": 6,
          "score": 55.15,
          "topic": "topic_04"
         },
         {
          "day": 0,
          "hour": 7,
          "score": 132.75,
          "topic": "topic_04"
         },
         {
          "day": 0,
          "hour": 8,
          "score": 137.2,
          "topic": "topic_04"
         },
         {
          "day": 0,
          "hour": 9,
          "score": 110.09,
          "topic": "topic_04"
         },
         {
          "day": 0,
          "hour": 10,
          "score": 86.35,
          "topic": "topic_04"
         },
         {
          "day": 0,
          "hour": 11,
          "score": 54.73,
          "topic": "topic_04"
         },
         {
          "day": 0,
          "hour": 12,
          "score": 33.38,
          "topic": "topic_04"
         },
         {
          "day": 0,
          "hour": 13,
          "score": 26,
          "topic": "topic_04"
         },
         {
          "day": 0,
          "hour": 14,
          "score": 17.82,
          "topic": "topic_04"
         },
         {
          "day": 0,
          "hour": 15,
          "score": 8.72,
          "topic": "topic_04"
         },
         {
          "day": 0,
          "hour": 16,
          "score": 6.11,
          "topic": "topic_04"
         },
         {
          "day": 0,
          "hour": 17,
          "score": 8.24,
          "topic": "topic_04"
         },
         {
          "day": 0,
          "hour": 18,
          "score": 17.57,
          "topic": "topic_04"
         },
         {
          "day": 0,
          "hour": 19,
          "score": 9.63,
          "topic": "topic_04"
         },
         {
          "day": 0,
          "hour": 20,
          "score": 16.34,
          "topic": "topic_04"
         },
         {
          "day": 0,
          "hour": 21,
          "score": 27.39,
          "topic": "topic_04"
         },
         {
          "day": 0,
          "hour": 22,
          "score": 35.07,
          "topic": "topic_04"
         },
         {
          "day": 0,
          "hour": 23,
          "score": 12.9,
          "topic": "topic_04"
         },
         {
          "day": 1,
          "hour": 0,
          "score": 1.87,
          "topic": "topic_04"
         },
         {
          "day": 1,
          "hour": 1,
          "score": 0.21,
          "topic": "topic_04"
         },
         {
          "day": 1,
          "hour": 2,
          "score": 0,
          "topic": "topic_04"
         },
         {
          "day": 1,
          "hour": 3,
          "score": 0,
          "topic": "topic_04"
         },
         {
          "day": 1,
          "hour": 4,
          "score": 1.4,
          "topic": "topic_04"
         },
         {
          "day": 1,
          "hour": 5,
          "score": 20.42,
          "topic": "topic_04"
         },
         {
          "day": 1,
          "hour": 6,
          "score": 59.78,
          "topic": "topic_04"
         },
         {
          "day": 1,
          "hour": 7,
          "score": 149.87,
          "topic": "topic_04"
         },
         {
          "day": 1,
          "hour": 8,
          "score": 154.19,
          "topic": "topic_04"
         },
         {
          "day": 1,
          "hour": 9,
          "score": 121.66,
          "topic": "topic_04"
         },
         {
          "day": 1,
          "hour": 10,
          "score": 87.62,
          "topic": "topic_04"
         },
         {
          "day": 1,
          "hour": 11,
          "score": 43.81,
          "topic": "topic_04"
         },
         {
          "day": 1,
          "hour": 12,
          "score": 16.57,
          "topic": "topic_04"
         },
         {
          "day": 1,
          "hour": 13,
          "score": 12.45,
          "topic": "topic_04"
         },
         {
          "day": 1,
          "hour": 14,
          "score": 2.62,
          "topic": "topic_04"
         },
         {
          "day": 1,
          "hour": 15,
          "score": 2.53,
          "topic": "topic_04"
         },
         {
          "day": 1,
          "hour": 16,
          "score": 0,
          "topic": "topic_04"
         },
         {
          "day": 1,
          "hour": 17,
          "score": 3.17,
          "topic": "topic_04"
         },
         {
          "day": 1,
          "hour": 18,
          "score": 17.9,
          "topic": "topic_04"
         },
         {
          "day": 1,
          "hour": 19,
          "score": 7.1,
          "topic": "topic_04"
         },
         {
          "day": 1,
          "hour": 20,
          "score": 16.71,
          "topic": "topic_04"
         },
         {
          "day": 1,
          "hour": 21,
          "score": 26.78,
          "topic": "topic_04"
         },
         {
          "day": 1,
          "hour": 22,
          "score": 32.87,
          "topic": "topic_04"
         },
         {
          "day": 1,
          "hour": 23,
          "score": 9.81,
          "topic": "topic_04"
         },
         {
          "day": 2,
          "hour": 0,
          "score": 2.11,
          "topic": "topic_04"
         },
         {
          "day": 2,
          "hour": 1,
          "score": 0.28,
          "topic": "topic_04"
         },
         {
          "day": 2,
          "hour": 2,
          "score": 0,
          "topic": "topic_04"
         },
         {
          "day": 2,
          "hour": 3,
          "score": 0,
          "topic": "topic_04"
         },
         {
          "day": 2,
          "hour": 4,
          "score": 1.1,
          "topic": "topic_04"
         },
         {
          "day": 2,
          "hour": 5,
          "score": 18.2,
          "topic": "topic_04"
         },
         {
          "day": 2,
          "hour": 6,
          "score": 58.39,
          "topic": "topic_04"
         },
         {
          "day": 2,
          "hour": 7,
          "score": 147.74,
          "topic": "topic_04"
         },
         {
          "day": 2,
          "hour": 8,
          "score": 154.04,
          "topic": "topic_04"
         },
         {
          "day": 2,
          "hour": 9,
          "score": 119.21,
          "topic": "topic_04"
         },
         {
          "day": 2,
          "hour": 10,
          "score": 82.44,
          "topic": "topic_04"
         },
         {
          "day": 2,
          "hour": 11,
          "score": 35.87,
          "topic": "topic_04"
         },
         {
          "day": 2,
          "hour": 12,
          "score": 7.67,
          "topic": "topic_04"
         },
         {
          "day": 2,
          "hour": 13,
          "score": 1.27,
          "topic": "topic_04"
         },
         {
          "day": 2,
          "hour": 14,
          "score": 0,
          "topic": "topic_04"
         },
         {
          "day": 2,
          "hour": 15,
          "score": 0,
          "topic": "topic_04"
         },
         {
          "day": 2,
          "hour": 16,
          "score": 0,
          "topic": "topic_04"
         },
         {
          "day": 2,
          "hour": 17,
          "score": 0,
          "topic": "topic_04"
         },
         {
          "day": 2,
          "hour": 18,
          "score": 13.27,
          "topic": "topic_04"
         },
         {
          "day": 2,
          "hour": 19,
          "score": 0,
          "topic": "topic_04"
         },
         {
          "day": 2,
          "hour": 20,
          "score": 10.28,
          "topic": "topic_04"
         },
         {
          "day": 2,
          "hour": 21,
          "score": 23.94,
          "topic": "topic_04"
         },
         {
          "day": 2,
          "hour": 22,
          "score": 32.07,
          "topic": "topic_04"
         },
         {
          "day": 2,
          "hour": 23,
          "score": 7.39,
          "topic": "topic_04"
         },
         {
          "day": 3,
          "hour": 0,
          "score": 1.64,
          "topic": "topic_04"
         },
         {
          "day": 3,
          "hour": 1,
          "score": 0,
          "topic": "topic_04"
         },
         {
          "day": 3,
          "hour": 2,
          "score": 0,
          "topic": "topic_04"
         },
         {
          "day": 3,
          "hour": 3,
          "score": 0,
          "topic": "topic_04"
         },
         {
          "day": 3,
          "hour": 4,
          "score": 1.3,
          "topic": "topic_04"
         },
         {
          "day": 3,
          "hour": 5,
          "score": 17.6,
          "topic": "topic_04"
         },
         {
          "day": 3,
          "hour": 6,
          "score": 56.56,
          "topic": "topic_04"
         },
         {
          "day": 3,
          "hour": 7,
          "score": 148.16,
          "topic": "topic_04"
         },
         {
          "day": 3,
          "hour": 8,
          "score": 157.01,
          "topic": "topic_04"
         },
         {
          "day": 3,
          "hour": 9,
          "score": 119.68,
          "topic": "topic_04"
         },
         {
          "day": 3,
          "hour": 10,
          "score": 86.29,
          "topic": "topic_04"
         },
         {
          "day": 3,
          "hour": 11,
          "score": 41.37,
          "topic": "topic_04"
         },
         {
          "day": 3,
          "hour": 12,
          "score": 12.81,
          "topic": "topic_04"
         },
         {
          "day": 3,
          "hour": 13,
          "score": 4.77,
          "topic": "topic_04"
         },
         {
          "day": 3,
          "hour": 14,
          "score": 0.39,
          "topic": "topic_04"
         },
         {
          "day": 3,
          "hour": 15,
          "score": 0,
          "topic": "topic_04"
         },
         {
          "day": 3,
          "hour": 16,
          "score": 0,
          "topic": "topic_04"
         },
         {
          "day": 3,
          "hour": 17,
          "score": 5.25,
          "topic": "topic_04"
         },
         {
          "day": 3,
          "hour": 18,
          "score": 13.78,
          "topic": "topic_04"
         },
         {
          "day": 3,
          "hour": 19,
          "score": 0.49,
          "topic": "topic_04"
         },
         {
          "day": 3,
          "hour": 20,
          "score": 7.19,
          "topic": "topic_04"
         },
         {
          "day": 3,
          "hour": 21,
          "score": 23.1,
          "topic": "topic_04"
         },
         {
          "day": 3,
          "hour": 22,
          "score": 30.18,
          "topic": "topic_04"
         },
         {
          "day": 3,
          "hour": 23,
          "score": 8.29,
          "topic": "topic_04"
         },
         {
          "day": 4,
          "hour": 0,
          "score": 1.85,
          "topic": "topic_04"
         },
         {
          "day": 4,
          "hour": 1,
          "score": 0,
          "topic": "topic_04"
         },
         {
          "day": 4,
          "hour": 2,
          "score": 0,
          "topic": "topic_04"
         },
         {
          "day": 4,
          "hour": 3,
          "score": 0,
          "topic": "topic_04"
         },
         {
          "day": 4,
          "hour": 4,
          "score": 0.12,
          "topic": "topic_04"
         },
         {
          "day": 4,
          "hour": 5,
          "score": 17.83,
          "topic": "topic_04"
         },
         {
          "day": 4,
          "hour": 6,
          "score": 54.12,
          "topic": "topic_04"
         },
         {
          "day": 4,
          "hour": 7,
          "score": 140.59,
          "topic": "topic_04"
         },
         {
          "day": 4,
          "hour": 8,
          "score": 150.69,
          "topic": "topic_04"
         },
         {
          "day": 4,
          "hour": 9,
          "score": 117.09,
          "topic": "topic_04"
         },
         {
          "day": 4,
          "hour": 10,
          "score": 87.29,
          "topic": "topic_04"
         },
         {
          "day": 4,
          "hour": 11,
          "score": 44.06,
          "topic": "topic_04"
         },
         {
          "day": 4,
          "hour": 12,
          "score": 15.38,
          "topic": "topic_04"
         },
         {
          "day": 4,
          "hour": 13,
          "score": 11.02,
          "topic": "topic_04"
         },
         {
          "day": 4,
          "hour": 14,
          "score": 5.11,
          "topic": "topic_04"
         },
         {
          "day": 4,
          "hour": 15,
          "score": 0,
          "topic": "topic_04"
         },
         {
          "day": 4,
          "hour": 16,
          "score": 0,
          "topic": "topic_04"
         },
         {
          "day": 4,
          "hour": 17,
          "score": 5.2,
          "topic": "topic_04"
         },
         {
          "day": 4,
          "hour": 18,
          "score": 17.34,
          "topic": "topic_04"
         },
         {
          "day": 4,
          "hour": 19,
          "score": 0,
          "topic": "topic_04"
         },
         {
          "day": 4,
          "hour": 20,
          "score": 2.89,
          "topic": "topic_04"
         },
         {
          "day": 4,
          "hour": 21,
          "score": 14.97,
          "topic": "topic_04"
         },
         {
          "day": 4,
          "hour": 22,
          "score": 24.57,
          "topic": "topic_04"
         },
         {
          "day": 4,
          "hour": 23,
          "score": 4.37,
          "topic": "topic_04"
         },
         {
          "day": 5,
          "hour": 0,
          "score": 11.14,
          "topic": "topic_04"
         },
         {
          "day": 5,
          "hour": 1,
          "score": 6.68,
          "topic": "topic_04"
         },
         {
          "day": 5,
          "hour": 2,
          "score": 3.97,
          "topic": "topic_04"
         },
         {
          "day": 5,
          "hour": 3,
          "score": 3.23,
          "topic": "topic_04"
         },
         {
          "day": 5,
          "hour": 4,
          "score": 3.9,
          "topic": "topic_04"
         },
         {
          "day": 5,
          "hour": 5,
          "score": 18.64,
          "topic": "topic_04"
         },
         {
          "day": 5,
          "hour": 6,
          "score": 40.19,
          "topic": "topic_04"
         },
         {
          "day": 5,
          "hour": 7,
          "score": 61.27,
          "topic": "topic_04"
         },
         {
          "day": 5,
          "hour": 8,
          "score": 85.4,
          "topic": "topic_04"
         },
         {
          "day": 5,
          "hour": 9,
          "score": 98.55,
          "topic": "topic_04"
         },
         {
          "day": 5,
          "hour": 10,
          "score": 93.88,
          "topic": "topic_04"
         },
         {
          "day": 5,
          "hour": 11,
          "score": 76.67,
          "topic": "topic_04"
         },
         {
          "day": 5,
          "hour": 12,
          "score": 51.65,
          "topic": "topic_04"
         },
         {
          "day": 5,
          "hour": 13,
          "score": 29.57,
          "topic": "topic_04"
         },
         {
          "day": 5,
          "hour": 14,
          "score": 14.03,
          "topic": "topic_04"
         },
         {
          "day": 5,
          "hour": 15,
          "score": 3.42,
          "topic": "topic_04"
         },
         {
          "day": 5,
          "hour": 16,
          "score": 0,
          "topic": "topic_04"
         },
         {
          "day": 5,
          "hour": 17,
          "score": 0,
          "topic": "topic_04"
         },
         {
          "day": 5,
          "hour": 18,
          "score": 0,
          "topic": "topic_04"
         },
         {
          "day": 5,
          "hour": 19,
          "score": 0.93,
          "topic": "topic_04"
         },
         {
          "day": 5,
          "hour": 20,
          "score": 18.73,
          "topic": "topic_04"
         },
         {
          "day": 5,
          "hour": 21,
          "score": 26.73,
          "topic": "topic_04"
         },
         {
          "day": 5,
          "hour": 22,
          "score": 16.79,
          "topic": "topic_04"
         },
         {
          "day": 5,
          "hour": 23,
          "score": 0,
          "topic": "topic_04"
         },
         {
          "day": 6,
          "hour": 0,
          "score": 3.89,
          "topic": "topic_04"
         },
         {
          "day": 6,
          "hour": 1,
          "score": 4.07,
          "topic": "topic_04"
         },
         {
          "day": 6,
          "hour": 2,
          "score": 4.19,
          "topic": "topic_04"
         },
         {
          "day": 6,
          "hour": 3,
          "score": 2.56,
          "topic": "topic_04"
         },
         {
          "day": 6,
          "hour": 4,
          "score": 1.81,
          "topic": "topic_04"
         },
         {
          "day": 6,
          "hour": 5,
          "score": 11.33,
          "topic": "topic_04"
         },
         {
          "day": 6,
          "hour": 6,
          "score": 22.99,
          "topic": "topic_04"
         },
         {
          "day": 6,
          "hour": 7,
          "score": 35.81,
          "topic": "topic_04"
         },
         {
          "day": 6,
          "hour": 8,
          "score": 50.23,
          "topic": "topic_04"
         },
         {
          "day": 6,
          "hour": 9,
          "score": 62.07,
          "topic": "topic_04"
         },
         {
          "day": 6,
          "hour": 10,
          "score": 60.79,
          "topic": "topic_04"
         },
         {
          "day": 6,
          "hour": 11,
          "score": 48.75,
          "topic": "topic_04"
         },
         {
          "day": 6,
          "hour": 12,
          "score": 33.4,
          "topic": "topic_04"
         },
         {
          "day": 6,
          "hour": 13,
          "score": 19.59,
          "topic": "topic_04"
         },
         {
          "day": 6,
          "hour": 14,
          "score": 6.11,
          "topic": "topic_04"
         },
         {
          "day": 6,
          "hour": 15,
          "score": 0,
          "topic": "topic_04"
         },
         {
          "day": 6,
          "hour": 16,
          "score": 0,
          "topic": "topic_04"
         },
         {
          "day": 6,
          "hour": 17,
          "score": 0,
          "topic": "topic_04"
         },
         {
          "day": 6,
          "hour": 18,
          "score": 3.84,
          "topic": "topic_04"
         },
         {
          "day": 6,
          "hour": 19,
          "score": 13.62,
          "topic": "topic_04"
         },
         {
          "day": 6,
          "hour": 20,
          "score": 28.77,
          "topic": "topic_04"
         },
         {
          "day": 6,
          "hour": 21,
          "score": 29.44,
          "topic": "topic_04"
         },
         {
          "day": 6,
          "hour": 22,
          "score": 21.32,
          "topic": "topic_04"
         },
         {
          "day": 6,
          "hour": 23,
          "score": 0,
          "topic": "topic_04"
         },
         {
          "day": 0,
          "hour": 0,
          "score": 66.81,
          "topic": "topic_05"
         },
         {
          "day": 0,
          "hour": 1,
          "score": 60.61,
          "topic": "topic_05"
         },
         {
          "day": 0,
          "hour": 2,
          "score": 56,
          "topic": "topic_05"
         },
         {
          "day": 0,
          "hour": 3,
          "score": 52.4,
          "topic": "topic_05"
         },
         {
          "day": 0,
          "hour": 4,
          "score": 36.37,
          "topic": "topic_05"
         },
         {
          "day": 0,
          "hour": 5,
          "score": 22.16,
          "topic": "topic_05"
         },
         {
          "day": 0,
          "hour": 6,
          "score": 13.23,
          "topic": "topic_05"
         },
         {
          "day": 0,
          "hour": 7,
          "score": 0,
          "topic": "topic_05"
         },
         {
          "day": 0,
          "hour": 8,
          "score": 1.71,
          "topic": "topic_05"
         },
         {
          "day": 0,
          "hour": 9,
          "score": 6.81,
          "topic": "topic_05"
         },
         {
          "day": 0,
          "hour": 10,
          "score": 8.79,
          "topic": "topic_05"
         },
         {
          "day": 0,
          "hour": 11,
          "score": 10.41,
          "topic": "topic_05"
         },
         {
          "day": 0,
          "hour": 12,
          "score": 5.61,
          "topic": "topic_05"
         },
         {
          "day": 0,
          "hour": 13,
          "score": 2.29,
          "topic": "topic_05"
         },
         {
          "day": 0,
          "hour": 14,
          "score": 0,
          "topic": "topic_05"
         },
         {
          "day": 0,
          "hour": 15,
          "score": 0,
          "topic": "topic_05"
         },
         {
          "day": 0,
          "hour": 16,
          "score": 0,
          "topic": "topic_05"
         },
         {
          "day": 0,
          "hour": 17,
          "score": 0.26,
          "topic": "topic_05"
         },
         {
          "day": 0,
          "hour": 18,
          "score": 0,
          "topic": "topic_05"
         },
         {
          "day": 0,
          "hour": 19,
          "score": 17.23,
          "topic": "topic_05"
         },
         {
          "day": 0,
          "hour": 20,
          "score": 33.65,
          "topic": "topic_05"
         },
         {
          "day": 0,
          "hour": 21,
          "score": 43.89,
          "topic": "topic_05"
         },
         {
          "day": 0,
          "hour": 22,
          "score": 49.05,
          "topic": "topic_05"
         },
         {
          "day": 0,
          "hour": 23,
          "score": 79.54,
          "topic": "topic_05"
         },
         {
          "day": 1,
          "hour": 0,
          "score": 99.85,
          "topic": "topic_05"
         },
         {
          "day": 1,
          "hour": 1,
          "score": 90.72,
          "topic": "topic_05"
         },
         {
          "day": 1,
          "hour": 2,
          "score": 83.98,
          "topic": "topic_05"
         },
         {
          "day": 1,
          "hour": 3,
          "score": 76.19,
          "topic": "topic_05"
         },
         {
          "day": 1,
          "hour": 4,
          "score": 53.07,
          "topic": "topic_05"
         },
         {
          "day": 1,
          "hour": 5,
          "score": 34.4,
          "topic": "topic_05"
         },
         {
          "day": 1,
          "hour": 6,
          "score": 23.24,
          "topic": "topic_05"
         },
         {
          "day": 1,
          "hour": 7,
          "score": 4.8,
          "topic": "topic_05"
         },
         {
          "day": 1,
          "hour": 8,
          "score": 9.4,
          "topic": "topic_05"
         },
         {
          "day": 1,
          "hour": 9,
          "score": 14.35,
          "topic": "topic_05"
         },
         {
          "day": 1,
          "hour": 10,
          "score": 18.17,
          "topic": "topic_05"
         },
         {
          "day": 1,
          "hour": 11,
          "score": 23.07,
          "topic": "topic_05"
         },
         {
          "day": 1,
          "hour": 12,
          "score": 17.49,
          "topic": "topic_05"
         },
         {
          "day": 1,
          "hour": 13,
          "score": 10.45,
          "topic": "topic_05"
         },
         {
          "day": 1,
          "hour": 14,
          "score": 6.44,
          "topic": "topic_05"
         },
         {
          "day": 1,
          "hour": 15,
          "score": 4.69,
          "topic": "topic_05"
         },
         {
          "day": 1,
          "hour": 16,
          "score": 3.82,
          "topic": "topic_05"
         },
         {
          "day": 1,
          "hour": 17,
          "score": 3.33,
          "topic": "topic_05"
         },
         {
          "day": 1,
          "hour": 18,
          "score": 0.91,
          "topic": "topic_05"
         },
         {
          "day": 1,
          "hour": 19,
          "score": 22.18,
          "topic": "topic_05"
         },
         {
          "day": 1,
          "hour": 20,
          "score": 41.11,
          "topic": "topic_05"
         },
         {
          "day": 1,
          "hour": 21,
          "score": 64.18,
          "topic": "topic_05"
         },
         {
          "day": 1,
          "hour": 22,
          "score": 63.9,
          "topic": "topic_05"
         },
         {
          "day": 1,
          "hour": 23,
          "score": 100.03,
          "topic": "topic_05"
         },
         {
          "day": 2,
          "hour": 0,
          "score": 99.27,
          "topic": "topic_05"
         },
         {
          "day": 2,
          "hour": 1,
          "score": 90.03,
          "topic": "topic_05"
         },
         {
          "day": 2,
          "hour": 2,
          "score": 83,
          "topic": "topic_05"
         },
         {
          "day": 2,
          "hour": 3,
          "score": 75.17,
          "topic": "topic_05"
         },
         {
          "day": 2,
          "hour": 4,
          "score": 53.52,
          "topic": "topic_05"
         },
         {
          "day": 2,
          "hour": 5,
          "score": 35.18,
          "topic": "topic_05"
         },
         {
          "day": 2,
          "hour": 6,
          "score": 23.29,
          "topic": "topic_05"
         },
         {
          "day": 2,
          "hour": 7,
          "score": 4.53,
          "topic": "topic_05"
         },
         {
          "day": 2,
          "hour": 8,
          "score": 8.17,
          "topic": "topic_05"
         },
         {
          "day": 2,
          "hour": 9,
          "score": 13.43,
          "topic": "topic_05"
         },
         {
          "day": 2,
          "hour": 10,
          "score": 19.92,
          "topic": "topic_05"
         },
         {
          "day": 2,
          "hour": 11,
          "score": 24.33,
          "topic": "topic_05"
         },
         {
          "day": 2,
          "hour": 12,
          "score": 16.86,
          "topic": "topic_05"
         },
         {
          "day": 2,
          "hour": 13,
          "score": 10.55,
          "topic": "topic_05"
         },
         {
          "day": 2,
          "hour": 14,
          "score": 6.77,
          "topic": "topic_05"
         },
         {
          "day": 2,
          "hour": 15,
          "score": 1.54,
          "topic": "topic_05"
         },
         {
          "day": 2,
          "hour": 16,
          "score": 1.82,
          "topic": "topic_05"
         },
         {
          "day": 2,
          "hour": 17,
          "score": 3.41,
          "topic": "topic_05"
         },
         {
          "day": 2,
          "hour": 18,
          "score": 0,
          "topic": "topic_05"
         },
         {
          "day": 2,
          "hour": 19,
          "score": 20.29,
          "topic": "topic_05"
         },
         {
          "day": 2,
          "hour": 20,
          "score": 39.13,
          "topic": "topic_05"
         },
         {
          "day": 2,
          "hour": 21,
          "score": 51.89,
          "topic": "topic_05"
         },
         {
          "day": 2,
          "hour": 22,
          "score": 58.69,
          "topic": "topic_05"
         },
         {
          "day": 2,
          "hour": 23,
          "score": 95.27,
          "topic": "topic_05"
         },
         {
          "day": 3,
          "hour": 0,
          "score": 94.46,
          "topic": "topic_05"
         },
         {
          "day": 3,
          "hour": 1,
          "score": 85.73,
          "topic": "topic_05"
         },
         {
          "day": 3,
          "hour": 2,
          "score": 79.29,
          "topic": "topic_05"
         },
         {
          "day": 3,
          "hour": 3,
          "score": 72.98,
          "topic": "topic_05"
         },
         {
          "day": 3,
          "hour": 4,
          "score": 51.43,
          "topic": "topic_05"
         },
         {
          "day": 3,
          "hour": 5,
          "score": 33.53,
          "topic": "topic_05"
         },
         {
          "day": 3,
          "hour": 6,
          "score": 22.86,
          "topic": "topic_05"
         },
         {
          "day": 3,
          "hour": 7,
          "score": 3.44,
          "topic": "topic_05"
         },
         {
          "day": 3,
          "hour": 8,
          "score": 6.37,
          "topic": "topic_05"
         },
         {
          "day": 3,
          "hour": 9,
          "score": 12.32,
          "topic": "topic_05"
         },
         {
          "day": 3,
          "hour": 10,
          "score": 21.9,
          "topic": "topic_05"
         },
         {
          "day": 3,
          "hour": 11,
          "score": 20.04,
          "topic": "topic_05"
         },
         {
          "day": 3,
          "hour": 12,
          "score": 13.62,
          "topic": "topic_05"
         },
         {
          "day": 3,
          "hour": 13,
          "score": 8.8,
          "topic": "topic_05"
         },
         {
          "day": 3,
          "hour": 14,
          "score": 3.93,
          "topic": "topic_05"
         },
         {
          "day": 3,
          "hour": 15,
          "score": 1.52,
          "topic": "topic_05"
         },
         {
          "day": 3,
          "hour": 16,
          "score": 1.54,
          "topic": "topic_05"
         },
         {
          "day": 3,
          "hour": 17,
          "score": 1.89,
          "topic": "topic_05"
         },
         {
          "day": 3,
          "hour": 18,
          "score": 1.21,
          "topic": "topic_05"
         },
         {
          "day": 3,
          "hour": 19,
          "score": 21.46,
          "topic": "topic_05"
         },
         {
          "day": 3,
          "hour": 20,
          "score": 40.42,
          "topic": "topic_05"
         },
         {
          "day": 3,
          "hour": 21,
          "score": 51.92,
          "topic": "topic_05"
         },
         {
          "day": 3,
          "hour": 22,
          "score": 59.01,
          "topic": "topic_05"
         },
         {
          "day": 3,
          "hour": 23,
          "score": 93.16,
          "topic": "topic_05"
         },
         {
          "day": 4,
          "hour": 0,
          "score": 93.77,
          "topic": "topic_05"
         },
         {
          "day": 4,
          "hour": 1,
          "score": 84.85,
          "topic": "topic_05"
         },
         {
          "day": 4,
          "hour": 2,
          "score": 77.42,
          "topic": "topic_05"
         },
         {
          "day": 4,
          "hour": 3,
          "score": 70.62,
          "topic": "topic_05"
         },
         {
          "day": 4,
          "hour": 4,
          "score": 50.29,
          "topic": "topic_05"
         },
         {
          "day": 4,
          "hour": 5,
          "score": 32.55,
          "topic": "topic_05"
         },
         {
          "day": 4,
          "hour": 6,
          "score": 22.78,
          "topic": "topic_05"
         },
         {
          "day": 4,
          "hour": 7,
          "score": 5.78,
          "topic": "topic_05"
         },
         {
          "day": 4,
          "hour": 8,
          "score": 9.1,
          "topic": "topic_05"
         },
         {
          "day": 4,
          "hour": 9,
          "score": 16.52,
          "topic": "topic_05"
         },
         {
          "day": 4,
          "hour": 10,
          "score": 21.13,
          "topic": "topic_05"
         },
         {
          "day": 4,
          "hour": 11,
          "score": 25.78,
          "topic": "topic_05"
         },
         {
          "day": 4,
          "hour": 12,
          "score": 19.49,
          "topic": "topic_05"
         },
         {
          "day": 4,
          "hour": 13,
          "score": 14.71,
          "topic": "topic_05"
         },
         {
          "day": 4,
          "hour": 14,
          "score": 10.09,
          "topic": "topic_05"
         },
         {
          "day": 4,
          "hour": 15,
          "score": 8.06,
          "topic": "topic_05"
         },
         {
          "day": 4,
          "hour": 16,
          "score": 5.22,
          "topic": "topic_05"
         },
         {
          "day": 4,
          "hour": 17,
          "score": 2.42,
          "topic": "topic_05"
         },
         {
          "day": 4,
          "hour": 18,
          "score": 0,
          "topic": "topic_05"
         },
         {
          "day": 4,
          "hour": 19,
          "score": 18.67,
          "topic": "topic_05"
         },
         {
          "day": 4,
          "hour": 20,
          "score": 37.37,
          "topic": "topic_05"
         },
         {
          "day": 4,
          "hour": 21,
          "score": 50.87,
          "topic": "topic_05"
         },
         {
          "day": 4,
          "hour": 22,
          "score": 55.88,
          "topic": "topic_05"
         },
         {
          "day": 4,
          "hour": 23,
          "score": 85.5,
          "topic": "topic_05"
         },
         {
          "day": 5,
          "hour": 0,
          "score": 86.39,
          "topic": "topic_05"
         },
         {
          "day": 5,
          "hour": 1,
          "score": 77.61,
          "topic": "topic_05"
         },
         {
          "day": 5,
          "hour": 2,
          "score": 69.84,
          "topic": "topic_05"
         },
         {
          "day": 5,
          "hour": 3,
          "score": 62.28,
          "topic": "topic_05"
         },
         {
          "day": 5,
          "hour": 4,
          "score": 40.31,
          "topic": "topic_05"
         },
         {
          "day": 5,
          "hour": 5,
          "score": 23.74,
          "topic": "topic_05"
         },
         {
          "day": 5,
          "hour": 6,
          "score": 17.62,
          "topic": "topic_05"
         },
         {
          "day": 5,
          "hour": 7,
          "score": 13.33,
          "topic": "topic_05"
         },
         {
          "day": 5,
          "hour": 8,
          "score": 7.91,
          "topic": "topic_05"
         },
         {
          "day": 5,
          "hour": 9,
          "score": 3.41,
          "topic": "topic_05"
         },
         {
          "day": 5,
          "hour": 10,
          "score": 2.57,
          "topic": "topic_05"
         },
         {
          "day": 5,
          "hour": 11,
          "score": 3.25,
          "topic": "topic_05"
         },
         {
          "day": 5,
          "hour": 12,
          "score": 6.1,
          "topic": "topic_05"
         },
         {
          "day": 5,
          "hour": 13,
          "score": 8.56,
          "topic": "topic_05"
         },
         {
          "day": 5,
          "hour": 14,
          "score": 8.89,
          "topic": "topic_05"
         },
         {
          "day": 5,
          "hour": 15,
          "score": 7.16,
          "topic": "topic_05"
         },
         {
          "day": 5,
          "hour": 16,
          "score": 2.07,
          "topic": "topic_05"
         },
         {
          "day": 5,
          "hour": 17,
          "score": 0,
          "topic": "topic_05"
         },
         {
          "day": 5,
          "hour": 18,
          "score": 0,
          "topic": "topic_05"
         },
         {
          "day": 5,
          "hour": 19,
          "score": 2.89,
          "topic": "topic_05"
         },
         {
          "day": 5,
          "hour": 20,
          "score": 3.96,
          "topic": "topic_05"
         },
         {
          "day": 5,
          "hour": 21,
          "score": 4.95,
          "topic": "topic_05"
         },
         {
          "day": 5,
          "hour": 22,
          "score": 6.22,
          "topic": "topic_05"
         },
         {
          "day": 5,
          "hour": 23,
          "score": 14.85,
          "topic": "topic_05"
         },
         {
          "day": 6,
          "hour": 0,
          "score": 25.71,
          "topic": "topic_05"
         },
         {
          "day": 6,
          "hour": 1,
          "score": 20.65,
          "topic": "topic_05"
         },
         {
          "day": 6,
          "hour": 2,
          "score": 17.61,
          "topic": "topic_05"
         },
         {
          "day": 6,
          "hour": 3,
          "score": 15.77,
          "topic": "topic_05"
         },
         {
          "day": 6,
          "hour": 4,
          "score": 0,
          "topic": "topic_05"
         },
         {
          "day": 6,
          "hour": 5,
          "score": 0,
          "topic": "topic_05"
         },
         {
          "day": 6,
          "hour": 6,
          "score": 0,
          "topic": "topic_05"
         },
         {
          "day": 6,
          "hour": 7,
          "score": 0,
          "topic": "topic_05"
         },
         {
          "day": 6,
          "hour": 8,
          "score": 0,
          "topic": "topic_05"
         },
         {
          "day": 6,
          "hour": 9,
          "score": 0,
          "topic": "topic_05"
         },
         {
          "day": 6,
          "hour": 10,
          "score": 3.26,
          "topic": "topic_05"
         },
         {
          "day": 6,
          "hour": 11,
          "score": 10.03,
          "topic": "topic_05"
         },
         {
          "day": 6,
          "hour": 12,
          "score": 14.63,
          "topic": "topic_05"
         },
         {
          "day": 6,
          "hour": 13,
          "score": 15.19,
          "topic": "topic_05"
         },
         {
          "day": 6,
          "hour": 14,
          "score": 14.34,
          "topic": "topic_05"
         },
         {
          "day": 6,
          "hour": 15,
          "score": 12.55,
          "topic": "topic_05"
         },
         {
          "day": 6,
          "hour": 16,
          "score": 10.71,
          "topic": "topic_05"
         },
         {
          "day": 6,
          "hour": 17,
          "score": 8.65,
          "topic": "topic_05"
         },
         {
          "day": 6,
          "hour": 18,
          "score": 10.66,
          "topic": "topic_05"
         },
         {
          "day": 6,
          "hour": 19,
          "score": 21.08,
          "topic": "topic_05"
         },
         {
          "day": 6,
          "hour": 20,
          "score": 31.06,
          "topic": "topic_05"
         },
         {
          "day": 6,
          "hour": 21,
          "score": 35.78,
          "topic": "topic_05"
         },
         {
          "day": 6,
          "hour": 22,
          "score": 41.13,
          "topic": "topic_05"
         },
         {
          "day": 6,
          "hour": 23,
          "score": 68.6,
          "topic": "topic_05"
         },
         {
          "day": 0,
          "hour": 0,
          "score": 0,
          "topic": "topic_06"
         },
         {
          "day": 0,
          "hour": 1,
          "score": 0,
          "topic": "topic_06"
         },
         {
          "day": 0,
          "hour": 2,
          "score": 0,
          "topic": "topic_06"
         },
         {
          "day": 0,
          "hour": 3,
          "score": 0,
          "topic": "topic_06"
         },
         {
          "day": 0,
          "hour": 4,
          "score": 0,
          "topic": "topic_06"
         },
         {
          "day": 0,
          "hour": 5,
          "score": 4.94,
          "topic": "topic_06"
         },
         {
          "day": 0,
          "hour": 6,
          "score": 21.77,
          "topic": "topic_06"
         },
         {
          "day": 0,
          "hour": 7,
          "score": 32.89,
          "topic": "topic_06"
         },
         {
          "day": 0,
          "hour": 8,
          "score": 0,
          "topic": "topic_06"
         },
         {
          "day": 0,
          "hour": 9,
          "score": 0,
          "topic": "topic_06"
         },
         {
          "day": 0,
          "hour": 10,
          "score": 5.36,
          "topic": "topic_06"
         },
         {
          "day": 0,
          "hour": 11,
          "score": 30.37,
          "topic": "topic_06"
         },
         {
          "day": 0,
          "hour": 12,
          "score": 44.2,
          "topic": "topic_06"
         },
         {
          "day": 0,
          "hour": 13,
          "score": 46.12,
          "topic": "topic_06"
         },
         {
          "day": 0,
          "hour": 14,
          "score": 43.71,
          "topic": "topic_06"
         },
         {
          "day": 0,
          "hour": 15,
          "score": 53.61,
          "topic": "topic_06"
         },
         {
          "day": 0,
          "hour": 16,
          "score": 62.13,
          "topic": "topic_06"
         },
         {
          "day": 0,
          "hour": 17,
          "score": 68.84,
          "topic": "topic_06"
         },
         {
          "day": 0,
          "hour": 18,
          "score": 78.63,
          "topic": "topic_06"
         },
         {
          "day": 0,
          "hour": 19,
          "score": 43.15,
          "topic": "topic_06"
         },
         {
          "day": 0,
          "hour": 20,
          "score": 12.65,
          "topic": "topic_06"
         },
         {
          "day": 0,
          "hour": 21,
          "score": 7.04,
          "topic": "topic_06"
         },
         {
          "day": 0,
          "hour": 22,
          "score": 2.06,
          "topic": "topic_06"
         },
         {
          "day": 0,
          "hour": 23,
          "score": 0.27,
          "topic": "topic_06"
         },
         {
          "day": 1,
          "hour": 0,
          "score": 2,
          "topic": "topic_06"
         },
         {
          "day": 1,
          "hour": 1,
          "score": 4.3,
          "topic": "topic_06"
         },
         {
          "day": 1,
          "hour": 2,
          "score": 2.93,
          "topic": "topic_06"
         },
         {
          "day": 1,
          "hour": 3,
          "score": 1.77,
          "topic": "topic_06"
         },
         {
          "day": 1,
          "hour": 4,
          "score": 0,
          "topic": "topic_06"
         },
         {
          "day": 1,
          "hour": 5,
          "score": 4.24,
          "topic": "topic_06"
         },
         {
          "day": 1,
          "hour": 6,
          "score": 22.45,
          "topic": "topic_06"
         },
         {
          "day": 1,
          "hour": 7,
          "score": 41.24,
          "topic": "topic_06"
         },
         {
          "day": 1,
          "hour": 8,
          "score": 0,
          "topic": "topic_06"
         },
         {
          "day": 1,
          "hour": 9,
          "score": 0,
          "topic": "topic_06"
         },
         {
          "day": 1,
          "hour": 10,
          "score": 1.71,
          "topic": "topic_06"
         },
         {
          "day": 1,
          "hour": 11,
          "score": 24.75,
          "topic": "topic_06"
         },
         {
          "day": 1,
          "hour": 12,
          "score": 44.38,
          "topic": "topic_06"
         },
         {
          "day": 1,
          "hour": 13,
          "score": 45.56,
          "topic": "topic_06"
         },
         {
          "day": 1,
          "hour": 14,
          "score": 45.53,
          "topic": "topic_06"
         },
         {
          "day": 1,
          "hour": 15,
          "score": 51.64,
          "topic": "topic_06"
         },
         {
          "day": 1,
          "hour": 16,
          "score": 65.7,
          "topic": "topic_06"
         },
         {
          "day": 1,
          "hour": 17,
          "score": 72.39,
          "topic": "topic_06"
         },
         {
          "day": 1,
          "hour": 18,
          "score": 70.9,
          "topic": "topic_06"
         },
         {
          "day": 1,
          "hour": 19,
          "score": 20.96,
          "topic": "topic_06"
         },
         {
          "day": 1,
          "hour": 20,
          "score": 0,
          "topic": "topic_06"
         },
         {
          "day": 1,
          "hour": 21,
          "score": 0,
          "topic": "topic_06"
         },
         {
          "day": 1,
          "hour": 22,
          "score": 4.76,
          "topic": "topic_06"
         },
         {
          "day": 1,
          "hour": 23,
          "score": 3.98,
          "topic": "topic_06"
         },
         {
          "day": 2,
          "hour": 0,
          "score": 2.74,
          "topic": "topic_06"
         },
         {
          "day": 2,
          "hour": 1,
          "score": 3.69,
          "topic": "topic_06"
         },
         {
          "day": 2,
          "hour": 2,
          "score": 3.48,
          "topic": "topic_06"
         },
         {
          "day": 2,
          "hour": 3,
          "score": 0.18,
          "topic": "topic_06"
         },
         {
          "day": 2,
          "hour": 4,
          "score": 0,
          "topic": "topic_06"
         },
         {
          "day": 2,
          "hour": 5,
          "score": 2.62,
          "topic": "topic_06"
         },
         {
          "day": 2,
          "hour": 6,
          "score": 20.59,
          "topic": "topic_06"
         },
         {
          "day": 2,
          "hour": 7,
          "score": 40.62,
          "topic": "topic_06"
         },
         {
          "day": 2,
          "hour": 8,
          "score": 0,
          "topic": "topic_06"
         },
         {
          "day": 2,
          "hour": 9,
          "score": 0,
          "topic": "topic_06"
         },
         {
          "day": 2,
          "hour": 10,
          "score": 0,
          "topic": "topic_06"
         },
         {
          "day": 2,
          "hour": 11,
          "score": 18.35,
          "topic": "topic_06"
         },
         {
          "day": 2,
          "hour": 12,
          "score": 42.88,
          "topic": "topic_06"
         },
         {
          "day": 2,
          "hour": 13,
          "score": 47.63,
          "topic": "topic_06"
         },
         {
          "day": 2,
          "hour": 14,
          "score": 48.21,
          "topic": "topic_06"
         },
         {
          "day": 2,
          "hour": 15,
          "score": 62.51,
          "topic": "topic_06"
         },
         {
          "day": 2,
          "hour": 16,
          "score": 76.54,
          "topic": "topic_06"
         },
         {
          "day": 2,
          "hour": 17,
          "score": 81.17,
          "topic": "topic_06"
         },
         {
          "day": 2,
          "hour": 18,
          "score": 82.66,
          "topic": "topic_06"
         },
         {
          "day": 2,
          "hour": 19,
          "score": 27.18,
          "topic": "topic_06"
         },
         {
          "day": 2,
          "hour": 20,
          "score": 0,
          "topic": "topic_06"
         },
         {
          "day": 2,
          "hour": 21,
          "score": 0,
          "topic": "topic_06"
         },
         {
          "day": 2,
          "hour": 22,
          "score": 2.76,
          "topic": "topic_06"
         },
         {
          "day": 2,
          "hour": 23,
          "score": 2.66,
          "topic": "topic_06"
         },
         {
          "day": 3,
          "hour": 0,
          "score": 0,
          "topic": "topic_06"
         },
         {
          "day": 3,
          "hour": 1,
          "score": 0.38,
          "topic": "topic_06"
         },
         {
          "day": 3,
          "hour": 2,
          "score": 1.1,
          "topic": "topic_06"
         },
         {
          "day": 3,
          "hour": 3,
          "score": 0,
          "topic": "topic_06"
         },
         {
          "day": 3,
          "hour": 4,
          "score": 0,
          "topic": "topic_06"
         },
         {
          "day": 3,
          "hour": 5,
          "score": 1.03,
          "topic": "topic_06"
         },
         {
          "day": 3,
          "hour": 6,
          "score": 19,
          "topic": "topic_06"
         },
         {
          "day": 3,
          "hour": 7,
          "score": 40.24,
          "topic": "topic_06"
         },
         {
          "day": 3,
          "hour": 8,
          "score": 0,
          "topic": "topic_06"
         },
         {
          "day": 3,
          "hour": 9,
          "score": 0,
          "topic": "topic_06"
         },
         {
          "day": 3,
          "hour": 10,
          "score": 10.65,
          "topic": "topic_06"
         },
         {
          "day": 3,
          "hour": 11,
          "score": 34.21,
          "topic": "topic_06"
         },
         {
          "day": 3,
          "hour": 12,
          "score": 61.89,
          "topic": "topic_06"
         },
         {
          "day": 3,
          "hour": 13,
          "score": 68.89,
          "topic": "topic_06"
         },
         {
          "day": 3,
          "hour": 14,
          "score": 71.87,
          "topic": "topic_06"
         },
         {
          "day": 3,
          "hour": 15,
          "score": 80.76,
          "topic": "topic_06"
         },
         {
          "day": 3,
          "hour": 16,
          "score": 91.12,
          "topic": "topic_06"
         },
         {
          "day": 3,
          "hour": 17,
          "score": 92.95,
          "topic": "topic_06"
         },
         {
          "day": 3,
          "hour": 18,
          "score": 100.51,
          "topic": "topic_06"
         },
         {
          "day": 3,
          "hour": 19,
          "score": 52.97,
          "topic": "topic_06"
         },
         {
          "day": 3,
          "hour": 20,
          "score": 13.34,
          "topic": "topic_06"
         },
         {
          "day": 3,
          "hour": 21,
          "score": 13.32,
          "topic": "topic_06"
         },
         {
          "day": 3,
          "hour": 22,
          "score": 16.13,
          "topic": "topic_06"
         },
         {
          "day": 3,
          "hour": 23,
          "score": 8.8,
          "topic": "topic_06"
         },
         {
          "day": 4,
          "hour": 0,
          "score": 6.02,
          "topic": "topic_06"
         },
         {
          "day": 4,
          "hour": 1,
          "score": 5.84,
          "topic": "topic_06"
         },
         {
          "day": 4,
          "hour": 2,
          "score": 4.13,
          "topic": "topic_06"
         },
         {
          "day": 4,
          "hour": 3,
          "score": 3.22,
          "topic": "topic_06"
         },
         {
          "day": 4,
          "hour": 4,
          "score": 0,
          "topic": "topic_06"
         },
         {
          "day": 4,
          "hour": 5,
          "score": 4.85,
          "topic": "topic_06"
         },
         {
          "day": 4,
          "hour": 6,
          "score": 22.77,
          "topic": "topic_06"
         },
         {
          "day": 4,
          "hour": 7,
          "score": 41.13,
          "topic": "topic_06"
         },
         {
          "day": 4,
          "hour": 8,
          "score": 11.27,
          "topic": "topic_06"
         },
         {
          "day": 4,
          "hour": 9,
          "score": 26.58,
          "topic": "topic_06"
         },
         {
          "day": 4,
          "hour": 10,
          "score": 48.63,
          "topic": "topic_06"
         },
         {
          "day": 4,
          "hour": 11,
          "score": 85.07,
          "topic": "topic_06"
         },
         {
          "day": 4,
          "hour": 12,
          "score": 115.05,
          "topic": "topic_06"
         },
         {
          "day": 4,
          "hour": 13,
          "score": 132.15,
          "topic": "topic_06"
         },
         {
          "day": 4,
          "hour": 14,
          "score": 137.46,
          "topic": "topic_06"
         },
         {
          "day": 4,
          "hour": 15,
          "score": 158.34,
          "topic": "topic_06"
         },
         {
          "day": 4,
          "hour": 16,
          "score": 165.15,
          "topic": "topic_06"
         },
         {
          "day": 4,
          "hour": 17,
          "score": 160.12,
          "topic": "topic_06"
         },
         {
          "day": 4,
          "hour": 18,
          "score": 155.21,
          "topic": "topic_06"
         },
         {
          "day": 4,
          "hour": 19,
          "score": 100.8,
          "topic": "topic_06"
         },
         {
          "day": 4,
          "hour": 20,
          "score": 40.57,
          "topic": "topic_06"
         },
         {
          "day": 4,
          "hour": 21,
          "score": 26.27,
          "topic": "topic_06"
         },
         {
          "day": 4,
          "hour": 22,
          "score": 29.25,
          "topic": "topic_06"
         },
         {
          "day": 4,
          "hour": 23,
          "score": 20.1,
          "topic": "topic_06"
         },
         {
          "day": 5,
          "hour": 0,
          "score": 17.25,
          "topic": "topic_06"
         },
         {
          "day": 5,
          "hour": 1,
          "score": 16.05,
          "topic": "topic_06"
         },
         {
          "day": 5,
          "hour": 2,
          "score": 13.65,
          "topic": "topic_06"
         },
         {
          "day": 5,
          "hour": 3,
          "score": 11.92,
          "topic": "topic_06"
         },
         {
          "day": 5,
          "hour": 4,
          "score": 9.67,
          "topic": "topic_06"
         },
         {
          "day": 5,
          "hour": 5,
          "score": 17.41,
          "topic": "topic_06"
         },
         {
          "day": 5,
          "hour": 6,
          "score": 32.99,
          "topic": "topic_06"
         },
         {
          "day": 5,
          "hour": 7,
          "score": 46.99,
          "topic": "topic_06"
         },
         {
          "day": 5,
          "hour": 8,
          "score": 73.82,
          "topic": "topic_06"
         },
         {
          "day": 5,
          "hour": 9,
          "score": 126.29,
          "topic": "topic_06"
         },
         {
          "day": 5,
          "hour": 10,
          "score": 182.85,
          "topic": "topic_06"
         },
         {
          "day": 5,
          "hour": 11,
          "score": 245.85,
          "topic": "topic_06"
         },
         {
          "day": 5,
          "hour": 12,
          "score": 293.97,
          "topic": "topic_06"
         },
         {
          "day": 5,
          "hour": 13,
          "score": 318.19,
          "topic": "topic_06"
         },
         {
          "day": 5,
          "hour": 14,
          "score": 313.17,
          "topic": "topic_06"
         },
         {
          "day": 5,
          "hour": 15,
          "score": 295.27,
          "topic": "topic_06"
         },
         {
          "day": 5,
          "hour": 16,
          "score": 238.91,
          "topic": "topic_06"
         },
         {
          "day": 5,
          "hour": 17,
          "score": 167.22,
          "topic": "topic_06"
         },
         {
          "day": 5,
          "hour": 18,
          "score": 84.71,
          "topic": "topic_06"
         },
         {
          "day": 5,
          "hour": 19,
          "score": 29.51,
          "topic": "topic_06"
         },
         {
          "day": 5,
          "hour": 20,
          "score": 15.67,
          "topic": "topic_06"
         },
         {
          "day": 5,
          "hour": 21,
          "score": 20.68,
          "topic": "topic_06"
         },
         {
          "day": 5,
          "hour": 22,
          "score": 29.13,
          "topic": "topic_06"
         },
         {
          "day": 5,
          "hour": 23,
          "score": 3.81,
          "topic": "topic_06"
         },
         {
          "day": 6,
          "hour": 0,
          "score": 0,
          "topic": "topic_06"
         },
         {
          "day": 6,
          "hour": 1,
          "score": 0,
          "topic": "topic_06"
         },
         {
          "day": 6,
          "hour": 2,
          "score": 0,
          "topic": "topic_06"
         },
         {
          "day": 6,
          "hour": 3,
          "score": 0,
          "topic": "topic_06"
         },
         {
          "day": 6,
          "hour": 4,
          "score": 0,
          "topic": "topic_06"
         },
         {
          "day": 6,
          "hour": 5,
          "score": 0,
          "topic": "topic_06"
         },
         {
          "day": 6,
          "hour": 6,
          "score": 0.16,
          "topic": "topic_06"
         },
         {
          "day": 6,
          "hour": 7,
          "score": 0,
          "topic": "topic_06"
         },
         {
          "day": 6,
          "hour": 8,
          "score": 9.03,
          "topic": "topic_06"
         },
         {
          "day": 6,
          "hour": 9,
          "score": 25.65,
          "topic": "topic_06"
         },
         {
          "day": 6,
          "hour": 10,
          "score": 45.12,
          "topic": "topic_06"
         },
         {
          "day": 6,
          "hour": 11,
          "score": 68.21,
          "topic": "topic_06"
         },
         {
          "day": 6,
          "hour": 12,
          "score": 95.59,
          "topic": "topic_06"
         },
         {
          "day": 6,
          "hour": 13,
          "score": 88.92,
          "topic": "topic_06"
         },
         {
          "day": 6,
          "hour": 14,
          "score": 82.81,
          "topic": "topic_06"
         },
         {
          "day": 6,
          "hour": 15,
          "score": 77.29,
          "topic": "topic_06"
         },
         {
          "day": 6,
          "hour": 16,
          "score": 68.48,
          "topic": "topic_06"
         },
         {
          "day": 6,
          "hour": 17,
          "score": 52.95,
          "topic": "topic_06"
         },
         {
          "day": 6,
          "hour": 18,
          "score": 27.18,
          "topic": "topic_06"
         },
         {
          "day": 6,
          "hour": 19,
          "score": 9.36,
          "topic": "topic_06"
         },
         {
          "day": 6,
          "hour": 20,
          "score": 2.76,
          "topic": "topic_06"
         },
         {
          "day": 6,
          "hour": 21,
          "score": 4.55,
          "topic": "topic_06"
         },
         {
          "day": 6,
          "hour": 22,
          "score": 0,
          "topic": "topic_06"
         },
         {
          "day": 6,
          "hour": 23,
          "score": 5.06,
          "topic": "topic_06"
         },
         {
          "day": 0,
          "hour": 0,
          "score": 0,
          "topic": "topic_07"
         },
         {
          "day": 0,
          "hour": 1,
          "score": 0,
          "topic": "topic_07"
         },
         {
          "day": 0,
          "hour": 2,
          "score": 0.19,
          "topic": "topic_07"
         },
         {
          "day": 0,
          "hour": 3,
          "score": 0.01,
          "topic": "topic_07"
         },
         {
          "day": 0,
          "hour": 4,
          "score": 0.21,
          "topic": "topic_07"
         },
         {
          "day": 0,
          "hour": 5,
          "score": 0.79,
          "topic": "topic_07"
         },
         {
          "day": 0,
          "hour": 6,
          "score": 1.64,
          "topic": "topic_07"
         },
         {
          "day": 0,
          "hour": 7,
          "score": 0,
          "topic": "topic_07"
         },
         {
          "day": 0,
          "hour": 8,
          "score": 0.61,
          "topic": "topic_07"
         },
         {
          "day": 0,
          "hour": 9,
          "score": 11.86,
          "topic": "topic_07"
         },
         {
          "day": 0,
          "hour": 10,
          "score": 27.53,
          "topic": "topic_07"
         },
         {
          "day": 0,
          "hour": 11,
          "score": 33.03,
          "topic": "topic_07"
         },
         {
          "day": 0,
          "hour": 12,
          "score": 37.5,
          "topic": "topic_07"
         },
         {
          "day": 0,
          "hour": 13,
          "score": 43.63,
          "topic": "topic_07"
         },
         {
          "day": 0,
          "hour": 14,
          "score": 46,
          "topic": "topic_07"
         },
         {
          "day": 0,
          "hour": 15,
          "score": 37.61,
          "topic": "topic_07"
         },
         {
          "day": 0,
          "hour": 16,
          "score": 24.37,
          "topic": "topic_07"
         },
         {
          "day": 0,
          "hour": 17,
          "score": 7.18,
          "topic": "topic_07"
         },
         {
          "day": 0,
          "hour": 18,
          "score": 1.36,
          "topic": "topic_07"
         },
         {
          "day": 0,
          "hour": 19,
          "score": 7.04,
          "topic": "topic_07"
         },
         {
          "day": 0,
          "hour": 20,
          "score": 5.85,
          "topic": "topic_07"
         },
         {
          "day": 0,
          "hour": 21,
          "score": 3.09,
          "topic": "topic_07"
         },
         {
          "day": 0,
          "hour": 22,
          "score": 0.75,
          "topic": "topic_07"
         },
         {
          "day": 0,
          "hour": 23,
          "score": 0,
          "topic": "topic_07"
         },
         {
          "day": 1,
          "hour": 0,
          "score": 0.69,
          "topic": "topic_07"
         },
         {
          "day": 1,
          "hour": 1,
          "score": 1.37,
          "topic": "topic_07"
         },
         {
          "day": 1,
          "hour": 2,
          "score": 1.28,
          "topic": "topic_07"
         },
         {
          "day": 1,
          "hour": 3,
          "score": 1.35,
          "topic": "topic_07"
         },
         {
          "day": 1,
          "hour": 4,
          "score": 1.67,
          "topic": "topic_07"
         },
         {
          "day": 1,
          "hour": 5,
          "score": 2.49,
          "topic": "topic_07"
         },
         {
          "day": 1,
          "hour": 6,
          "score": 4.13,
          "topic": "topic_07"
         },
         {
          "day": 1,
          "hour": 7,
          "score": 0.94,
          "topic": "topic_07"
         },
         {
          "day": 1,
          "hour": 8,
          "score": 5.93,
          "topic": "topic_07"
         },
         {
          "day": 1,
          "hour": 9,
          "score": 24.23,
          "topic": "topic_07"
         },
         {
          "day": 1,
          "hour": 10,
          "score": 44.24,
          "topic": "topic_07"
         },
         {
          "day": 1,
          "hour": 11,
          "score": 51.07,
          "topic": "topic_07"
         },
         {
          "day": 1,
          "hour": 12,
          "score": 55.88,
          "topic": "topic_07"
         },
         {
          "day": 1,
          "hour": 13,
          "score": 62.97,
          "topic": "topic_07"
         },
         {
          "day": 1,
          "hour": 14,
          "score": 66.72,
          "topic": "topic_07"
         },
         {
          "day": 1,
          "hour": 15,
          "score": 55.99,
          "topic": "topic_07"
         },
         {
          "day": 1,
          "hour": 16,
          "score": 36.17,
          "topic": "topic_07"
         },
         {
          "day": 1,
          "hour": 17,
          "score": 14.03,
          "topic": "topic_07"
         },
         {
          "day": 1,
          "hour": 18,
          "score": 9.28,
          "topic": "topic_07"
         },
         {
          "day": 1,
          "hour": 19,
          "score": 16.48,
          "topic": "topic_07"
         },
         {
          "day": 1,
          "hour": 20,
          "score": 13.11,
          "topic": "topic_07"
         },
         {
          "day": 1,
          "hour": 21,
          "score": 7.33,
          "topic": "topic_07"
         },
         {
          "day": 1,
          "hour": 22,
          "score": 1.61,
          "topic": "topic_07"
         },
         {
          "day": 1,
          "hour": 23,
          "score": 0.55,
          "topic": "topic_07"
         },
         {
          "day": 2,
          "hour": 0,
          "score": 1.17,
          "topic": "topic_07"
         },
         {
          "day": 2,
          "hour": 1,
          "score": 1.62,
          "topic": "topic_07"
         },
         {
          "day": 2,
          "hour": 2,
          "score": 1.79,
          "topic": "topic_07"
         },
         {
          "day": 2,
          "hour": 3,
          "score": 2.11,
          "topic": "topic_07"
         },
         {
          "day": 2,
          "hour": 4,
          "score": 2.19,
          "topic": "topic_07"
         },
         {
          "day": 2,
          "hour": 5,
          "score": 2.94,
          "topic": "topic_07"
         },
         {
          "day": 2,
          "hour": 6,
          "score": 4.77,
          "topic": "topic_07"
         },
         {
          "day": 2,
          "hour": 7,
          "score": 1.96,
          "topic": "topic_07"
         },
         {
          "day": 2,
          "hour": 8,
          "score": 6.18,
          "topic": "topic_07"
         },
         {
          "day": 2,
          "hour": 9,
          "score": 23.69,
          "topic": "topic_07"
         },
         {
          "day": 2,
          "hour": 10,
          "score": 42.39,
          "topic": "topic_07"
         },
         {
          "day": 2,
          "hour": 11,
          "score": 49.89,
          "topic": "topic_07"
         },
         {
          "day": 2,
          "hour": 12,
          "score": 55.18,
          "topic": "topic_07"
         },
         {
          "day": 2,
          "hour": 13,
          "score": 63.75,
          "topic": "topic_07"
         },
         {
          "day": 2,
          "hour": 14,
          "score": 65.07,
          "topic": "topic_07"
         },
         {
          "day": 2,
          "hour": 15,
          "score": 55.79,
          "topic": "topic_07"
         },
         {
          "day": 2,
          "hour": 16,
          "score": 36.73,
          "topic": "topic_07"
         },
         {
          "day": 2,
          "hour": 17,
          "score": 13.19,
          "topic": "topic_07"
         },
         {
          "day": 2,
          "hour": 18,
          "score": 9.51,
          "topic": "topic_07"
         },
         {
          "day": 2,
          "hour": 19,
          "score": 17.81,
          "topic": "topic_07"
         },
         {
          "day": 2,
          "hour": 20,
          "score": 14.89,
          "topic": "topic_07"
         },
         {
          "day": 2,
          "hour": 21,
          "score": 8.74,
          "topic": "topic_07"
         },
         {
          "day": 2,
          "hour": 22,
          "score": 3.14,
          "topic": "topic_07"
         },
         {
          "day": 2,
          "hour": 23,
          "score": 1.43,
          "topic": "topic_07"
         },
         {
          "day": 3,
          "hour": 0,
          "score": 2.09,
          "topic": "topic_07"
         },
         {
          "day": 3,
          "hour": 1,
          "score": 2.18,
          "topic": "topic_07"
         },
         {
          "day": 3,
          "hour": 2,
          "score": 2.2,
          "topic": "topic_07"
         },
         {
          "day": 3,
          "hour": 3,
          "score": 2.08,
          "topic": "topic_07"
         },
         {
          "day": 3,
          "hour": 4,
          "score": 2.25,
          "topic": "topic_07"
         },
         {
          "day": 3,
          "hour": 5,
          "score": 2.97,
          "topic": "topic_07"
         },
         {
          "day": 3,
          "hour": 6,
          "score": 4.47,
          "topic": "topic_07"
         },
         {
          "day": 3,
          "hour": 7,
          "score": 1.65,
          "topic": "topic_07"
         },
         {
          "day": 3,
          "hour": 8,
          "score": 4.41,
          "topic": "topic_07"
         },
         {
          "day": 3,
          "hour": 9,
          "score": 22.14,
          "topic": "topic_07"
         },
         {
          "day": 3,
          "hour": 10,
          "score": 41.76,
          "topic": "topic_07"
         },
         {
          "day": 3,
          "hour": 11,
          "score": 50.21,
          "topic": "topic_07"
         },
         {
          "day": 3,
          "hour": 12,
          "score": 51.28,
          "topic": "topic_07"
         },
         {
          "day": 3,
          "hour": 13,
          "score": 58.15,
          "topic": "topic_07"
         },
         {
          "day": 3,
          "hour": 14,
          "score": 59.9,
          "topic": "topic_07"
         },
         {
          "day": 3,
          "hour": 15,
          "score": 49.96,
          "topic": "topic_07"
         },
         {
          "day": 3,
          "hour": 16,
          "score": 31.54,
          "topic": "topic_07"
         },
         {
          "day": 3,
          "hour": 17,
          "score": 9.36,
          "topic": "topic_07"
         },
         {
          "day": 3,
          "hour": 18,
          "score": 6.18,
          "topic": "topic_07"
         },
         {
          "day": 3,
          "hour": 19,
          "score": 12.76,
          "topic": "topic_07"
         },
         {
          "day": 3,
          "hour": 20,
          "score": 10.76,
          "topic": "topic_07"
         },
         {
          "day": 3,
          "hour": 21,
          "score": 5.54,
          "topic": "topic_07"
         },
         {
          "day": 3,
          "hour": 22,
          "score": 0.92,
          "topic": "topic_07"
         },
         {
          "day": 3,
          "hour": 23,
          "score": 0,
          "topic": "topic_07"
         },
         {
          "day": 4,
          "hour": 0,
          "score": 0.29,
          "topic": "topic_07"
         },
         {
          "day": 4,
          "hour": 1,
          "score": 0.96,
          "topic": "topic_07"
         },
         {
          "day": 4,
          "hour": 2,
          "score": 1.21,
          "topic": "topic_07"
         },
         {
          "day": 4,
          "hour": 3,
          "score": 1.1,
          "topic": "topic_07"
         },
         {
          "day": 4,
          "hour": 4,
          "score": 1.48,
          "topic": "topic_07"
         },
         {
          "day": 4,
          "hour": 5,
          "score": 2.07,
          "topic": "topic_07"
         },
         {
          "day": 4,
          "hour": 6,
          "score": 3.15,
          "topic": "topic_07"
         },
         {
          "day": 4,
          "hour": 7,
          "score": 0,
          "topic": "topic_07"
         },
         {
          "day": 4,
          "hour": 8,
          "score": 0,
          "topic": "topic_07"
         },
         {
          "day": 4,
          "hour": 9,
          "score": 9.21,
          "topic": "topic_07"
         },
         {
          "day": 4,
          "hour": 10,
          "score": 23.26,
          "topic": "topic_07"
         },
         {
          "day": 4,
          "hour": 11,
          "score": 26.7,
          "topic": "topic_07"
         },
         {
          "day": 4,
          "hour": 12,
          "score": 29.14,
          "topic": "topic_07"
         },
         {
          "day": 4,
          "hour": 13,
          "score": 32.85,
          "topic": "topic_07"
         },
         {
          "day": 4,
          "hour": 14,
          "score": 34.6,
          "topic": "topic_07"
         },
         {
          "day": 4,
          "hour": 15,
          "score": 24.61,
          "topic": "topic_07"
         },
         {
          "day": 4,
          "hour": 16,
          "score": 11.76,
          "topic": "topic_07"
         },
         {
          "day": 4,
          "hour": 17,
          "score": 0,
          "topic": "topic_07"
         },
         {
          "day": 4,
          "hour": 18,
          "score": 0,
          "topic": "topic_07"
         },
         {
          "day": 4,
          "hour": 19,
          "score": 4.29,
          "topic": "topic_07"
         },
         {
          "day": 4,
          "hour": 20,
          "score": 4.24,
          "topic": "topic_07"
         },
         {
          "day": 4,
          "hour": 21,
          "score": 0,
          "topic": "topic_07"
         },
         {
          "day": 4,
          "hour": 22,
          "score": 0,
          "topic": "topic_07"
         },
         {
          "day": 4,
          "hour": 23,
          "score": 0,
          "topic": "topic_07"
         },
         {
          "day": 5,
          "hour": 0,
          "score": 0,
          "topic": "topic_07"
         },
         {
          "day": 5,
          "hour": 1,
          "score": 0.58,
          "topic": "topic_07"
         },
         {
          "day": 5,
          "hour": 2,
          "score": 0.48,
          "topic": "topic_07"
         },
         {
          "day": 5,
          "hour": 3,
          "score": 0.49,
          "topic": "topic_07"
         },
         {
          "day": 5,
          "hour": 4,
          "score": 0.9,
          "topic": "topic_07"
         },
         {
          "day": 5,
          "hour": 5,
          "score": 1.33,
          "topic": "topic_07"
         },
         {
          "day": 5,
          "hour": 6,
          "score": 2.17,
          "topic": "topic_07"
         },
         {
          "day": 5,
          "hour": 7,
          "score": 3.93,
          "topic": "topic_07"
         },
         {
          "day": 5,
          "hour": 8,
          "score": 9.39,
          "topic": "topic_07"
         },
         {
          "day": 5,
          "hour": 9,
          "score": 17.03,
          "topic": "topic_07"
         },
         {
          "day": 5,
          "hour": 10,
          "score": 22.27,
          "topic": "topic_07"
         },
         {
          "day": 5,
          "hour": 11,
          "score": 23.31,
          "topic": "topic_07"
         },
         {
          "day": 5,
          "hour": 12,
          "score": 22.81,
          "topic": "topic_07"
         },
         {
          "day": 5,
          "hour": 13,
          "score": 24.27,
          "topic": "topic_07"
         },
         {
          "day": 5,
          "hour": 14,
          "score": 26.41,
          "topic": "topic_07"
         },
         {
          "day": 5,
          "hour": 15,
          "score": 25.75,
          "topic": "topic_07"
         },
         {
          "day": 5,
          "hour": 16,
          "score": 25.35,
          "topic": "topic_07"
         },
         {
          "day": 5,
          "hour": 17,
          "score": 21.61,
          "topic": "topic_07"
         },
         {
          "day": 5,
          "hour": 18,
          "score": 18.53,
          "topic": "topic_07"
         },
         {
          "day": 5,
          "hour": 19,
          "score": 14.42,
          "topic": "topic_07"
         },
         {
          "day": 5,
          "hour": 20,
          "score": 9.07,
          "topic": "topic_07"
         },
         {
          "day": 5,
          "hour": 21,
          "score": 3.86,
          "topic": "topic_07"
         },
         {
          "day": 5,
          "hour": 22,
          "score": 0,
          "topic": "topic_07"
         },
         {
          "day": 5,
          "hour": 23,
          "score": 0,
          "topic": "topic_07"
         },
         {
          "day": 6,
          "hour": 0,
          "score": 0,
          "topic": "topic_07"
         },
         {
          "day": 6,
          "hour": 1,
          "score": 0,
          "topic": "topic_07"
         },
         {
          "day": 6,
          "hour": 2,
          "score": 0,
          "topic": "topic_07"
         },
         {
          "day": 6,
          "hour": 3,
          "score": 0,
          "topic": "topic_07"
         },
         {
          "day": 6,
          "hour": 4,
          "score": 0,
          "topic": "topic_07"
         },
         {
          "day": 6,
          "hour": 5,
          "score": 0,
          "topic": "topic_07"
         },
         {
          "day": 6,
          "hour": 6,
          "score": 0,
          "topic": "topic_07"
         },
         {
          "day": 6,
          "hour": 7,
          "score": 0,
          "topic": "topic_07"
         },
         {
          "day": 6,
          "hour": 8,
          "score": 0.19,
          "topic": "topic_07"
         },
         {
          "day": 6,
          "hour": 9,
          "score": 1.71,
          "topic": "topic_07"
         },
         {
          "day": 6,
          "hour": 10,
          "score": 5.41,
          "topic": "topic_07"
         },
         {
          "day": 6,
          "hour": 11,
          "score": 6.9,
          "topic": "topic_07"
         },
         {
          "day": 6,
          "hour": 12,
          "score": 8.11,
          "topic": "topic_07"
         },
         {
          "day": 6,
          "hour": 13,
          "score": 13.04,
          "topic": "topic_07"
         },
         {
          "day": 6,
          "hour": 14,
          "score": 16.69,
          "topic": "topic_07"
         },
         {
          "day": 6,
          "hour": 15,
          "score": 17.27,
          "topic": "topic_07"
         },
         {
          "day": 6,
          "hour": 16,
          "score": 15.35,
          "topic": "topic_07"
         },
         {
          "day": 6,
          "hour": 17,
          "score": 11.24,
          "topic": "topic_07"
         },
         {
          "day": 6,
          "hour": 18,
          "score": 8.42,
          "topic": "topic_07"
         },
         {
          "day": 6,
          "hour": 19,
          "score": 5.81,
          "topic": "topic_07"
         },
         {
          "day": 6,
          "hour": 20,
          "score": 4.32,
          "topic": "topic_07"
         },
         {
          "day": 6,
          "hour": 21,
          "score": 2.49,
          "topic": "topic_07"
         },
         {
          "day": 6,
          "hour": 22,
          "score": 0.1,
          "topic": "topic_07"
         },
         {
          "day": 6,
          "hour": 23,
          "score": 0,
          "topic": "topic_07"
         },
         {
          "day": 0,
          "hour": 0,
          "score": 37.05,
          "topic": "topic_08"
         },
         {
          "day": 0,
          "hour": 1,
          "score": 30.51,
          "topic": "topic_08"
         },
         {
          "day": 0,
          "hour": 2,
          "score": 25.09,
          "topic": "topic_08"
         },
         {
          "day": 0,
          "hour": 3,
          "score": 20.42,
          "topic": "topic_08"
         },
         {
          "day": 0,
          "hour": 4,
          "score": 9.01,
          "topic": "topic_08"
         },
         {
          "day": 0,
          "hour": 5,
          "score": 5.75,
          "topic": "topic_08"
         },
         {
          "day": 0,
          "hour": 6,
          "score": 2.72,
          "topic": "topic_08"
         },
         {
          "day": 0,
          "hour": 7,
          "score": 0,
          "topic": "topic_08"
         },
         {
          "day": 0,
          "hour": 8,
          "score": 1.3,
          "topic": "topic_08"
         },
         {
          "day": 0,
          "hour": 9,
          "score": 2.74,
          "topic": "topic_08"
         },
         {
          "day": 0,
          "hour": 10,
          "score": 0,
          "topic": "topic_08"
         },
         {
          "day": 0,
          "hour": 11,
          "score": 0,
          "topic": "topic_08"
         },
         {
          "day": 0,
          "hour": 12,
          "score": 0,
          "topic": "topic_08"
         },
         {
          "day": 0,
          "hour": 13,
          "score": 0.2,
          "topic": "topic_08"
         },
         {
          "day": 0,
          "hour": 14,
          "score": 0,
          "topic": "topic_08"
         },
         {
          "day": 0,
          "hour": 15,
          "score": 0,
          "topic": "topic_08"
         },
         {
          "day": 0,
          "hour": 16,
          "score": 0.63,
          "topic": "topic_08"
         },
         {
          "day": 0,
          "hour": 17,
          "score": 2.13,
          "topic": "topic_08"
         },
         {
          "day": 0,
          "hour": 18,
          "score": 0,
          "topic": "topic_08"
         },
         {
          "day": 0,
          "hour": 19,
          "score": 7.46,
          "topic": "topic_08"
         },
         {
          "day": 0,
          "hour": 20,
          "score": 12.51,
          "topic": "topic_08"
         },
         {
          "day": 0,
          "hour": 21,
          "score": 12.31,
          "topic": "topic_08"
         },
         {
          "day": 0,
          "hour": 22,
          "score": 10.63,
          "topic": "topic_08"
         },
         {
          "day": 0,
          "hour": 23,
          "score": 33.59,
          "topic": "topic_08"
         },
         {
          "day": 1,
          "hour": 0,
          "score": 22.34,
          "topic": "topic_08"
         },
         {
          "day": 1,
          "hour": 1,
          "score": 15.65,
          "topic": "topic_08"
         },
         {
          "day": 1,
          "hour": 2,
          "score": 12.14,
          "topic": "topic_08"
         },
         {
          "day": 1,
          "hour": 3,
          "score": 8.68,
          "topic": "topic_08"
         },
         {
          "day": 1,
          "hour": 4,
          "score": 0,
          "topic": "topic_08"
         },
         {
          "day": 1,
          "hour": 5,
          "score": 0,
          "topic": "topic_08"
         },
         {
          "day": 1,
          "hour": 6,
          "score": 0,
          "topic": "topic_08"
         },
         {
          "day": 1,
          "hour": 7,
          "score": 0,
          "topic": "topic_08"
         },
         {
          "day": 1,
          "hour": 8,
          "score": 2.8,
          "topic": "topic_08"
         },
         {
          "day": 1,
          "hour": 9,
          "score": 6.61,
          "topic": "topic_08"
         },
         {
          "day": 1,
          "hour": 10,
          "score": 3.44,
          "topic": "topic_08"
         },
         {
          "day": 1,
          "hour": 11,
          "score": 4.03,
          "topic": "topic_08"
         },
         {
          "day": 1,
          "hour": 12,
          "score": 9.09,
          "topic": "topic_08"
         },
         {
          "day": 1,
          "hour": 13,
          "score": 10.15,
          "topic": "topic_08"
         },
         {
          "day": 1,
          "hour": 14,
          "score": 10.71,
          "topic": "topic_08"
         },
         {
          "day": 1,
          "hour": 15,
          "score": 12.31,
          "topic": "topic_08"
         },
         {
          "day": 1,
          "hour": 16,
          "score": 10.86,
          "topic": "topic_08"
         },
         {
          "day": 1,
          "hour": 17,
          "score": 10.68,
          "topic": "topic_08"
         },
         {
          "day": 1,
          "hour": 18,
          "score": 0,
          "topic": "topic_08"
         },
         {
          "day": 1,
          "hour": 19,
          "score": 8.78,
          "topic": "topic_08"
         },
         {
          "day": 1,
          "hour": 20,
          "score": 12.91,
          "topic": "topic_08"
         },
         {
          "day": 1,
          "hour": 21,
          "score": 10.9,
          "topic": "topic_08"
         },
         {
          "day": 1,
          "hour": 22,
          "score": 13.15,
          "topic": "topic_08"
         },
         {
          "day": 1,
          "hour": 23,
          "score": 30.62,
          "topic": "topic_08"
         },
         {
          "day": 2,
          "hour": 0,
          "score": 26.45,
          "topic": "topic_08"
         },
         {
          "day": 2,
          "hour": 1,
          "score": 18.92,
          "topic": "topic_08"
         },
         {
          "day": 2,
          "hour": 2,
          "score": 14.45,
          "topic": "topic_08"
         },
         {
          "day": 2,
          "hour": 3,
          "score": 10.39,
          "topic": "topic_08"
         },
         {
          "day": 2,
          "hour": 4,
          "score": 0.57,
          "topic": "topic_08"
         },
         {
          "day": 2,
          "hour": 5,
          "score": 0,
          "topic": "topic_08"
         },
         {
          "day": 2,
          "hour": 6,
          "score": 0,
          "topic": "topic_08"
         },
         {
          "day": 2,
          "hour": 7,
          "score": 0,
          "topic": "topic_08"
         },
         {
          "day": 2,
          "hour": 8,
          "score": 2.05,
          "topic": "topic_08"
         },
         {
          "day": 2,
          "hour": 9,
          "score": 7.15,
          "topic": "topic_08"
         },
         {
          "day": 2,
          "hour": 10,
          "score": 5.45,
          "topic": "topic_08"
         },
         {
          "day": 2,
          "hour": 11,
          "score": 5.87,
          "topic": "topic_08"
         },
         {
          "day": 2,
          "hour": 12,
          "score": 7.38,
          "topic": "topic_08"
         },
         {
          "day": 2,
          "hour": 13,
          "score": 7.09,
          "topic": "topic_08"
         },
         {
          "day": 2,
          "hour": 14,
          "score": 7.66,
          "topic": "topic_08"
         },
         {
          "day": 2,
          "hour": 15,
          "score": 10.19,
          "topic": "topic_08"
         },
         {
          "day": 2,
          "hour": 16,
          "score": 9.23,
          "topic": "topic_08"
         },
         {
          "day": 2,
          "hour": 17,
          "score": 5.48,
          "topic": "topic_08"
         },
         {
          "day": 2,
          "hour": 18,
          "score": 0,
          "topic": "topic_08"
         },
         {
          "day": 2,
          "hour": 19,
          "score": 6.31,
          "topic": "topic_08"
         },
         {
          "day": 2,
          "hour": 20,
          "score": 13.45,
          "topic": "topic_08"
         },
         {
          "day": 2,
          "hour": 21,
          "score": 15.38,
          "topic": "topic_08"
         },
         {
          "day": 2,
          "hour": 22,
          "score": 14.59,
          "topic": "topic_08"
         },
         {
          "day": 2,
          "hour": 23,
          "score": 33.79,
          "topic": "topic_08"
         },
         {
          "day": 3,
          "hour": 0,
          "score": 28.91,
          "topic": "topic_08"
         },
         {
          "day": 3,
          "hour": 1,
          "score": 21.43,
          "topic": "topic_08"
         },
         {
          "day": 3,
          "hour": 2,
          "score": 17.31,
          "topic": "topic_08"
         },
         {
          "day": 3,
          "hour": 3,
          "score": 12.55,
          "topic": "topic_08"
         },
         {
          "day": 3,
          "hour": 4,
          "score": 1.79,
          "topic": "topic_08"
         },
         {
          "day": 3,
          "hour": 5,
          "score": 0,
          "topic": "topic_08"
         },
         {
          "day": 3,
          "hour": 6,
          "score": 0,
          "topic": "topic_08"
         },
         {
          "day": 3,
          "hour": 7,
          "score": 0,
          "topic": "topic_08"
         },
         {
          "day": 3,
          "hour": 8,
          "score": 3.18,
          "topic": "topic_08"
         },
         {
          "day": 3,
          "hour": 9,
          "score": 4,
          "topic": "topic_08"
         },
         {
          "day": 3,
          "hour": 10,
          "score": 0.75,
          "topic": "topic_08"
         },
         {
          "day": 3,
          "hour": 11,
          "score": 1.93,
          "topic": "topic_08"
         },
         {
          "day": 3,
          "hour": 12,
          "score": 6.1,
          "topic": "topic_08"
         },
         {
          "day": 3,
          "hour": 13,
          "score": 7.15,
          "topic": "topic_08"
         },
         {
          "day": 3,
          "hour": 14,
          "score": 9.4,
          "topic": "topic_08"
         },
         {
          "day": 3,
          "hour": 15,
          "score": 12.79,
          "topic": "topic_08"
         },
         {
          "day": 3,
          "hour": 16,
          "score": 9.97,
          "topic": "topic_08"
         },
         {
          "day": 3,
          "hour": 17,
          "score": 9.4,
          "topic": "topic_08"
         },
         {
          "day": 3,
          "hour": 18,
          "score": 0.84,
          "topic": "topic_08"
         },
         {
          "day": 3,
          "hour": 19,
          "score": 16.25,
          "topic": "topic_08"
         },
         {
          "day": 3,
          "hour": 20,
          "score": 21.49,
          "topic": "topic_08"
         },
         {
          "day": 3,
          "hour": 21,
          "score": 24.15,
          "topic": "topic_08"
         },
         {
          "day": 3,
          "hour": 22,
          "score": 25.32,
          "topic": "topic_08"
         },
         {
          "day": 3,
          "hour": 23,
          "score": 45.42,
          "topic": "topic_08"
         },
         {
          "day": 4,
          "hour": 0,
          "score": 38.39,
          "topic": "topic_08"
         },
         {
          "day": 4,
          "hour": 1,
          "score": 30.31,
          "topic": "topic_08"
         },
         {
          "day": 4,
          "hour": 2,
          "score": 24.75,
          "topic": "topic_08"
         },
         {
          "day": 4,
          "hour": 3,
          "score": 20.27,
          "topic": "topic_08"
         },
         {
          "day": 4,
          "hour": 4,
          "score": 7.97,
          "topic": "topic_08"
         },
         {
          "day": 4,
          "hour": 5,
          "score": 4.31,
          "topic": "topic_08"
         },
         {
          "day": 4,
          "hour": 6,
          "score": 2.57,
          "topic": "topic_08"
         },
         {
          "day": 4,
          "hour": 7,
          "score": 0,
          "topic": "topic_08"
         },
         {
          "day": 4,
          "hour": 8,
          "score": 8.04,
          "topic": "topic_08"
         },
         {
          "day": 4,
          "hour": 9,
          "score": 12.94,
          "topic": "topic_08"
         },
         {
          "day": 4,
          "hour": 10,
          "score": 13.11,
          "topic": "topic_08"
         },
         {
          "day": 4,
          "hour": 11,
          "score": 15.08,
          "topic": "topic_08"
         },
         {
          "day": 4,
          "hour": 12,
          "score": 21.26,
          "topic": "topic_08"
         },
         {
          "day": 4,
          "hour": 13,
          "score": 25.48,
          "topic": "topic_08"
         },
         {
          "day": 4,
          "hour": 14,
          "score": 27.54,
          "topic": "topic_08"
         },
         {
          "day": 4,
          "hour": 15,
          "score": 28.82,
          "topic": "topic_08"
         },
         {
          "day": 4,
          "hour": 16,
          "score": 29.14,
          "topic": "topic_08"
         },
         {
          "day": 4,
          "hour": 17,
          "score": 26.82,
          "topic": "topic_08"
         },
         {
          "day": 4,
          "hour": 18,
          "score": 23.4,
          "topic": "topic_08"
         },
         {
          "day": 4,
          "hour": 19,
          "score": 49.27,
          "topic": "topic_08"
         },
         {
          "day": 4,
          "hour": 20,
          "score": 66.67,
          "topic": "topic_08"
         },
         {
          "day": 4,
          "hour": 21,
          "score": 84.15,
          "topic": "topic_08"
         },
         {
          "day": 4,
          "hour": 22,
          "score": 87.21,
          "topic": "topic_08"
         },
         {
          "day": 4,
          "hour": 23,
          "score": 108.14,
          "topic": "topic_08"
         },
         {
          "day": 5,
          "hour": 0,
          "score": 95.62,
          "topic": "topic_08"
         },
         {
          "day": 5,
          "hour": 1,
          "score": 83.49,
          "topic": "topic_08"
         },
         {
          "day": 5,
          "hour": 2,
          "score": 72.04,
          "topic": "topic_08"
         },
         {
          "day": 5,
          "hour": 3,
          "score": 60.34,
          "topic": "topic_08"
         },
         {
          "day": 5,
          "hour": 4,
          "score": 42.56,
          "topic": "topic_08"
         },
         {
          "day": 5,
          "hour": 5,
          "score": 29.24,
          "topic": "topic_08"
         },
         {
          "day": 5,
          "hour": 6,
          "score": 16.75,
          "topic": "topic_08"
         },
         {
          "day": 5,
          "hour": 7,
          "score": 8.58,
          "topic": "topic_08"
         },
         {
          "day": 5,
          "hour": 8,
          "score": 2.63,
          "topic": "topic_08"
         },
         {
          "day": 5,
          "hour": 9,
          "score": 1.1,
          "topic": "topic_08"
         },
         {
          "day": 5,
          "hour": 10,
          "score": 0.15,
          "topic": "topic_08"
         },
         {
          "day": 5,
          "hour": 11,
          "score": 2.06,
          "topic": "topic_08"
         },
         {
          "day": 5,
          "hour": 12,
          "score": 6.17,
          "topic": "topic_08"
         },
         {
          "day": 5,
          "hour": 13,
          "score": 13.05,
          "topic": "topic_08"
         },
         {
          "day": 5,
          "hour": 14,
          "score": 19.17,
          "topic": "topic_08"
         },
         {
          "day": 5,
          "hour": 15,
          "score": 25.21,
          "topic": "topic_08"
         },
         {
          "day": 5,
          "hour": 16,
          "score": 22.93,
          "topic": "topic_08"
         },
         {
          "day": 5,
          "hour": 17,
          "score": 27.84,
          "topic": "topic_08"
         },
         {
          "day": 5,
          "hour": 18,
          "score": 46.74,
          "topic": "topic_08"
         },
         {
          "day": 5,
          "hour": 19,
          "score": 70.58,
          "topic": "topic_08"
         },
         {
          "day": 5,
          "hour": 20,
          "score": 95.34,
          "topic": "topic_08"
         },
         {
          "day": 5,
          "hour": 21,
          "score": 110.44,
          "topic": "topic_08"
         },
         {
          "day": 5,
          "hour": 22,
          "score": 114.28,
          "topic": "topic_08"
         },
         {
          "day": 5,
          "hour": 23,
          "score": 130.79,
          "topic": "topic_08"
         },
         {
          "day": 6,
          "hour": 0,
          "score": 117.48,
          "topic": "topic_08"
         },
         {
          "day": 6,
          "hour": 1,
          "score": 106.55,
          "topic": "topic_08"
         },
         {
          "day": 6,
          "hour": 2,
          "score": 93.99,
          "topic": "topic_08"
         },
         {
          "day": 6,
          "hour": 3,
          "score": 80.14,
          "topic": "topic_08"
         },
         {
          "day": 6,
          "hour": 4,
          "score": 60.48,
          "topic": "topic_08"
         },
         {
          "day": 6,
          "hour": 5,
          "score": 41.95,
          "topic": "topic_08"
         },
         {
          "day": 6,
          "hour": 6,
          "score": 28.72,
          "topic": "topic_08"
         },
         {
          "day": 6,
          "hour": 7,
          "score": 23.78,
          "topic": "topic_08"
         },
         {
          "day": 6,
          "hour": 8,
          "score": 15.88,
          "topic": "topic_08"
         },
         {
          "day": 6,
          "hour": 9,
          "score": 12.7,
          "topic": "topic_08"
         },
         {
          "day": 6,
          "hour": 10,
          "score": 6.17,
          "topic": "topic_08"
         },
         {
          "day": 6,
          "hour": 11,
          "score": 5.18,
          "topic": "topic_08"
         },
         {
          "day": 6,
          "hour": 12,
          "score": 0,
          "topic": "topic_08"
         },
         {
          "day": 6,
          "hour": 13,
          "score": 0,
          "topic": "topic_08"
         },
         {
          "day": 6,
          "hour": 14,
          "score": 0,
          "topic": "topic_08"
         },
         {
          "day": 6,
          "hour": 15,
          "score": 0,
          "topic": "topic_08"
         },
         {
          "day": 6,
          "hour": 16,
          "score": 3.97,
          "topic": "topic_08"
         },
         {
          "day": 6,
          "hour": 17,
          "score": 12.51,
          "topic": "topic_08"
         },
         {
          "day": 6,
          "hour": 18,
          "score": 18.73,
          "topic": "topic_08"
         },
         {
          "day": 6,
          "hour": 19,
          "score": 22.71,
          "topic": "topic_08"
         },
         {
          "day": 6,
          "hour": 20,
          "score": 25.26,
          "topic": "topic_08"
         },
         {
          "day": 6,
          "hour": 21,
          "score": 26.58,
          "topic": "topic_08"
         },
         {
          "day": 6,
          "hour": 22,
          "score": 18.72,
          "topic": "topic_08"
         },
         {
          "day": 6,
          "hour": 23,
          "score": 42.68,
          "topic": "topic_08"
         },
         {
          "day": 0,
          "hour": 0,
          "score": 6.42,
          "topic": "topic_09"
         },
         {
          "day": 0,
          "hour": 1,
          "score": 2.69,
          "topic": "topic_09"
         },
         {
          "day": 0,
          "hour": 2,
          "score": 2.58,
          "topic": "topic_09"
         },
         {
          "day": 0,
          "hour": 3,
          "score": 3.78,
          "topic": "topic_09"
         },
         {
          "day": 0,
          "hour": 4,
          "score": 6.44,
          "topic": "topic_09"
         },
         {
          "day": 0,
          "hour": 5,
          "score": 10.89,
          "topic": "topic_09"
         },
         {
          "day": 0,
          "hour": 6,
          "score": 23.1,
          "topic": "topic_09"
         },
         {
          "day": 0,
          "hour": 7,
          "score": 10.99,
          "topic": "topic_09"
         },
         {
          "day": 0,
          "hour": 8,
          "score": 2.57,
          "topic": "topic_09"
         },
         {
          "day": 0,
          "hour": 9,
          "score": 0,
          "topic": "topic_09"
         },
         {
          "day": 0,
          "hour": 10,
          "score": 0,
          "topic": "topic_09"
         },
         {
          "day": 0,
          "hour": 11,
          "score": 8.1,
          "topic": "topic_09"
         },
         {
          "day": 0,
          "hour": 12,
          "score": 16.04,
          "topic": "topic_09"
         },
         {
          "day": 0,
          "hour": 13,
          "score": 5.14,
          "topic": "topic_09"
         },
         {
          "day": 0,
          "hour": 14,
          "score": 0,
          "topic": "topic_09"
         },
         {
          "day": 0,
          "hour": 15,
          "score": 0,
          "topic": "topic_09"
         },
         {
          "day": 0,
          "hour": 16,
          "score": 0,
          "topic": "topic_09"
         },
         {
          "day": 0,
          "hour": 17,
          "score": 2.99,
          "topic": "topic_09"
         },
         {
          "day": 0,
          "hour": 18,
          "score": 0,
          "topic": "topic_09"
         },
         {
          "day": 0,
          "hour": 19,
          "score": 3.37,
          "topic": "topic_09"
         },
         {
          "day": 0,
          "hour": 20,
          "score": 3.58,
          "topic": "topic_09"
         },
         {
          "day": 0,
          "hour": 21,
          "score": 3.84,
          "topic": "topic_09"
         },
         {
          "day": 0,
          "hour": 22,
          "score": 3.28,
          "topic": "topic_09"
         },
         {
          "day": 0,
          "hour": 23,
          "score": 16.15,
          "topic": "topic_09"
         },
         {
          "day": 1,
          "hour": 0,
          "score": 6.11,
          "topic": "topic_09"
         },
         {
          "day": 1,
          "hour": 1,
          "score": 0,
          "topic": "topic_09"
         },
         {
          "day": 1,
          "hour": 2,
          "score": 0,
          "topic": "topic_09"
         },
         {
          "day": 1,
          "hour": 3,
          "score": 0,
          "topic": "topic_09"
         },
         {
          "day": 1,
          "hour": 4,
          "score": 0,
          "topic": "topic_09"
         },
         {
          "day": 1,
          "hour": 5,
          "score": 3.74,
          "topic": "topic_09"
         },
         {
          "day": 1,
          "hour": 6,
          "score": 12.59,
          "topic": "topic_09"
         },
         {
          "day": 1,
          "hour": 7,
          "score": 0,
          "topic": "topic_09"
         },
         {
          "day": 1,
          "hour": 8,
          "score": 0,
          "topic": "topic_09"
         },
         {
          "day": 1,
          "hour": 9,
          "score": 0,
          "topic": "topic_09"
         },
         {
          "day": 1,
          "hour": 10,
          "score": 0,
          "topic": "topic_09"
         },
         {
          "day": 1,
          "hour": 11,
          "score": 21.64,
          "topic": "topic_09"
         },
         {
          "day": 1,
          "hour": 12,
          "score": 32.43,
          "topic": "topic_09"
         },
         {
          "day": 1,
          "hour": 13,
          "score": 12.81,
          "topic": "topic_09"
         },
         {
          "day": 1,
          "hour": 14,
          "score": 6.23,
          "topic": "topic_09"
         },
         {
          "day": 1,
          "hour": 15,
          "score": 0.57,
          "topic": "topic_09"
         },
         {
          "day": 1,
          "hour": 16,
          "score": 5.86,
          "topic": "topic_09"
         },
         {
          "day": 1,
          "hour": 17,
          "score": 10.64,
          "topic": "topic_09"
         },
         {
          "day": 1,
          "hour": 18,
          "score": 0,
          "topic": "topic_09"
         },
         {
          "day": 1,
          "hour": 19,
          "score": 8.45,
          "topic": "topic_09"
         },
         {
          "day": 1,
          "hour": 20,
          "score": 5.54,
          "topic": "topic_09"
         },
         {
          "day": 1,
          "hour": 21,
          "score": 0,
          "topic": "topic_09"
         },
         {
          "day": 1,
          "hour": 22,
          "score": 0,
          "topic": "topic_09"
         },
         {
          "day": 1,
          "hour": 23,
          "score": 6.43,
          "topic": "topic_09"
         },
         {
          "day": 2,
          "hour": 0,
          "score": 2.59,
          "topic": "topic_09"
         },
         {
          "day": 2,
          "hour": 1,
          "score": 0,
          "topic": "topic_09"
         },
         {
          "day": 2,
          "hour": 2,
          "score": 0,
          "topic": "topic_09"
         },
         {
          "day": 2,
          "hour": 3,
          "score": 0,
          "topic": "topic_09"
         },
         {
          "day": 2,
          "hour": 4,
          "score": 2.58,
          "topic": "topic_09"
         },
         {
          "day": 2,
          "hour": 5,
          "score": 5.86,
          "topic": "topic_09"
         },
         {
          "day": 2,
          "hour": 6,
          "score": 12.3,
          "topic": "topic_09"
         },
         {
          "day": 2,
          "hour": 7,
          "score": 0,
          "topic": "topic_09"
         },
         {
          "day": 2,
          "hour": 8,
          "score": 1.41,
          "topic": "topic_09"
         },
         {
          "day": 2,
          "hour": 9,
          "score": 28.12,
          "topic": "topic_09"
         },
         {
          "day": 2,
          "hour": 10,
          "score": 49.17,
          "topic": "topic_09"
         },
         {
          "day": 2,
          "hour": 11,
          "score": 79.71,
          "topic": "topic_09"
         },
         {
          "day": 2,
          "hour": 12,
          "score": 62.76,
          "topic": "topic_09"
         },
         {
          "day": 2,
          "hour": 13,
          "score": 34.99,
          "topic": "topic_09"
         },
         {
          "day": 2,
          "hour": 14,
          "score": 15.86,
          "topic": "topic_09"
         },
         {
          "day": 2,
          "hour": 15,
          "score": 0,
          "topic": "topic_09"
         },
         {
          "day": 2,
          "hour": 16,
          "score": 4.31,
          "topic": "topic_09"
         },
         {
          "day": 2,
          "hour": 17,
          "score": 15.71,
          "topic": "topic_09"
         },
         {
          "day": 2,
          "hour": 18,
          "score": 0,
          "topic": "topic_09"
         },
         {
          "day": 2,
          "hour": 19,
          "score": 20.2,
          "topic": "topic_09"
         },
         {
          "day": 2,
          "hour": 20,
          "score": 14.86,
          "topic": "topic_09"
         },
         {
          "day": 2,
          "hour": 21,
          "score": 3.87,
          "topic": "topic_09"
         },
         {
          "day": 2,
          "hour": 22,
          "score": 0,
          "topic": "topic_09"
         },
         {
          "day": 2,
          "hour": 23,
          "score": 12.23,
          "topic": "topic_09"
         },
         {
          "day": 3,
          "hour": 0,
          "score": 8.68,
          "topic": "topic_09"
         },
         {
          "day": 3,
          "hour": 1,
          "score": 5.32,
          "topic": "topic_09"
         },
         {
          "day": 3,
          "hour": 2,
          "score": 2.25,
          "topic": "topic_09"
         },
         {
          "day": 3,
          "hour": 3,
          "score": 3.45,
          "topic": "topic_09"
         },
         {
          "day": 3,
          "hour": 4,
          "score": 5.31,
          "topic": "topic_09"
         },
         {
          "day": 3,
          "hour": 5,
          "score": 9.78,
          "topic": "topic_09"
         },
         {
          "day": 3,
          "hour": 6,
          "score": 16.6,
          "topic": "topic_09"
         },
         {
          "day": 3,
          "hour": 7,
          "score": 3.34,
          "topic": "topic_09"
         },
         {
          "day": 3,
          "hour": 8,
          "score": 3.02,
          "topic": "topic_09"
         },
         {
          "day": 3,
          "hour": 9,
          "score": 6.15,
          "topic": "topic_09"
         },
         {
          "day": 3,
          "hour": 10,
          "score": 11.6,
          "topic": "topic_09"
         },
         {
          "day": 3,
          "hour": 11,
          "score": 27.65,
          "topic": "topic_09"
         },
         {
          "day": 3,
          "hour": 12,
          "score": 31.55,
          "topic": "topic_09"
         },
         {
          "day": 3,
          "hour": 13,
          "score": 17.07,
          "topic": "topic_09"
         },
         {
          "day": 3,
          "hour": 14,
          "score": 0,
          "topic": "topic_09"
         },
         {
          "day": 3,
          "hour": 15,
          "score": 6.41,
          "topic": "topic_09"
         },
         {
          "day": 3,
          "hour": 16,
          "score": 0,
          "topic": "topic_09"
         },
         {
          "day": 3,
          "hour": 17,
          "score": 2.07,
          "topic": "topic_09"
         },
         {
          "day": 3,
          "hour": 18,
          "score": 0,
          "topic": "topic_09"
         },
         {
          "day": 3,
          "hour": 19,
          "score": 10.77,
          "topic": "topic_09"
         },
         {
          "day": 3,
          "hour": 20,
          "score": 9.88,
          "topic": "topic_09"
         },
         {
          "day": 3,
          "hour": 21,
          "score": 4.58,
          "topic": "topic_09"
         },
         {
          "day": 3,
          "hour": 22,
          "score": 0,
          "topic": "topic_09"
         },
         {
          "day": 3,
          "hour": 23,
          "score": 9.14,
          "topic": "topic_09"
         },
         {
          "day": 4,
          "hour": 0,
          "score": 5.65,
          "topic": "topic_09"
         },
         {
          "day": 4,
          "hour": 1,
          "score": 0.81,
          "topic": "topic_09"
         },
         {
          "day": 4,
          "hour": 2,
          "score": 0,
          "topic": "topic_09"
         },
         {
          "day": 4,
          "hour": 3,
          "score": 0,
          "topic": "topic_09"
         },
         {
          "day": 4,
          "hour": 4,
          "score": 2.45,
          "topic": "topic_09"
         },
         {
          "day": 4,
          "hour": 5,
          "score": 7.34,
          "topic": "topic_09"
         },
         {
          "day": 4,
          "hour": 6,
          "score": 14.93,
          "topic": "topic_09"
         },
         {
          "day": 4,
          "hour": 7,
          "score": 4.25,
          "topic": "topic_09"
         },
         {
          "day": 4,
          "hour": 8,
          "score": 0,
          "topic": "topic_09"
         },
         {
          "day": 4,
          "hour": 9,
          "score": 2.56,
          "topic": "topic_09"
         },
         {
          "day": 4,
          "hour": 10,
          "score": 7.98,
          "topic": "topic_09"
         },
         {
          "day": 4,
          "hour": 11,
          "score": 26.07,
          "topic": "topic_09"
         },
         {
          "day": 4,
          "hour": 12,
          "score": 33.49,
          "topic": "topic_09"
         },
         {
          "day": 4,
          "hour": 13,
          "score": 15.53,
          "topic": "topic_09"
         },
         {
          "day": 4,
          "hour": 14,
          "score": 0,
          "topic": "topic_09"
         },
         {
          "day": 4,
          "hour": 15,
          "score": 0,
          "topic": "topic_09"
         },
         {
          "day": 4,
          "hour": 16,
          "score": 0,
          "topic": "topic_09"
         },
         {
          "day": 4,
          "hour": 17,
          "score": 14.33,
          "topic": "topic_09"
         },
         {
          "day": 4,
          "hour": 18,
          "score": 5.05,
          "topic": "topic_09"
         },
         {
          "day": 4,
          "hour": 19,
          "score": 33.64,
          "topic": "topic_09"
         },
         {
          "day": 4,
          "hour": 20,
          "score": 55.83,
          "topic": "topic_09"
         },
         {
          "day": 4,
          "hour": 21,
          "score": 47.94,
          "topic": "topic_09"
         },
         {
          "day": 4,
          "hour": 22,
          "score": 8.64,
          "topic": "topic_09"
         },
         {
          "day": 4,
          "hour": 23,
          "score": 2.86,
          "topic": "topic_09"
         },
         {
          "day": 5,
          "hour": 0,
          "score": 0,
          "topic": "topic_09"
         },
         {
          "day": 5,
          "hour": 1,
          "score": 0,
          "topic": "topic_09"
         },
         {
          "day": 5,
          "hour": 2,
          "score": 0,
          "topic": "topic_09"
         },
         {
          "day": 5,
          "hour": 3,
          "score": 0,
          "topic": "topic_09"
         },
         {
          "day": 5,
          "hour": 4,
          "score": 0,
          "topic": "topic_09"
         },
         {
          "day": 5,
          "hour": 5,
          "score": 0.62,
          "topic": "topic_09"
         },
         {
          "day": 5,
          "hour": 6,
          "score": 15.78,
          "topic": "topic_09"
         },
         {
          "day": 5,
          "hour": 7,
          "score": 26.48,
          "topic": "topic_09"
         },
         {
          "day": 5,
          "hour": 8,
          "score": 30.93,
          "topic": "topic_09"
         },
         {
          "day": 5,
          "hour": 9,
          "score": 35.43,
          "topic": "topic_09"
         },
         {
          "day": 5,
          "hour": 10,
          "score": 42.92,
          "topic": "topic_09"
         },
         {
          "day": 5,
          "hour": 11,
          "score": 48.37,
          "topic": "topic_09"
         },
         {
          "day": 5,
          "hour": 12,
          "score": 44.43,
          "topic": "topic_09"
         },
         {
          "day": 5,
          "hour": 13,
          "score": 33.75,
          "topic": "topic_09"
         },
         {
          "day": 5,
          "hour": 14,
          "score": 21.16,
          "topic": "topic_09"
         },
         {
          "day": 5,
          "hour": 15,
          "score": 9.66,
          "topic": "topic_09"
         },
         {
          "day": 5,
          "hour": 16,
          "score": 3.57,
          "topic": "topic_09"
         },
         {
          "day": 5,
          "hour": 17,
          "score": 0,
          "topic": "topic_09"
         },
         {
          "day": 5,
          "hour": 18,
          "score": 0,
          "topic": "topic_09"
         },
         {
          "day": 5,
          "hour": 19,
          "score": 0,
          "topic": "topic_09"
         },
         {
          "day": 5,
          "hour": 20,
          "score": 22.84,
          "topic": "topic_09"
         },
         {
          "day": 5,
          "hour": 21,
          "score": 27.29,
          "topic": "topic_09"
         },
         {
          "day": 5,
          "hour": 22,
          "score": 18.12,
          "topic": "topic_09"
         },
         {
          "day": 5,
          "hour": 23,
          "score": 0,
          "topic": "topic_09"
         },
         {
          "day": 6,
          "hour": 0,
          "score": 15.59,
          "topic": "topic_09"
         },
         {
          "day": 6,
          "hour": 1,
          "score": 13.24,
          "topic": "topic_09"
         },
         {
          "day": 6,
          "hour": 2,
          "score": 13.5,
          "topic": "topic_09"
         },
         {
          "day": 6,
          "hour": 3,
          "score": 14.57,
          "topic": "topic_09"
         },
         {
          "day": 6,
          "hour": 4,
          "score": 10.31,
          "topic": "topic_09"
         },
         {
          "day": 6,
          "hour": 5,
          "score": 23.91,
          "topic": "topic_09"
         },
         {
          "day": 6,
          "hour": 6,
          "score": 62.49,
          "topic": "topic_09"
         },
         {
          "day": 6,
          "hour": 7,
          "score": 122.73,
          "topic": "topic_09"
         },
         {
          "day": 6,
          "hour": 8,
          "score": 165.31,
          "topic": "topic_09"
         },
         {
          "day": 6,
          "hour": 9,
          "score": 247.39,
          "topic": "topic_09"
         },
         {
          "day": 6,
          "hour": 10,
          "score": 304.07,
          "topic": "topic_09"
         },
         {
          "day": 6,
          "hour": 11,
          "score": 350.91,
          "topic": "topic_09"
         },
         {
          "day": 6,
          "hour": 12,
          "score": 308.13,
          "topic": "topic_09"
         },
         {
          "day": 6,
          "hour": 13,
          "score": 265.01,
          "topic": "topic_09"
         },
         {
          "day": 6,
          "hour": 14,
          "score": 223.97,
          "topic": "topic_09"
         },
         {
          "day": 6,
          "hour": 15,
          "score": 183.82,
          "topic": "topic_09"
         },
         {
          "day": 6,
          "hour": 16,
          "score": 137,
          "topic": "topic_09"
         },
         {
          "day": 6,
          "hour": 17,
          "score": 92.05,
          "topic": "topic_09"
         },
         {
          "day": 6,
          "hour": 18,
          "score": 62.82,
          "topic": "topic_09"
         },
         {
          "day": 6,
          "hour": 19,
          "score": 51.81,
          "topic": "topic_09"
         },
         {
          "day": 6,
          "hour": 20,
          "score": 49.75,
          "topic": "topic_09"
         },
         {
          "day": 6,
          "hour": 21,
          "score": 42.99,
          "topic": "topic_09"
         },
         {
          "day": 6,
          "hour": 22,
          "score": 28.6,
          "topic": "topic_09"
         },
         {
          "day": 6,
          "hour": 23,
          "score": 6.34,
          "topic": "topic_09"
         },
         {
          "day": 0,
          "hour": 0,
          "score": 0,
          "topic": "topic_10"
         },
         {
          "day": 0,
          "hour": 1,
          "score": 0,
          "topic": "topic_10"
         },
         {
          "day": 0,
          "hour": 2,
          "score": 0,
          "topic": "topic_10"
         },
         {
          "day": 0,
          "hour": 3,
          "score": 1.4,
          "topic": "topic_10"
         },
         {
          "day": 0,
          "hour": 4,
          "score": 7.45,
          "topic": "topic_10"
         },
         {
          "day": 0,
          "hour": 5,
          "score": 5.83,
          "topic": "topic_10"
         },
         {
          "day": 0,
          "hour": 6,
          "score": 0,
          "topic": "topic_10"
         },
         {
          "day": 0,
          "hour": 7,
          "score": 3.21,
          "topic": "topic_10"
         },
         {
          "day": 0,
          "hour": 8,
          "score": 0,
          "topic": "topic_10"
         },
         {
          "day": 0,
          "hour": 9,
          "score": 0,
          "topic": "topic_10"
         },
         {
          "day": 0,
          "hour": 10,
          "score": 0,
          "topic": "topic_10"
         },
         {
          "day": 0,
          "hour": 11,
          "score": 0.49,
          "topic": "topic_10"
         },
         {
          "day": 0,
          "hour": 12,
          "score": 0.12,
          "topic": "topic_10"
         },
         {
          "day": 0,
          "hour": 13,
          "score": 0,
          "topic": "topic_10"
         },
         {
          "day": 0,
          "hour": 14,
          "score": 0,
          "topic": "topic_10"
         },
         {
          "day": 0,
          "hour": 15,
          "score": 0,
          "topic": "topic_10"
         },
         {
          "day": 0,
          "hour": 16,
          "score": 0,
          "topic": "topic_10"
         },
         {
          "day": 0,
          "hour": 17,
          "score": 19.57,
          "topic": "topic_10"
         },
         {
          "day": 0,
          "hour": 18,
          "score": 65.19,
          "topic": "topic_10"
         },
         {
          "day": 0,
          "hour": 19,
          "score": 62.87,
          "topic": "topic_10"
         },
         {
          "day": 0,
          "hour": 20,
          "score": 48.06,
          "topic": "topic_10"
         },
         {
          "day": 0,
          "hour": 21,
          "score": 25.65,
          "topic": "topic_10"
         },
         {
          "day": 0,
          "hour": 22,
          "score": 0,
          "topic": "topic_10"
         },
         {
          "day": 0,
          "hour": 23,
          "score": 3.16,
          "topic": "topic_10"
         },
         {
          "day": 1,
          "hour": 0,
          "score": 1.72,
          "topic": "topic_10"
         },
         {
          "day": 1,
          "hour": 1,
          "score": 5.08,
          "topic": "topic_10"
         },
         {
          "day": 1,
          "hour": 2,
          "score": 6.44,
          "topic": "topic_10"
         },
         {
          "day": 1,
          "hour": 3,
          "score": 7.18,
          "topic": "topic_10"
         },
         {
          "day": 1,
          "hour": 4,
          "score": 14.86,
          "topic": "topic_10"
         },
         {
          "day": 1,
          "hour": 5,
          "score": 12.55,
          "topic": "topic_10"
         },
         {
          "day": 1,
          "hour": 6,
          "score": 5.45,
          "topic": "topic_10"
         },
         {
          "day": 1,
          "hour": 7,
          "score": 16.59,
          "topic": "topic_10"
         },
         {
          "day": 1,
          "hour": 8,
          "score": 13.66,
          "topic": "topic_10"
         },
         {
          "day": 1,
          "hour": 9,
          "score": 11.66,
          "topic": "topic_10"
         },
         {
          "day": 1,
          "hour": 10,
          "score": 11.91,
          "topic": "topic_10"
         },
         {
          "day": 1,
          "hour": 11,
          "score": 22.75,
          "topic": "topic_10"
         },
         {
          "day": 1,
          "hour": 12,
          "score": 22.98,
          "topic": "topic_10"
         },
         {
          "day": 1,
          "hour": 13,
          "score": 12.39,
          "topic": "topic_10"
         },
         {
          "day": 1,
          "hour": 14,
          "score": 0.05,
          "topic": "topic_10"
         },
         {
          "day": 1,
          "hour": 15,
          "score": 4.25,
          "topic": "topic_10"
         },
         {
          "day": 1,
          "hour": 16,
          "score": 13.25,
          "topic": "topic_10"
         },
         {
          "day": 1,
          "hour": 17,
          "score": 55.93,
          "topic": "topic_10"
         },
         {
          "day": 1,
          "hour": 18,
          "score": 141.17,
          "topic": "topic_10"
         },
         {
          "day": 1,
          "hour": 19,
          "score": 150.82,
          "topic": "topic_10"
         },
         {
          "day": 1,
          "hour": 20,
          "score": 126.54,
          "topic": "topic_10"
         },
         {
          "day": 1,
          "hour": 21,
          "score": 81.64,
          "topic": "topic_10"
         },
         {
          "day": 1,
          "hour": 22,
          "score": 22.74,
          "topic": "topic_10"
         },
         {
          "day": 1,
          "hour": 23,
          "score": 16.51,
          "topic": "topic_10"
         },
         {
          "day": 2,
          "hour": 0,
          "score": 4.11,
          "topic": "topic_10"
         },
         {
          "day": 2,
          "hour": 1,
          "score": 7.06,
          "topic": "topic_10"
         },
         {
          "day": 2,
          "hour": 2,
          "score": 7.82,
          "topic": "topic_10"
         },
         {
          "day": 2,
          "hour": 3,
          "score": 10.16,
          "topic": "topic_10"
         },
         {
          "day": 2,
          "hour": 4,
          "score": 17.16,
          "topic": "topic_10"
         },
         {
          "day": 2,
          "hour": 5,
          "score": 16.64,
          "topic": "topic_10"
         },
         {
          "day": 2,
          "hour": 6,
          "score": 9.48,
          "topic": "topic_10"
         },
         {
          "day": 2,
          "hour": 7,
          "score": 18.98,
          "topic": "topic_10"
         },
         {
          "day": 2,
          "hour": 8,
          "score": 18.4,
          "topic": "topic_10"
         },
         {
          "day": 2,
          "hour": 9,
          "score": 20.27,
          "topic": "topic_10"
         },
         {
          "day": 2,
          "hour": 10,
          "score": 20.76,
          "topic": "topic_10"
         },
         {
          "day": 2,
          "hour": 11,
          "score": 30.13,
          "topic": "topic_10"
         },
         {
          "day": 2,
          "hour": 12,
          "score": 30.66,
          "topic": "topic_10"
         },
         {
          "day": 2,
          "hour": 13,
          "score": 17.07,
          "topic": "topic_10"
         },
         {
          "day": 2,
          "hour": 14,
          "score": 14.7,
          "topic": "topic_10"
         },
         {
          "day": 2,
          "hour": 15,
          "score": 8.78,
          "topic": "topic_10"
         },
         {
          "day": 2,
          "hour": 16,
          "score": 19.65,
          "topic": "topic_10"
         },
         {
          "day": 2,
          "hour": 17,
          "score": 63.54,
          "topic": "topic_10"
         },
         {
          "day": 2,
          "hour": 18,
          "score": 148.42,
          "topic": "topic_10"
         },
         {
          "day": 2,
          "hour": 19,
          "score": 158.23,
          "topic": "topic_10"
         },
         {
          "day": 2,
          "hour": 20,
          "score": 136.57,
          "topic": "topic_10"
         },
         {
          "day": 2,
          "hour": 21,
          "score": 90.07,
          "topic": "topic_10"
         },
         {
          "day": 2,
          "hour": 22,
          "score": 36.35,
          "topic": "topic_10"
         },
         {
          "day": 2,
          "hour": 23,
          "score": 23.73,
          "topic": "topic_10"
         },
         {
          "day": 3,
          "hour": 0,
          "score": 9.62,
          "topic": "topic_10"
         },
         {
          "day": 3,
          "hour": 1,
          "score": 11.6,
          "topic": "topic_10"
         },
         {
          "day": 3,
          "hour": 2,
          "score": 11.23,
          "topic": "topic_10"
         },
         {
          "day": 3,
          "hour": 3,
          "score": 12.38,
          "topic": "topic_10"
         },
         {
          "day": 3,
          "hour": 4,
          "score": 19.15,
          "topic": "topic_10"
         },
         {
          "day": 3,
          "hour": 5,
          "score": 17.5,
          "topic": "topic_10"
         },
         {
          "day": 3,
          "hour": 6,
          "score": 9.34,
          "topic": "topic_10"
         },
         {
          "day": 3,
          "hour": 7,
          "score": 17.12,
          "topic": "topic_10"
         },
         {
          "day": 3,
          "hour": 8,
          "score": 15.84,
          "topic": "topic_10"
         },
         {
          "day": 3,
          "hour": 9,
          "score": 18.41,
          "topic": "topic_10"
         },
         {
          "day": 3,
          "hour": 10,
          "score": 18.25,
          "topic": "topic_10"
         },
         {
          "day": 3,
          "hour": 11,
          "score": 26.91,
          "topic": "topic_10"
         },
         {
          "day": 3,
          "hour": 12,
          "score": 26.48,
          "topic": "topic_10"
         },
         {
          "day": 3,
          "hour": 13,
          "score": 15.52,
          "topic": "topic_10"
         },
         {
          "day": 3,
          "hour": 14,
          "score": 5.77,
          "topic": "topic_10"
         },
         {
          "day": 3,
          "hour": 15,
          "score": 4.36,
          "topic": "topic_10"
         },
         {
          "day": 3,
          "hour": 16,
          "score": 15.02,
          "topic": "topic_10"
         },
         {
          "day": 3,
          "hour": 17,
          "score": 55.76,
          "topic": "topic_10"
         },
         {
          "day": 3,
          "hour": 18,
          "score": 135.14,
          "topic": "topic_10"
         },
         {
          "day": 3,
          "hour": 19,
          "score": 139.9,
          "topic": "topic_10"
         },
         {
          "day": 3,
          "hour": 20,
          "score": 124.39,
          "topic": "topic_10"
         },
         {
          "day": 3,
          "hour": 21,
          "score": 83.23,
          "topic": "topic_10"
         },
         {
          "day": 3,
          "hour": 22,
          "score": 26.24,
          "topic": "topic_10"
         },
         {
          "day": 3,
          "hour": 23,
          "score": 18.36,
          "topic": "topic_10"
         },
         {
          "day": 4,
          "hour": 0,
          "score": 2.38,
          "topic": "topic_10"
         },
         {
          "day": 4,
          "hour": 1,
          "score": 5.13,
          "topic": "topic_10"
         },
         {
          "day": 4,
          "hour": 2,
          "score": 5.7,
          "topic": "topic_10"
         },
         {
          "day": 4,
          "hour": 3,
          "score": 6.42,
          "topic": "topic_10"
         },
         {
          "day": 4,
          "hour": 4,
          "score": 15.35,
          "topic": "topic_10"
         },
         {
          "day": 4,
          "hour": 5,
          "score": 13.66,
          "topic": "topic_10"
         },
         {
          "day": 4,
          "hour": 6,
          "score": 6.07,
          "topic": "topic_10"
         },
         {
          "day": 4,
          "hour": 7,
          "score": 14.92,
          "topic": "topic_10"
         },
         {
          "day": 4,
          "hour": 8,
          "score": 11.12,
          "topic": "topic_10"
         },
         {
          "day": 4,
          "hour": 9,
          "score": 9.04,
          "topic": "topic_10"
         },
         {
          "day": 4,
          "hour": 10,
          "score": 10.88,
          "topic": "topic_10"
         },
         {
          "day": 4,
          "hour": 11,
          "score": 17.87,
          "topic": "topic_10"
         },
         {
          "day": 4,
          "hour": 12,
          "score": 17.08,
          "topic": "topic_10"
         },
         {
          "day": 4,
          "hour": 13,
          "score": 13.06,
          "topic": "topic_10"
         },
         {
          "day": 4,
          "hour": 14,
          "score": 7.13,
          "topic": "topic_10"
         },
         {
          "day": 4,
          "hour": 15,
          "score": 8.51,
          "topic": "topic_10"
         },
         {
          "day": 4,
          "hour": 16,
          "score": 23.2,
          "topic": "topic_10"
         },
         {
          "day": 4,
          "hour": 17,
          "score": 69.75,
          "topic": "topic_10"
         },
         {
          "day": 4,
          "hour": 18,
          "score": 154.32,
          "topic": "topic_10"
         },
         {
          "day": 4,
          "hour": 19,
          "score": 165.83,
          "topic": "topic_10"
         },
         {
          "day": 4,
          "hour": 20,
          "score": 150.42,
          "topic": "topic_10"
         },
         {
          "day": 4,
          "hour": 21,
          "score": 101.25,
          "topic": "topic_10"
         },
         {
          "day": 4,
          "hour": 22,
          "score": 48.03,
          "topic": "topic_10"
         },
         {
          "day": 4,
          "hour": 23,
          "score": 33.54,
          "topic": "topic_10"
         },
         {
          "day": 5,
          "hour": 0,
          "score": 7.19,
          "topic": "topic_10"
         },
         {
          "day": 5,
          "hour": 1,
          "score": 9.51,
          "topic": "topic_10"
         },
         {
          "day": 5,
          "hour": 2,
          "score": 9.08,
          "topic": "topic_10"
         },
         {
          "day": 5,
          "hour": 3,
          "score": 8.36,
          "topic": "topic_10"
         },
         {
          "day": 5,
          "hour": 4,
          "score": 17.2,
          "topic": "topic_10"
         },
         {
          "day": 5,
          "hour": 5,
          "score": 14.63,
          "topic": "topic_10"
         },
         {
          "day": 5,
          "hour": 6,
          "score": 4.03,
          "topic": "topic_10"
         },
         {
          "day": 5,
          "hour": 7,
          "score": 0,
          "topic": "topic_10"
         },
         {
          "day": 5,
          "hour": 8,
          "score": 0,
          "topic": "topic_10"
         },
         {
          "day": 5,
          "hour": 9,
          "score": 0,
          "topic": "topic_10"
         },
         {
          "day": 5,
          "hour": 10,
          "score": 0,
          "topic": "topic_10"
         },
         {
          "day": 5,
          "hour": 11,
          "score": 1.38,
          "topic": "topic_10"
         },
         {
          "day": 5,
          "hour": 12,
          "score": 10.12,
          "topic": "topic_10"
         },
         {
          "day": 5,
          "hour": 13,
          "score": 20.54,
          "topic": "topic_10"
         },
         {
          "day": 5,
          "hour": 14,
          "score": 27.51,
          "topic": "topic_10"
         },
         {
          "day": 5,
          "hour": 15,
          "score": 37.55,
          "topic": "topic_10"
         },
         {
          "day": 5,
          "hour": 16,
          "score": 72.82,
          "topic": "topic_10"
         },
         {
          "day": 5,
          "hour": 17,
          "score": 102.89,
          "topic": "topic_10"
         },
         {
          "day": 5,
          "hour": 18,
          "score": 117.84,
          "topic": "topic_10"
         },
         {
          "day": 5,
          "hour": 19,
          "score": 103.81,
          "topic": "topic_10"
         },
         {
          "day": 5,
          "hour": 20,
          "score": 79.11,
          "topic": "topic_10"
         },
         {
          "day": 5,
          "hour": 21,
          "score": 48.66,
          "topic": "topic_10"
         },
         {
          "day": 5,
          "hour": 22,
          "score": 19.93,
          "topic": "topic_10"
         },
         {
          "day": 5,
          "hour": 23,
          "score": 13,
          "topic": "topic_10"
         },
         {
          "day": 6,
          "hour": 0,
          "score": 0,
          "topic": "topic_10"
         },
         {
          "day": 6,
          "hour": 1,
          "score": 0,
          "topic": "topic_10"
         },
         {
          "day": 6,
          "hour": 2,
          "score": 0,
          "topic": "topic_10"
         },
         {
          "day": 6,
          "hour": 3,
          "score": 0,
          "topic": "topic_10"
         },
         {
          "day": 6,
          "hour": 4,
          "score": 7.96,
          "topic": "topic_10"
         },
         {
          "day": 6,
          "hour": 5,
          "score": 8.24,
          "topic": "topic_10"
         },
         {
          "day": 6,
          "hour": 6,
          "score": 3.76,
          "topic": "topic_10"
         },
         {
          "day": 6,
          "hour": 7,
          "score": 0,
          "topic": "topic_10"
         },
         {
          "day": 6,
          "hour": 8,
          "score": 0,
          "topic": "topic_10"
         },
         {
          "day": 6,
          "hour": 9,
          "score": 0,
          "topic": "topic_10"
         },
         {
          "day": 6,
          "hour": 10,
          "score": 0,
          "topic": "topic_10"
         },
         {
          "day": 6,
          "hour": 11,
          "score": 0,
          "topic": "topic_10"
         },
         {
          "day": 6,
          "hour": 12,
          "score": 6,
          "topic": "topic_10"
         },
         {
          "day": 6,
          "hour": 13,
          "score": 25.36,
          "topic": "topic_10"
         },
         {
          "day": 6,
          "hour": 14,
          "score": 32.89,
          "topic": "topic_10"
         },
         {
          "day": 6,
          "hour": 15,
          "score": 37.18,
          "topic": "topic_10"
         },
         {
          "day": 6,
          "hour": 16,
          "score": 33.91,
          "topic": "topic_10"
         },
         {
          "day": 6,
          "hour": 17,
          "score": 17.56,
          "topic": "topic_10"
         },
         {
          "day": 6,
          "hour": 18,
          "score": 12.75,
          "topic": "topic_10"
         },
         {
          "day": 6,
          "hour": 19,
          "score": 5.79,
          "topic": "topic_10"
         },
         {
          "day": 6,
          "hour": 20,
          "score": 3.91,
          "topic": "topic_10"
         },
         {
          "day": 6,
          "hour": 21,
          "score": 0,
          "topic": "topic_10"
         },
         {
          "day": 6,
          "hour": 22,
          "score": 0,
          "topic": "topic_10"
         },
         {
          "day": 6,
          "hour": 23,
          "score": 0.98,
          "topic": "topic_10"
         },
         {
          "day": 0,
          "hour": 0,
          "score": 4.42,
          "topic": "topic_11"
         },
         {
          "day": 0,
          "hour": 1,
          "score": 27.81,
          "topic": "topic_11"
         },
         {
          "day": 0,
          "hour": 2,
          "score": 37.06,
          "topic": "topic_11"
         },
         {
          "day": 0,
          "hour": 3,
          "score": 43.98,
          "topic": "topic_11"
         },
         {
          "day": 0,
          "hour": 4,
          "score": 85.29,
          "topic": "topic_11"
         },
         {
          "day": 0,
          "hour": 5,
          "score": 83.32,
          "topic": "topic_11"
         },
         {
          "day": 0,
          "hour": 6,
          "score": 60.5,
          "topic": "topic_11"
         },
         {
          "day": 0,
          "hour": 7,
          "score": 11.49,
          "topic": "topic_11"
         },
         {
          "day": 0,
          "hour": 8,
          "score": 0,
          "topic": "topic_11"
         },
         {
          "day": 0,
          "hour": 9,
          "score": 0,
          "topic": "topic_11"
         },
         {
          "day": 0,
          "hour": 10,
          "score": 0,
          "topic": "topic_11"
         },
         {
          "day": 0,
          "hour": 11,
          "score": 0,
          "topic": "topic_11"
         },
         {
          "day": 0,
          "hour": 12,
          "score": 0,
          "topic": "topic_11"
         },
         {
          "day": 0,
          "hour": 13,
          "score": 0,
          "topic": "topic_11"
         },
         {
          "day": 0,
          "hour": 14,
          "score": 1.21,
          "topic": "topic_11"
         },
         {
          "day": 0,
          "hour": 15,
          "score": 4.25,
          "topic": "topic_11"
         },
         {
          "day": 0,
          "hour": 16,
          "score": 4.21,
          "topic": "topic_11"
         },
         {
          "day": 0,
          "hour": 17,
          "score": 2.73,
          "topic": "topic_11"
         },
         {
          "day": 0,
          "hour": 18,
          "score": 0,
          "topic": "topic_11"
         },
         {
          "day": 0,
          "hour": 19,
          "score": 0,
          "topic": "topic_11"
         },
         {
          "day": 0,
          "hour": 20,
          "score": 4.37,
          "topic": "topic_11"
         },
         {
          "day": 0,
          "hour": 21,
          "score": 12.25,
          "topic": "topic_11"
         },
         {
          "day": 0,
          "hour": 22,
          "score": 25.28,
          "topic": "topic_11"
         },
         {
          "day": 0,
          "hour": 23,
          "score": 0,
          "topic": "topic_11"
         },
         {
          "day": 1,
          "hour": 0,
          "score": 4.85,
          "topic": "topic_11"
         },
         {
          "day": 1,
          "hour": 1,
          "score": 32.14,
          "topic": "topic_11"
         },
         {
          "day": 1,
          "hour": 2,
          "score": 44.2,
          "topic": "topic_11"
         },
         {
          "day": 1,
          "hour": 3,
          "score": 52.65,
          "topic": "topic_11"
         },
         {
          "day": 1,
          "hour": 4,
          "score": 103.95,
          "topic": "topic_11"
         },
         {
          "day": 1,
          "hour": 5,
          "score": 100.89,
          "topic": "topic_11"
         },
         {
          "day": 1,
          "hour": 6,
          "score": 75.37,
          "topic": "topic_11"
         },
         {
          "day": 1,
          "hour": 7,
          "score": 19.98,
          "topic": "topic_11"
         },
         {
          "day": 1,
          "hour": 8,
          "score": 1.52,
          "topic": "topic_11"
         },
         {
          "day": 1,
          "hour": 9,
          "score": 0,
          "topic": "topic_11"
         },
         {
          "day": 1,
          "hour": 10,
          "score": 0,
          "topic": "topic_11"
         },
         {
          "day": 1,
          "hour": 11,
          "score": 0,
          "topic": "topic_11"
         },
         {
          "day": 1,
          "hour": 12,
          "score": 2.29,
          "topic": "topic_11"
         },
         {
          "day": 1,
          "hour": 13,
          "score": 3.18,
          "topic": "topic_11"
         },
         {
          "day": 1,
          "hour": 14,
          "score": 5.16,
          "topic": "topic_11"
         },
         {
          "day": 1,
          "hour": 15,
          "score": 8.61,
          "topic": "topic_11"
         },
         {
          "day": 1,
          "hour": 16,
          "score": 7.56,
          "topic": "topic_11"
         },
         {
          "day": 1,
          "hour": 17,
          "score": 5.36,
          "topic": "topic_11"
         },
         {
          "day": 1,
          "hour": 18,
          "score": 0,
          "topic": "topic_11"
         },
         {
          "day": 1,
          "hour": 19,
          "score": 0.65,
          "topic": "topic_11"
         },
         {
          "day": 1,
          "hour": 20,
          "score": 8.9,
          "topic": "topic_11"
         },
         {
          "day": 1,
          "hour": 21,
          "score": 16.62,
          "topic": "topic_11"
         },
         {
          "day": 1,
          "hour": 22,
          "score": 33.26,
          "topic": "topic_11"
         },
         {
          "day": 1,
          "hour": 23,
          "score": 2.84,
          "topic": "topic_11"
         },
         {
          "day": 2,
          "hour": 0,
          "score": 4.4,
          "topic": "topic_11"
         },
         {
          "day": 2,
          "hour": 1,
          "score": 33.09,
          "topic": "topic_11"
         },
         {
          "day": 2,
          "hour": 2,
          "score": 44.27,
          "topic": "topic_11"
         },
         {
          "day": 2,
          "hour": 3,
          "score": 52.94,
          "topic": "topic_11"
         },
         {
          "day": 2,
          "hour": 4,
          "score": 104.5,
          "topic": "topic_11"
         },
         {
          "day": 2,
          "hour": 5,
          "score": 102.8,
          "topic": "topic_11"
         },
         {
          "day": 2,
          "hour": 6,
          "score": 77.36,
          "topic": "topic_11"
         },
         {
          "day": 2,
          "hour": 7,
          "score": 21.43,
          "topic": "topic_11"
         },
         {
          "day": 2,
          "hour": 8,
          "score": 3.38,
          "topic": "topic_11"
         },
         {
          "day": 2,
          "hour": 9,
          "score": 2.6,
          "topic": "topic_11"
         },
         {
          "day": 2,
          "hour": 10,
          "score": 2.37,
          "topic": "topic_11"
         },
         {
          "day": 2,
          "hour": 11,
          "score": 5.05,
          "topic": "topic_11"
         },
         {
          "day": 2,
          "hour": 12,
          "score": 7.17,
          "topic": "topic_11"
         },
         {
          "day": 2,
          "hour": 13,
          "score": 6.78,
          "topic": "topic_11"
         },
         {
          "day": 2,
          "hour": 14,
          "score": 6.44,
          "topic": "topic_11"
         },
         {
          "day": 2,
          "hour": 15,
          "score": 9.74,
          "topic": "topic_11"
         },
         {
          "day": 2,
          "hour": 16,
          "score": 6.91,
          "topic": "topic_11"
         },
         {
          "day": 2,
          "hour": 17,
          "score": 7.3,
          "topic": "topic_11"
         },
         {
          "day": 2,
          "hour": 18,
          "score": 0,
          "topic": "topic_11"
         },
         {
          "day": 2,
          "hour": 19,
          "score": 3.07,
          "topic": "topic_11"
         },
         {
          "day": 2,
          "hour": 20,
          "score": 10.72,
          "topic": "topic_11"
         },
         {
          "day": 2,
          "hour": 21,
          "score": 18.85,
          "topic": "topic_11"
         },
         {
          "day": 2,
          "hour": 22,
          "score": 35.11,
          "topic": "topic_11"
         },
         {
          "day": 2,
          "hour": 23,
          "score": 4.68,
          "topic": "topic_11"
         },
         {
          "day": 3,
          "hour": 0,
          "score": 6.02,
          "topic": "topic_11"
         },
         {
          "day": 3,
          "hour": 1,
          "score": 34.7,
          "topic": "topic_11"
         },
         {
          "day": 3,
          "hour": 2,
          "score": 46.3,
          "topic": "topic_11"
         },
         {
          "day": 3,
          "hour": 3,
          "score": 55.2,
          "topic": "topic_11"
         },
         {
          "day": 3,
          "hour": 4,
          "score": 106.91,
          "topic": "topic_11"
         },
         {
          "day": 3,
          "hour": 5,
          "score": 105.84,
          "topic": "topic_11"
         },
         {
          "day": 3,
          "hour": 6,
          "score": 78.85,
          "topic": "topic_11"
         },
         {
          "day": 3,
          "hour": 7,
          "score": 22.85,
          "topic": "topic_11"
         },
         {
          "day": 3,
          "hour": 8,
          "score": 3.56,
          "topic": "topic_11"
         },
         {
          "day": 3,
          "hour": 9,
          "score": 0,
          "topic": "topic_11"
         },
         {
          "day": 3,
          "hour": 10,
          "score": 1.09,
          "topic": "topic_11"
         },
         {
          "day": 3,
          "hour": 11,
          "score": 2.36,
          "topic": "topic_11"
         },
         {
          "day": 3,
          "hour": 12,
          "score": 6.34,
          "topic": "topic_11"
         },
         {
          "day": 3,
          "hour": 13,
          "score": 8.77,
          "topic": "topic_11"
         },
         {
          "day": 3,
          "hour": 14,
          "score": 12.22,
          "topic": "topic_11"
         },
         {
          "day": 3,
          "hour": 15,
          "score": 13.99,
          "topic": "topic_11"
         },
         {
          "day": 3,
          "hour": 16,
          "score": 11.37,
          "topic": "topic_11"
         },
         {
          "day": 3,
          "hour": 17,
          "score": 8.05,
          "topic": "topic_11"
         },
         {
          "day": 3,
          "hour": 18,
          "score": 0,
          "topic": "topic_11"
         },
         {
          "day": 3,
          "hour": 19,
          "score": 2.9,
          "topic": "topic_11"
         },
         {
          "day": 3,
          "hour": 20,
          "score": 8.43,
          "topic": "topic_11"
         },
         {
          "day": 3,
          "hour": 21,
          "score": 16.58,
          "topic": "topic_11"
         },
         {
          "day": 3,
          "hour": 22,
          "score": 33.87,
          "topic": "topic_11"
         },
         {
          "day": 3,
          "hour": 23,
          "score": 2.36,
          "topic": "topic_11"
         },
         {
          "day": 4,
          "hour": 0,
          "score": 3.84,
          "topic": "topic_11"
         },
         {
          "day": 4,
          "hour": 1,
          "score": 32.83,
          "topic": "topic_11"
         },
         {
          "day": 4,
          "hour": 2,
          "score": 45.49,
          "topic": "topic_11"
         },
         {
          "day": 4,
          "hour": 3,
          "score": 54.67,
          "topic": "topic_11"
         },
         {
          "day": 4,
          "hour": 4,
          "score": 106.31,
          "topic": "topic_11"
         },
         {
          "day": 4,
          "hour": 5,
          "score": 103.96,
          "topic": "topic_11"
         },
         {
          "day": 4,
          "hour": 6,
          "score": 79.97,
          "topic": "topic_11"
         },
         {
          "day": 4,
          "hour": 7,
          "score": 26.05,
          "topic": "topic_11"
         },
         {
          "day": 4,
          "hour": 8,
          "score": 6.98,
          "topic": "topic_11"
         },
         {
          "day": 4,
          "hour": 9,
          "score": 7.61,
          "topic": "topic_11"
         },
         {
          "day": 4,
          "hour": 10,
          "score": 6.5,
          "topic": "topic_11"
         },
         {
          "day": 4,
          "hour": 11,
          "score": 11.18,
          "topic": "topic_11"
         },
         {
          "day": 4,
          "hour": 12,
          "score": 15.77,
          "topic": "topic_11"
         },
         {
          "day": 4,
          "hour": 13,
          "score": 17.51,
          "topic": "topic_11"
         },
         {
          "day": 4,
          "hour": 14,
          "score": 20.39,
          "topic": "topic_11"
         },
         {
          "day": 4,
          "hour": 15,
          "score": 21.13,
          "topic": "topic_11"
         },
         {
          "day": 4,
          "hour": 16,
          "score": 18.01,
          "topic": "topic_11"
         },
         {
          "day": 4,
          "hour": 17,
          "score": 14.68,
          "topic": "topic_11"
         },
         {
          "day": 4,
          "hour": 18,
          "score": 4.57,
          "topic": "topic_11"
         },
         {
          "day": 4,
          "hour": 19,
          "score": 15.07,
          "topic": "topic_11"
         },
         {
          "day": 4,
          "hour": 20,
          "score": 20.65,
          "topic": "topic_11"
         },
         {
          "day": 4,
          "hour": 21,
          "score": 21.48,
          "topic": "topic_11"
         },
         {
          "day": 4,
          "hour": 22,
          "score": 29.63,
          "topic": "topic_11"
         },
         {
          "day": 4,
          "hour": 23,
          "score": 1.24,
          "topic": "topic_11"
         },
         {
          "day": 5,
          "hour": 0,
          "score": 0,
          "topic": "topic_11"
         },
         {
          "day": 5,
          "hour": 1,
          "score": 26.93,
          "topic": "topic_11"
         },
         {
          "day": 5,
          "hour": 2,
          "score": 42.05,
          "topic": "topic_11"
         },
         {
          "day": 5,
          "hour": 3,
          "score": 52.45,
          "topic": "topic_11"
         },
         {
          "day": 5,
          "hour": 4,
          "score": 105.92,
          "topic": "topic_11"
         },
         {
          "day": 5,
          "hour": 5,
          "score": 105.06,
          "topic": "topic_11"
         },
         {
          "day": 5,
          "hour": 6,
          "score": 88.2,
          "topic": "topic_11"
         },
         {
          "day": 5,
          "hour": 7,
          "score": 68.67,
          "topic": "topic_11"
         },
         {
          "day": 5,
          "hour": 8,
          "score": 44.27,
          "topic": "topic_11"
         },
         {
          "day": 5,
          "hour": 9,
          "score": 20.49,
          "topic": "topic_11"
         },
         {
          "day": 5,
          "hour": 10,
          "score": 6.85,
          "topic": "topic_11"
         },
         {
          "day": 5,
          "hour": 11,
          "score": 0,
          "topic": "topic_11"
         },
         {
          "day": 5,
          "hour": 12,
          "score": 0,
          "topic": "topic_11"
         },
         {
          "day": 5,
          "hour": 13,
          "score": 0,
          "topic": "topic_11"
         },
         {
          "day": 5,
          "hour": 14,
          "score": 0,
          "topic": "topic_11"
         },
         {
          "day": 5,
          "hour": 15,
          "score": 0.03,
          "topic": "topic_11"
         },
         {
          "day": 5,
          "hour": 16,
          "score": 0,
          "topic": "topic_11"
         },
         {
          "day": 5,
          "hour": 17,
          "score": 0,
          "topic": "topic_11"
         },
         {
          "day": 5,
          "hour": 18,
          "score": 0,
          "topic": "topic_11"
         },
         {
          "day": 5,
          "hour": 19,
          "score": 0,
          "topic": "topic_11"
         },
         {
          "day": 5,
          "hour": 20,
          "score": 3.52,
          "topic": "topic_11"
         },
         {
          "day": 5,
          "hour": 21,
          "score": 18.27,
          "topic": "topic_11"
         },
         {
          "day": 5,
          "hour": 22,
          "score": 47.81,
          "topic": "topic_11"
         },
         {
          "day": 5,
          "hour": 23,
          "score": 12.44,
          "topic": "topic_11"
         },
         {
          "day": 6,
          "hour": 0,
          "score": 0,
          "topic": "topic_11"
         },
         {
          "day": 6,
          "hour": 1,
          "score": 19.5,
          "topic": "topic_11"
         },
         {
          "day": 6,
          "hour": 2,
          "score": 32.4,
          "topic": "topic_11"
         },
         {
          "day": 6,
          "hour": 3,
          "score": 41.82,
          "topic": "topic_11"
         },
         {
          "day": 6,
          "hour": 4,
          "score": 95.18,
          "topic": "topic_11"
         },
         {
          "day": 6,
          "hour": 5,
          "score": 92.88,
          "topic": "topic_11"
         },
         {
          "day": 6,
          "hour": 6,
          "score": 81.85,
          "topic": "topic_11"
         },
         {
          "day": 6,
          "hour": 7,
          "score": 69.57,
          "topic": "topic_11"
         },
         {
          "day": 6,
          "hour": 8,
          "score": 51.2,
          "topic": "topic_11"
         },
         {
          "day": 6,
          "hour": 9,
          "score": 32.63,
          "topic": "topic_11"
         },
         {
          "day": 6,
          "hour": 10,
          "score": 18.61,
          "topic": "topic_11"
         },
         {
          "day": 6,
          "hour": 11,
          "score": 5.85,
          "topic": "topic_11"
         },
         {
          "day": 6,
          "hour": 12,
          "score": 0,
          "topic": "topic_11"
         },
         {
          "day": 6,
          "hour": 13,
          "score": 0,
          "topic": "topic_11"
         },
         {
          "day": 6,
          "hour": 14,
          "score": 0,
          "topic": "topic_11"
         },
         {
          "day": 6,
          "hour": 15,
          "score": 0,
          "topic": "topic_11"
         },
         {
          "day": 6,
          "hour": 16,
          "score": 0,
          "topic": "topic_11"
         },
         {
          "day": 6,
          "hour": 17,
          "score": 0,
          "topic": "topic_11"
         },
         {
          "day": 6,
          "hour": 18,
          "score": 0,
          "topic": "topic_11"
         },
         {
          "day": 6,
          "hour": 19,
          "score": 0,
          "topic": "topic_11"
         },
         {
          "day": 6,
          "hour": 20,
          "score": 2.74,
          "topic": "topic_11"
         },
         {
          "day": 6,
          "hour": 21,
          "score": 23.28,
          "topic": "topic_11"
         },
         {
          "day": 6,
          "hour": 22,
          "score": 43.13,
          "topic": "topic_11"
         },
         {
          "day": 6,
          "hour": 23,
          "score": 9.24,
          "topic": "topic_11"
         }
        ]
       },
       "facet": {
        "row": {
         "field": "topic",
         "type": "nominal"
        }
       },
       "resolve": {
        "scale": {
         "color": "independent",
         "x": "independent",
         "y": "shared"
        }
       },
       "spec": {
        "encoding": {
         "color": {
          "field": "score",
          "legend": null,
          "type": "quantitative"
         },
         "x": {
          "axis": {
           "title": ""
          },
          "field": "hour",
          "type": "ordinal"
         },
         "y": {
          "axis": {
           "title": ""
          },
          "field": "day",
          "type": "ordinal"
         }
        },
        "height": 50,
        "mark": "rect",
        "width": 200
       }
      },
      "image/png": "[encoded data removed]",
      "text/plain": [
       "<VegaLite 2 object>\n",
       "\n",
       "If you see this message, it means the renderer has not been properly enabled\n",
       "for the frontend that you are using. For more information, see\n",
       "https://altair-viz.github.io/user_guide/troubleshooting.html\n"
      ]
     },
     "execution_count": 69,
     "metadata": {},
     "output_type": "execute_result"
    }
   ],
   "source": [
    "alt.Chart(df_topic)\\\n",
    ".mark_rect()\\\n",
    ".encode(\n",
    "    alt.X('hour:O', axis=alt.Axis(title='')),\n",
    "    alt.Y('day:O', axis=alt.Axis(title='')),\n",
    "    color=alt.Color('score:Q', legend=None)\n",
    ")\\\n",
    ".properties(width=200, height=50)\\\n",
    ".facet(row='topic:N')\\\n",
    ".resolve_scale(color='independent', x='independent')"
   ]
  },
  {
   "cell_type": "markdown",
   "metadata": {},
   "source": [
    "## Mapping Topics\n",
    "\n",
    "We'd like to see where these topics are located in Seoul. So we are going to make a choropleth map with these topics. \n",
    "\n",
    "You can download Polygons for Seoul's census tracts from here:\n",
    "\n",
    "https://data.seoul.go.kr/together/statbook/fileDownload.do?cotCd=999&filename=%ED%86%B5%EA%B3%84%EC%A7%80%EC%97%AD%EA%B2%BD%EA%B3%84(2016%EB%85%84%20%EA%B8%B0%EC%A4%80).zip\n",
    "\n",
    "Unzip the zipped shapefile in the raw data folder.\n",
    "Its columns are:\n",
    "\n",
    "* census tract ID\n",
    "* neighborhood name\n",
    "* neighborhood code\n",
    "* geometry"
   ]
  },
  {
   "cell_type": "code",
   "execution_count": 70,
   "metadata": {},
   "outputs": [
    {
     "data": {
      "text/html": [
       "<div>\n",
       "<style scoped>\n",
       "    .dataframe tbody tr th:only-of-type {\n",
       "        vertical-align: middle;\n",
       "    }\n",
       "\n",
       "    .dataframe tbody tr th {\n",
       "        vertical-align: top;\n",
       "    }\n",
       "\n",
       "    .dataframe thead th {\n",
       "        text-align: right;\n",
       "    }\n",
       "</style>\n",
       "<table border=\"1\" class=\"dataframe\">\n",
       "  <thead>\n",
       "    <tr style=\"text-align: right;\">\n",
       "      <th></th>\n",
       "      <th>TOT_REG_CD</th>\n",
       "      <th>ADM_NM</th>\n",
       "      <th>ADM_CD</th>\n",
       "      <th>geometry</th>\n",
       "    </tr>\n",
       "  </thead>\n",
       "  <tbody>\n",
       "    <tr>\n",
       "      <th>0</th>\n",
       "      <td>1101053010006</td>\n",
       "      <td>사직동</td>\n",
       "      <td>1101053</td>\n",
       "      <td>POLYGON ((953231.9682865143 1953435.865716934,...</td>\n",
       "    </tr>\n",
       "    <tr>\n",
       "      <th>1</th>\n",
       "      <td>1101053010001</td>\n",
       "      <td>사직동</td>\n",
       "      <td>1101053</td>\n",
       "      <td>POLYGON ((952858.5655841827 1952976.274114609,...</td>\n",
       "    </tr>\n",
       "    <tr>\n",
       "      <th>2</th>\n",
       "      <td>1101053010003</td>\n",
       "      <td>사직동</td>\n",
       "      <td>1101053</td>\n",
       "      <td>POLYGON ((952889.1776866913 1953405.245515823,...</td>\n",
       "    </tr>\n",
       "    <tr>\n",
       "      <th>3</th>\n",
       "      <td>1101053010002</td>\n",
       "      <td>사직동</td>\n",
       "      <td>1101053</td>\n",
       "      <td>POLYGON ((953093.8012866974 1953337.962316513,...</td>\n",
       "    </tr>\n",
       "    <tr>\n",
       "      <th>4</th>\n",
       "      <td>1101053010005</td>\n",
       "      <td>사직동</td>\n",
       "      <td>1101053</td>\n",
       "      <td>POLYGON ((953553.9324855804 1953335.741514206,...</td>\n",
       "    </tr>\n",
       "  </tbody>\n",
       "</table>\n",
       "</div>"
      ],
      "text/plain": [
       "      TOT_REG_CD ADM_NM   ADM_CD  \\\n",
       "0  1101053010006    사직동  1101053   \n",
       "1  1101053010001    사직동  1101053   \n",
       "2  1101053010003    사직동  1101053   \n",
       "3  1101053010002    사직동  1101053   \n",
       "4  1101053010005    사직동  1101053   \n",
       "\n",
       "                                            geometry  \n",
       "0  POLYGON ((953231.9682865143 1953435.865716934,...  \n",
       "1  POLYGON ((952858.5655841827 1952976.274114609,...  \n",
       "2  POLYGON ((952889.1776866913 1953405.245515823,...  \n",
       "3  POLYGON ((953093.8012866974 1953337.962316513,...  \n",
       "4  POLYGON ((953553.9324855804 1953335.741514206,...  "
      ]
     },
     "execution_count": 70,
     "metadata": {},
     "output_type": "execute_result"
    }
   ],
   "source": [
    "map_census = gpd.read_file(\"../data/raw/geo/census.shp\")\n",
    "map_census.crs = \"+proj=tmerc +lat_0=38 +lon_0=127.5 +k=0.9996 +x_0=1000000 +y_0=2000000 +ellps=GRS80 +units=m +no_defs\"\n",
    "map_census.head()"
   ]
  },
  {
   "cell_type": "markdown",
   "metadata": {},
   "source": [
    "Convert basis matrix to dataframe so that each census has columns for topic coefficients."
   ]
  },
  {
   "cell_type": "code",
   "execution_count": 71,
   "metadata": {},
   "outputs": [
    {
     "data": {
      "text/html": [
       "<div>\n",
       "<style scoped>\n",
       "    .dataframe tbody tr th:only-of-type {\n",
       "        vertical-align: middle;\n",
       "    }\n",
       "\n",
       "    .dataframe tbody tr th {\n",
       "        vertical-align: top;\n",
       "    }\n",
       "\n",
       "    .dataframe thead th {\n",
       "        text-align: right;\n",
       "    }\n",
       "</style>\n",
       "<table border=\"1\" class=\"dataframe\">\n",
       "  <thead>\n",
       "    <tr style=\"text-align: right;\">\n",
       "      <th></th>\n",
       "      <th>topic_0</th>\n",
       "      <th>topic_1</th>\n",
       "      <th>topic_2</th>\n",
       "      <th>topic_3</th>\n",
       "      <th>topic_4</th>\n",
       "      <th>topic_5</th>\n",
       "      <th>topic_6</th>\n",
       "      <th>topic_7</th>\n",
       "      <th>topic_8</th>\n",
       "      <th>topic_9</th>\n",
       "      <th>topic_10</th>\n",
       "      <th>topic_11</th>\n",
       "      <th>census</th>\n",
       "    </tr>\n",
       "  </thead>\n",
       "  <tbody>\n",
       "    <tr>\n",
       "      <th>0</th>\n",
       "      <td>0.177629</td>\n",
       "      <td>0.706659</td>\n",
       "      <td>0.374705</td>\n",
       "      <td>0.325266</td>\n",
       "      <td>0.244808</td>\n",
       "      <td>0.349109</td>\n",
       "      <td>0.031095</td>\n",
       "      <td>0.126428</td>\n",
       "      <td>0.123080</td>\n",
       "      <td>0.094718</td>\n",
       "      <td>0.000000</td>\n",
       "      <td>0.000000</td>\n",
       "      <td>1101053010001</td>\n",
       "    </tr>\n",
       "    <tr>\n",
       "      <th>1</th>\n",
       "      <td>0.334651</td>\n",
       "      <td>0.518651</td>\n",
       "      <td>0.298780</td>\n",
       "      <td>0.323858</td>\n",
       "      <td>0.327339</td>\n",
       "      <td>0.199507</td>\n",
       "      <td>0.076879</td>\n",
       "      <td>0.448972</td>\n",
       "      <td>0.085719</td>\n",
       "      <td>0.109392</td>\n",
       "      <td>0.150954</td>\n",
       "      <td>0.168270</td>\n",
       "      <td>1101053010002</td>\n",
       "    </tr>\n",
       "    <tr>\n",
       "      <th>2</th>\n",
       "      <td>0.387054</td>\n",
       "      <td>0.540082</td>\n",
       "      <td>0.396482</td>\n",
       "      <td>0.189144</td>\n",
       "      <td>0.263976</td>\n",
       "      <td>0.176775</td>\n",
       "      <td>0.078375</td>\n",
       "      <td>0.466827</td>\n",
       "      <td>0.073540</td>\n",
       "      <td>0.075557</td>\n",
       "      <td>0.049871</td>\n",
       "      <td>0.164072</td>\n",
       "      <td>1101053010003</td>\n",
       "    </tr>\n",
       "    <tr>\n",
       "      <th>3</th>\n",
       "      <td>0.707780</td>\n",
       "      <td>0.256966</td>\n",
       "      <td>0.351261</td>\n",
       "      <td>0.256869</td>\n",
       "      <td>0.289090</td>\n",
       "      <td>0.187158</td>\n",
       "      <td>0.162973</td>\n",
       "      <td>0.141397</td>\n",
       "      <td>0.120227</td>\n",
       "      <td>0.060148</td>\n",
       "      <td>0.241695</td>\n",
       "      <td>0.044794</td>\n",
       "      <td>1101053010004</td>\n",
       "    </tr>\n",
       "    <tr>\n",
       "      <th>4</th>\n",
       "      <td>0.699100</td>\n",
       "      <td>0.224962</td>\n",
       "      <td>0.232486</td>\n",
       "      <td>0.314731</td>\n",
       "      <td>0.186290</td>\n",
       "      <td>0.088736</td>\n",
       "      <td>0.081456</td>\n",
       "      <td>0.479697</td>\n",
       "      <td>0.078820</td>\n",
       "      <td>0.075605</td>\n",
       "      <td>0.126274</td>\n",
       "      <td>0.018687</td>\n",
       "      <td>1101053010005</td>\n",
       "    </tr>\n",
       "  </tbody>\n",
       "</table>\n",
       "</div>"
      ],
      "text/plain": [
       "    topic_0   topic_1   topic_2   topic_3   topic_4   topic_5   topic_6  \\\n",
       "0  0.177629  0.706659  0.374705  0.325266  0.244808  0.349109  0.031095   \n",
       "1  0.334651  0.518651  0.298780  0.323858  0.327339  0.199507  0.076879   \n",
       "2  0.387054  0.540082  0.396482  0.189144  0.263976  0.176775  0.078375   \n",
       "3  0.707780  0.256966  0.351261  0.256869  0.289090  0.187158  0.162973   \n",
       "4  0.699100  0.224962  0.232486  0.314731  0.186290  0.088736  0.081456   \n",
       "\n",
       "    topic_7   topic_8   topic_9  topic_10  topic_11         census  \n",
       "0  0.126428  0.123080  0.094718  0.000000  0.000000  1101053010001  \n",
       "1  0.448972  0.085719  0.109392  0.150954  0.168270  1101053010002  \n",
       "2  0.466827  0.073540  0.075557  0.049871  0.164072  1101053010003  \n",
       "3  0.141397  0.120227  0.060148  0.241695  0.044794  1101053010004  \n",
       "4  0.479697  0.078820  0.075605  0.126274  0.018687  1101053010005  "
      ]
     },
     "execution_count": 71,
     "metadata": {},
     "output_type": "execute_result"
    }
   ],
   "source": [
    "# row-wise normalization \n",
    "df_census = pd.DataFrame(\n",
    "    normalize(basis, norm='l2', axis=1)\n",
    ")\n",
    "\n",
    "#df_census = pd.DataFrame(basis)\n",
    "df_census.columns = [\"topic_{}\".format(i) for i in list(df_census.columns)]\n",
    "df_census['census'] = list(df_pop_wide.index)\n",
    "df_census['census'] = df_census['census'].apply(str)\n",
    "df_census.head()"
   ]
  },
  {
   "cell_type": "markdown",
   "metadata": {},
   "source": [
    "Join the two dataframe into one. "
   ]
  },
  {
   "cell_type": "code",
   "execution_count": 72,
   "metadata": {},
   "outputs": [],
   "source": [
    "df_map = pd.merge(map_census, df_census, right_on='census', left_on='TOT_REG_CD')\n",
    "df_map.drop(columns=['TOT_REG_CD', 'ADM_CD'], inplace=True)"
   ]
  },
  {
   "cell_type": "markdown",
   "metadata": {},
   "source": [
    "### plots"
   ]
  },
  {
   "cell_type": "markdown",
   "metadata": {},
   "source": [
    "Topic 0 is for weekday daytime activities. We can see the central business districts such as Jongro, Yeouido, and Teheran street. For more topics, use the web application.\n",
    "\n",
    "https://s3.amazonaws.com/seoul-topics/www/index.html"
   ]
  },
  {
   "cell_type": "code",
   "execution_count": 73,
   "metadata": {},
   "outputs": [
    {
     "data": {
      "text/plain": [
       "<matplotlib.axes._subplots.AxesSubplot at 0x12278fd30>"
      ]
     },
     "execution_count": 73,
     "metadata": {},
     "output_type": "execute_result"
    },
    {
     "data": {
      "image/png": "[encoded data removed]",
      "text/plain": [
       "<Figure size 576x576 with 1 Axes>"
      ]
     },
     "metadata": {
      "needs_background": "light"
     },
     "output_type": "display_data"
    }
   ],
   "source": [
    "df_map.plot(column='topic_0', figsize=(8,8))"
   ]
  },
  {
   "cell_type": "markdown",
   "metadata": {},
   "source": [
    "Topic 8 is for weekend nights. Nightlife streets such as Itaewon, Hongdae, Gangnam are hihglighted."
   ]
  },
  {
   "cell_type": "code",
   "execution_count": 75,
   "metadata": {},
   "outputs": [
    {
     "data": {
      "text/plain": [
       "<matplotlib.axes._subplots.AxesSubplot at 0x1264d6b00>"
      ]
     },
     "execution_count": 75,
     "metadata": {},
     "output_type": "execute_result"
    },
    {
     "data": {
      "image/png": "[encoded data removed]",
      "text/plain": [
       "<Figure size 576x576 with 1 Axes>"
      ]
     },
     "metadata": {
      "needs_background": "light"
     },
     "output_type": "display_data"
    }
   ],
   "source": [
    "df_map.plot(column='topic_8', figsize=(8,8))"
   ]
  },
  {
   "cell_type": "markdown",
   "metadata": {},
   "source": [
    "## Generate datasets for web mapping application\n"
   ]
  },
  {
   "cell_type": "markdown",
   "metadata": {},
   "source": [
    "### Geojson"
   ]
  },
  {
   "cell_type": "code",
   "execution_count": 77,
   "metadata": {},
   "outputs": [],
   "source": [
    "# chagne crs to epsg:4326\n",
    "df_map_wgs = df_map.to_crs({'init': 'epsg:4326'})\n",
    "\n",
    "# export geopandas dataframe to geojson\n",
    "geojson = \"../data/processed/census-topic.geojson\"\n",
    "if os.path.exists(geojson):\n",
    "    os.remove(geojson)\n",
    "df_map_wgs.to_file(geojson, driver=\"GeoJSON\")"
   ]
  },
  {
   "cell_type": "markdown",
   "metadata": {},
   "source": [
    "### Generate vector tiles from the geojson file\n",
    "\n",
    "- Create mbtiles using tippecanoe and \n",
    "- unzip tiles with mb-util. \n",
    "- Then upload the tiles to S3.\n",
    "\n",
    "```\n",
    "cd ../data/processed\n",
    "tippecanoe -o census-topic.mbtiles -Z9 -z14 -S12 -ab -pk -pC  census-topic.geojson -f\n",
    "rm -rf tile\n",
    "mb-util census-topic.mbtiles tile --image_format=pbf\n",
    "aws s3 sync tile s3://seoul-topics/tile\n",
    "```"
   ]
  },
  {
   "cell_type": "markdown",
   "metadata": {},
   "source": [
    "### max value table for web app"
   ]
  },
  {
   "cell_type": "code",
   "execution_count": 79,
   "metadata": {},
   "outputs": [
    {
     "data": {
      "text/plain": [
       "'{\"topic_0\":0.9943492393,\"topic_1\":0.9918785849,\"topic_2\":0.9661029279,\"topic_3\":0.9750761776,\"topic_4\":0.8267151792,\"topic_5\":0.9776842157,\"topic_6\":0.4393191338,\"topic_7\":0.9576359052,\"topic_8\":0.89564641,\"topic_9\":0.5724851274,\"topic_10\":0.6931789802,\"topic_11\":0.8765073608}'"
      ]
     },
     "execution_count": 79,
     "metadata": {},
     "output_type": "execute_result"
    }
   ],
   "source": [
    "df_map_wgs.drop(columns='ADM_NM').max(axis=0).to_json()"
   ]
  },
  {
   "cell_type": "markdown",
   "metadata": {},
   "source": [
    "### Web Application\n",
    "https://s3.amazonaws.com/seoul-topics/www/index.html"
   ]
  }
 ],
 "metadata": {
  "kernelspec": {
   "display_name": "Python 3",
   "language": "python",
   "name": "python3"
  },
  "language_info": {
   "codemirror_mode": {
    "name": "ipython",
    "version": 3
   },
   "file_extension": ".py",
   "mimetype": "text/x-python",
   "name": "python",
   "nbconvert_exporter": "python",
   "pygments_lexer": "ipython3",
   "version": "3.6.4"
  }
 },
 "nbformat": 4,
 "nbformat_minor": 2
}
