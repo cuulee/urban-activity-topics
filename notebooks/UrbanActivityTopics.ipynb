{
 "cells": [
  {
   "cell_type": "markdown",
   "metadata": {},
   "source": [
    "# Urban Activity Topics "
   ]
  },
  {
   "cell_type": "code",
   "execution_count": 20,
   "metadata": {},
   "outputs": [],
   "source": [
    "import os\n",
    "import glob\n",
    "import datetime\n",
    "\n",
    "import numpy as np\n",
    "import pandas as pd\n",
    "import geopandas as gpd\n",
    "\n",
    "from sklearn.decomposition import NMF\n",
    "from sklearn.preprocessing import normalize\n",
    "import altair as alt"
   ]
  },
  {
   "cell_type": "markdown",
   "metadata": {},
   "source": [
    "## Hourly population data\n",
    "\n",
    "City of Seoul publishes dataset for estimated hourly population for each census tract (total 19153) collaborating with a major cell phone carrier company. \n",
    "We are going to use September 2018 data (LOCAL_PEOPLE_201809.zip) from the url below.\n",
    "\n",
    "https://data.seoul.go.kr/dataList/datasetView.do?infId=OA-14979&srvType=F&serviceKind=1&currentPageNo=1&searchValue=&searchKey=null\n",
    "\n",
    "Download the file and unzip in the raw data folder. In the zip fle, one day's estimated popuation for each hour is saved as a csv file for each day. Let's look at one of the csv files.\n",
    "\n",
    "Here's the column info.\n",
    "* date (yyyymmdd), \n",
    "* hour\n",
    "* neighborhood code\n",
    "* census tract code \n",
    "* estimated population\n",
    "* estimated population male 0-9\n",
    "\n",
    "...\n",
    "\n",
    "* estimated population female >=70"
   ]
  },
  {
   "cell_type": "code",
   "execution_count": 2,
   "metadata": {},
   "outputs": [
    {
     "data": {
      "text/html": [
       "<div>\n",
       "<style scoped>\n",
       "    .dataframe tbody tr th:only-of-type {\n",
       "        vertical-align: middle;\n",
       "    }\n",
       "\n",
       "    .dataframe tbody tr th {\n",
       "        vertical-align: top;\n",
       "    }\n",
       "\n",
       "    .dataframe thead th {\n",
       "        text-align: right;\n",
       "    }\n",
       "</style>\n",
       "<table border=\"1\" class=\"dataframe\">\n",
       "  <thead>\n",
       "    <tr style=\"text-align: right;\">\n",
       "      <th></th>\n",
       "      <th>기준일ID</th>\n",
       "      <th>시간대구분</th>\n",
       "      <th>행정동코드</th>\n",
       "      <th>집계구코드</th>\n",
       "      <th>총생활인구수</th>\n",
       "      <th>남자0세부터9세생활인구수</th>\n",
       "      <th>남자10세부터14세생활인구수</th>\n",
       "      <th>남자15세부터19세생활인구수</th>\n",
       "      <th>남자20세부터24세생활인구수</th>\n",
       "      <th>남자25세부터29세생활인구수</th>\n",
       "      <th>...</th>\n",
       "      <th>여자25세부터29세생활인구수</th>\n",
       "      <th>여자30세부터34세생활인구수</th>\n",
       "      <th>여자35세부터39세생활인구수</th>\n",
       "      <th>여자40세부터44세생활인구수</th>\n",
       "      <th>여자45세부터49세생활인구수</th>\n",
       "      <th>여자50세부터54세생활인구수</th>\n",
       "      <th>여자55세부터59세생활인구수</th>\n",
       "      <th>여자60세부터64세생활인구수</th>\n",
       "      <th>여자65세부터69세생활인구수</th>\n",
       "      <th>여자70세이상생활인구수</th>\n",
       "    </tr>\n",
       "  </thead>\n",
       "  <tbody>\n",
       "    <tr>\n",
       "      <th>0</th>\n",
       "      <td>20181005</td>\n",
       "      <td>7</td>\n",
       "      <td>11260610</td>\n",
       "      <td>1107062010002</td>\n",
       "      <td>445.0</td>\n",
       "      <td>17</td>\n",
       "      <td>7</td>\n",
       "      <td>8</td>\n",
       "      <td>11</td>\n",
       "      <td>12</td>\n",
       "      <td>...</td>\n",
       "      <td>21</td>\n",
       "      <td>19</td>\n",
       "      <td>15</td>\n",
       "      <td>16</td>\n",
       "      <td>22</td>\n",
       "      <td>25</td>\n",
       "      <td>20</td>\n",
       "      <td>16</td>\n",
       "      <td>11</td>\n",
       "      <td>34</td>\n",
       "    </tr>\n",
       "    <tr>\n",
       "      <th>1</th>\n",
       "      <td>20181005</td>\n",
       "      <td>23</td>\n",
       "      <td>11260610</td>\n",
       "      <td>1107062010004</td>\n",
       "      <td>505.0</td>\n",
       "      <td>19</td>\n",
       "      <td>8</td>\n",
       "      <td>7</td>\n",
       "      <td>13</td>\n",
       "      <td>20</td>\n",
       "      <td>...</td>\n",
       "      <td>11</td>\n",
       "      <td>18</td>\n",
       "      <td>17</td>\n",
       "      <td>11</td>\n",
       "      <td>17</td>\n",
       "      <td>19</td>\n",
       "      <td>24</td>\n",
       "      <td>21</td>\n",
       "      <td>13</td>\n",
       "      <td>55</td>\n",
       "    </tr>\n",
       "    <tr>\n",
       "      <th>2</th>\n",
       "      <td>20181005</td>\n",
       "      <td>13</td>\n",
       "      <td>11260610</td>\n",
       "      <td>1107062010005</td>\n",
       "      <td>175.0</td>\n",
       "      <td>7</td>\n",
       "      <td>*</td>\n",
       "      <td>6</td>\n",
       "      <td>*</td>\n",
       "      <td>4</td>\n",
       "      <td>...</td>\n",
       "      <td>4</td>\n",
       "      <td>5</td>\n",
       "      <td>4</td>\n",
       "      <td>5</td>\n",
       "      <td>5</td>\n",
       "      <td>8</td>\n",
       "      <td>10</td>\n",
       "      <td>5</td>\n",
       "      <td>5</td>\n",
       "      <td>24</td>\n",
       "    </tr>\n",
       "    <tr>\n",
       "      <th>3</th>\n",
       "      <td>20181005</td>\n",
       "      <td>15</td>\n",
       "      <td>11440630</td>\n",
       "      <td>1114063040403</td>\n",
       "      <td>39.0</td>\n",
       "      <td>*</td>\n",
       "      <td>*</td>\n",
       "      <td>*</td>\n",
       "      <td>*</td>\n",
       "      <td>*</td>\n",
       "      <td>...</td>\n",
       "      <td>*</td>\n",
       "      <td>*</td>\n",
       "      <td>*</td>\n",
       "      <td>*</td>\n",
       "      <td>*</td>\n",
       "      <td>*</td>\n",
       "      <td>*</td>\n",
       "      <td>*</td>\n",
       "      <td>*</td>\n",
       "      <td>*</td>\n",
       "    </tr>\n",
       "    <tr>\n",
       "      <th>4</th>\n",
       "      <td>20181005</td>\n",
       "      <td>18</td>\n",
       "      <td>11140680</td>\n",
       "      <td>1102068010401</td>\n",
       "      <td>137.0</td>\n",
       "      <td>*</td>\n",
       "      <td>*</td>\n",
       "      <td>*</td>\n",
       "      <td>*</td>\n",
       "      <td>6</td>\n",
       "      <td>...</td>\n",
       "      <td>*</td>\n",
       "      <td>7</td>\n",
       "      <td>18</td>\n",
       "      <td>8</td>\n",
       "      <td>*</td>\n",
       "      <td>4</td>\n",
       "      <td>5</td>\n",
       "      <td>*</td>\n",
       "      <td>4</td>\n",
       "      <td>9</td>\n",
       "    </tr>\n",
       "  </tbody>\n",
       "</table>\n",
       "<p>5 rows × 33 columns</p>\n",
       "</div>"
      ],
      "text/plain": [
       "      기준일ID  시간대구분     행정동코드          집계구코드  총생활인구수 남자0세부터9세생활인구수  \\\n",
       "0  20181005      7  11260610  1107062010002   445.0            17   \n",
       "1  20181005     23  11260610  1107062010004   505.0            19   \n",
       "2  20181005     13  11260610  1107062010005   175.0             7   \n",
       "3  20181005     15  11440630  1114063040403    39.0             *   \n",
       "4  20181005     18  11140680  1102068010401   137.0             *   \n",
       "\n",
       "  남자10세부터14세생활인구수 남자15세부터19세생활인구수 남자20세부터24세생활인구수 남자25세부터29세생활인구수  \\\n",
       "0               7               8              11              12   \n",
       "1               8               7              13              20   \n",
       "2               *               6               *               4   \n",
       "3               *               *               *               *   \n",
       "4               *               *               *               6   \n",
       "\n",
       "      ...      여자25세부터29세생활인구수 여자30세부터34세생활인구수 여자35세부터39세생활인구수  \\\n",
       "0     ...                   21              19              15   \n",
       "1     ...                   11              18              17   \n",
       "2     ...                    4               5               4   \n",
       "3     ...                    *               *               *   \n",
       "4     ...                    *               7              18   \n",
       "\n",
       "  여자40세부터44세생활인구수 여자45세부터49세생활인구수 여자50세부터54세생활인구수 여자55세부터59세생활인구수  \\\n",
       "0              16              22              25              20   \n",
       "1              11              17              19              24   \n",
       "2               5               5               8              10   \n",
       "3               *               *               *               *   \n",
       "4               8               *               4               5   \n",
       "\n",
       "  여자60세부터64세생활인구수 여자65세부터69세생활인구수 여자70세이상생활인구수  \n",
       "0              16              11           34  \n",
       "1              21              13           55  \n",
       "2               5               5           24  \n",
       "3               *               *            *  \n",
       "4               *               4            9  \n",
       "\n",
       "[5 rows x 33 columns]"
      ]
     },
     "execution_count": 2,
     "metadata": {},
     "output_type": "execute_result"
    }
   ],
   "source": [
    "filename = \"../data/raw/LOCAL_PEOPLE_20181005.csv\"\n",
    "pop = pd.read_csv(filename)\n",
    "pop.head()"
   ]
  },
  {
   "cell_type": "markdown",
   "metadata": {},
   "source": [
    "## Merge the csv files into one dataframe\n",
    "Sep 25, 26, 27 are missed. Don't know the reason."
   ]
  },
  {
   "cell_type": "code",
   "execution_count": 3,
   "metadata": {},
   "outputs": [
    {
     "data": {
      "text/plain": [
       "27"
      ]
     },
     "execution_count": 3,
     "metadata": {},
     "output_type": "execute_result"
    }
   ],
   "source": [
    "csv_files = glob.glob(\"../data/raw/LOCAL_PEOPLE_201809/*.csv\")\n",
    "len(csv_files)"
   ]
  },
  {
   "cell_type": "markdown",
   "metadata": {},
   "source": [
    "A function reading a csv and extract date, hour, census tract and population. This function will be applied to the list of csv files."
   ]
  },
  {
   "cell_type": "code",
   "execution_count": null,
   "metadata": {},
   "outputs": [],
   "source": [
    "def read_population(raw_file):\n",
    "    ped = pd.read_csv(raw_file)[[\"기준일ID\", \"시간대구분\", \"집계구코드\", \"총생활인구수\"]]\n",
    "    ped.columns = ['date', 'time', 'census', 'pop']\n",
    "    return ped\n",
    "\n",
    "df_pop = pd.concat(map(read_population, csv_files))"
   ]
  },
  {
   "cell_type": "code",
   "execution_count": 12,
   "metadata": {},
   "outputs": [
    {
     "data": {
      "text/html": [
       "<div>\n",
       "<style scoped>\n",
       "    .dataframe tbody tr th:only-of-type {\n",
       "        vertical-align: middle;\n",
       "    }\n",
       "\n",
       "    .dataframe tbody tr th {\n",
       "        vertical-align: top;\n",
       "    }\n",
       "\n",
       "    .dataframe thead th {\n",
       "        text-align: right;\n",
       "    }\n",
       "</style>\n",
       "<table border=\"1\" class=\"dataframe\">\n",
       "  <thead>\n",
       "    <tr style=\"text-align: right;\">\n",
       "      <th></th>\n",
       "      <th>date</th>\n",
       "      <th>time</th>\n",
       "      <th>census</th>\n",
       "      <th>pop</th>\n",
       "      <th>timeslot</th>\n",
       "    </tr>\n",
       "  </thead>\n",
       "  <tbody>\n",
       "    <tr>\n",
       "      <th>0</th>\n",
       "      <td>20180917</td>\n",
       "      <td>15</td>\n",
       "      <td>1120071050005</td>\n",
       "      <td>1.0</td>\n",
       "      <td>D0T15</td>\n",
       "    </tr>\n",
       "    <tr>\n",
       "      <th>1</th>\n",
       "      <td>20180917</td>\n",
       "      <td>2</td>\n",
       "      <td>1107069020203</td>\n",
       "      <td>29.0</td>\n",
       "      <td>D0T02</td>\n",
       "    </tr>\n",
       "    <tr>\n",
       "      <th>2</th>\n",
       "      <td>20180917</td>\n",
       "      <td>18</td>\n",
       "      <td>1104068010006</td>\n",
       "      <td>23.0</td>\n",
       "      <td>D0T18</td>\n",
       "    </tr>\n",
       "    <tr>\n",
       "      <th>3</th>\n",
       "      <td>20180917</td>\n",
       "      <td>10</td>\n",
       "      <td>1120069010016</td>\n",
       "      <td>15.0</td>\n",
       "      <td>D0T10</td>\n",
       "    </tr>\n",
       "    <tr>\n",
       "      <th>4</th>\n",
       "      <td>20180917</td>\n",
       "      <td>14</td>\n",
       "      <td>1108083030005</td>\n",
       "      <td>157.0</td>\n",
       "      <td>D0T14</td>\n",
       "    </tr>\n",
       "  </tbody>\n",
       "</table>\n",
       "</div>"
      ],
      "text/plain": [
       "       date  time         census    pop timeslot\n",
       "0  20180917    15  1120071050005    1.0    D0T15\n",
       "1  20180917     2  1107069020203   29.0    D0T02\n",
       "2  20180917    18  1104068010006   23.0    D0T18\n",
       "3  20180917    10  1120069010016   15.0    D0T10\n",
       "4  20180917    14  1108083030005  157.0    D0T14"
      ]
     },
     "execution_count": 12,
     "metadata": {},
     "output_type": "execute_result"
    }
   ],
   "source": [
    "df_pop.head()"
   ]
  },
  {
   "cell_type": "markdown",
   "metadata": {},
   "source": [
    "## Aggregate data by timeslots\n",
    "Hourly estimated population will be aggregated by 128 timeslots (7day * 24hour). We will use mean for each time slot. Then convert it to a wide format to make a matrix for NMF.\n",
    "\n",
    "Day 0: Monday,..., Day5:Saturday, Day6: Sunday"
   ]
  },
  {
   "cell_type": "code",
   "execution_count": 6,
   "metadata": {},
   "outputs": [],
   "source": [
    "# add timeslot\n",
    "df_pop['timeslot'] = (pd.to_datetime(df_pop['date'], format='%Y%m%d').dt.dayofweek)\\\n",
    ".map('D{}'.format).str.cat(df_pop['time'].map('T{:02d}'.format))"
   ]
  },
  {
   "cell_type": "code",
   "execution_count": 7,
   "metadata": {},
   "outputs": [
    {
     "data": {
      "text/html": [
       "<div>\n",
       "<style scoped>\n",
       "    .dataframe tbody tr th:only-of-type {\n",
       "        vertical-align: middle;\n",
       "    }\n",
       "\n",
       "    .dataframe tbody tr th {\n",
       "        vertical-align: top;\n",
       "    }\n",
       "\n",
       "    .dataframe thead th {\n",
       "        text-align: right;\n",
       "    }\n",
       "</style>\n",
       "<table border=\"1\" class=\"dataframe\">\n",
       "  <thead>\n",
       "    <tr style=\"text-align: right;\">\n",
       "      <th>timeslot</th>\n",
       "      <th>D0T00</th>\n",
       "      <th>D0T01</th>\n",
       "      <th>D0T02</th>\n",
       "      <th>D0T03</th>\n",
       "      <th>D0T04</th>\n",
       "      <th>D0T05</th>\n",
       "      <th>D0T06</th>\n",
       "      <th>D0T07</th>\n",
       "      <th>D0T08</th>\n",
       "      <th>D0T09</th>\n",
       "      <th>...</th>\n",
       "      <th>D6T14</th>\n",
       "      <th>D6T15</th>\n",
       "      <th>D6T16</th>\n",
       "      <th>D6T17</th>\n",
       "      <th>D6T18</th>\n",
       "      <th>D6T19</th>\n",
       "      <th>D6T20</th>\n",
       "      <th>D6T21</th>\n",
       "      <th>D6T22</th>\n",
       "      <th>D6T23</th>\n",
       "    </tr>\n",
       "    <tr>\n",
       "      <th>census</th>\n",
       "      <th></th>\n",
       "      <th></th>\n",
       "      <th></th>\n",
       "      <th></th>\n",
       "      <th></th>\n",
       "      <th></th>\n",
       "      <th></th>\n",
       "      <th></th>\n",
       "      <th></th>\n",
       "      <th></th>\n",
       "      <th></th>\n",
       "      <th></th>\n",
       "      <th></th>\n",
       "      <th></th>\n",
       "      <th></th>\n",
       "      <th></th>\n",
       "      <th></th>\n",
       "      <th></th>\n",
       "      <th></th>\n",
       "      <th></th>\n",
       "      <th></th>\n",
       "    </tr>\n",
       "  </thead>\n",
       "  <tbody>\n",
       "    <tr>\n",
       "      <th>1101053010001</th>\n",
       "      <td>311.25</td>\n",
       "      <td>294.25</td>\n",
       "      <td>284.00</td>\n",
       "      <td>278.50</td>\n",
       "      <td>208.75</td>\n",
       "      <td>205.25</td>\n",
       "      <td>222.25</td>\n",
       "      <td>240.00</td>\n",
       "      <td>214.50</td>\n",
       "      <td>215.00</td>\n",
       "      <td>...</td>\n",
       "      <td>290.8</td>\n",
       "      <td>314.0</td>\n",
       "      <td>310.6</td>\n",
       "      <td>330.0</td>\n",
       "      <td>334.4</td>\n",
       "      <td>325.0</td>\n",
       "      <td>319.2</td>\n",
       "      <td>287.0</td>\n",
       "      <td>272.0</td>\n",
       "      <td>296.6</td>\n",
       "    </tr>\n",
       "    <tr>\n",
       "      <th>1101053010002</th>\n",
       "      <td>1352.50</td>\n",
       "      <td>1370.25</td>\n",
       "      <td>1377.50</td>\n",
       "      <td>1386.25</td>\n",
       "      <td>1382.00</td>\n",
       "      <td>1412.50</td>\n",
       "      <td>1482.25</td>\n",
       "      <td>1707.50</td>\n",
       "      <td>1731.75</td>\n",
       "      <td>1781.75</td>\n",
       "      <td>...</td>\n",
       "      <td>1945.8</td>\n",
       "      <td>1918.0</td>\n",
       "      <td>1927.2</td>\n",
       "      <td>1958.8</td>\n",
       "      <td>2000.6</td>\n",
       "      <td>1927.4</td>\n",
       "      <td>1921.0</td>\n",
       "      <td>1743.8</td>\n",
       "      <td>1620.2</td>\n",
       "      <td>1366.0</td>\n",
       "    </tr>\n",
       "    <tr>\n",
       "      <th>1101053010003</th>\n",
       "      <td>1249.25</td>\n",
       "      <td>1249.75</td>\n",
       "      <td>1249.25</td>\n",
       "      <td>1258.00</td>\n",
       "      <td>1237.25</td>\n",
       "      <td>1229.25</td>\n",
       "      <td>1206.75</td>\n",
       "      <td>1474.50</td>\n",
       "      <td>1509.25</td>\n",
       "      <td>1554.75</td>\n",
       "      <td>...</td>\n",
       "      <td>2032.6</td>\n",
       "      <td>2042.0</td>\n",
       "      <td>2138.4</td>\n",
       "      <td>2137.0</td>\n",
       "      <td>1977.8</td>\n",
       "      <td>1715.2</td>\n",
       "      <td>1426.4</td>\n",
       "      <td>1221.2</td>\n",
       "      <td>1149.4</td>\n",
       "      <td>1271.2</td>\n",
       "    </tr>\n",
       "    <tr>\n",
       "      <th>1101053010004</th>\n",
       "      <td>1261.75</td>\n",
       "      <td>1136.75</td>\n",
       "      <td>1127.25</td>\n",
       "      <td>1122.75</td>\n",
       "      <td>1087.75</td>\n",
       "      <td>1170.00</td>\n",
       "      <td>1435.00</td>\n",
       "      <td>2150.25</td>\n",
       "      <td>2798.50</td>\n",
       "      <td>3283.25</td>\n",
       "      <td>...</td>\n",
       "      <td>3315.4</td>\n",
       "      <td>3404.8</td>\n",
       "      <td>3526.0</td>\n",
       "      <td>3472.2</td>\n",
       "      <td>3053.6</td>\n",
       "      <td>2590.8</td>\n",
       "      <td>2291.2</td>\n",
       "      <td>2038.4</td>\n",
       "      <td>1740.0</td>\n",
       "      <td>1373.6</td>\n",
       "    </tr>\n",
       "    <tr>\n",
       "      <th>1101053010005</th>\n",
       "      <td>765.00</td>\n",
       "      <td>720.00</td>\n",
       "      <td>675.75</td>\n",
       "      <td>672.25</td>\n",
       "      <td>622.25</td>\n",
       "      <td>672.75</td>\n",
       "      <td>869.00</td>\n",
       "      <td>1248.25</td>\n",
       "      <td>2085.00</td>\n",
       "      <td>2417.75</td>\n",
       "      <td>...</td>\n",
       "      <td>2258.4</td>\n",
       "      <td>2277.4</td>\n",
       "      <td>2170.6</td>\n",
       "      <td>1976.4</td>\n",
       "      <td>1731.4</td>\n",
       "      <td>1751.0</td>\n",
       "      <td>1562.4</td>\n",
       "      <td>1339.0</td>\n",
       "      <td>1179.4</td>\n",
       "      <td>794.2</td>\n",
       "    </tr>\n",
       "  </tbody>\n",
       "</table>\n",
       "<p>5 rows × 168 columns</p>\n",
       "</div>"
      ],
      "text/plain": [
       "timeslot         D0T00    D0T01    D0T02    D0T03    D0T04    D0T05    D0T06  \\\n",
       "census                                                                         \n",
       "1101053010001   311.25   294.25   284.00   278.50   208.75   205.25   222.25   \n",
       "1101053010002  1352.50  1370.25  1377.50  1386.25  1382.00  1412.50  1482.25   \n",
       "1101053010003  1249.25  1249.75  1249.25  1258.00  1237.25  1229.25  1206.75   \n",
       "1101053010004  1261.75  1136.75  1127.25  1122.75  1087.75  1170.00  1435.00   \n",
       "1101053010005   765.00   720.00   675.75   672.25   622.25   672.75   869.00   \n",
       "\n",
       "timeslot         D0T07    D0T08    D0T09   ...     D6T14   D6T15   D6T16  \\\n",
       "census                                     ...                             \n",
       "1101053010001   240.00   214.50   215.00   ...     290.8   314.0   310.6   \n",
       "1101053010002  1707.50  1731.75  1781.75   ...    1945.8  1918.0  1927.2   \n",
       "1101053010003  1474.50  1509.25  1554.75   ...    2032.6  2042.0  2138.4   \n",
       "1101053010004  2150.25  2798.50  3283.25   ...    3315.4  3404.8  3526.0   \n",
       "1101053010005  1248.25  2085.00  2417.75   ...    2258.4  2277.4  2170.6   \n",
       "\n",
       "timeslot        D6T17   D6T18   D6T19   D6T20   D6T21   D6T22   D6T23  \n",
       "census                                                                 \n",
       "1101053010001   330.0   334.4   325.0   319.2   287.0   272.0   296.6  \n",
       "1101053010002  1958.8  2000.6  1927.4  1921.0  1743.8  1620.2  1366.0  \n",
       "1101053010003  2137.0  1977.8  1715.2  1426.4  1221.2  1149.4  1271.2  \n",
       "1101053010004  3472.2  3053.6  2590.8  2291.2  2038.4  1740.0  1373.6  \n",
       "1101053010005  1976.4  1731.4  1751.0  1562.4  1339.0  1179.4   794.2  \n",
       "\n",
       "[5 rows x 168 columns]"
      ]
     },
     "execution_count": 7,
     "metadata": {},
     "output_type": "execute_result"
    }
   ],
   "source": [
    "# mean by timeslot\n",
    "df_pop_wide = df_pop.groupby(['census', 'timeslot'])\\\n",
    ".mean()[['pop']]\\\n",
    ".reset_index()\\\n",
    ".pivot(index='census', columns='timeslot', values='pop')\n",
    "df_pop_wide.head()"
   ]
  },
  {
   "cell_type": "markdown",
   "metadata": {},
   "source": [
    "## Run NMF"
   ]
  },
  {
   "cell_type": "code",
   "execution_count": 10,
   "metadata": {},
   "outputs": [
    {
     "name": "stdout",
     "output_type": "stream",
     "text": [
      "(19153, 168)\n",
      "(19153, 15)\n",
      "(15, 168)\n"
     ]
    }
   ],
   "source": [
    "no_topics = 15\n",
    "X = df_pop_wide.values\n",
    "feature_names = list(df_pop_wide.columns)\n",
    "print(X.shape)\n",
    "\n",
    "nmf = NMF(n_components=no_topics, random_state=1, alpha=.2, l1_ratio=0, init='nndsvd').fit(X)\n",
    "\n",
    "# W\n",
    "basis = nmf.fit_transform(X) \n",
    "print(basis.shape)\n",
    "\n",
    "# H\n",
    "coef = nmf.components_  \n",
    "print(coef.shape)"
   ]
  },
  {
   "cell_type": "markdown",
   "metadata": {},
   "source": [
    "## Visualize topics"
   ]
  },
  {
   "cell_type": "code",
   "execution_count": 11,
   "metadata": {},
   "outputs": [
    {
     "data": {
      "text/html": [
       "<div>\n",
       "<style scoped>\n",
       "    .dataframe tbody tr th:only-of-type {\n",
       "        vertical-align: middle;\n",
       "    }\n",
       "\n",
       "    .dataframe tbody tr th {\n",
       "        vertical-align: top;\n",
       "    }\n",
       "\n",
       "    .dataframe thead th {\n",
       "        text-align: right;\n",
       "    }\n",
       "</style>\n",
       "<table border=\"1\" class=\"dataframe\">\n",
       "  <thead>\n",
       "    <tr style=\"text-align: right;\">\n",
       "      <th></th>\n",
       "      <th>day</th>\n",
       "      <th>hour</th>\n",
       "      <th>score</th>\n",
       "      <th>topic</th>\n",
       "    </tr>\n",
       "  </thead>\n",
       "  <tbody>\n",
       "    <tr>\n",
       "      <th>0</th>\n",
       "      <td>0</td>\n",
       "      <td>0</td>\n",
       "      <td>0.00</td>\n",
       "      <td>topic_00</td>\n",
       "    </tr>\n",
       "    <tr>\n",
       "      <th>1</th>\n",
       "      <td>0</td>\n",
       "      <td>1</td>\n",
       "      <td>0.00</td>\n",
       "      <td>topic_00</td>\n",
       "    </tr>\n",
       "    <tr>\n",
       "      <th>2</th>\n",
       "      <td>0</td>\n",
       "      <td>2</td>\n",
       "      <td>0.00</td>\n",
       "      <td>topic_00</td>\n",
       "    </tr>\n",
       "    <tr>\n",
       "      <th>3</th>\n",
       "      <td>0</td>\n",
       "      <td>3</td>\n",
       "      <td>0.00</td>\n",
       "      <td>topic_00</td>\n",
       "    </tr>\n",
       "    <tr>\n",
       "      <th>4</th>\n",
       "      <td>0</td>\n",
       "      <td>4</td>\n",
       "      <td>1.48</td>\n",
       "      <td>topic_00</td>\n",
       "    </tr>\n",
       "  </tbody>\n",
       "</table>\n",
       "</div>"
      ],
      "text/plain": [
       "   day  hour  score     topic\n",
       "0    0     0   0.00  topic_00\n",
       "1    0     1   0.00  topic_00\n",
       "2    0     2   0.00  topic_00\n",
       "3    0     3   0.00  topic_00\n",
       "4    0     4   1.48  topic_00"
      ]
     },
     "execution_count": 11,
     "metadata": {},
     "output_type": "execute_result"
    }
   ],
   "source": [
    "records = []\n",
    "for topic_idx, topic in enumerate(coef):\n",
    "    for feature_idx, score in enumerate(topic):\n",
    "        feature_name = feature_names[feature_idx]\n",
    "        day = int(feature_name[1:2])\n",
    "        hour = int(feature_name[3:5])\n",
    "        record = {'topic': 'topic_{:02d}'.format(topic_idx), \n",
    "                  'day':day, \n",
    "                  'hour':hour, \n",
    "                  'score':round(score,2)}\n",
    "        records.append(record)\n",
    "df_topic = pd.DataFrame.from_records(records)\n",
    "df_topic.head()"
   ]
  },
  {
   "cell_type": "code",
   "execution_count": 14,
   "metadata": {},
   "outputs": [
    {
     "data": {
      "application/vnd.vegalite.v2+json": {
       "$schema": "https://vega.github.io/schema/vega-lite/v2.6.0.json",
       "config": {
        "view": {
         "height": 300,
         "width": 400
        }
       },
       "data": {
        "name": "data-df322026337868a05baedaf125c46f1a"
       },
       "datasets": {
        "data-df322026337868a05baedaf125c46f1a": [
         {
          "day": 0,
          "hour": 0,
          "score": 0,
          "topic": "topic_00"
         },
         {
          "day": 0,
          "hour": 1,
          "score": 0,
          "topic": "topic_00"
         },
         {
          "day": 0,
          "hour": 2,
          "score": 0,
          "topic": "topic_00"
         },
         {
          "day": 0,
          "hour": 3,
          "score": 0,
          "topic": "topic_00"
         },
         {
          "day": 0,
          "hour": 4,
          "score": 1.48,
          "topic": "topic_00"
         },
         {
          "day": 0,
          "hour": 5,
          "score": 1.45,
          "topic": "topic_00"
         },
         {
          "day": 0,
          "hour": 6,
          "score": 2.03,
          "topic": "topic_00"
         },
         {
          "day": 0,
          "hour": 7,
          "score": 13.74,
          "topic": "topic_00"
         },
         {
          "day": 0,
          "hour": 8,
          "score": 56.49,
          "topic": "topic_00"
         },
         {
          "day": 0,
          "hour": 9,
          "score": 86.38,
          "topic": "topic_00"
         },
         {
          "day": 0,
          "hour": 10,
          "score": 103.94,
          "topic": "topic_00"
         },
         {
          "day": 0,
          "hour": 11,
          "score": 120.64,
          "topic": "topic_00"
         },
         {
          "day": 0,
          "hour": 12,
          "score": 131.21,
          "topic": "topic_00"
         },
         {
          "day": 0,
          "hour": 13,
          "score": 136.59,
          "topic": "topic_00"
         },
         {
          "day": 0,
          "hour": 14,
          "score": 138.85,
          "topic": "topic_00"
         },
         {
          "day": 0,
          "hour": 15,
          "score": 135.55,
          "topic": "topic_00"
         },
         {
          "day": 0,
          "hour": 16,
          "score": 128.63,
          "topic": "topic_00"
         },
         {
          "day": 0,
          "hour": 17,
          "score": 116.62,
          "topic": "topic_00"
         },
         {
          "day": 0,
          "hour": 18,
          "score": 88.81,
          "topic": "topic_00"
         },
         {
          "day": 0,
          "hour": 19,
          "score": 66.38,
          "topic": "topic_00"
         },
         {
          "day": 0,
          "hour": 20,
          "score": 47.41,
          "topic": "topic_00"
         },
         {
          "day": 0,
          "hour": 21,
          "score": 28.46,
          "topic": "topic_00"
         },
         {
          "day": 0,
          "hour": 22,
          "score": 11.24,
          "topic": "topic_00"
         },
         {
          "day": 0,
          "hour": 23,
          "score": 4.78,
          "topic": "topic_00"
         },
         {
          "day": 1,
          "hour": 0,
          "score": 3.15,
          "topic": "topic_00"
         },
         {
          "day": 1,
          "hour": 1,
          "score": 2.83,
          "topic": "topic_00"
         },
         {
          "day": 1,
          "hour": 2,
          "score": 2.49,
          "topic": "topic_00"
         },
         {
          "day": 1,
          "hour": 3,
          "score": 2.89,
          "topic": "topic_00"
         },
         {
          "day": 1,
          "hour": 4,
          "score": 4.91,
          "topic": "topic_00"
         },
         {
          "day": 1,
          "hour": 5,
          "score": 5.11,
          "topic": "topic_00"
         },
         {
          "day": 1,
          "hour": 6,
          "score": 6.3,
          "topic": "topic_00"
         },
         {
          "day": 1,
          "hour": 7,
          "score": 21.47,
          "topic": "topic_00"
         },
         {
          "day": 1,
          "hour": 8,
          "score": 76.64,
          "topic": "topic_00"
         },
         {
          "day": 1,
          "hour": 9,
          "score": 115.7,
          "topic": "topic_00"
         },
         {
          "day": 1,
          "hour": 10,
          "score": 138.73,
          "topic": "topic_00"
         },
         {
          "day": 1,
          "hour": 11,
          "score": 159.16,
          "topic": "topic_00"
         },
         {
          "day": 1,
          "hour": 12,
          "score": 171.44,
          "topic": "topic_00"
         },
         {
          "day": 1,
          "hour": 13,
          "score": 176.82,
          "topic": "topic_00"
         },
         {
          "day": 1,
          "hour": 14,
          "score": 175.74,
          "topic": "topic_00"
         },
         {
          "day": 1,
          "hour": 15,
          "score": 170.03,
          "topic": "topic_00"
         },
         {
          "day": 1,
          "hour": 16,
          "score": 161.56,
          "topic": "topic_00"
         },
         {
          "day": 1,
          "hour": 17,
          "score": 142,
          "topic": "topic_00"
         },
         {
          "day": 1,
          "hour": 18,
          "score": 103.96,
          "topic": "topic_00"
         },
         {
          "day": 1,
          "hour": 19,
          "score": 76.95,
          "topic": "topic_00"
         },
         {
          "day": 1,
          "hour": 20,
          "score": 54.87,
          "topic": "topic_00"
         },
         {
          "day": 1,
          "hour": 21,
          "score": 32.8,
          "topic": "topic_00"
         },
         {
          "day": 1,
          "hour": 22,
          "score": 14.31,
          "topic": "topic_00"
         },
         {
          "day": 1,
          "hour": 23,
          "score": 6.24,
          "topic": "topic_00"
         },
         {
          "day": 2,
          "hour": 0,
          "score": 3.48,
          "topic": "topic_00"
         },
         {
          "day": 2,
          "hour": 1,
          "score": 2.79,
          "topic": "topic_00"
         },
         {
          "day": 2,
          "hour": 2,
          "score": 2.47,
          "topic": "topic_00"
         },
         {
          "day": 2,
          "hour": 3,
          "score": 2.56,
          "topic": "topic_00"
         },
         {
          "day": 2,
          "hour": 4,
          "score": 4.42,
          "topic": "topic_00"
         },
         {
          "day": 2,
          "hour": 5,
          "score": 4.57,
          "topic": "topic_00"
         },
         {
          "day": 2,
          "hour": 6,
          "score": 5.87,
          "topic": "topic_00"
         },
         {
          "day": 2,
          "hour": 7,
          "score": 20.86,
          "topic": "topic_00"
         },
         {
          "day": 2,
          "hour": 8,
          "score": 75.33,
          "topic": "topic_00"
         },
         {
          "day": 2,
          "hour": 9,
          "score": 114.42,
          "topic": "topic_00"
         },
         {
          "day": 2,
          "hour": 10,
          "score": 137.48,
          "topic": "topic_00"
         },
         {
          "day": 2,
          "hour": 11,
          "score": 158.71,
          "topic": "topic_00"
         },
         {
          "day": 2,
          "hour": 12,
          "score": 172.53,
          "topic": "topic_00"
         },
         {
          "day": 2,
          "hour": 13,
          "score": 177.79,
          "topic": "topic_00"
         },
         {
          "day": 2,
          "hour": 14,
          "score": 177.46,
          "topic": "topic_00"
         },
         {
          "day": 2,
          "hour": 15,
          "score": 172.15,
          "topic": "topic_00"
         },
         {
          "day": 2,
          "hour": 16,
          "score": 162.2,
          "topic": "topic_00"
         },
         {
          "day": 2,
          "hour": 17,
          "score": 141.31,
          "topic": "topic_00"
         },
         {
          "day": 2,
          "hour": 18,
          "score": 103.47,
          "topic": "topic_00"
         },
         {
          "day": 2,
          "hour": 19,
          "score": 76.5,
          "topic": "topic_00"
         },
         {
          "day": 2,
          "hour": 20,
          "score": 54.6,
          "topic": "topic_00"
         },
         {
          "day": 2,
          "hour": 21,
          "score": 33.97,
          "topic": "topic_00"
         },
         {
          "day": 2,
          "hour": 22,
          "score": 14.53,
          "topic": "topic_00"
         },
         {
          "day": 2,
          "hour": 23,
          "score": 6.68,
          "topic": "topic_00"
         },
         {
          "day": 3,
          "hour": 0,
          "score": 3.34,
          "topic": "topic_00"
         },
         {
          "day": 3,
          "hour": 1,
          "score": 2.85,
          "topic": "topic_00"
         },
         {
          "day": 3,
          "hour": 2,
          "score": 2.41,
          "topic": "topic_00"
         },
         {
          "day": 3,
          "hour": 3,
          "score": 2.53,
          "topic": "topic_00"
         },
         {
          "day": 3,
          "hour": 4,
          "score": 4.3,
          "topic": "topic_00"
         },
         {
          "day": 3,
          "hour": 5,
          "score": 4.58,
          "topic": "topic_00"
         },
         {
          "day": 3,
          "hour": 6,
          "score": 6.05,
          "topic": "topic_00"
         },
         {
          "day": 3,
          "hour": 7,
          "score": 20.13,
          "topic": "topic_00"
         },
         {
          "day": 3,
          "hour": 8,
          "score": 74.02,
          "topic": "topic_00"
         },
         {
          "day": 3,
          "hour": 9,
          "score": 115.7,
          "topic": "topic_00"
         },
         {
          "day": 3,
          "hour": 10,
          "score": 137.35,
          "topic": "topic_00"
         },
         {
          "day": 3,
          "hour": 11,
          "score": 160.02,
          "topic": "topic_00"
         },
         {
          "day": 3,
          "hour": 12,
          "score": 171.72,
          "topic": "topic_00"
         },
         {
          "day": 3,
          "hour": 13,
          "score": 176.69,
          "topic": "topic_00"
         },
         {
          "day": 3,
          "hour": 14,
          "score": 176.66,
          "topic": "topic_00"
         },
         {
          "day": 3,
          "hour": 15,
          "score": 170.21,
          "topic": "topic_00"
         },
         {
          "day": 3,
          "hour": 16,
          "score": 160.9,
          "topic": "topic_00"
         },
         {
          "day": 3,
          "hour": 17,
          "score": 143.8,
          "topic": "topic_00"
         },
         {
          "day": 3,
          "hour": 18,
          "score": 106.1,
          "topic": "topic_00"
         },
         {
          "day": 3,
          "hour": 19,
          "score": 81.42,
          "topic": "topic_00"
         },
         {
          "day": 3,
          "hour": 20,
          "score": 59.93,
          "topic": "topic_00"
         },
         {
          "day": 3,
          "hour": 21,
          "score": 36.76,
          "topic": "topic_00"
         },
         {
          "day": 3,
          "hour": 22,
          "score": 16.72,
          "topic": "topic_00"
         },
         {
          "day": 3,
          "hour": 23,
          "score": 6.78,
          "topic": "topic_00"
         },
         {
          "day": 4,
          "hour": 0,
          "score": 3.51,
          "topic": "topic_00"
         },
         {
          "day": 4,
          "hour": 1,
          "score": 2.86,
          "topic": "topic_00"
         },
         {
          "day": 4,
          "hour": 2,
          "score": 2.46,
          "topic": "topic_00"
         },
         {
          "day": 4,
          "hour": 3,
          "score": 2.5,
          "topic": "topic_00"
         },
         {
          "day": 4,
          "hour": 4,
          "score": 4.39,
          "topic": "topic_00"
         },
         {
          "day": 4,
          "hour": 5,
          "score": 4.6,
          "topic": "topic_00"
         },
         {
          "day": 4,
          "hour": 6,
          "score": 6.02,
          "topic": "topic_00"
         },
         {
          "day": 4,
          "hour": 7,
          "score": 20.15,
          "topic": "topic_00"
         },
         {
          "day": 4,
          "hour": 8,
          "score": 71.4,
          "topic": "topic_00"
         },
         {
          "day": 4,
          "hour": 9,
          "score": 107.2,
          "topic": "topic_00"
         },
         {
          "day": 4,
          "hour": 10,
          "score": 127.57,
          "topic": "topic_00"
         },
         {
          "day": 4,
          "hour": 11,
          "score": 146.13,
          "topic": "topic_00"
         },
         {
          "day": 4,
          "hour": 12,
          "score": 157.5,
          "topic": "topic_00"
         },
         {
          "day": 4,
          "hour": 13,
          "score": 159.89,
          "topic": "topic_00"
         },
         {
          "day": 4,
          "hour": 14,
          "score": 159.62,
          "topic": "topic_00"
         },
         {
          "day": 4,
          "hour": 15,
          "score": 152.4,
          "topic": "topic_00"
         },
         {
          "day": 4,
          "hour": 16,
          "score": 139.78,
          "topic": "topic_00"
         },
         {
          "day": 4,
          "hour": 17,
          "score": 118.99,
          "topic": "topic_00"
         },
         {
          "day": 4,
          "hour": 18,
          "score": 84.49,
          "topic": "topic_00"
         },
         {
          "day": 4,
          "hour": 19,
          "score": 61.1,
          "topic": "topic_00"
         },
         {
          "day": 4,
          "hour": 20,
          "score": 42.75,
          "topic": "topic_00"
         },
         {
          "day": 4,
          "hour": 21,
          "score": 26.09,
          "topic": "topic_00"
         },
         {
          "day": 4,
          "hour": 22,
          "score": 12.16,
          "topic": "topic_00"
         },
         {
          "day": 4,
          "hour": 23,
          "score": 5.44,
          "topic": "topic_00"
         },
         {
          "day": 5,
          "hour": 0,
          "score": 1.16,
          "topic": "topic_00"
         },
         {
          "day": 5,
          "hour": 1,
          "score": 0.49,
          "topic": "topic_00"
         },
         {
          "day": 5,
          "hour": 2,
          "score": 0.39,
          "topic": "topic_00"
         },
         {
          "day": 5,
          "hour": 3,
          "score": 0.68,
          "topic": "topic_00"
         },
         {
          "day": 5,
          "hour": 4,
          "score": 2.39,
          "topic": "topic_00"
         },
         {
          "day": 5,
          "hour": 5,
          "score": 2.62,
          "topic": "topic_00"
         },
         {
          "day": 5,
          "hour": 6,
          "score": 2.84,
          "topic": "topic_00"
         },
         {
          "day": 5,
          "hour": 7,
          "score": 3.48,
          "topic": "topic_00"
         },
         {
          "day": 5,
          "hour": 8,
          "score": 5.43,
          "topic": "topic_00"
         },
         {
          "day": 5,
          "hour": 9,
          "score": 12.51,
          "topic": "topic_00"
         },
         {
          "day": 5,
          "hour": 10,
          "score": 19.94,
          "topic": "topic_00"
         },
         {
          "day": 5,
          "hour": 11,
          "score": 29.75,
          "topic": "topic_00"
         },
         {
          "day": 5,
          "hour": 12,
          "score": 39.31,
          "topic": "topic_00"
         },
         {
          "day": 5,
          "hour": 13,
          "score": 46.47,
          "topic": "topic_00"
         },
         {
          "day": 5,
          "hour": 14,
          "score": 49.69,
          "topic": "topic_00"
         },
         {
          "day": 5,
          "hour": 15,
          "score": 48.58,
          "topic": "topic_00"
         },
         {
          "day": 5,
          "hour": 16,
          "score": 43.22,
          "topic": "topic_00"
         },
         {
          "day": 5,
          "hour": 17,
          "score": 37.38,
          "topic": "topic_00"
         },
         {
          "day": 5,
          "hour": 18,
          "score": 31.16,
          "topic": "topic_00"
         },
         {
          "day": 5,
          "hour": 19,
          "score": 25.33,
          "topic": "topic_00"
         },
         {
          "day": 5,
          "hour": 20,
          "score": 15.41,
          "topic": "topic_00"
         },
         {
          "day": 5,
          "hour": 21,
          "score": 5.04,
          "topic": "topic_00"
         },
         {
          "day": 5,
          "hour": 22,
          "score": 0,
          "topic": "topic_00"
         },
         {
          "day": 5,
          "hour": 23,
          "score": 0,
          "topic": "topic_00"
         },
         {
          "day": 6,
          "hour": 0,
          "score": 0,
          "topic": "topic_00"
         },
         {
          "day": 6,
          "hour": 1,
          "score": 0,
          "topic": "topic_00"
         },
         {
          "day": 6,
          "hour": 2,
          "score": 0,
          "topic": "topic_00"
         },
         {
          "day": 6,
          "hour": 3,
          "score": 0.1,
          "topic": "topic_00"
         },
         {
          "day": 6,
          "hour": 4,
          "score": 1.95,
          "topic": "topic_00"
         },
         {
          "day": 6,
          "hour": 5,
          "score": 1.45,
          "topic": "topic_00"
         },
         {
          "day": 6,
          "hour": 6,
          "score": 1.08,
          "topic": "topic_00"
         },
         {
          "day": 6,
          "hour": 7,
          "score": 0,
          "topic": "topic_00"
         },
         {
          "day": 6,
          "hour": 8,
          "score": 0.61,
          "topic": "topic_00"
         },
         {
          "day": 6,
          "hour": 9,
          "score": 2.86,
          "topic": "topic_00"
         },
         {
          "day": 6,
          "hour": 10,
          "score": 8.6,
          "topic": "topic_00"
         },
         {
          "day": 6,
          "hour": 11,
          "score": 16.46,
          "topic": "topic_00"
         },
         {
          "day": 6,
          "hour": 12,
          "score": 25.72,
          "topic": "topic_00"
         },
         {
          "day": 6,
          "hour": 13,
          "score": 30.37,
          "topic": "topic_00"
         },
         {
          "day": 6,
          "hour": 14,
          "score": 32.9,
          "topic": "topic_00"
         },
         {
          "day": 6,
          "hour": 15,
          "score": 33.52,
          "topic": "topic_00"
         },
         {
          "day": 6,
          "hour": 16,
          "score": 32.42,
          "topic": "topic_00"
         },
         {
          "day": 6,
          "hour": 17,
          "score": 32.25,
          "topic": "topic_00"
         },
         {
          "day": 6,
          "hour": 18,
          "score": 28.39,
          "topic": "topic_00"
         },
         {
          "day": 6,
          "hour": 19,
          "score": 21.67,
          "topic": "topic_00"
         },
         {
          "day": 6,
          "hour": 20,
          "score": 11.36,
          "topic": "topic_00"
         },
         {
          "day": 6,
          "hour": 21,
          "score": 2.39,
          "topic": "topic_00"
         },
         {
          "day": 6,
          "hour": 22,
          "score": 0,
          "topic": "topic_00"
         },
         {
          "day": 6,
          "hour": 23,
          "score": 0,
          "topic": "topic_00"
         },
         {
          "day": 0,
          "hour": 0,
          "score": 102.38,
          "topic": "topic_01"
         },
         {
          "day": 0,
          "hour": 1,
          "score": 98.19,
          "topic": "topic_01"
         },
         {
          "day": 0,
          "hour": 2,
          "score": 97.07,
          "topic": "topic_01"
         },
         {
          "day": 0,
          "hour": 3,
          "score": 96.04,
          "topic": "topic_01"
         },
         {
          "day": 0,
          "hour": 4,
          "score": 86,
          "topic": "topic_01"
         },
         {
          "day": 0,
          "hour": 5,
          "score": 82.25,
          "topic": "topic_01"
         },
         {
          "day": 0,
          "hour": 6,
          "score": 73.38,
          "topic": "topic_01"
         },
         {
          "day": 0,
          "hour": 7,
          "score": 50.43,
          "topic": "topic_01"
         },
         {
          "day": 0,
          "hour": 8,
          "score": 27.53,
          "topic": "topic_01"
         },
         {
          "day": 0,
          "hour": 9,
          "score": 18.2,
          "topic": "topic_01"
         },
         {
          "day": 0,
          "hour": 10,
          "score": 11.9,
          "topic": "topic_01"
         },
         {
          "day": 0,
          "hour": 11,
          "score": 9.37,
          "topic": "topic_01"
         },
         {
          "day": 0,
          "hour": 12,
          "score": 8.3,
          "topic": "topic_01"
         },
         {
          "day": 0,
          "hour": 13,
          "score": 6.51,
          "topic": "topic_01"
         },
         {
          "day": 0,
          "hour": 14,
          "score": 7.03,
          "topic": "topic_01"
         },
         {
          "day": 0,
          "hour": 15,
          "score": 7.49,
          "topic": "topic_01"
         },
         {
          "day": 0,
          "hour": 16,
          "score": 7.1,
          "topic": "topic_01"
         },
         {
          "day": 0,
          "hour": 17,
          "score": 7.35,
          "topic": "topic_01"
         },
         {
          "day": 0,
          "hour": 18,
          "score": 8.88,
          "topic": "topic_01"
         },
         {
          "day": 0,
          "hour": 19,
          "score": 12.7,
          "topic": "topic_01"
         },
         {
          "day": 0,
          "hour": 20,
          "score": 15.11,
          "topic": "topic_01"
         },
         {
          "day": 0,
          "hour": 21,
          "score": 20.03,
          "topic": "topic_01"
         },
         {
          "day": 0,
          "hour": 22,
          "score": 27.49,
          "topic": "topic_01"
         },
         {
          "day": 0,
          "hour": 23,
          "score": 87.69,
          "topic": "topic_01"
         },
         {
          "day": 1,
          "hour": 0,
          "score": 99.86,
          "topic": "topic_01"
         },
         {
          "day": 1,
          "hour": 1,
          "score": 96.56,
          "topic": "topic_01"
         },
         {
          "day": 1,
          "hour": 2,
          "score": 95.59,
          "topic": "topic_01"
         },
         {
          "day": 1,
          "hour": 3,
          "score": 94.82,
          "topic": "topic_01"
         },
         {
          "day": 1,
          "hour": 4,
          "score": 83.84,
          "topic": "topic_01"
         },
         {
          "day": 1,
          "hour": 5,
          "score": 79.53,
          "topic": "topic_01"
         },
         {
          "day": 1,
          "hour": 6,
          "score": 70.5,
          "topic": "topic_01"
         },
         {
          "day": 1,
          "hour": 7,
          "score": 45.47,
          "topic": "topic_01"
         },
         {
          "day": 1,
          "hour": 8,
          "score": 19.78,
          "topic": "topic_01"
         },
         {
          "day": 1,
          "hour": 9,
          "score": 8.63,
          "topic": "topic_01"
         },
         {
          "day": 1,
          "hour": 10,
          "score": 3.21,
          "topic": "topic_01"
         },
         {
          "day": 1,
          "hour": 11,
          "score": 1.81,
          "topic": "topic_01"
         },
         {
          "day": 1,
          "hour": 12,
          "score": 1.25,
          "topic": "topic_01"
         },
         {
          "day": 1,
          "hour": 13,
          "score": 2.2,
          "topic": "topic_01"
         },
         {
          "day": 1,
          "hour": 14,
          "score": 3.99,
          "topic": "topic_01"
         },
         {
          "day": 1,
          "hour": 15,
          "score": 3.69,
          "topic": "topic_01"
         },
         {
          "day": 1,
          "hour": 16,
          "score": 3.1,
          "topic": "topic_01"
         },
         {
          "day": 1,
          "hour": 17,
          "score": 4.43,
          "topic": "topic_01"
         },
         {
          "day": 1,
          "hour": 18,
          "score": 7.27,
          "topic": "topic_01"
         },
         {
          "day": 1,
          "hour": 19,
          "score": 13.12,
          "topic": "topic_01"
         },
         {
          "day": 1,
          "hour": 20,
          "score": 15.55,
          "topic": "topic_01"
         },
         {
          "day": 1,
          "hour": 21,
          "score": 18.66,
          "topic": "topic_01"
         },
         {
          "day": 1,
          "hour": 22,
          "score": 26.87,
          "topic": "topic_01"
         },
         {
          "day": 1,
          "hour": 23,
          "score": 93.43,
          "topic": "topic_01"
         },
         {
          "day": 2,
          "hour": 0,
          "score": 99.13,
          "topic": "topic_01"
         },
         {
          "day": 2,
          "hour": 1,
          "score": 95.74,
          "topic": "topic_01"
         },
         {
          "day": 2,
          "hour": 2,
          "score": 95.12,
          "topic": "topic_01"
         },
         {
          "day": 2,
          "hour": 3,
          "score": 94.77,
          "topic": "topic_01"
         },
         {
          "day": 2,
          "hour": 4,
          "score": 83.52,
          "topic": "topic_01"
         },
         {
          "day": 2,
          "hour": 5,
          "score": 79.48,
          "topic": "topic_01"
         },
         {
          "day": 2,
          "hour": 6,
          "score": 70.7,
          "topic": "topic_01"
         },
         {
          "day": 2,
          "hour": 7,
          "score": 45.93,
          "topic": "topic_01"
         },
         {
          "day": 2,
          "hour": 8,
          "score": 19.94,
          "topic": "topic_01"
         },
         {
          "day": 2,
          "hour": 9,
          "score": 8.26,
          "topic": "topic_01"
         },
         {
          "day": 2,
          "hour": 10,
          "score": 2.01,
          "topic": "topic_01"
         },
         {
          "day": 2,
          "hour": 11,
          "score": 0.35,
          "topic": "topic_01"
         },
         {
          "day": 2,
          "hour": 12,
          "score": 1.55,
          "topic": "topic_01"
         },
         {
          "day": 2,
          "hour": 13,
          "score": 2.57,
          "topic": "topic_01"
         },
         {
          "day": 2,
          "hour": 14,
          "score": 2.56,
          "topic": "topic_01"
         },
         {
          "day": 2,
          "hour": 15,
          "score": 3.86,
          "topic": "topic_01"
         },
         {
          "day": 2,
          "hour": 16,
          "score": 3.53,
          "topic": "topic_01"
         },
         {
          "day": 2,
          "hour": 17,
          "score": 3.92,
          "topic": "topic_01"
         },
         {
          "day": 2,
          "hour": 18,
          "score": 7.52,
          "topic": "topic_01"
         },
         {
          "day": 2,
          "hour": 19,
          "score": 11.94,
          "topic": "topic_01"
         },
         {
          "day": 2,
          "hour": 20,
          "score": 14.39,
          "topic": "topic_01"
         },
         {
          "day": 2,
          "hour": 21,
          "score": 18.87,
          "topic": "topic_01"
         },
         {
          "day": 2,
          "hour": 22,
          "score": 26.95,
          "topic": "topic_01"
         },
         {
          "day": 2,
          "hour": 23,
          "score": 94.64,
          "topic": "topic_01"
         },
         {
          "day": 3,
          "hour": 0,
          "score": 99,
          "topic": "topic_01"
         },
         {
          "day": 3,
          "hour": 1,
          "score": 96.11,
          "topic": "topic_01"
         },
         {
          "day": 3,
          "hour": 2,
          "score": 95.72,
          "topic": "topic_01"
         },
         {
          "day": 3,
          "hour": 3,
          "score": 94.76,
          "topic": "topic_01"
         },
         {
          "day": 3,
          "hour": 4,
          "score": 83.31,
          "topic": "topic_01"
         },
         {
          "day": 3,
          "hour": 5,
          "score": 78.98,
          "topic": "topic_01"
         },
         {
          "day": 3,
          "hour": 6,
          "score": 70.94,
          "topic": "topic_01"
         },
         {
          "day": 3,
          "hour": 7,
          "score": 46.22,
          "topic": "topic_01"
         },
         {
          "day": 3,
          "hour": 8,
          "score": 20.06,
          "topic": "topic_01"
         },
         {
          "day": 3,
          "hour": 9,
          "score": 9.67,
          "topic": "topic_01"
         },
         {
          "day": 3,
          "hour": 10,
          "score": 2.77,
          "topic": "topic_01"
         },
         {
          "day": 3,
          "hour": 11,
          "score": 2.34,
          "topic": "topic_01"
         },
         {
          "day": 3,
          "hour": 12,
          "score": 2.9,
          "topic": "topic_01"
         },
         {
          "day": 3,
          "hour": 13,
          "score": 2.39,
          "topic": "topic_01"
         },
         {
          "day": 3,
          "hour": 14,
          "score": 2.82,
          "topic": "topic_01"
         },
         {
          "day": 3,
          "hour": 15,
          "score": 2.57,
          "topic": "topic_01"
         },
         {
          "day": 3,
          "hour": 16,
          "score": 3.3,
          "topic": "topic_01"
         },
         {
          "day": 3,
          "hour": 17,
          "score": 3.51,
          "topic": "topic_01"
         },
         {
          "day": 3,
          "hour": 18,
          "score": 5.94,
          "topic": "topic_01"
         },
         {
          "day": 3,
          "hour": 19,
          "score": 9.72,
          "topic": "topic_01"
         },
         {
          "day": 3,
          "hour": 20,
          "score": 11.97,
          "topic": "topic_01"
         },
         {
          "day": 3,
          "hour": 21,
          "score": 16.9,
          "topic": "topic_01"
         },
         {
          "day": 3,
          "hour": 22,
          "score": 25.09,
          "topic": "topic_01"
         },
         {
          "day": 3,
          "hour": 23,
          "score": 92.59,
          "topic": "topic_01"
         },
         {
          "day": 4,
          "hour": 0,
          "score": 97.61,
          "topic": "topic_01"
         },
         {
          "day": 4,
          "hour": 1,
          "score": 94.57,
          "topic": "topic_01"
         },
         {
          "day": 4,
          "hour": 2,
          "score": 93.81,
          "topic": "topic_01"
         },
         {
          "day": 4,
          "hour": 3,
          "score": 93.23,
          "topic": "topic_01"
         },
         {
          "day": 4,
          "hour": 4,
          "score": 82.41,
          "topic": "topic_01"
         },
         {
          "day": 4,
          "hour": 5,
          "score": 78.1,
          "topic": "topic_01"
         },
         {
          "day": 4,
          "hour": 6,
          "score": 70.1,
          "topic": "topic_01"
         },
         {
          "day": 4,
          "hour": 7,
          "score": 46.26,
          "topic": "topic_01"
         },
         {
          "day": 4,
          "hour": 8,
          "score": 21.51,
          "topic": "topic_01"
         },
         {
          "day": 4,
          "hour": 9,
          "score": 9.66,
          "topic": "topic_01"
         },
         {
          "day": 4,
          "hour": 10,
          "score": 3.9,
          "topic": "topic_01"
         },
         {
          "day": 4,
          "hour": 11,
          "score": 1.46,
          "topic": "topic_01"
         },
         {
          "day": 4,
          "hour": 12,
          "score": 0.43,
          "topic": "topic_01"
         },
         {
          "day": 4,
          "hour": 13,
          "score": 0,
          "topic": "topic_01"
         },
         {
          "day": 4,
          "hour": 14,
          "score": 0,
          "topic": "topic_01"
         },
         {
          "day": 4,
          "hour": 15,
          "score": 0,
          "topic": "topic_01"
         },
         {
          "day": 4,
          "hour": 16,
          "score": 0,
          "topic": "topic_01"
         },
         {
          "day": 4,
          "hour": 17,
          "score": 0,
          "topic": "topic_01"
         },
         {
          "day": 4,
          "hour": 18,
          "score": 3.7,
          "topic": "topic_01"
         },
         {
          "day": 4,
          "hour": 19,
          "score": 6.02,
          "topic": "topic_01"
         },
         {
          "day": 4,
          "hour": 20,
          "score": 6.89,
          "topic": "topic_01"
         },
         {
          "day": 4,
          "hour": 21,
          "score": 13.41,
          "topic": "topic_01"
         },
         {
          "day": 4,
          "hour": 22,
          "score": 23.42,
          "topic": "topic_01"
         },
         {
          "day": 4,
          "hour": 23,
          "score": 82.44,
          "topic": "topic_01"
         },
         {
          "day": 5,
          "hour": 0,
          "score": 84.54,
          "topic": "topic_01"
         },
         {
          "day": 5,
          "hour": 1,
          "score": 84.73,
          "topic": "topic_01"
         },
         {
          "day": 5,
          "hour": 2,
          "score": 85.61,
          "topic": "topic_01"
         },
         {
          "day": 5,
          "hour": 3,
          "score": 85.94,
          "topic": "topic_01"
         },
         {
          "day": 5,
          "hour": 4,
          "score": 76.35,
          "topic": "topic_01"
         },
         {
          "day": 5,
          "hour": 5,
          "score": 72.94,
          "topic": "topic_01"
         },
         {
          "day": 5,
          "hour": 6,
          "score": 67.89,
          "topic": "topic_01"
         },
         {
          "day": 5,
          "hour": 7,
          "score": 61.25,
          "topic": "topic_01"
         },
         {
          "day": 5,
          "hour": 8,
          "score": 50.54,
          "topic": "topic_01"
         },
         {
          "day": 5,
          "hour": 9,
          "score": 38.32,
          "topic": "topic_01"
         },
         {
          "day": 5,
          "hour": 10,
          "score": 27.9,
          "topic": "topic_01"
         },
         {
          "day": 5,
          "hour": 11,
          "score": 18.61,
          "topic": "topic_01"
         },
         {
          "day": 5,
          "hour": 12,
          "score": 10.92,
          "topic": "topic_01"
         },
         {
          "day": 5,
          "hour": 13,
          "score": 4.68,
          "topic": "topic_01"
         },
         {
          "day": 5,
          "hour": 14,
          "score": 0.47,
          "topic": "topic_01"
         },
         {
          "day": 5,
          "hour": 15,
          "score": 0,
          "topic": "topic_01"
         },
         {
          "day": 5,
          "hour": 16,
          "score": 0,
          "topic": "topic_01"
         },
         {
          "day": 5,
          "hour": 17,
          "score": 0,
          "topic": "topic_01"
         },
         {
          "day": 5,
          "hour": 18,
          "score": 0,
          "topic": "topic_01"
         },
         {
          "day": 5,
          "hour": 19,
          "score": 0,
          "topic": "topic_01"
         },
         {
          "day": 5,
          "hour": 20,
          "score": 4.67,
          "topic": "topic_01"
         },
         {
          "day": 5,
          "hour": 21,
          "score": 14.47,
          "topic": "topic_01"
         },
         {
          "day": 5,
          "hour": 22,
          "score": 29.71,
          "topic": "topic_01"
         },
         {
          "day": 5,
          "hour": 23,
          "score": 101.98,
          "topic": "topic_01"
         },
         {
          "day": 6,
          "hour": 0,
          "score": 93.99,
          "topic": "topic_01"
         },
         {
          "day": 6,
          "hour": 1,
          "score": 92.5,
          "topic": "topic_01"
         },
         {
          "day": 6,
          "hour": 2,
          "score": 92.16,
          "topic": "topic_01"
         },
         {
          "day": 6,
          "hour": 3,
          "score": 91.88,
          "topic": "topic_01"
         },
         {
          "day": 6,
          "hour": 4,
          "score": 82.21,
          "topic": "topic_01"
         },
         {
          "day": 6,
          "hour": 5,
          "score": 78.62,
          "topic": "topic_01"
         },
         {
          "day": 6,
          "hour": 6,
          "score": 74.78,
          "topic": "topic_01"
         },
         {
          "day": 6,
          "hour": 7,
          "score": 68.24,
          "topic": "topic_01"
         },
         {
          "day": 6,
          "hour": 8,
          "score": 59.35,
          "topic": "topic_01"
         },
         {
          "day": 6,
          "hour": 9,
          "score": 45.72,
          "topic": "topic_01"
         },
         {
          "day": 6,
          "hour": 10,
          "score": 32.62,
          "topic": "topic_01"
         },
         {
          "day": 6,
          "hour": 11,
          "score": 20.8,
          "topic": "topic_01"
         },
         {
          "day": 6,
          "hour": 12,
          "score": 10.5,
          "topic": "topic_01"
         },
         {
          "day": 6,
          "hour": 13,
          "score": 3.22,
          "topic": "topic_01"
         },
         {
          "day": 6,
          "hour": 14,
          "score": 0.27,
          "topic": "topic_01"
         },
         {
          "day": 6,
          "hour": 15,
          "score": 0,
          "topic": "topic_01"
         },
         {
          "day": 6,
          "hour": 16,
          "score": 0,
          "topic": "topic_01"
         },
         {
          "day": 6,
          "hour": 17,
          "score": 0,
          "topic": "topic_01"
         },
         {
          "day": 6,
          "hour": 18,
          "score": 0,
          "topic": "topic_01"
         },
         {
          "day": 6,
          "hour": 19,
          "score": 2.94,
          "topic": "topic_01"
         },
         {
          "day": 6,
          "hour": 20,
          "score": 11.29,
          "topic": "topic_01"
         },
         {
          "day": 6,
          "hour": 21,
          "score": 23.81,
          "topic": "topic_01"
         },
         {
          "day": 6,
          "hour": 22,
          "score": 36.58,
          "topic": "topic_01"
         },
         {
          "day": 6,
          "hour": 23,
          "score": 100.82,
          "topic": "topic_01"
         },
         {
          "day": 0,
          "hour": 0,
          "score": 5.19,
          "topic": "topic_02"
         },
         {
          "day": 0,
          "hour": 1,
          "score": 5.64,
          "topic": "topic_02"
         },
         {
          "day": 0,
          "hour": 2,
          "score": 5.04,
          "topic": "topic_02"
         },
         {
          "day": 0,
          "hour": 3,
          "score": 4.8,
          "topic": "topic_02"
         },
         {
          "day": 0,
          "hour": 4,
          "score": 4.06,
          "topic": "topic_02"
         },
         {
          "day": 0,
          "hour": 5,
          "score": 4.56,
          "topic": "topic_02"
         },
         {
          "day": 0,
          "hour": 6,
          "score": 5.48,
          "topic": "topic_02"
         },
         {
          "day": 0,
          "hour": 7,
          "score": 17.03,
          "topic": "topic_02"
         },
         {
          "day": 0,
          "hour": 8,
          "score": 26.21,
          "topic": "topic_02"
         },
         {
          "day": 0,
          "hour": 9,
          "score": 24.79,
          "topic": "topic_02"
         },
         {
          "day": 0,
          "hour": 10,
          "score": 21.73,
          "topic": "topic_02"
         },
         {
          "day": 0,
          "hour": 11,
          "score": 25.78,
          "topic": "topic_02"
         },
         {
          "day": 0,
          "hour": 12,
          "score": 28.65,
          "topic": "topic_02"
         },
         {
          "day": 0,
          "hour": 13,
          "score": 29.28,
          "topic": "topic_02"
         },
         {
          "day": 0,
          "hour": 14,
          "score": 29.83,
          "topic": "topic_02"
         },
         {
          "day": 0,
          "hour": 15,
          "score": 32.92,
          "topic": "topic_02"
         },
         {
          "day": 0,
          "hour": 16,
          "score": 39.25,
          "topic": "topic_02"
         },
         {
          "day": 0,
          "hour": 17,
          "score": 45.34,
          "topic": "topic_02"
         },
         {
          "day": 0,
          "hour": 18,
          "score": 45.67,
          "topic": "topic_02"
         },
         {
          "day": 0,
          "hour": 19,
          "score": 43.46,
          "topic": "topic_02"
         },
         {
          "day": 0,
          "hour": 20,
          "score": 38.06,
          "topic": "topic_02"
         },
         {
          "day": 0,
          "hour": 21,
          "score": 27.62,
          "topic": "topic_02"
         },
         {
          "day": 0,
          "hour": 22,
          "score": 15.3,
          "topic": "topic_02"
         },
         {
          "day": 0,
          "hour": 23,
          "score": 15.32,
          "topic": "topic_02"
         },
         {
          "day": 1,
          "hour": 0,
          "score": 0,
          "topic": "topic_02"
         },
         {
          "day": 1,
          "hour": 1,
          "score": 0,
          "topic": "topic_02"
         },
         {
          "day": 1,
          "hour": 2,
          "score": 0,
          "topic": "topic_02"
         },
         {
          "day": 1,
          "hour": 3,
          "score": 0,
          "topic": "topic_02"
         },
         {
          "day": 1,
          "hour": 4,
          "score": 0.27,
          "topic": "topic_02"
         },
         {
          "day": 1,
          "hour": 5,
          "score": 0,
          "topic": "topic_02"
         },
         {
          "day": 1,
          "hour": 6,
          "score": 0,
          "topic": "topic_02"
         },
         {
          "day": 1,
          "hour": 7,
          "score": 4.67,
          "topic": "topic_02"
         },
         {
          "day": 1,
          "hour": 8,
          "score": 8.77,
          "topic": "topic_02"
         },
         {
          "day": 1,
          "hour": 9,
          "score": 1.19,
          "topic": "topic_02"
         },
         {
          "day": 1,
          "hour": 10,
          "score": 0,
          "topic": "topic_02"
         },
         {
          "day": 1,
          "hour": 11,
          "score": 1.22,
          "topic": "topic_02"
         },
         {
          "day": 1,
          "hour": 12,
          "score": 4.54,
          "topic": "topic_02"
         },
         {
          "day": 1,
          "hour": 13,
          "score": 6.55,
          "topic": "topic_02"
         },
         {
          "day": 1,
          "hour": 14,
          "score": 5.96,
          "topic": "topic_02"
         },
         {
          "day": 1,
          "hour": 15,
          "score": 10.5,
          "topic": "topic_02"
         },
         {
          "day": 1,
          "hour": 16,
          "score": 17.25,
          "topic": "topic_02"
         },
         {
          "day": 1,
          "hour": 17,
          "score": 24.66,
          "topic": "topic_02"
         },
         {
          "day": 1,
          "hour": 18,
          "score": 25.33,
          "topic": "topic_02"
         },
         {
          "day": 1,
          "hour": 19,
          "score": 27.17,
          "topic": "topic_02"
         },
         {
          "day": 1,
          "hour": 20,
          "score": 22.7,
          "topic": "topic_02"
         },
         {
          "day": 1,
          "hour": 21,
          "score": 11.81,
          "topic": "topic_02"
         },
         {
          "day": 1,
          "hour": 22,
          "score": 0,
          "topic": "topic_02"
         },
         {
          "day": 1,
          "hour": 23,
          "score": 3.58,
          "topic": "topic_02"
         },
         {
          "day": 2,
          "hour": 0,
          "score": 0,
          "topic": "topic_02"
         },
         {
          "day": 2,
          "hour": 1,
          "score": 0,
          "topic": "topic_02"
         },
         {
          "day": 2,
          "hour": 2,
          "score": 0,
          "topic": "topic_02"
         },
         {
          "day": 2,
          "hour": 3,
          "score": 0,
          "topic": "topic_02"
         },
         {
          "day": 2,
          "hour": 4,
          "score": 0.15,
          "topic": "topic_02"
         },
         {
          "day": 2,
          "hour": 5,
          "score": 0,
          "topic": "topic_02"
         },
         {
          "day": 2,
          "hour": 6,
          "score": 0,
          "topic": "topic_02"
         },
         {
          "day": 2,
          "hour": 7,
          "score": 3.98,
          "topic": "topic_02"
         },
         {
          "day": 2,
          "hour": 8,
          "score": 9.29,
          "topic": "topic_02"
         },
         {
          "day": 2,
          "hour": 9,
          "score": 0,
          "topic": "topic_02"
         },
         {
          "day": 2,
          "hour": 10,
          "score": 0,
          "topic": "topic_02"
         },
         {
          "day": 2,
          "hour": 11,
          "score": 0,
          "topic": "topic_02"
         },
         {
          "day": 2,
          "hour": 12,
          "score": 4.62,
          "topic": "topic_02"
         },
         {
          "day": 2,
          "hour": 13,
          "score": 5.66,
          "topic": "topic_02"
         },
         {
          "day": 2,
          "hour": 14,
          "score": 8.81,
          "topic": "topic_02"
         },
         {
          "day": 2,
          "hour": 15,
          "score": 11.53,
          "topic": "topic_02"
         },
         {
          "day": 2,
          "hour": 16,
          "score": 18.93,
          "topic": "topic_02"
         },
         {
          "day": 2,
          "hour": 17,
          "score": 26.47,
          "topic": "topic_02"
         },
         {
          "day": 2,
          "hour": 18,
          "score": 28.68,
          "topic": "topic_02"
         },
         {
          "day": 2,
          "hour": 19,
          "score": 31.86,
          "topic": "topic_02"
         },
         {
          "day": 2,
          "hour": 20,
          "score": 24.74,
          "topic": "topic_02"
         },
         {
          "day": 2,
          "hour": 21,
          "score": 12.25,
          "topic": "topic_02"
         },
         {
          "day": 2,
          "hour": 22,
          "score": 0,
          "topic": "topic_02"
         },
         {
          "day": 2,
          "hour": 23,
          "score": 3.92,
          "topic": "topic_02"
         },
         {
          "day": 3,
          "hour": 0,
          "score": 0,
          "topic": "topic_02"
         },
         {
          "day": 3,
          "hour": 1,
          "score": 0.21,
          "topic": "topic_02"
         },
         {
          "day": 3,
          "hour": 2,
          "score": 0,
          "topic": "topic_02"
         },
         {
          "day": 3,
          "hour": 3,
          "score": 0,
          "topic": "topic_02"
         },
         {
          "day": 3,
          "hour": 4,
          "score": 0,
          "topic": "topic_02"
         },
         {
          "day": 3,
          "hour": 5,
          "score": 0,
          "topic": "topic_02"
         },
         {
          "day": 3,
          "hour": 6,
          "score": 0,
          "topic": "topic_02"
         },
         {
          "day": 3,
          "hour": 7,
          "score": 4.1,
          "topic": "topic_02"
         },
         {
          "day": 3,
          "hour": 8,
          "score": 10.73,
          "topic": "topic_02"
         },
         {
          "day": 3,
          "hour": 9,
          "score": 3.24,
          "topic": "topic_02"
         },
         {
          "day": 3,
          "hour": 10,
          "score": 0,
          "topic": "topic_02"
         },
         {
          "day": 3,
          "hour": 11,
          "score": 2.95,
          "topic": "topic_02"
         },
         {
          "day": 3,
          "hour": 12,
          "score": 9.26,
          "topic": "topic_02"
         },
         {
          "day": 3,
          "hour": 13,
          "score": 10.46,
          "topic": "topic_02"
         },
         {
          "day": 3,
          "hour": 14,
          "score": 13.31,
          "topic": "topic_02"
         },
         {
          "day": 3,
          "hour": 15,
          "score": 15.76,
          "topic": "topic_02"
         },
         {
          "day": 3,
          "hour": 16,
          "score": 22.83,
          "topic": "topic_02"
         },
         {
          "day": 3,
          "hour": 17,
          "score": 29.78,
          "topic": "topic_02"
         },
         {
          "day": 3,
          "hour": 18,
          "score": 29.6,
          "topic": "topic_02"
         },
         {
          "day": 3,
          "hour": 19,
          "score": 31.57,
          "topic": "topic_02"
         },
         {
          "day": 3,
          "hour": 20,
          "score": 26.76,
          "topic": "topic_02"
         },
         {
          "day": 3,
          "hour": 21,
          "score": 13.43,
          "topic": "topic_02"
         },
         {
          "day": 3,
          "hour": 22,
          "score": 0,
          "topic": "topic_02"
         },
         {
          "day": 3,
          "hour": 23,
          "score": 2.55,
          "topic": "topic_02"
         },
         {
          "day": 4,
          "hour": 0,
          "score": 0.81,
          "topic": "topic_02"
         },
         {
          "day": 4,
          "hour": 1,
          "score": 1.12,
          "topic": "topic_02"
         },
         {
          "day": 4,
          "hour": 2,
          "score": 0.49,
          "topic": "topic_02"
         },
         {
          "day": 4,
          "hour": 3,
          "score": 0.04,
          "topic": "topic_02"
         },
         {
          "day": 4,
          "hour": 4,
          "score": 1.13,
          "topic": "topic_02"
         },
         {
          "day": 4,
          "hour": 5,
          "score": 0,
          "topic": "topic_02"
         },
         {
          "day": 4,
          "hour": 6,
          "score": 0,
          "topic": "topic_02"
         },
         {
          "day": 4,
          "hour": 7,
          "score": 6.14,
          "topic": "topic_02"
         },
         {
          "day": 4,
          "hour": 8,
          "score": 14.03,
          "topic": "topic_02"
         },
         {
          "day": 4,
          "hour": 9,
          "score": 10.47,
          "topic": "topic_02"
         },
         {
          "day": 4,
          "hour": 10,
          "score": 7.99,
          "topic": "topic_02"
         },
         {
          "day": 4,
          "hour": 11,
          "score": 12.35,
          "topic": "topic_02"
         },
         {
          "day": 4,
          "hour": 12,
          "score": 18.89,
          "topic": "topic_02"
         },
         {
          "day": 4,
          "hour": 13,
          "score": 21.54,
          "topic": "topic_02"
         },
         {
          "day": 4,
          "hour": 14,
          "score": 23.96,
          "topic": "topic_02"
         },
         {
          "day": 4,
          "hour": 15,
          "score": 26.84,
          "topic": "topic_02"
         },
         {
          "day": 4,
          "hour": 16,
          "score": 32.29,
          "topic": "topic_02"
         },
         {
          "day": 4,
          "hour": 17,
          "score": 38.08,
          "topic": "topic_02"
         },
         {
          "day": 4,
          "hour": 18,
          "score": 41.54,
          "topic": "topic_02"
         },
         {
          "day": 4,
          "hour": 19,
          "score": 39.22,
          "topic": "topic_02"
         },
         {
          "day": 4,
          "hour": 20,
          "score": 33.62,
          "topic": "topic_02"
         },
         {
          "day": 4,
          "hour": 21,
          "score": 21.56,
          "topic": "topic_02"
         },
         {
          "day": 4,
          "hour": 22,
          "score": 6.65,
          "topic": "topic_02"
         },
         {
          "day": 4,
          "hour": 23,
          "score": 2.22,
          "topic": "topic_02"
         },
         {
          "day": 5,
          "hour": 0,
          "score": 7.17,
          "topic": "topic_02"
         },
         {
          "day": 5,
          "hour": 1,
          "score": 2.9,
          "topic": "topic_02"
         },
         {
          "day": 5,
          "hour": 2,
          "score": 0.49,
          "topic": "topic_02"
         },
         {
          "day": 5,
          "hour": 3,
          "score": 0.35,
          "topic": "topic_02"
         },
         {
          "day": 5,
          "hour": 4,
          "score": 0,
          "topic": "topic_02"
         },
         {
          "day": 5,
          "hour": 5,
          "score": 0,
          "topic": "topic_02"
         },
         {
          "day": 5,
          "hour": 6,
          "score": 2.51,
          "topic": "topic_02"
         },
         {
          "day": 5,
          "hour": 7,
          "score": 6.28,
          "topic": "topic_02"
         },
         {
          "day": 5,
          "hour": 8,
          "score": 11.66,
          "topic": "topic_02"
         },
         {
          "day": 5,
          "hour": 9,
          "score": 19.84,
          "topic": "topic_02"
         },
         {
          "day": 5,
          "hour": 10,
          "score": 30.31,
          "topic": "topic_02"
         },
         {
          "day": 5,
          "hour": 11,
          "score": 43.78,
          "topic": "topic_02"
         },
         {
          "day": 5,
          "hour": 12,
          "score": 63.9,
          "topic": "topic_02"
         },
         {
          "day": 5,
          "hour": 13,
          "score": 88.03,
          "topic": "topic_02"
         },
         {
          "day": 5,
          "hour": 14,
          "score": 112.93,
          "topic": "topic_02"
         },
         {
          "day": 5,
          "hour": 15,
          "score": 130.22,
          "topic": "topic_02"
         },
         {
          "day": 5,
          "hour": 16,
          "score": 152.74,
          "topic": "topic_02"
         },
         {
          "day": 5,
          "hour": 17,
          "score": 177,
          "topic": "topic_02"
         },
         {
          "day": 5,
          "hour": 18,
          "score": 199.67,
          "topic": "topic_02"
         },
         {
          "day": 5,
          "hour": 19,
          "score": 204.02,
          "topic": "topic_02"
         },
         {
          "day": 5,
          "hour": 20,
          "score": 140.31,
          "topic": "topic_02"
         },
         {
          "day": 5,
          "hour": 21,
          "score": 68.56,
          "topic": "topic_02"
         },
         {
          "day": 5,
          "hour": 22,
          "score": 6.81,
          "topic": "topic_02"
         },
         {
          "day": 5,
          "hour": 23,
          "score": 0,
          "topic": "topic_02"
         },
         {
          "day": 6,
          "hour": 0,
          "score": 16.58,
          "topic": "topic_02"
         },
         {
          "day": 6,
          "hour": 1,
          "score": 13.88,
          "topic": "topic_02"
         },
         {
          "day": 6,
          "hour": 2,
          "score": 10.93,
          "topic": "topic_02"
         },
         {
          "day": 6,
          "hour": 3,
          "score": 10.39,
          "topic": "topic_02"
         },
         {
          "day": 6,
          "hour": 4,
          "score": 7.74,
          "topic": "topic_02"
         },
         {
          "day": 6,
          "hour": 5,
          "score": 8.99,
          "topic": "topic_02"
         },
         {
          "day": 6,
          "hour": 6,
          "score": 7.79,
          "topic": "topic_02"
         },
         {
          "day": 6,
          "hour": 7,
          "score": 4.43,
          "topic": "topic_02"
         },
         {
          "day": 6,
          "hour": 8,
          "score": 8.16,
          "topic": "topic_02"
         },
         {
          "day": 6,
          "hour": 9,
          "score": 11.7,
          "topic": "topic_02"
         },
         {
          "day": 6,
          "hour": 10,
          "score": 19.12,
          "topic": "topic_02"
         },
         {
          "day": 6,
          "hour": 11,
          "score": 38.11,
          "topic": "topic_02"
         },
         {
          "day": 6,
          "hour": 12,
          "score": 76.86,
          "topic": "topic_02"
         },
         {
          "day": 6,
          "hour": 13,
          "score": 124.02,
          "topic": "topic_02"
         },
         {
          "day": 6,
          "hour": 14,
          "score": 148.31,
          "topic": "topic_02"
         },
         {
          "day": 6,
          "hour": 15,
          "score": 164.16,
          "topic": "topic_02"
         },
         {
          "day": 6,
          "hour": 16,
          "score": 180.24,
          "topic": "topic_02"
         },
         {
          "day": 6,
          "hour": 17,
          "score": 196.75,
          "topic": "topic_02"
         },
         {
          "day": 6,
          "hour": 18,
          "score": 201.81,
          "topic": "topic_02"
         },
         {
          "day": 6,
          "hour": 19,
          "score": 183.54,
          "topic": "topic_02"
         },
         {
          "day": 6,
          "hour": 20,
          "score": 125.15,
          "topic": "topic_02"
         },
         {
          "day": 6,
          "hour": 21,
          "score": 57.49,
          "topic": "topic_02"
         },
         {
          "day": 6,
          "hour": 22,
          "score": 20.75,
          "topic": "topic_02"
         },
         {
          "day": 6,
          "hour": 23,
          "score": 5.93,
          "topic": "topic_02"
         },
         {
          "day": 0,
          "hour": 0,
          "score": 3.15,
          "topic": "topic_03"
         },
         {
          "day": 0,
          "hour": 1,
          "score": 0.35,
          "topic": "topic_03"
         },
         {
          "day": 0,
          "hour": 2,
          "score": 0,
          "topic": "topic_03"
         },
         {
          "day": 0,
          "hour": 3,
          "score": 0,
          "topic": "topic_03"
         },
         {
          "day": 0,
          "hour": 4,
          "score": 0,
          "topic": "topic_03"
         },
         {
          "day": 0,
          "hour": 5,
          "score": 0.72,
          "topic": "topic_03"
         },
         {
          "day": 0,
          "hour": 6,
          "score": 3.82,
          "topic": "topic_03"
         },
         {
          "day": 0,
          "hour": 7,
          "score": 6.69,
          "topic": "topic_03"
         },
         {
          "day": 0,
          "hour": 8,
          "score": 0,
          "topic": "topic_03"
         },
         {
          "day": 0,
          "hour": 9,
          "score": 0,
          "topic": "topic_03"
         },
         {
          "day": 0,
          "hour": 10,
          "score": 0,
          "topic": "topic_03"
         },
         {
          "day": 0,
          "hour": 11,
          "score": 0,
          "topic": "topic_03"
         },
         {
          "day": 0,
          "hour": 12,
          "score": 3.35,
          "topic": "topic_03"
         },
         {
          "day": 0,
          "hour": 13,
          "score": 4.46,
          "topic": "topic_03"
         },
         {
          "day": 0,
          "hour": 14,
          "score": 13.56,
          "topic": "topic_03"
         },
         {
          "day": 0,
          "hour": 15,
          "score": 28.22,
          "topic": "topic_03"
         },
         {
          "day": 0,
          "hour": 16,
          "score": 44.07,
          "topic": "topic_03"
         },
         {
          "day": 0,
          "hour": 17,
          "score": 59.31,
          "topic": "topic_03"
         },
         {
          "day": 0,
          "hour": 18,
          "score": 79.25,
          "topic": "topic_03"
         },
         {
          "day": 0,
          "hour": 19,
          "score": 88.68,
          "topic": "topic_03"
         },
         {
          "day": 0,
          "hour": 20,
          "score": 96.68,
          "topic": "topic_03"
         },
         {
          "day": 0,
          "hour": 21,
          "score": 100.99,
          "topic": "topic_03"
         },
         {
          "day": 0,
          "hour": 22,
          "score": 99.64,
          "topic": "topic_03"
         },
         {
          "day": 0,
          "hour": 23,
          "score": 5.65,
          "topic": "topic_03"
         },
         {
          "day": 1,
          "hour": 0,
          "score": 8.52,
          "topic": "topic_03"
         },
         {
          "day": 1,
          "hour": 1,
          "score": 3.73,
          "topic": "topic_03"
         },
         {
          "day": 1,
          "hour": 2,
          "score": 2.45,
          "topic": "topic_03"
         },
         {
          "day": 1,
          "hour": 3,
          "score": 2,
          "topic": "topic_03"
         },
         {
          "day": 1,
          "hour": 4,
          "score": 0,
          "topic": "topic_03"
         },
         {
          "day": 1,
          "hour": 5,
          "score": 2.94,
          "topic": "topic_03"
         },
         {
          "day": 1,
          "hour": 6,
          "score": 6.1,
          "topic": "topic_03"
         },
         {
          "day": 1,
          "hour": 7,
          "score": 11.52,
          "topic": "topic_03"
         },
         {
          "day": 1,
          "hour": 8,
          "score": 2.72,
          "topic": "topic_03"
         },
         {
          "day": 1,
          "hour": 9,
          "score": 1.22,
          "topic": "topic_03"
         },
         {
          "day": 1,
          "hour": 10,
          "score": 0,
          "topic": "topic_03"
         },
         {
          "day": 1,
          "hour": 11,
          "score": 0,
          "topic": "topic_03"
         },
         {
          "day": 1,
          "hour": 12,
          "score": 0,
          "topic": "topic_03"
         },
         {
          "day": 1,
          "hour": 13,
          "score": 0.45,
          "topic": "topic_03"
         },
         {
          "day": 1,
          "hour": 14,
          "score": 11.62,
          "topic": "topic_03"
         },
         {
          "day": 1,
          "hour": 15,
          "score": 23.02,
          "topic": "topic_03"
         },
         {
          "day": 1,
          "hour": 16,
          "score": 46.46,
          "topic": "topic_03"
         },
         {
          "day": 1,
          "hour": 17,
          "score": 65.47,
          "topic": "topic_03"
         },
         {
          "day": 1,
          "hour": 18,
          "score": 89.05,
          "topic": "topic_03"
         },
         {
          "day": 1,
          "hour": 19,
          "score": 97.21,
          "topic": "topic_03"
         },
         {
          "day": 1,
          "hour": 20,
          "score": 105.65,
          "topic": "topic_03"
         },
         {
          "day": 1,
          "hour": 21,
          "score": 113.95,
          "topic": "topic_03"
         },
         {
          "day": 1,
          "hour": 22,
          "score": 114.42,
          "topic": "topic_03"
         },
         {
          "day": 1,
          "hour": 23,
          "score": 9.19,
          "topic": "topic_03"
         },
         {
          "day": 2,
          "hour": 0,
          "score": 9.01,
          "topic": "topic_03"
         },
         {
          "day": 2,
          "hour": 1,
          "score": 4.55,
          "topic": "topic_03"
         },
         {
          "day": 2,
          "hour": 2,
          "score": 2.91,
          "topic": "topic_03"
         },
         {
          "day": 2,
          "hour": 3,
          "score": 2.23,
          "topic": "topic_03"
         },
         {
          "day": 2,
          "hour": 4,
          "score": 0,
          "topic": "topic_03"
         },
         {
          "day": 2,
          "hour": 5,
          "score": 3.19,
          "topic": "topic_03"
         },
         {
          "day": 2,
          "hour": 6,
          "score": 5.74,
          "topic": "topic_03"
         },
         {
          "day": 2,
          "hour": 7,
          "score": 11.66,
          "topic": "topic_03"
         },
         {
          "day": 2,
          "hour": 8,
          "score": 2.95,
          "topic": "topic_03"
         },
         {
          "day": 2,
          "hour": 9,
          "score": 0.44,
          "topic": "topic_03"
         },
         {
          "day": 2,
          "hour": 10,
          "score": 0,
          "topic": "topic_03"
         },
         {
          "day": 2,
          "hour": 11,
          "score": 1.21,
          "topic": "topic_03"
         },
         {
          "day": 2,
          "hour": 12,
          "score": 2.88,
          "topic": "topic_03"
         },
         {
          "day": 2,
          "hour": 13,
          "score": 4.99,
          "topic": "topic_03"
         },
         {
          "day": 2,
          "hour": 14,
          "score": 9.24,
          "topic": "topic_03"
         },
         {
          "day": 2,
          "hour": 15,
          "score": 26.83,
          "topic": "topic_03"
         },
         {
          "day": 2,
          "hour": 16,
          "score": 47.27,
          "topic": "topic_03"
         },
         {
          "day": 2,
          "hour": 17,
          "score": 65.93,
          "topic": "topic_03"
         },
         {
          "day": 2,
          "hour": 18,
          "score": 88.22,
          "topic": "topic_03"
         },
         {
          "day": 2,
          "hour": 19,
          "score": 96.67,
          "topic": "topic_03"
         },
         {
          "day": 2,
          "hour": 20,
          "score": 105.58,
          "topic": "topic_03"
         },
         {
          "day": 2,
          "hour": 21,
          "score": 113.72,
          "topic": "topic_03"
         },
         {
          "day": 2,
          "hour": 22,
          "score": 114.28,
          "topic": "topic_03"
         },
         {
          "day": 2,
          "hour": 23,
          "score": 5,
          "topic": "topic_03"
         },
         {
          "day": 3,
          "hour": 0,
          "score": 9.15,
          "topic": "topic_03"
         },
         {
          "day": 3,
          "hour": 1,
          "score": 4.3,
          "topic": "topic_03"
         },
         {
          "day": 3,
          "hour": 2,
          "score": 2.73,
          "topic": "topic_03"
         },
         {
          "day": 3,
          "hour": 3,
          "score": 2.36,
          "topic": "topic_03"
         },
         {
          "day": 3,
          "hour": 4,
          "score": 0,
          "topic": "topic_03"
         },
         {
          "day": 3,
          "hour": 5,
          "score": 4.44,
          "topic": "topic_03"
         },
         {
          "day": 3,
          "hour": 6,
          "score": 6.59,
          "topic": "topic_03"
         },
         {
          "day": 3,
          "hour": 7,
          "score": 12.46,
          "topic": "topic_03"
         },
         {
          "day": 3,
          "hour": 8,
          "score": 3.51,
          "topic": "topic_03"
         },
         {
          "day": 3,
          "hour": 9,
          "score": 1.18,
          "topic": "topic_03"
         },
         {
          "day": 3,
          "hour": 10,
          "score": 0,
          "topic": "topic_03"
         },
         {
          "day": 3,
          "hour": 11,
          "score": 0,
          "topic": "topic_03"
         },
         {
          "day": 3,
          "hour": 12,
          "score": 2.69,
          "topic": "topic_03"
         },
         {
          "day": 3,
          "hour": 13,
          "score": 4.34,
          "topic": "topic_03"
         },
         {
          "day": 3,
          "hour": 14,
          "score": 10.79,
          "topic": "topic_03"
         },
         {
          "day": 3,
          "hour": 15,
          "score": 24.02,
          "topic": "topic_03"
         },
         {
          "day": 3,
          "hour": 16,
          "score": 45.68,
          "topic": "topic_03"
         },
         {
          "day": 3,
          "hour": 17,
          "score": 63.4,
          "topic": "topic_03"
         },
         {
          "day": 3,
          "hour": 18,
          "score": 88.31,
          "topic": "topic_03"
         },
         {
          "day": 3,
          "hour": 19,
          "score": 97.26,
          "topic": "topic_03"
         },
         {
          "day": 3,
          "hour": 20,
          "score": 107.32,
          "topic": "topic_03"
         },
         {
          "day": 3,
          "hour": 21,
          "score": 115.61,
          "topic": "topic_03"
         },
         {
          "day": 3,
          "hour": 22,
          "score": 116.53,
          "topic": "topic_03"
         },
         {
          "day": 3,
          "hour": 23,
          "score": 10.83,
          "topic": "topic_03"
         },
         {
          "day": 4,
          "hour": 0,
          "score": 9.79,
          "topic": "topic_03"
         },
         {
          "day": 4,
          "hour": 1,
          "score": 3.96,
          "topic": "topic_03"
         },
         {
          "day": 4,
          "hour": 2,
          "score": 2.77,
          "topic": "topic_03"
         },
         {
          "day": 4,
          "hour": 3,
          "score": 2.58,
          "topic": "topic_03"
         },
         {
          "day": 4,
          "hour": 4,
          "score": 0,
          "topic": "topic_03"
         },
         {
          "day": 4,
          "hour": 5,
          "score": 4.88,
          "topic": "topic_03"
         },
         {
          "day": 4,
          "hour": 6,
          "score": 7.9,
          "topic": "topic_03"
         },
         {
          "day": 4,
          "hour": 7,
          "score": 12.96,
          "topic": "topic_03"
         },
         {
          "day": 4,
          "hour": 8,
          "score": 4.53,
          "topic": "topic_03"
         },
         {
          "day": 4,
          "hour": 9,
          "score": 3.63,
          "topic": "topic_03"
         },
         {
          "day": 4,
          "hour": 10,
          "score": 2.92,
          "topic": "topic_03"
         },
         {
          "day": 4,
          "hour": 11,
          "score": 5.13,
          "topic": "topic_03"
         },
         {
          "day": 4,
          "hour": 12,
          "score": 6.33,
          "topic": "topic_03"
         },
         {
          "day": 4,
          "hour": 13,
          "score": 5.92,
          "topic": "topic_03"
         },
         {
          "day": 4,
          "hour": 14,
          "score": 15.81,
          "topic": "topic_03"
         },
         {
          "day": 4,
          "hour": 15,
          "score": 32.9,
          "topic": "topic_03"
         },
         {
          "day": 4,
          "hour": 16,
          "score": 50.21,
          "topic": "topic_03"
         },
         {
          "day": 4,
          "hour": 17,
          "score": 66.65,
          "topic": "topic_03"
         },
         {
          "day": 4,
          "hour": 18,
          "score": 86.47,
          "topic": "topic_03"
         },
         {
          "day": 4,
          "hour": 19,
          "score": 96.24,
          "topic": "topic_03"
         },
         {
          "day": 4,
          "hour": 20,
          "score": 104.74,
          "topic": "topic_03"
         },
         {
          "day": 4,
          "hour": 21,
          "score": 107.84,
          "topic": "topic_03"
         },
         {
          "day": 4,
          "hour": 22,
          "score": 106.03,
          "topic": "topic_03"
         },
         {
          "day": 4,
          "hour": 23,
          "score": 16.88,
          "topic": "topic_03"
         },
         {
          "day": 5,
          "hour": 0,
          "score": 10.97,
          "topic": "topic_03"
         },
         {
          "day": 5,
          "hour": 1,
          "score": 5.58,
          "topic": "topic_03"
         },
         {
          "day": 5,
          "hour": 2,
          "score": 5.07,
          "topic": "topic_03"
         },
         {
          "day": 5,
          "hour": 3,
          "score": 4.7,
          "topic": "topic_03"
         },
         {
          "day": 5,
          "hour": 4,
          "score": 2.59,
          "topic": "topic_03"
         },
         {
          "day": 5,
          "hour": 5,
          "score": 7.26,
          "topic": "topic_03"
         },
         {
          "day": 5,
          "hour": 6,
          "score": 8.75,
          "topic": "topic_03"
         },
         {
          "day": 5,
          "hour": 7,
          "score": 10.55,
          "topic": "topic_03"
         },
         {
          "day": 5,
          "hour": 8,
          "score": 13.36,
          "topic": "topic_03"
         },
         {
          "day": 5,
          "hour": 9,
          "score": 13.69,
          "topic": "topic_03"
         },
         {
          "day": 5,
          "hour": 10,
          "score": 12.16,
          "topic": "topic_03"
         },
         {
          "day": 5,
          "hour": 11,
          "score": 13.53,
          "topic": "topic_03"
         },
         {
          "day": 5,
          "hour": 12,
          "score": 12.44,
          "topic": "topic_03"
         },
         {
          "day": 5,
          "hour": 13,
          "score": 6.13,
          "topic": "topic_03"
         },
         {
          "day": 5,
          "hour": 14,
          "score": 0,
          "topic": "topic_03"
         },
         {
          "day": 5,
          "hour": 15,
          "score": 0.01,
          "topic": "topic_03"
         },
         {
          "day": 5,
          "hour": 16,
          "score": 0,
          "topic": "topic_03"
         },
         {
          "day": 5,
          "hour": 17,
          "score": 0,
          "topic": "topic_03"
         },
         {
          "day": 5,
          "hour": 18,
          "score": 0,
          "topic": "topic_03"
         },
         {
          "day": 5,
          "hour": 19,
          "score": 3.94,
          "topic": "topic_03"
         },
         {
          "day": 5,
          "hour": 20,
          "score": 42.29,
          "topic": "topic_03"
         },
         {
          "day": 5,
          "hour": 21,
          "score": 78.81,
          "topic": "topic_03"
         },
         {
          "day": 5,
          "hour": 22,
          "score": 100.82,
          "topic": "topic_03"
         },
         {
          "day": 5,
          "hour": 23,
          "score": 0,
          "topic": "topic_03"
         },
         {
          "day": 6,
          "hour": 0,
          "score": 4.03,
          "topic": "topic_03"
         },
         {
          "day": 6,
          "hour": 1,
          "score": 0,
          "topic": "topic_03"
         },
         {
          "day": 6,
          "hour": 2,
          "score": 0,
          "topic": "topic_03"
         },
         {
          "day": 6,
          "hour": 3,
          "score": 0,
          "topic": "topic_03"
         },
         {
          "day": 6,
          "hour": 4,
          "score": 0,
          "topic": "topic_03"
         },
         {
          "day": 6,
          "hour": 5,
          "score": 2,
          "topic": "topic_03"
         },
         {
          "day": 6,
          "hour": 6,
          "score": 7.01,
          "topic": "topic_03"
         },
         {
          "day": 6,
          "hour": 7,
          "score": 11.86,
          "topic": "topic_03"
         },
         {
          "day": 6,
          "hour": 8,
          "score": 19.84,
          "topic": "topic_03"
         },
         {
          "day": 6,
          "hour": 9,
          "score": 27.16,
          "topic": "topic_03"
         },
         {
          "day": 6,
          "hour": 10,
          "score": 33.64,
          "topic": "topic_03"
         },
         {
          "day": 6,
          "hour": 11,
          "score": 31.41,
          "topic": "topic_03"
         },
         {
          "day": 6,
          "hour": 12,
          "score": 22.37,
          "topic": "topic_03"
         },
         {
          "day": 6,
          "hour": 13,
          "score": 3.05,
          "topic": "topic_03"
         },
         {
          "day": 6,
          "hour": 14,
          "score": 0,
          "topic": "topic_03"
         },
         {
          "day": 6,
          "hour": 15,
          "score": 0,
          "topic": "topic_03"
         },
         {
          "day": 6,
          "hour": 16,
          "score": 0,
          "topic": "topic_03"
         },
         {
          "day": 6,
          "hour": 17,
          "score": 0,
          "topic": "topic_03"
         },
         {
          "day": 6,
          "hour": 18,
          "score": 4.63,
          "topic": "topic_03"
         },
         {
          "day": 6,
          "hour": 19,
          "score": 16.8,
          "topic": "topic_03"
         },
         {
          "day": 6,
          "hour": 20,
          "score": 47.22,
          "topic": "topic_03"
         },
         {
          "day": 6,
          "hour": 21,
          "score": 77.35,
          "topic": "topic_03"
         },
         {
          "day": 6,
          "hour": 22,
          "score": 85.71,
          "topic": "topic_03"
         },
         {
          "day": 6,
          "hour": 23,
          "score": 4.21,
          "topic": "topic_03"
         },
         {
          "day": 0,
          "hour": 0,
          "score": 0.79,
          "topic": "topic_04"
         },
         {
          "day": 0,
          "hour": 1,
          "score": 0,
          "topic": "topic_04"
         },
         {
          "day": 0,
          "hour": 2,
          "score": 0,
          "topic": "topic_04"
         },
         {
          "day": 0,
          "hour": 3,
          "score": 0.2,
          "topic": "topic_04"
         },
         {
          "day": 0,
          "hour": 4,
          "score": 6.87,
          "topic": "topic_04"
         },
         {
          "day": 0,
          "hour": 5,
          "score": 30.44,
          "topic": "topic_04"
         },
         {
          "day": 0,
          "hour": 6,
          "score": 75.03,
          "topic": "topic_04"
         },
         {
          "day": 0,
          "hour": 7,
          "score": 150.38,
          "topic": "topic_04"
         },
         {
          "day": 0,
          "hour": 8,
          "score": 121.97,
          "topic": "topic_04"
         },
         {
          "day": 0,
          "hour": 9,
          "score": 82.9,
          "topic": "topic_04"
         },
         {
          "day": 0,
          "hour": 10,
          "score": 54.29,
          "topic": "topic_04"
         },
         {
          "day": 0,
          "hour": 11,
          "score": 28.95,
          "topic": "topic_04"
         },
         {
          "day": 0,
          "hour": 12,
          "score": 18.2,
          "topic": "topic_04"
         },
         {
          "day": 0,
          "hour": 13,
          "score": 10.76,
          "topic": "topic_04"
         },
         {
          "day": 0,
          "hour": 14,
          "score": 14.77,
          "topic": "topic_04"
         },
         {
          "day": 0,
          "hour": 15,
          "score": 11.88,
          "topic": "topic_04"
         },
         {
          "day": 0,
          "hour": 16,
          "score": 8.31,
          "topic": "topic_04"
         },
         {
          "day": 0,
          "hour": 17,
          "score": 3.54,
          "topic": "topic_04"
         },
         {
          "day": 0,
          "hour": 18,
          "score": 10.41,
          "topic": "topic_04"
         },
         {
          "day": 0,
          "hour": 19,
          "score": 7.87,
          "topic": "topic_04"
         },
         {
          "day": 0,
          "hour": 20,
          "score": 12.86,
          "topic": "topic_04"
         },
         {
          "day": 0,
          "hour": 21,
          "score": 22.15,
          "topic": "topic_04"
         },
         {
          "day": 0,
          "hour": 22,
          "score": 30.47,
          "topic": "topic_04"
         },
         {
          "day": 0,
          "hour": 23,
          "score": 20.05,
          "topic": "topic_04"
         },
         {
          "day": 1,
          "hour": 0,
          "score": 6.54,
          "topic": "topic_04"
         },
         {
          "day": 1,
          "hour": 1,
          "score": 0.81,
          "topic": "topic_04"
         },
         {
          "day": 1,
          "hour": 2,
          "score": 0,
          "topic": "topic_04"
         },
         {
          "day": 1,
          "hour": 3,
          "score": 0,
          "topic": "topic_04"
         },
         {
          "day": 1,
          "hour": 4,
          "score": 6.26,
          "topic": "topic_04"
         },
         {
          "day": 1,
          "hour": 5,
          "score": 32.22,
          "topic": "topic_04"
         },
         {
          "day": 1,
          "hour": 6,
          "score": 80.2,
          "topic": "topic_04"
         },
         {
          "day": 1,
          "hour": 7,
          "score": 168.12,
          "topic": "topic_04"
         },
         {
          "day": 1,
          "hour": 8,
          "score": 135.67,
          "topic": "topic_04"
         },
         {
          "day": 1,
          "hour": 9,
          "score": 88.53,
          "topic": "topic_04"
         },
         {
          "day": 1,
          "hour": 10,
          "score": 49.66,
          "topic": "topic_04"
         },
         {
          "day": 1,
          "hour": 11,
          "score": 15.89,
          "topic": "topic_04"
         },
         {
          "day": 1,
          "hour": 12,
          "score": 0,
          "topic": "topic_04"
         },
         {
          "day": 1,
          "hour": 13,
          "score": 3.63,
          "topic": "topic_04"
         },
         {
          "day": 1,
          "hour": 14,
          "score": 5.29,
          "topic": "topic_04"
         },
         {
          "day": 1,
          "hour": 15,
          "score": 4.68,
          "topic": "topic_04"
         },
         {
          "day": 1,
          "hour": 16,
          "score": 2.63,
          "topic": "topic_04"
         },
         {
          "day": 1,
          "hour": 17,
          "score": 0,
          "topic": "topic_04"
         },
         {
          "day": 1,
          "hour": 18,
          "score": 7.72,
          "topic": "topic_04"
         },
         {
          "day": 1,
          "hour": 19,
          "score": 5.58,
          "topic": "topic_04"
         },
         {
          "day": 1,
          "hour": 20,
          "score": 11.71,
          "topic": "topic_04"
         },
         {
          "day": 1,
          "hour": 21,
          "score": 18.04,
          "topic": "topic_04"
         },
         {
          "day": 1,
          "hour": 22,
          "score": 25.01,
          "topic": "topic_04"
         },
         {
          "day": 1,
          "hour": 23,
          "score": 17.49,
          "topic": "topic_04"
         },
         {
          "day": 2,
          "hour": 0,
          "score": 6.79,
          "topic": "topic_04"
         },
         {
          "day": 2,
          "hour": 1,
          "score": 1.46,
          "topic": "topic_04"
         },
         {
          "day": 2,
          "hour": 2,
          "score": 0,
          "topic": "topic_04"
         },
         {
          "day": 2,
          "hour": 3,
          "score": 0,
          "topic": "topic_04"
         },
         {
          "day": 2,
          "hour": 4,
          "score": 5.93,
          "topic": "topic_04"
         },
         {
          "day": 2,
          "hour": 5,
          "score": 29.4,
          "topic": "topic_04"
         },
         {
          "day": 2,
          "hour": 6,
          "score": 78.91,
          "topic": "topic_04"
         },
         {
          "day": 2,
          "hour": 7,
          "score": 166.98,
          "topic": "topic_04"
         },
         {
          "day": 2,
          "hour": 8,
          "score": 138.8,
          "topic": "topic_04"
         },
         {
          "day": 2,
          "hour": 9,
          "score": 91.07,
          "topic": "topic_04"
         },
         {
          "day": 2,
          "hour": 10,
          "score": 49.98,
          "topic": "topic_04"
         },
         {
          "day": 2,
          "hour": 11,
          "score": 17.52,
          "topic": "topic_04"
         },
         {
          "day": 2,
          "hour": 12,
          "score": 0.38,
          "topic": "topic_04"
         },
         {
          "day": 2,
          "hour": 13,
          "score": 0,
          "topic": "topic_04"
         },
         {
          "day": 2,
          "hour": 14,
          "score": 0,
          "topic": "topic_04"
         },
         {
          "day": 2,
          "hour": 15,
          "score": 4.37,
          "topic": "topic_04"
         },
         {
          "day": 2,
          "hour": 16,
          "score": 0,
          "topic": "topic_04"
         },
         {
          "day": 2,
          "hour": 17,
          "score": 0,
          "topic": "topic_04"
         },
         {
          "day": 2,
          "hour": 18,
          "score": 5.42,
          "topic": "topic_04"
         },
         {
          "day": 2,
          "hour": 19,
          "score": 1.01,
          "topic": "topic_04"
         },
         {
          "day": 2,
          "hour": 20,
          "score": 8.12,
          "topic": "topic_04"
         },
         {
          "day": 2,
          "hour": 21,
          "score": 19.73,
          "topic": "topic_04"
         },
         {
          "day": 2,
          "hour": 22,
          "score": 26.37,
          "topic": "topic_04"
         },
         {
          "day": 2,
          "hour": 23,
          "score": 13.71,
          "topic": "topic_04"
         },
         {
          "day": 3,
          "hour": 0,
          "score": 7.09,
          "topic": "topic_04"
         },
         {
          "day": 3,
          "hour": 1,
          "score": 0.96,
          "topic": "topic_04"
         },
         {
          "day": 3,
          "hour": 2,
          "score": 0,
          "topic": "topic_04"
         },
         {
          "day": 3,
          "hour": 3,
          "score": 0,
          "topic": "topic_04"
         },
         {
          "day": 3,
          "hour": 4,
          "score": 6.02,
          "topic": "topic_04"
         },
         {
          "day": 3,
          "hour": 5,
          "score": 29.26,
          "topic": "topic_04"
         },
         {
          "day": 3,
          "hour": 6,
          "score": 77.37,
          "topic": "topic_04"
         },
         {
          "day": 3,
          "hour": 7,
          "score": 168.62,
          "topic": "topic_04"
         },
         {
          "day": 3,
          "hour": 8,
          "score": 141.47,
          "topic": "topic_04"
         },
         {
          "day": 3,
          "hour": 9,
          "score": 89.44,
          "topic": "topic_04"
         },
         {
          "day": 3,
          "hour": 10,
          "score": 51.12,
          "topic": "topic_04"
         },
         {
          "day": 3,
          "hour": 11,
          "score": 18.44,
          "topic": "topic_04"
         },
         {
          "day": 3,
          "hour": 12,
          "score": 4.01,
          "topic": "topic_04"
         },
         {
          "day": 3,
          "hour": 13,
          "score": 0.68,
          "topic": "topic_04"
         },
         {
          "day": 3,
          "hour": 14,
          "score": 4.57,
          "topic": "topic_04"
         },
         {
          "day": 3,
          "hour": 15,
          "score": 5.95,
          "topic": "topic_04"
         },
         {
          "day": 3,
          "hour": 16,
          "score": 2.2,
          "topic": "topic_04"
         },
         {
          "day": 3,
          "hour": 17,
          "score": 2.08,
          "topic": "topic_04"
         },
         {
          "day": 3,
          "hour": 18,
          "score": 5.41,
          "topic": "topic_04"
         },
         {
          "day": 3,
          "hour": 19,
          "score": 0.27,
          "topic": "topic_04"
         },
         {
          "day": 3,
          "hour": 20,
          "score": 5.85,
          "topic": "topic_04"
         },
         {
          "day": 3,
          "hour": 21,
          "score": 17.6,
          "topic": "topic_04"
         },
         {
          "day": 3,
          "hour": 22,
          "score": 23.82,
          "topic": "topic_04"
         },
         {
          "day": 3,
          "hour": 23,
          "score": 16.8,
          "topic": "topic_04"
         },
         {
          "day": 4,
          "hour": 0,
          "score": 6.08,
          "topic": "topic_04"
         },
         {
          "day": 4,
          "hour": 1,
          "score": 0.22,
          "topic": "topic_04"
         },
         {
          "day": 4,
          "hour": 2,
          "score": 0,
          "topic": "topic_04"
         },
         {
          "day": 4,
          "hour": 3,
          "score": 0,
          "topic": "topic_04"
         },
         {
          "day": 4,
          "hour": 4,
          "score": 5.07,
          "topic": "topic_04"
         },
         {
          "day": 4,
          "hour": 5,
          "score": 29.42,
          "topic": "topic_04"
         },
         {
          "day": 4,
          "hour": 6,
          "score": 74.15,
          "topic": "topic_04"
         },
         {
          "day": 4,
          "hour": 7,
          "score": 159.22,
          "topic": "topic_04"
         },
         {
          "day": 4,
          "hour": 8,
          "score": 135.71,
          "topic": "topic_04"
         },
         {
          "day": 4,
          "hour": 9,
          "score": 86.26,
          "topic": "topic_04"
         },
         {
          "day": 4,
          "hour": 10,
          "score": 53.57,
          "topic": "topic_04"
         },
         {
          "day": 4,
          "hour": 11,
          "score": 20.31,
          "topic": "topic_04"
         },
         {
          "day": 4,
          "hour": 12,
          "score": 2.73,
          "topic": "topic_04"
         },
         {
          "day": 4,
          "hour": 13,
          "score": 0,
          "topic": "topic_04"
         },
         {
          "day": 4,
          "hour": 14,
          "score": 3.59,
          "topic": "topic_04"
         },
         {
          "day": 4,
          "hour": 15,
          "score": 3.31,
          "topic": "topic_04"
         },
         {
          "day": 4,
          "hour": 16,
          "score": 0.54,
          "topic": "topic_04"
         },
         {
          "day": 4,
          "hour": 17,
          "score": 0,
          "topic": "topic_04"
         },
         {
          "day": 4,
          "hour": 18,
          "score": 13.92,
          "topic": "topic_04"
         },
         {
          "day": 4,
          "hour": 19,
          "score": 4.11,
          "topic": "topic_04"
         },
         {
          "day": 4,
          "hour": 20,
          "score": 6.97,
          "topic": "topic_04"
         },
         {
          "day": 4,
          "hour": 21,
          "score": 15.89,
          "topic": "topic_04"
         },
         {
          "day": 4,
          "hour": 22,
          "score": 21.47,
          "topic": "topic_04"
         },
         {
          "day": 4,
          "hour": 23,
          "score": 11.47,
          "topic": "topic_04"
         },
         {
          "day": 5,
          "hour": 0,
          "score": 11.98,
          "topic": "topic_04"
         },
         {
          "day": 5,
          "hour": 1,
          "score": 3.36,
          "topic": "topic_04"
         },
         {
          "day": 5,
          "hour": 2,
          "score": 0,
          "topic": "topic_04"
         },
         {
          "day": 5,
          "hour": 3,
          "score": 0,
          "topic": "topic_04"
         },
         {
          "day": 5,
          "hour": 4,
          "score": 4.72,
          "topic": "topic_04"
         },
         {
          "day": 5,
          "hour": 5,
          "score": 26.57,
          "topic": "topic_04"
         },
         {
          "day": 5,
          "hour": 6,
          "score": 56.69,
          "topic": "topic_04"
         },
         {
          "day": 5,
          "hour": 7,
          "score": 83.64,
          "topic": "topic_04"
         },
         {
          "day": 5,
          "hour": 8,
          "score": 104.18,
          "topic": "topic_04"
         },
         {
          "day": 5,
          "hour": 9,
          "score": 108.73,
          "topic": "topic_04"
         },
         {
          "day": 5,
          "hour": 10,
          "score": 99.7,
          "topic": "topic_04"
         },
         {
          "day": 5,
          "hour": 11,
          "score": 80.2,
          "topic": "topic_04"
         },
         {
          "day": 5,
          "hour": 12,
          "score": 55.24,
          "topic": "topic_04"
         },
         {
          "day": 5,
          "hour": 13,
          "score": 30.62,
          "topic": "topic_04"
         },
         {
          "day": 5,
          "hour": 14,
          "score": 13,
          "topic": "topic_04"
         },
         {
          "day": 5,
          "hour": 15,
          "score": 2.93,
          "topic": "topic_04"
         },
         {
          "day": 5,
          "hour": 16,
          "score": 0.73,
          "topic": "topic_04"
         },
         {
          "day": 5,
          "hour": 17,
          "score": 0,
          "topic": "topic_04"
         },
         {
          "day": 5,
          "hour": 18,
          "score": 0,
          "topic": "topic_04"
         },
         {
          "day": 5,
          "hour": 19,
          "score": 1.62,
          "topic": "topic_04"
         },
         {
          "day": 5,
          "hour": 20,
          "score": 19.48,
          "topic": "topic_04"
         },
         {
          "day": 5,
          "hour": 21,
          "score": 29.14,
          "topic": "topic_04"
         },
         {
          "day": 5,
          "hour": 22,
          "score": 14.78,
          "topic": "topic_04"
         },
         {
          "day": 5,
          "hour": 23,
          "score": 0,
          "topic": "topic_04"
         },
         {
          "day": 6,
          "hour": 0,
          "score": 8.53,
          "topic": "topic_04"
         },
         {
          "day": 6,
          "hour": 1,
          "score": 4.41,
          "topic": "topic_04"
         },
         {
          "day": 6,
          "hour": 2,
          "score": 2.52,
          "topic": "topic_04"
         },
         {
          "day": 6,
          "hour": 3,
          "score": 1.9,
          "topic": "topic_04"
         },
         {
          "day": 6,
          "hour": 4,
          "score": 5.08,
          "topic": "topic_04"
         },
         {
          "day": 6,
          "hour": 5,
          "score": 20.07,
          "topic": "topic_04"
         },
         {
          "day": 6,
          "hour": 6,
          "score": 40.43,
          "topic": "topic_04"
         },
         {
          "day": 6,
          "hour": 7,
          "score": 58.48,
          "topic": "topic_04"
         },
         {
          "day": 6,
          "hour": 8,
          "score": 74.75,
          "topic": "topic_04"
         },
         {
          "day": 6,
          "hour": 9,
          "score": 83.56,
          "topic": "topic_04"
         },
         {
          "day": 6,
          "hour": 10,
          "score": 81.83,
          "topic": "topic_04"
         },
         {
          "day": 6,
          "hour": 11,
          "score": 65.02,
          "topic": "topic_04"
         },
         {
          "day": 6,
          "hour": 12,
          "score": 42.94,
          "topic": "topic_04"
         },
         {
          "day": 6,
          "hour": 13,
          "score": 22.35,
          "topic": "topic_04"
         },
         {
          "day": 6,
          "hour": 14,
          "score": 8.28,
          "topic": "topic_04"
         },
         {
          "day": 6,
          "hour": 15,
          "score": 0,
          "topic": "topic_04"
         },
         {
          "day": 6,
          "hour": 16,
          "score": 0,
          "topic": "topic_04"
         },
         {
          "day": 6,
          "hour": 17,
          "score": 0.07,
          "topic": "topic_04"
         },
         {
          "day": 6,
          "hour": 18,
          "score": 4.59,
          "topic": "topic_04"
         },
         {
          "day": 6,
          "hour": 19,
          "score": 10.58,
          "topic": "topic_04"
         },
         {
          "day": 6,
          "hour": 20,
          "score": 25.7,
          "topic": "topic_04"
         },
         {
          "day": 6,
          "hour": 21,
          "score": 30.68,
          "topic": "topic_04"
         },
         {
          "day": 6,
          "hour": 22,
          "score": 21.45,
          "topic": "topic_04"
         },
         {
          "day": 6,
          "hour": 23,
          "score": 2.32,
          "topic": "topic_04"
         },
         {
          "day": 0,
          "hour": 0,
          "score": 57.36,
          "topic": "topic_05"
         },
         {
          "day": 0,
          "hour": 1,
          "score": 52.37,
          "topic": "topic_05"
         },
         {
          "day": 0,
          "hour": 2,
          "score": 48.27,
          "topic": "topic_05"
         },
         {
          "day": 0,
          "hour": 3,
          "score": 45.26,
          "topic": "topic_05"
         },
         {
          "day": 0,
          "hour": 4,
          "score": 33.4,
          "topic": "topic_05"
         },
         {
          "day": 0,
          "hour": 5,
          "score": 20.44,
          "topic": "topic_05"
         },
         {
          "day": 0,
          "hour": 6,
          "score": 12.7,
          "topic": "topic_05"
         },
         {
          "day": 0,
          "hour": 7,
          "score": 0.34,
          "topic": "topic_05"
         },
         {
          "day": 0,
          "hour": 8,
          "score": 1.89,
          "topic": "topic_05"
         },
         {
          "day": 0,
          "hour": 9,
          "score": 5.78,
          "topic": "topic_05"
         },
         {
          "day": 0,
          "hour": 10,
          "score": 7.25,
          "topic": "topic_05"
         },
         {
          "day": 0,
          "hour": 11,
          "score": 10.2,
          "topic": "topic_05"
         },
         {
          "day": 0,
          "hour": 12,
          "score": 6.14,
          "topic": "topic_05"
         },
         {
          "day": 0,
          "hour": 13,
          "score": 2.36,
          "topic": "topic_05"
         },
         {
          "day": 0,
          "hour": 14,
          "score": 0,
          "topic": "topic_05"
         },
         {
          "day": 0,
          "hour": 15,
          "score": 0,
          "topic": "topic_05"
         },
         {
          "day": 0,
          "hour": 16,
          "score": 0,
          "topic": "topic_05"
         },
         {
          "day": 0,
          "hour": 17,
          "score": 0,
          "topic": "topic_05"
         },
         {
          "day": 0,
          "hour": 18,
          "score": 0,
          "topic": "topic_05"
         },
         {
          "day": 0,
          "hour": 19,
          "score": 15.02,
          "topic": "topic_05"
         },
         {
          "day": 0,
          "hour": 20,
          "score": 29.54,
          "topic": "topic_05"
         },
         {
          "day": 0,
          "hour": 21,
          "score": 37.64,
          "topic": "topic_05"
         },
         {
          "day": 0,
          "hour": 22,
          "score": 40.84,
          "topic": "topic_05"
         },
         {
          "day": 0,
          "hour": 23,
          "score": 72.51,
          "topic": "topic_05"
         },
         {
          "day": 1,
          "hour": 0,
          "score": 89.48,
          "topic": "topic_05"
         },
         {
          "day": 1,
          "hour": 1,
          "score": 81.72,
          "topic": "topic_05"
         },
         {
          "day": 1,
          "hour": 2,
          "score": 75.72,
          "topic": "topic_05"
         },
         {
          "day": 1,
          "hour": 3,
          "score": 68.64,
          "topic": "topic_05"
         },
         {
          "day": 1,
          "hour": 4,
          "score": 50.73,
          "topic": "topic_05"
         },
         {
          "day": 1,
          "hour": 5,
          "score": 33.73,
          "topic": "topic_05"
         },
         {
          "day": 1,
          "hour": 6,
          "score": 23.72,
          "topic": "topic_05"
         },
         {
          "day": 1,
          "hour": 7,
          "score": 9,
          "topic": "topic_05"
         },
         {
          "day": 1,
          "hour": 8,
          "score": 10.55,
          "topic": "topic_05"
         },
         {
          "day": 1,
          "hour": 9,
          "score": 14.1,
          "topic": "topic_05"
         },
         {
          "day": 1,
          "hour": 10,
          "score": 17.3,
          "topic": "topic_05"
         },
         {
          "day": 1,
          "hour": 11,
          "score": 23.68,
          "topic": "topic_05"
         },
         {
          "day": 1,
          "hour": 12,
          "score": 19.44,
          "topic": "topic_05"
         },
         {
          "day": 1,
          "hour": 13,
          "score": 13.37,
          "topic": "topic_05"
         },
         {
          "day": 1,
          "hour": 14,
          "score": 9.09,
          "topic": "topic_05"
         },
         {
          "day": 1,
          "hour": 15,
          "score": 7.62,
          "topic": "topic_05"
         },
         {
          "day": 1,
          "hour": 16,
          "score": 6.33,
          "topic": "topic_05"
         },
         {
          "day": 1,
          "hour": 17,
          "score": 3.5,
          "topic": "topic_05"
         },
         {
          "day": 1,
          "hour": 18,
          "score": 0.82,
          "topic": "topic_05"
         },
         {
          "day": 1,
          "hour": 19,
          "score": 20.76,
          "topic": "topic_05"
         },
         {
          "day": 1,
          "hour": 20,
          "score": 38.32,
          "topic": "topic_05"
         },
         {
          "day": 1,
          "hour": 21,
          "score": 57.85,
          "topic": "topic_05"
         },
         {
          "day": 1,
          "hour": 22,
          "score": 55.46,
          "topic": "topic_05"
         },
         {
          "day": 1,
          "hour": 23,
          "score": 91.91,
          "topic": "topic_05"
         },
         {
          "day": 2,
          "hour": 0,
          "score": 89.12,
          "topic": "topic_05"
         },
         {
          "day": 2,
          "hour": 1,
          "score": 81.31,
          "topic": "topic_05"
         },
         {
          "day": 2,
          "hour": 2,
          "score": 74.87,
          "topic": "topic_05"
         },
         {
          "day": 2,
          "hour": 3,
          "score": 67.79,
          "topic": "topic_05"
         },
         {
          "day": 2,
          "hour": 4,
          "score": 51.1,
          "topic": "topic_05"
         },
         {
          "day": 2,
          "hour": 5,
          "score": 34.28,
          "topic": "topic_05"
         },
         {
          "day": 2,
          "hour": 6,
          "score": 23.66,
          "topic": "topic_05"
         },
         {
          "day": 2,
          "hour": 7,
          "score": 8.58,
          "topic": "topic_05"
         },
         {
          "day": 2,
          "hour": 8,
          "score": 9.54,
          "topic": "topic_05"
         },
         {
          "day": 2,
          "hour": 9,
          "score": 13.53,
          "topic": "topic_05"
         },
         {
          "day": 2,
          "hour": 10,
          "score": 19.65,
          "topic": "topic_05"
         },
         {
          "day": 2,
          "hour": 11,
          "score": 26.19,
          "topic": "topic_05"
         },
         {
          "day": 2,
          "hour": 12,
          "score": 20.39,
          "topic": "topic_05"
         },
         {
          "day": 2,
          "hour": 13,
          "score": 13.71,
          "topic": "topic_05"
         },
         {
          "day": 2,
          "hour": 14,
          "score": 9.6,
          "topic": "topic_05"
         },
         {
          "day": 2,
          "hour": 15,
          "score": 6.31,
          "topic": "topic_05"
         },
         {
          "day": 2,
          "hour": 16,
          "score": 6.03,
          "topic": "topic_05"
         },
         {
          "day": 2,
          "hour": 17,
          "score": 3.35,
          "topic": "topic_05"
         },
         {
          "day": 2,
          "hour": 18,
          "score": 0,
          "topic": "topic_05"
         },
         {
          "day": 2,
          "hour": 19,
          "score": 19.52,
          "topic": "topic_05"
         },
         {
          "day": 2,
          "hour": 20,
          "score": 36.63,
          "topic": "topic_05"
         },
         {
          "day": 2,
          "hour": 21,
          "score": 46.54,
          "topic": "topic_05"
         },
         {
          "day": 2,
          "hour": 22,
          "score": 50.99,
          "topic": "topic_05"
         },
         {
          "day": 2,
          "hour": 23,
          "score": 87.25,
          "topic": "topic_05"
         },
         {
          "day": 3,
          "hour": 0,
          "score": 84.61,
          "topic": "topic_05"
         },
         {
          "day": 3,
          "hour": 1,
          "score": 77.45,
          "topic": "topic_05"
         },
         {
          "day": 3,
          "hour": 2,
          "score": 71.56,
          "topic": "topic_05"
         },
         {
          "day": 3,
          "hour": 3,
          "score": 65.84,
          "topic": "topic_05"
         },
         {
          "day": 3,
          "hour": 4,
          "score": 49.18,
          "topic": "topic_05"
         },
         {
          "day": 3,
          "hour": 5,
          "score": 32.8,
          "topic": "topic_05"
         },
         {
          "day": 3,
          "hour": 6,
          "score": 23.3,
          "topic": "topic_05"
         },
         {
          "day": 3,
          "hour": 7,
          "score": 7.54,
          "topic": "topic_05"
         },
         {
          "day": 3,
          "hour": 8,
          "score": 8.16,
          "topic": "topic_05"
         },
         {
          "day": 3,
          "hour": 9,
          "score": 12.38,
          "topic": "topic_05"
         },
         {
          "day": 3,
          "hour": 10,
          "score": 20.81,
          "topic": "topic_05"
         },
         {
          "day": 3,
          "hour": 11,
          "score": 21.58,
          "topic": "topic_05"
         },
         {
          "day": 3,
          "hour": 12,
          "score": 16.92,
          "topic": "topic_05"
         },
         {
          "day": 3,
          "hour": 13,
          "score": 11.95,
          "topic": "topic_05"
         },
         {
          "day": 3,
          "hour": 14,
          "score": 7.77,
          "topic": "topic_05"
         },
         {
          "day": 3,
          "hour": 15,
          "score": 5.34,
          "topic": "topic_05"
         },
         {
          "day": 3,
          "hour": 16,
          "score": 5.21,
          "topic": "topic_05"
         },
         {
          "day": 3,
          "hour": 17,
          "score": 3.64,
          "topic": "topic_05"
         },
         {
          "day": 3,
          "hour": 18,
          "score": 1.02,
          "topic": "topic_05"
         },
         {
          "day": 3,
          "hour": 19,
          "score": 20.48,
          "topic": "topic_05"
         },
         {
          "day": 3,
          "hour": 20,
          "score": 37.72,
          "topic": "topic_05"
         },
         {
          "day": 3,
          "hour": 21,
          "score": 46.52,
          "topic": "topic_05"
         },
         {
          "day": 3,
          "hour": 22,
          "score": 51.24,
          "topic": "topic_05"
         },
         {
          "day": 3,
          "hour": 23,
          "score": 85.44,
          "topic": "topic_05"
         },
         {
          "day": 4,
          "hour": 0,
          "score": 84.02,
          "topic": "topic_05"
         },
         {
          "day": 4,
          "hour": 1,
          "score": 76.53,
          "topic": "topic_05"
         },
         {
          "day": 4,
          "hour": 2,
          "score": 69.71,
          "topic": "topic_05"
         },
         {
          "day": 4,
          "hour": 3,
          "score": 63.52,
          "topic": "topic_05"
         },
         {
          "day": 4,
          "hour": 4,
          "score": 48.13,
          "topic": "topic_05"
         },
         {
          "day": 4,
          "hour": 5,
          "score": 31.97,
          "topic": "topic_05"
         },
         {
          "day": 4,
          "hour": 6,
          "score": 23.29,
          "topic": "topic_05"
         },
         {
          "day": 4,
          "hour": 7,
          "score": 9.74,
          "topic": "topic_05"
         },
         {
          "day": 4,
          "hour": 8,
          "score": 11.45,
          "topic": "topic_05"
         },
         {
          "day": 4,
          "hour": 9,
          "score": 16.26,
          "topic": "topic_05"
         },
         {
          "day": 4,
          "hour": 10,
          "score": 20.41,
          "topic": "topic_05"
         },
         {
          "day": 4,
          "hour": 11,
          "score": 26.96,
          "topic": "topic_05"
         },
         {
          "day": 4,
          "hour": 12,
          "score": 22.47,
          "topic": "topic_05"
         },
         {
          "day": 4,
          "hour": 13,
          "score": 17.29,
          "topic": "topic_05"
         },
         {
          "day": 4,
          "hour": 14,
          "score": 13.59,
          "topic": "topic_05"
         },
         {
          "day": 4,
          "hour": 15,
          "score": 11.45,
          "topic": "topic_05"
         },
         {
          "day": 4,
          "hour": 16,
          "score": 7.46,
          "topic": "topic_05"
         },
         {
          "day": 4,
          "hour": 17,
          "score": 3.2,
          "topic": "topic_05"
         },
         {
          "day": 4,
          "hour": 18,
          "score": 0,
          "topic": "topic_05"
         },
         {
          "day": 4,
          "hour": 19,
          "score": 19.11,
          "topic": "topic_05"
         },
         {
          "day": 4,
          "hour": 20,
          "score": 36.77,
          "topic": "topic_05"
         },
         {
          "day": 4,
          "hour": 21,
          "score": 48.1,
          "topic": "topic_05"
         },
         {
          "day": 4,
          "hour": 22,
          "score": 50.97,
          "topic": "topic_05"
         },
         {
          "day": 4,
          "hour": 23,
          "score": 79.33,
          "topic": "topic_05"
         },
         {
          "day": 5,
          "hour": 0,
          "score": 78.46,
          "topic": "topic_05"
         },
         {
          "day": 5,
          "hour": 1,
          "score": 70.02,
          "topic": "topic_05"
         },
         {
          "day": 5,
          "hour": 2,
          "score": 62.53,
          "topic": "topic_05"
         },
         {
          "day": 5,
          "hour": 3,
          "score": 55.4,
          "topic": "topic_05"
         },
         {
          "day": 5,
          "hour": 4,
          "score": 38.51,
          "topic": "topic_05"
         },
         {
          "day": 5,
          "hour": 5,
          "score": 23.35,
          "topic": "topic_05"
         },
         {
          "day": 5,
          "hour": 6,
          "score": 17.7,
          "topic": "topic_05"
         },
         {
          "day": 5,
          "hour": 7,
          "score": 13.54,
          "topic": "topic_05"
         },
         {
          "day": 5,
          "hour": 8,
          "score": 7.42,
          "topic": "topic_05"
         },
         {
          "day": 5,
          "hour": 9,
          "score": 2.1,
          "topic": "topic_05"
         },
         {
          "day": 5,
          "hour": 10,
          "score": 0.14,
          "topic": "topic_05"
         },
         {
          "day": 5,
          "hour": 11,
          "score": 0.58,
          "topic": "topic_05"
         },
         {
          "day": 5,
          "hour": 12,
          "score": 3.82,
          "topic": "topic_05"
         },
         {
          "day": 5,
          "hour": 13,
          "score": 6.5,
          "topic": "topic_05"
         },
         {
          "day": 5,
          "hour": 14,
          "score": 6.86,
          "topic": "topic_05"
         },
         {
          "day": 5,
          "hour": 15,
          "score": 5.14,
          "topic": "topic_05"
         },
         {
          "day": 5,
          "hour": 16,
          "score": 1.16,
          "topic": "topic_05"
         },
         {
          "day": 5,
          "hour": 17,
          "score": 0,
          "topic": "topic_05"
         },
         {
          "day": 5,
          "hour": 18,
          "score": 0,
          "topic": "topic_05"
         },
         {
          "day": 5,
          "hour": 19,
          "score": 6.76,
          "topic": "topic_05"
         },
         {
          "day": 5,
          "hour": 20,
          "score": 5.25,
          "topic": "topic_05"
         },
         {
          "day": 5,
          "hour": 21,
          "score": 2.64,
          "topic": "topic_05"
         },
         {
          "day": 5,
          "hour": 22,
          "score": 0.5,
          "topic": "topic_05"
         },
         {
          "day": 5,
          "hour": 23,
          "score": 8.95,
          "topic": "topic_05"
         },
         {
          "day": 6,
          "hour": 0,
          "score": 19.61,
          "topic": "topic_05"
         },
         {
          "day": 6,
          "hour": 1,
          "score": 14.85,
          "topic": "topic_05"
         },
         {
          "day": 6,
          "hour": 2,
          "score": 12.17,
          "topic": "topic_05"
         },
         {
          "day": 6,
          "hour": 3,
          "score": 10.7,
          "topic": "topic_05"
         },
         {
          "day": 6,
          "hour": 4,
          "score": 0,
          "topic": "topic_05"
         },
         {
          "day": 6,
          "hour": 5,
          "score": 0,
          "topic": "topic_05"
         },
         {
          "day": 6,
          "hour": 6,
          "score": 0,
          "topic": "topic_05"
         },
         {
          "day": 6,
          "hour": 7,
          "score": 0,
          "topic": "topic_05"
         },
         {
          "day": 6,
          "hour": 8,
          "score": 0,
          "topic": "topic_05"
         },
         {
          "day": 6,
          "hour": 9,
          "score": 0,
          "topic": "topic_05"
         },
         {
          "day": 6,
          "hour": 10,
          "score": 2.7,
          "topic": "topic_05"
         },
         {
          "day": 6,
          "hour": 11,
          "score": 8.96,
          "topic": "topic_05"
         },
         {
          "day": 6,
          "hour": 12,
          "score": 13.66,
          "topic": "topic_05"
         },
         {
          "day": 6,
          "hour": 13,
          "score": 15.18,
          "topic": "topic_05"
         },
         {
          "day": 6,
          "hour": 14,
          "score": 14.08,
          "topic": "topic_05"
         },
         {
          "day": 6,
          "hour": 15,
          "score": 12.99,
          "topic": "topic_05"
         },
         {
          "day": 6,
          "hour": 16,
          "score": 10.71,
          "topic": "topic_05"
         },
         {
          "day": 6,
          "hour": 17,
          "score": 10.59,
          "topic": "topic_05"
         },
         {
          "day": 6,
          "hour": 18,
          "score": 13.01,
          "topic": "topic_05"
         },
         {
          "day": 6,
          "hour": 19,
          "score": 22.19,
          "topic": "topic_05"
         },
         {
          "day": 6,
          "hour": 20,
          "score": 28.75,
          "topic": "topic_05"
         },
         {
          "day": 6,
          "hour": 21,
          "score": 30.11,
          "topic": "topic_05"
         },
         {
          "day": 6,
          "hour": 22,
          "score": 32.67,
          "topic": "topic_05"
         },
         {
          "day": 6,
          "hour": 23,
          "score": 61.07,
          "topic": "topic_05"
         },
         {
          "day": 0,
          "hour": 0,
          "score": 0,
          "topic": "topic_06"
         },
         {
          "day": 0,
          "hour": 1,
          "score": 0,
          "topic": "topic_06"
         },
         {
          "day": 0,
          "hour": 2,
          "score": 0,
          "topic": "topic_06"
         },
         {
          "day": 0,
          "hour": 3,
          "score": 0,
          "topic": "topic_06"
         },
         {
          "day": 0,
          "hour": 4,
          "score": 0,
          "topic": "topic_06"
         },
         {
          "day": 0,
          "hour": 5,
          "score": 4.74,
          "topic": "topic_06"
         },
         {
          "day": 0,
          "hour": 6,
          "score": 15.38,
          "topic": "topic_06"
         },
         {
          "day": 0,
          "hour": 7,
          "score": 22.61,
          "topic": "topic_06"
         },
         {
          "day": 0,
          "hour": 8,
          "score": 0,
          "topic": "topic_06"
         },
         {
          "day": 0,
          "hour": 9,
          "score": 2.86,
          "topic": "topic_06"
         },
         {
          "day": 0,
          "hour": 10,
          "score": 15.43,
          "topic": "topic_06"
         },
         {
          "day": 0,
          "hour": 11,
          "score": 31.8,
          "topic": "topic_06"
         },
         {
          "day": 0,
          "hour": 12,
          "score": 27.98,
          "topic": "topic_06"
         },
         {
          "day": 0,
          "hour": 13,
          "score": 25.32,
          "topic": "topic_06"
         },
         {
          "day": 0,
          "hour": 14,
          "score": 2.05,
          "topic": "topic_06"
         },
         {
          "day": 0,
          "hour": 15,
          "score": 0,
          "topic": "topic_06"
         },
         {
          "day": 0,
          "hour": 16,
          "score": 0,
          "topic": "topic_06"
         },
         {
          "day": 0,
          "hour": 17,
          "score": 23.59,
          "topic": "topic_06"
         },
         {
          "day": 0,
          "hour": 18,
          "score": 65.66,
          "topic": "topic_06"
         },
         {
          "day": 0,
          "hour": 19,
          "score": 36.31,
          "topic": "topic_06"
         },
         {
          "day": 0,
          "hour": 20,
          "score": 5.09,
          "topic": "topic_06"
         },
         {
          "day": 0,
          "hour": 21,
          "score": 0,
          "topic": "topic_06"
         },
         {
          "day": 0,
          "hour": 22,
          "score": 0,
          "topic": "topic_06"
         },
         {
          "day": 0,
          "hour": 23,
          "score": 0,
          "topic": "topic_06"
         },
         {
          "day": 1,
          "hour": 0,
          "score": 0,
          "topic": "topic_06"
         },
         {
          "day": 1,
          "hour": 1,
          "score": 4.68,
          "topic": "topic_06"
         },
         {
          "day": 1,
          "hour": 2,
          "score": 4.26,
          "topic": "topic_06"
         },
         {
          "day": 1,
          "hour": 3,
          "score": 3.02,
          "topic": "topic_06"
         },
         {
          "day": 1,
          "hour": 4,
          "score": 1.82,
          "topic": "topic_06"
         },
         {
          "day": 1,
          "hour": 5,
          "score": 5.03,
          "topic": "topic_06"
         },
         {
          "day": 1,
          "hour": 6,
          "score": 17.61,
          "topic": "topic_06"
         },
         {
          "day": 1,
          "hour": 7,
          "score": 33.44,
          "topic": "topic_06"
         },
         {
          "day": 1,
          "hour": 8,
          "score": 0,
          "topic": "topic_06"
         },
         {
          "day": 1,
          "hour": 9,
          "score": 0,
          "topic": "topic_06"
         },
         {
          "day": 1,
          "hour": 10,
          "score": 5.88,
          "topic": "topic_06"
         },
         {
          "day": 1,
          "hour": 11,
          "score": 28.64,
          "topic": "topic_06"
         },
         {
          "day": 1,
          "hour": 12,
          "score": 39.36,
          "topic": "topic_06"
         },
         {
          "day": 1,
          "hour": 13,
          "score": 21.25,
          "topic": "topic_06"
         },
         {
          "day": 1,
          "hour": 14,
          "score": 0,
          "topic": "topic_06"
         },
         {
          "day": 1,
          "hour": 15,
          "score": 0,
          "topic": "topic_06"
         },
         {
          "day": 1,
          "hour": 16,
          "score": 6.49,
          "topic": "topic_06"
         },
         {
          "day": 1,
          "hour": 17,
          "score": 40.12,
          "topic": "topic_06"
         },
         {
          "day": 1,
          "hour": 18,
          "score": 84.89,
          "topic": "topic_06"
         },
         {
          "day": 1,
          "hour": 19,
          "score": 38.82,
          "topic": "topic_06"
         },
         {
          "day": 1,
          "hour": 20,
          "score": 0,
          "topic": "topic_06"
         },
         {
          "day": 1,
          "hour": 21,
          "score": 0.71,
          "topic": "topic_06"
         },
         {
          "day": 1,
          "hour": 22,
          "score": 0,
          "topic": "topic_06"
         },
         {
          "day": 1,
          "hour": 23,
          "score": 4.01,
          "topic": "topic_06"
         },
         {
          "day": 2,
          "hour": 0,
          "score": 0,
          "topic": "topic_06"
         },
         {
          "day": 2,
          "hour": 1,
          "score": 3.52,
          "topic": "topic_06"
         },
         {
          "day": 2,
          "hour": 2,
          "score": 4.04,
          "topic": "topic_06"
         },
         {
          "day": 2,
          "hour": 3,
          "score": 1.97,
          "topic": "topic_06"
         },
         {
          "day": 2,
          "hour": 4,
          "score": 1.25,
          "topic": "topic_06"
         },
         {
          "day": 2,
          "hour": 5,
          "score": 4.38,
          "topic": "topic_06"
         },
         {
          "day": 2,
          "hour": 6,
          "score": 16.4,
          "topic": "topic_06"
         },
         {
          "day": 2,
          "hour": 7,
          "score": 33.1,
          "topic": "topic_06"
         },
         {
          "day": 2,
          "hour": 8,
          "score": 0,
          "topic": "topic_06"
         },
         {
          "day": 2,
          "hour": 9,
          "score": 0,
          "topic": "topic_06"
         },
         {
          "day": 2,
          "hour": 10,
          "score": 0,
          "topic": "topic_06"
         },
         {
          "day": 2,
          "hour": 11,
          "score": 13.28,
          "topic": "topic_06"
         },
         {
          "day": 2,
          "hour": 12,
          "score": 24.83,
          "topic": "topic_06"
         },
         {
          "day": 2,
          "hour": 13,
          "score": 12.72,
          "topic": "topic_06"
         },
         {
          "day": 2,
          "hour": 14,
          "score": 8.31,
          "topic": "topic_06"
         },
         {
          "day": 2,
          "hour": 15,
          "score": 0,
          "topic": "topic_06"
         },
         {
          "day": 2,
          "hour": 16,
          "score": 10.28,
          "topic": "topic_06"
         },
         {
          "day": 2,
          "hour": 17,
          "score": 49.83,
          "topic": "topic_06"
         },
         {
          "day": 2,
          "hour": 18,
          "score": 97.36,
          "topic": "topic_06"
         },
         {
          "day": 2,
          "hour": 19,
          "score": 46.98,
          "topic": "topic_06"
         },
         {
          "day": 2,
          "hour": 20,
          "score": 7.61,
          "topic": "topic_06"
         },
         {
          "day": 2,
          "hour": 21,
          "score": 6.9,
          "topic": "topic_06"
         },
         {
          "day": 2,
          "hour": 22,
          "score": 0,
          "topic": "topic_06"
         },
         {
          "day": 2,
          "hour": 23,
          "score": 6.4,
          "topic": "topic_06"
         },
         {
          "day": 3,
          "hour": 0,
          "score": 0,
          "topic": "topic_06"
         },
         {
          "day": 3,
          "hour": 1,
          "score": 1.07,
          "topic": "topic_06"
         },
         {
          "day": 3,
          "hour": 2,
          "score": 1.33,
          "topic": "topic_06"
         },
         {
          "day": 3,
          "hour": 3,
          "score": 0,
          "topic": "topic_06"
         },
         {
          "day": 3,
          "hour": 4,
          "score": 0.12,
          "topic": "topic_06"
         },
         {
          "day": 3,
          "hour": 5,
          "score": 2.72,
          "topic": "topic_06"
         },
         {
          "day": 3,
          "hour": 6,
          "score": 14.67,
          "topic": "topic_06"
         },
         {
          "day": 3,
          "hour": 7,
          "score": 31.99,
          "topic": "topic_06"
         },
         {
          "day": 3,
          "hour": 8,
          "score": 0,
          "topic": "topic_06"
         },
         {
          "day": 3,
          "hour": 9,
          "score": 0,
          "topic": "topic_06"
         },
         {
          "day": 3,
          "hour": 10,
          "score": 11.61,
          "topic": "topic_06"
         },
         {
          "day": 3,
          "hour": 11,
          "score": 30.96,
          "topic": "topic_06"
         },
         {
          "day": 3,
          "hour": 12,
          "score": 42.05,
          "topic": "topic_06"
         },
         {
          "day": 3,
          "hour": 13,
          "score": 35.13,
          "topic": "topic_06"
         },
         {
          "day": 3,
          "hour": 14,
          "score": 20.78,
          "topic": "topic_06"
         },
         {
          "day": 3,
          "hour": 15,
          "score": 23.24,
          "topic": "topic_06"
         },
         {
          "day": 3,
          "hour": 16,
          "score": 31.44,
          "topic": "topic_06"
         },
         {
          "day": 3,
          "hour": 17,
          "score": 60.38,
          "topic": "topic_06"
         },
         {
          "day": 3,
          "hour": 18,
          "score": 112.23,
          "topic": "topic_06"
         },
         {
          "day": 3,
          "hour": 19,
          "score": 65.69,
          "topic": "topic_06"
         },
         {
          "day": 3,
          "hour": 20,
          "score": 24.72,
          "topic": "topic_06"
         },
         {
          "day": 3,
          "hour": 21,
          "score": 17.46,
          "topic": "topic_06"
         },
         {
          "day": 3,
          "hour": 22,
          "score": 9.34,
          "topic": "topic_06"
         },
         {
          "day": 3,
          "hour": 23,
          "score": 10.64,
          "topic": "topic_06"
         },
         {
          "day": 4,
          "hour": 0,
          "score": 2.84,
          "topic": "topic_06"
         },
         {
          "day": 4,
          "hour": 1,
          "score": 6.66,
          "topic": "topic_06"
         },
         {
          "day": 4,
          "hour": 2,
          "score": 5.88,
          "topic": "topic_06"
         },
         {
          "day": 4,
          "hour": 3,
          "score": 4.98,
          "topic": "topic_06"
         },
         {
          "day": 4,
          "hour": 4,
          "score": 2.87,
          "topic": "topic_06"
         },
         {
          "day": 4,
          "hour": 5,
          "score": 5.88,
          "topic": "topic_06"
         },
         {
          "day": 4,
          "hour": 6,
          "score": 17.86,
          "topic": "topic_06"
         },
         {
          "day": 4,
          "hour": 7,
          "score": 34.4,
          "topic": "topic_06"
         },
         {
          "day": 4,
          "hour": 8,
          "score": 11.17,
          "topic": "topic_06"
         },
         {
          "day": 4,
          "hour": 9,
          "score": 26.8,
          "topic": "topic_06"
         },
         {
          "day": 4,
          "hour": 10,
          "score": 50.41,
          "topic": "topic_06"
         },
         {
          "day": 4,
          "hour": 11,
          "score": 77.43,
          "topic": "topic_06"
         },
         {
          "day": 4,
          "hour": 12,
          "score": 95.59,
          "topic": "topic_06"
         },
         {
          "day": 4,
          "hour": 13,
          "score": 108.85,
          "topic": "topic_06"
         },
         {
          "day": 4,
          "hour": 14,
          "score": 92.75,
          "topic": "topic_06"
         },
         {
          "day": 4,
          "hour": 15,
          "score": 103.15,
          "topic": "topic_06"
         },
         {
          "day": 4,
          "hour": 16,
          "score": 117.52,
          "topic": "topic_06"
         },
         {
          "day": 4,
          "hour": 17,
          "score": 146.11,
          "topic": "topic_06"
         },
         {
          "day": 4,
          "hour": 18,
          "score": 168,
          "topic": "topic_06"
         },
         {
          "day": 4,
          "hour": 19,
          "score": 116.81,
          "topic": "topic_06"
         },
         {
          "day": 4,
          "hour": 20,
          "score": 54.16,
          "topic": "topic_06"
         },
         {
          "day": 4,
          "hour": 21,
          "score": 29.41,
          "topic": "topic_06"
         },
         {
          "day": 4,
          "hour": 22,
          "score": 26.76,
          "topic": "topic_06"
         },
         {
          "day": 4,
          "hour": 23,
          "score": 27.24,
          "topic": "topic_06"
         },
         {
          "day": 5,
          "hour": 0,
          "score": 18.62,
          "topic": "topic_06"
         },
         {
          "day": 5,
          "hour": 1,
          "score": 19.88,
          "topic": "topic_06"
         },
         {
          "day": 5,
          "hour": 2,
          "score": 16.54,
          "topic": "topic_06"
         },
         {
          "day": 5,
          "hour": 3,
          "score": 13.25,
          "topic": "topic_06"
         },
         {
          "day": 5,
          "hour": 4,
          "score": 12.26,
          "topic": "topic_06"
         },
         {
          "day": 5,
          "hour": 5,
          "score": 19.62,
          "topic": "topic_06"
         },
         {
          "day": 5,
          "hour": 6,
          "score": 32.9,
          "topic": "topic_06"
         },
         {
          "day": 5,
          "hour": 7,
          "score": 46.01,
          "topic": "topic_06"
         },
         {
          "day": 5,
          "hour": 8,
          "score": 78.57,
          "topic": "topic_06"
         },
         {
          "day": 5,
          "hour": 9,
          "score": 134.98,
          "topic": "topic_06"
         },
         {
          "day": 5,
          "hour": 10,
          "score": 197.01,
          "topic": "topic_06"
         },
         {
          "day": 5,
          "hour": 11,
          "score": 252.6,
          "topic": "topic_06"
         },
         {
          "day": 5,
          "hour": 12,
          "score": 292.96,
          "topic": "topic_06"
         },
         {
          "day": 5,
          "hour": 13,
          "score": 312.68,
          "topic": "topic_06"
         },
         {
          "day": 5,
          "hour": 14,
          "score": 299.16,
          "topic": "topic_06"
         },
         {
          "day": 5,
          "hour": 15,
          "score": 272.16,
          "topic": "topic_06"
         },
         {
          "day": 5,
          "hour": 16,
          "score": 216.67,
          "topic": "topic_06"
         },
         {
          "day": 5,
          "hour": 17,
          "score": 151.99,
          "topic": "topic_06"
         },
         {
          "day": 5,
          "hour": 18,
          "score": 85.85,
          "topic": "topic_06"
         },
         {
          "day": 5,
          "hour": 19,
          "score": 35.14,
          "topic": "topic_06"
         },
         {
          "day": 5,
          "hour": 20,
          "score": 20.88,
          "topic": "topic_06"
         },
         {
          "day": 5,
          "hour": 21,
          "score": 19.03,
          "topic": "topic_06"
         },
         {
          "day": 5,
          "hour": 22,
          "score": 15.69,
          "topic": "topic_06"
         },
         {
          "day": 5,
          "hour": 23,
          "score": 0,
          "topic": "topic_06"
         },
         {
          "day": 6,
          "hour": 0,
          "score": 0,
          "topic": "topic_06"
         },
         {
          "day": 6,
          "hour": 1,
          "score": 0,
          "topic": "topic_06"
         },
         {
          "day": 6,
          "hour": 2,
          "score": 0,
          "topic": "topic_06"
         },
         {
          "day": 6,
          "hour": 3,
          "score": 0,
          "topic": "topic_06"
         },
         {
          "day": 6,
          "hour": 4,
          "score": 0,
          "topic": "topic_06"
         },
         {
          "day": 6,
          "hour": 5,
          "score": 2.82,
          "topic": "topic_06"
         },
         {
          "day": 6,
          "hour": 6,
          "score": 0,
          "topic": "topic_06"
         },
         {
          "day": 6,
          "hour": 7,
          "score": 0,
          "topic": "topic_06"
         },
         {
          "day": 6,
          "hour": 8,
          "score": 0,
          "topic": "topic_06"
         },
         {
          "day": 6,
          "hour": 9,
          "score": 14.56,
          "topic": "topic_06"
         },
         {
          "day": 6,
          "hour": 10,
          "score": 27.73,
          "topic": "topic_06"
         },
         {
          "day": 6,
          "hour": 11,
          "score": 46.98,
          "topic": "topic_06"
         },
         {
          "day": 6,
          "hour": 12,
          "score": 71.49,
          "topic": "topic_06"
         },
         {
          "day": 6,
          "hour": 13,
          "score": 65.23,
          "topic": "topic_06"
         },
         {
          "day": 6,
          "hour": 14,
          "score": 50.24,
          "topic": "topic_06"
         },
         {
          "day": 6,
          "hour": 15,
          "score": 43.37,
          "topic": "topic_06"
         },
         {
          "day": 6,
          "hour": 16,
          "score": 38.78,
          "topic": "topic_06"
         },
         {
          "day": 6,
          "hour": 17,
          "score": 27.8,
          "topic": "topic_06"
         },
         {
          "day": 6,
          "hour": 18,
          "score": 16.72,
          "topic": "topic_06"
         },
         {
          "day": 6,
          "hour": 19,
          "score": 6.82,
          "topic": "topic_06"
         },
         {
          "day": 6,
          "hour": 20,
          "score": 0,
          "topic": "topic_06"
         },
         {
          "day": 6,
          "hour": 21,
          "score": 0,
          "topic": "topic_06"
         },
         {
          "day": 6,
          "hour": 22,
          "score": 0,
          "topic": "topic_06"
         },
         {
          "day": 6,
          "hour": 23,
          "score": 0.48,
          "topic": "topic_06"
         },
         {
          "day": 0,
          "hour": 0,
          "score": 7.38,
          "topic": "topic_07"
         },
         {
          "day": 0,
          "hour": 1,
          "score": 7.6,
          "topic": "topic_07"
         },
         {
          "day": 0,
          "hour": 2,
          "score": 7.7,
          "topic": "topic_07"
         },
         {
          "day": 0,
          "hour": 3,
          "score": 7.58,
          "topic": "topic_07"
         },
         {
          "day": 0,
          "hour": 4,
          "score": 2.54,
          "topic": "topic_07"
         },
         {
          "day": 0,
          "hour": 5,
          "score": 2.01,
          "topic": "topic_07"
         },
         {
          "day": 0,
          "hour": 6,
          "score": 2.22,
          "topic": "topic_07"
         },
         {
          "day": 0,
          "hour": 7,
          "score": 5.94,
          "topic": "topic_07"
         },
         {
          "day": 0,
          "hour": 8,
          "score": 25.16,
          "topic": "topic_07"
         },
         {
          "day": 0,
          "hour": 9,
          "score": 42.6,
          "topic": "topic_07"
         },
         {
          "day": 0,
          "hour": 10,
          "score": 62.82,
          "topic": "topic_07"
         },
         {
          "day": 0,
          "hour": 11,
          "score": 57.77,
          "topic": "topic_07"
         },
         {
          "day": 0,
          "hour": 12,
          "score": 45.75,
          "topic": "topic_07"
         },
         {
          "day": 0,
          "hour": 13,
          "score": 49.66,
          "topic": "topic_07"
         },
         {
          "day": 0,
          "hour": 14,
          "score": 34.82,
          "topic": "topic_07"
         },
         {
          "day": 0,
          "hour": 15,
          "score": 20.3,
          "topic": "topic_07"
         },
         {
          "day": 0,
          "hour": 16,
          "score": 10.99,
          "topic": "topic_07"
         },
         {
          "day": 0,
          "hour": 17,
          "score": 10.42,
          "topic": "topic_07"
         },
         {
          "day": 0,
          "hour": 18,
          "score": 24.78,
          "topic": "topic_07"
         },
         {
          "day": 0,
          "hour": 19,
          "score": 34.02,
          "topic": "topic_07"
         },
         {
          "day": 0,
          "hour": 20,
          "score": 40.12,
          "topic": "topic_07"
         },
         {
          "day": 0,
          "hour": 21,
          "score": 46.61,
          "topic": "topic_07"
         },
         {
          "day": 0,
          "hour": 22,
          "score": 51.06,
          "topic": "topic_07"
         },
         {
          "day": 0,
          "hour": 23,
          "score": 4.79,
          "topic": "topic_07"
         },
         {
          "day": 1,
          "hour": 0,
          "score": 3.98,
          "topic": "topic_07"
         },
         {
          "day": 1,
          "hour": 1,
          "score": 6.34,
          "topic": "topic_07"
         },
         {
          "day": 1,
          "hour": 2,
          "score": 6.36,
          "topic": "topic_07"
         },
         {
          "day": 1,
          "hour": 3,
          "score": 6.16,
          "topic": "topic_07"
         },
         {
          "day": 1,
          "hour": 4,
          "score": 0,
          "topic": "topic_07"
         },
         {
          "day": 1,
          "hour": 5,
          "score": 0.09,
          "topic": "topic_07"
         },
         {
          "day": 1,
          "hour": 6,
          "score": 0.77,
          "topic": "topic_07"
         },
         {
          "day": 1,
          "hour": 7,
          "score": 2.42,
          "topic": "topic_07"
         },
         {
          "day": 1,
          "hour": 8,
          "score": 22.23,
          "topic": "topic_07"
         },
         {
          "day": 1,
          "hour": 9,
          "score": 45.82,
          "topic": "topic_07"
         },
         {
          "day": 1,
          "hour": 10,
          "score": 65.75,
          "topic": "topic_07"
         },
         {
          "day": 1,
          "hour": 11,
          "score": 58.18,
          "topic": "topic_07"
         },
         {
          "day": 1,
          "hour": 12,
          "score": 49.64,
          "topic": "topic_07"
         },
         {
          "day": 1,
          "hour": 13,
          "score": 43.03,
          "topic": "topic_07"
         },
         {
          "day": 1,
          "hour": 14,
          "score": 32.17,
          "topic": "topic_07"
         },
         {
          "day": 1,
          "hour": 15,
          "score": 23.08,
          "topic": "topic_07"
         },
         {
          "day": 1,
          "hour": 16,
          "score": 6.7,
          "topic": "topic_07"
         },
         {
          "day": 1,
          "hour": 17,
          "score": 2.55,
          "topic": "topic_07"
         },
         {
          "day": 1,
          "hour": 18,
          "score": 17.53,
          "topic": "topic_07"
         },
         {
          "day": 1,
          "hour": 19,
          "score": 21.34,
          "topic": "topic_07"
         },
         {
          "day": 1,
          "hour": 20,
          "score": 26.85,
          "topic": "topic_07"
         },
         {
          "day": 1,
          "hour": 21,
          "score": 38.89,
          "topic": "topic_07"
         },
         {
          "day": 1,
          "hour": 22,
          "score": 46.76,
          "topic": "topic_07"
         },
         {
          "day": 1,
          "hour": 23,
          "score": 0,
          "topic": "topic_07"
         },
         {
          "day": 2,
          "hour": 0,
          "score": 3.89,
          "topic": "topic_07"
         },
         {
          "day": 2,
          "hour": 1,
          "score": 5.28,
          "topic": "topic_07"
         },
         {
          "day": 2,
          "hour": 2,
          "score": 5.97,
          "topic": "topic_07"
         },
         {
          "day": 2,
          "hour": 3,
          "score": 5.56,
          "topic": "topic_07"
         },
         {
          "day": 2,
          "hour": 4,
          "score": 0,
          "topic": "topic_07"
         },
         {
          "day": 2,
          "hour": 5,
          "score": 0,
          "topic": "topic_07"
         },
         {
          "day": 2,
          "hour": 6,
          "score": 0,
          "topic": "topic_07"
         },
         {
          "day": 2,
          "hour": 7,
          "score": 1.64,
          "topic": "topic_07"
         },
         {
          "day": 2,
          "hour": 8,
          "score": 18.1,
          "topic": "topic_07"
         },
         {
          "day": 2,
          "hour": 9,
          "score": 36.84,
          "topic": "topic_07"
         },
         {
          "day": 2,
          "hour": 10,
          "score": 52.23,
          "topic": "topic_07"
         },
         {
          "day": 2,
          "hour": 11,
          "score": 41.1,
          "topic": "topic_07"
         },
         {
          "day": 2,
          "hour": 12,
          "score": 32.59,
          "topic": "topic_07"
         },
         {
          "day": 2,
          "hour": 13,
          "score": 32.55,
          "topic": "topic_07"
         },
         {
          "day": 2,
          "hour": 14,
          "score": 32.86,
          "topic": "topic_07"
         },
         {
          "day": 2,
          "hour": 15,
          "score": 13.39,
          "topic": "topic_07"
         },
         {
          "day": 2,
          "hour": 16,
          "score": 1.74,
          "topic": "topic_07"
         },
         {
          "day": 2,
          "hour": 17,
          "score": 0,
          "topic": "topic_07"
         },
         {
          "day": 2,
          "hour": 18,
          "score": 14.21,
          "topic": "topic_07"
         },
         {
          "day": 2,
          "hour": 19,
          "score": 19.02,
          "topic": "topic_07"
         },
         {
          "day": 2,
          "hour": 20,
          "score": 25.55,
          "topic": "topic_07"
         },
         {
          "day": 2,
          "hour": 21,
          "score": 36.37,
          "topic": "topic_07"
         },
         {
          "day": 2,
          "hour": 22,
          "score": 42.97,
          "topic": "topic_07"
         },
         {
          "day": 2,
          "hour": 23,
          "score": 0,
          "topic": "topic_07"
         },
         {
          "day": 3,
          "hour": 0,
          "score": 3.63,
          "topic": "topic_07"
         },
         {
          "day": 3,
          "hour": 1,
          "score": 4.31,
          "topic": "topic_07"
         },
         {
          "day": 3,
          "hour": 2,
          "score": 4.28,
          "topic": "topic_07"
         },
         {
          "day": 3,
          "hour": 3,
          "score": 4.77,
          "topic": "topic_07"
         },
         {
          "day": 3,
          "hour": 4,
          "score": 0,
          "topic": "topic_07"
         },
         {
          "day": 3,
          "hour": 5,
          "score": 0,
          "topic": "topic_07"
         },
         {
          "day": 3,
          "hour": 6,
          "score": 0,
          "topic": "topic_07"
         },
         {
          "day": 3,
          "hour": 7,
          "score": 1.14,
          "topic": "topic_07"
         },
         {
          "day": 3,
          "hour": 8,
          "score": 18.07,
          "topic": "topic_07"
         },
         {
          "day": 3,
          "hour": 9,
          "score": 39.05,
          "topic": "topic_07"
         },
         {
          "day": 3,
          "hour": 10,
          "score": 56.87,
          "topic": "topic_07"
         },
         {
          "day": 3,
          "hour": 11,
          "score": 48.67,
          "topic": "topic_07"
         },
         {
          "day": 3,
          "hour": 12,
          "score": 32.59,
          "topic": "topic_07"
         },
         {
          "day": 3,
          "hour": 13,
          "score": 32.01,
          "topic": "topic_07"
         },
         {
          "day": 3,
          "hour": 14,
          "score": 23.86,
          "topic": "topic_07"
         },
         {
          "day": 3,
          "hour": 15,
          "score": 14.64,
          "topic": "topic_07"
         },
         {
          "day": 3,
          "hour": 16,
          "score": 3.9,
          "topic": "topic_07"
         },
         {
          "day": 3,
          "hour": 17,
          "score": 0,
          "topic": "topic_07"
         },
         {
          "day": 3,
          "hour": 18,
          "score": 16.42,
          "topic": "topic_07"
         },
         {
          "day": 3,
          "hour": 19,
          "score": 20.24,
          "topic": "topic_07"
         },
         {
          "day": 3,
          "hour": 20,
          "score": 25.82,
          "topic": "topic_07"
         },
         {
          "day": 3,
          "hour": 21,
          "score": 36.75,
          "topic": "topic_07"
         },
         {
          "day": 3,
          "hour": 22,
          "score": 45.08,
          "topic": "topic_07"
         },
         {
          "day": 3,
          "hour": 23,
          "score": 0,
          "topic": "topic_07"
         },
         {
          "day": 4,
          "hour": 0,
          "score": 4.64,
          "topic": "topic_07"
         },
         {
          "day": 4,
          "hour": 1,
          "score": 6.63,
          "topic": "topic_07"
         },
         {
          "day": 4,
          "hour": 2,
          "score": 6.81,
          "topic": "topic_07"
         },
         {
          "day": 4,
          "hour": 3,
          "score": 6.5,
          "topic": "topic_07"
         },
         {
          "day": 4,
          "hour": 4,
          "score": 0,
          "topic": "topic_07"
         },
         {
          "day": 4,
          "hour": 5,
          "score": 0,
          "topic": "topic_07"
         },
         {
          "day": 4,
          "hour": 6,
          "score": 0,
          "topic": "topic_07"
         },
         {
          "day": 4,
          "hour": 7,
          "score": 1.04,
          "topic": "topic_07"
         },
         {
          "day": 4,
          "hour": 8,
          "score": 13.25,
          "topic": "topic_07"
         },
         {
          "day": 4,
          "hour": 9,
          "score": 29.92,
          "topic": "topic_07"
         },
         {
          "day": 4,
          "hour": 10,
          "score": 42.89,
          "topic": "topic_07"
         },
         {
          "day": 4,
          "hour": 11,
          "score": 30.68,
          "topic": "topic_07"
         },
         {
          "day": 4,
          "hour": 12,
          "score": 19.93,
          "topic": "topic_07"
         },
         {
          "day": 4,
          "hour": 13,
          "score": 21.37,
          "topic": "topic_07"
         },
         {
          "day": 4,
          "hour": 14,
          "score": 9.81,
          "topic": "topic_07"
         },
         {
          "day": 4,
          "hour": 15,
          "score": 0,
          "topic": "topic_07"
         },
         {
          "day": 4,
          "hour": 16,
          "score": 0,
          "topic": "topic_07"
         },
         {
          "day": 4,
          "hour": 17,
          "score": 0,
          "topic": "topic_07"
         },
         {
          "day": 4,
          "hour": 18,
          "score": 0,
          "topic": "topic_07"
         },
         {
          "day": 4,
          "hour": 19,
          "score": 1.26,
          "topic": "topic_07"
         },
         {
          "day": 4,
          "hour": 20,
          "score": 4.37,
          "topic": "topic_07"
         },
         {
          "day": 4,
          "hour": 21,
          "score": 14.04,
          "topic": "topic_07"
         },
         {
          "day": 4,
          "hour": 22,
          "score": 28.81,
          "topic": "topic_07"
         },
         {
          "day": 4,
          "hour": 23,
          "score": 0,
          "topic": "topic_07"
         },
         {
          "day": 5,
          "hour": 0,
          "score": 11.48,
          "topic": "topic_07"
         },
         {
          "day": 5,
          "hour": 1,
          "score": 12.65,
          "topic": "topic_07"
         },
         {
          "day": 5,
          "hour": 2,
          "score": 12.21,
          "topic": "topic_07"
         },
         {
          "day": 5,
          "hour": 3,
          "score": 11.41,
          "topic": "topic_07"
         },
         {
          "day": 5,
          "hour": 4,
          "score": 4.45,
          "topic": "topic_07"
         },
         {
          "day": 5,
          "hour": 5,
          "score": 5.06,
          "topic": "topic_07"
         },
         {
          "day": 5,
          "hour": 6,
          "score": 7.15,
          "topic": "topic_07"
         },
         {
          "day": 5,
          "hour": 7,
          "score": 10.91,
          "topic": "topic_07"
         },
         {
          "day": 5,
          "hour": 8,
          "score": 26.55,
          "topic": "topic_07"
         },
         {
          "day": 5,
          "hour": 9,
          "score": 45.12,
          "topic": "topic_07"
         },
         {
          "day": 5,
          "hour": 10,
          "score": 57.97,
          "topic": "topic_07"
         },
         {
          "day": 5,
          "hour": 11,
          "score": 56.43,
          "topic": "topic_07"
         },
         {
          "day": 5,
          "hour": 12,
          "score": 48.89,
          "topic": "topic_07"
         },
         {
          "day": 5,
          "hour": 13,
          "score": 43.83,
          "topic": "topic_07"
         },
         {
          "day": 5,
          "hour": 14,
          "score": 37.24,
          "topic": "topic_07"
         },
         {
          "day": 5,
          "hour": 15,
          "score": 25.95,
          "topic": "topic_07"
         },
         {
          "day": 5,
          "hour": 16,
          "score": 10.71,
          "topic": "topic_07"
         },
         {
          "day": 5,
          "hour": 17,
          "score": 0,
          "topic": "topic_07"
         },
         {
          "day": 5,
          "hour": 18,
          "score": 0,
          "topic": "topic_07"
         },
         {
          "day": 5,
          "hour": 19,
          "score": 2.96,
          "topic": "topic_07"
         },
         {
          "day": 5,
          "hour": 20,
          "score": 19.94,
          "topic": "topic_07"
         },
         {
          "day": 5,
          "hour": 21,
          "score": 31.92,
          "topic": "topic_07"
         },
         {
          "day": 5,
          "hour": 22,
          "score": 36.94,
          "topic": "topic_07"
         },
         {
          "day": 5,
          "hour": 23,
          "score": 0,
          "topic": "topic_07"
         },
         {
          "day": 6,
          "hour": 0,
          "score": 14.82,
          "topic": "topic_07"
         },
         {
          "day": 6,
          "hour": 1,
          "score": 15.06,
          "topic": "topic_07"
         },
         {
          "day": 6,
          "hour": 2,
          "score": 15.3,
          "topic": "topic_07"
         },
         {
          "day": 6,
          "hour": 3,
          "score": 14.21,
          "topic": "topic_07"
         },
         {
          "day": 6,
          "hour": 4,
          "score": 5.98,
          "topic": "topic_07"
         },
         {
          "day": 6,
          "hour": 5,
          "score": 5.42,
          "topic": "topic_07"
         },
         {
          "day": 6,
          "hour": 6,
          "score": 0.38,
          "topic": "topic_07"
         },
         {
          "day": 6,
          "hour": 7,
          "score": 0,
          "topic": "topic_07"
         },
         {
          "day": 6,
          "hour": 8,
          "score": 2.14,
          "topic": "topic_07"
         },
         {
          "day": 6,
          "hour": 9,
          "score": 8.48,
          "topic": "topic_07"
         },
         {
          "day": 6,
          "hour": 10,
          "score": 12.99,
          "topic": "topic_07"
         },
         {
          "day": 6,
          "hour": 11,
          "score": 15.12,
          "topic": "topic_07"
         },
         {
          "day": 6,
          "hour": 12,
          "score": 16.74,
          "topic": "topic_07"
         },
         {
          "day": 6,
          "hour": 13,
          "score": 13.34,
          "topic": "topic_07"
         },
         {
          "day": 6,
          "hour": 14,
          "score": 7.02,
          "topic": "topic_07"
         },
         {
          "day": 6,
          "hour": 15,
          "score": 6.22,
          "topic": "topic_07"
         },
         {
          "day": 6,
          "hour": 16,
          "score": 9.32,
          "topic": "topic_07"
         },
         {
          "day": 6,
          "hour": 17,
          "score": 16,
          "topic": "topic_07"
         },
         {
          "day": 6,
          "hour": 18,
          "score": 26.72,
          "topic": "topic_07"
         },
         {
          "day": 6,
          "hour": 19,
          "score": 37.36,
          "topic": "topic_07"
         },
         {
          "day": 6,
          "hour": 20,
          "score": 44.28,
          "topic": "topic_07"
         },
         {
          "day": 6,
          "hour": 21,
          "score": 45.07,
          "topic": "topic_07"
         },
         {
          "day": 6,
          "hour": 22,
          "score": 45.87,
          "topic": "topic_07"
         },
         {
          "day": 6,
          "hour": 23,
          "score": 1.64,
          "topic": "topic_07"
         },
         {
          "day": 0,
          "hour": 0,
          "score": 39.26,
          "topic": "topic_08"
         },
         {
          "day": 0,
          "hour": 1,
          "score": 31.5,
          "topic": "topic_08"
         },
         {
          "day": 0,
          "hour": 2,
          "score": 25.09,
          "topic": "topic_08"
         },
         {
          "day": 0,
          "hour": 3,
          "score": 20.46,
          "topic": "topic_08"
         },
         {
          "day": 0,
          "hour": 4,
          "score": 10.43,
          "topic": "topic_08"
         },
         {
          "day": 0,
          "hour": 5,
          "score": 7.44,
          "topic": "topic_08"
         },
         {
          "day": 0,
          "hour": 6,
          "score": 4.06,
          "topic": "topic_08"
         },
         {
          "day": 0,
          "hour": 7,
          "score": 0.05,
          "topic": "topic_08"
         },
         {
          "day": 0,
          "hour": 8,
          "score": 0,
          "topic": "topic_08"
         },
         {
          "day": 0,
          "hour": 9,
          "score": 0.95,
          "topic": "topic_08"
         },
         {
          "day": 0,
          "hour": 10,
          "score": 0,
          "topic": "topic_08"
         },
         {
          "day": 0,
          "hour": 11,
          "score": 2.75,
          "topic": "topic_08"
         },
         {
          "day": 0,
          "hour": 12,
          "score": 6.23,
          "topic": "topic_08"
         },
         {
          "day": 0,
          "hour": 13,
          "score": 7.28,
          "topic": "topic_08"
         },
         {
          "day": 0,
          "hour": 14,
          "score": 4.19,
          "topic": "topic_08"
         },
         {
          "day": 0,
          "hour": 15,
          "score": 1.49,
          "topic": "topic_08"
         },
         {
          "day": 0,
          "hour": 16,
          "score": 0,
          "topic": "topic_08"
         },
         {
          "day": 0,
          "hour": 17,
          "score": 3.12,
          "topic": "topic_08"
         },
         {
          "day": 0,
          "hour": 18,
          "score": 5.67,
          "topic": "topic_08"
         },
         {
          "day": 0,
          "hour": 19,
          "score": 16.42,
          "topic": "topic_08"
         },
         {
          "day": 0,
          "hour": 20,
          "score": 17.57,
          "topic": "topic_08"
         },
         {
          "day": 0,
          "hour": 21,
          "score": 11.67,
          "topic": "topic_08"
         },
         {
          "day": 0,
          "hour": 22,
          "score": 4.79,
          "topic": "topic_08"
         },
         {
          "day": 0,
          "hour": 23,
          "score": 39.99,
          "topic": "topic_08"
         },
         {
          "day": 1,
          "hour": 0,
          "score": 23.35,
          "topic": "topic_08"
         },
         {
          "day": 1,
          "hour": 1,
          "score": 16.35,
          "topic": "topic_08"
         },
         {
          "day": 1,
          "hour": 2,
          "score": 12.08,
          "topic": "topic_08"
         },
         {
          "day": 1,
          "hour": 3,
          "score": 8.45,
          "topic": "topic_08"
         },
         {
          "day": 1,
          "hour": 4,
          "score": 0,
          "topic": "topic_08"
         },
         {
          "day": 1,
          "hour": 5,
          "score": 0,
          "topic": "topic_08"
         },
         {
          "day": 1,
          "hour": 6,
          "score": 0,
          "topic": "topic_08"
         },
         {
          "day": 1,
          "hour": 7,
          "score": 0,
          "topic": "topic_08"
         },
         {
          "day": 1,
          "hour": 8,
          "score": 0,
          "topic": "topic_08"
         },
         {
          "day": 1,
          "hour": 9,
          "score": 2.08,
          "topic": "topic_08"
         },
         {
          "day": 1,
          "hour": 10,
          "score": 0,
          "topic": "topic_08"
         },
         {
          "day": 1,
          "hour": 11,
          "score": 5.19,
          "topic": "topic_08"
         },
         {
          "day": 1,
          "hour": 12,
          "score": 12.38,
          "topic": "topic_08"
         },
         {
          "day": 1,
          "hour": 13,
          "score": 8.76,
          "topic": "topic_08"
         },
         {
          "day": 1,
          "hour": 14,
          "score": 2.25,
          "topic": "topic_08"
         },
         {
          "day": 1,
          "hour": 15,
          "score": 1.86,
          "topic": "topic_08"
         },
         {
          "day": 1,
          "hour": 16,
          "score": 0,
          "topic": "topic_08"
         },
         {
          "day": 1,
          "hour": 17,
          "score": 2.79,
          "topic": "topic_08"
         },
         {
          "day": 1,
          "hour": 18,
          "score": 0,
          "topic": "topic_08"
         },
         {
          "day": 1,
          "hour": 19,
          "score": 10.4,
          "topic": "topic_08"
         },
         {
          "day": 1,
          "hour": 20,
          "score": 9.62,
          "topic": "topic_08"
         },
         {
          "day": 1,
          "hour": 21,
          "score": 5.27,
          "topic": "topic_08"
         },
         {
          "day": 1,
          "hour": 22,
          "score": 4.39,
          "topic": "topic_08"
         },
         {
          "day": 1,
          "hour": 23,
          "score": 35.7,
          "topic": "topic_08"
         },
         {
          "day": 2,
          "hour": 0,
          "score": 28.02,
          "topic": "topic_08"
         },
         {
          "day": 2,
          "hour": 1,
          "score": 19.58,
          "topic": "topic_08"
         },
         {
          "day": 2,
          "hour": 2,
          "score": 14.36,
          "topic": "topic_08"
         },
         {
          "day": 2,
          "hour": 3,
          "score": 9.5,
          "topic": "topic_08"
         },
         {
          "day": 2,
          "hour": 4,
          "score": 0.99,
          "topic": "topic_08"
         },
         {
          "day": 2,
          "hour": 5,
          "score": 0,
          "topic": "topic_08"
         },
         {
          "day": 2,
          "hour": 6,
          "score": 0,
          "topic": "topic_08"
         },
         {
          "day": 2,
          "hour": 7,
          "score": 0,
          "topic": "topic_08"
         },
         {
          "day": 2,
          "hour": 8,
          "score": 0,
          "topic": "topic_08"
         },
         {
          "day": 2,
          "hour": 9,
          "score": 2.96,
          "topic": "topic_08"
         },
         {
          "day": 2,
          "hour": 10,
          "score": 0,
          "topic": "topic_08"
         },
         {
          "day": 2,
          "hour": 11,
          "score": 6.8,
          "topic": "topic_08"
         },
         {
          "day": 2,
          "hour": 12,
          "score": 10.66,
          "topic": "topic_08"
         },
         {
          "day": 2,
          "hour": 13,
          "score": 5.08,
          "topic": "topic_08"
         },
         {
          "day": 2,
          "hour": 14,
          "score": 3.22,
          "topic": "topic_08"
         },
         {
          "day": 2,
          "hour": 15,
          "score": 1.04,
          "topic": "topic_08"
         },
         {
          "day": 2,
          "hour": 16,
          "score": 0,
          "topic": "topic_08"
         },
         {
          "day": 2,
          "hour": 17,
          "score": 0,
          "topic": "topic_08"
         },
         {
          "day": 2,
          "hour": 18,
          "score": 0,
          "topic": "topic_08"
         },
         {
          "day": 2,
          "hour": 19,
          "score": 9.02,
          "topic": "topic_08"
         },
         {
          "day": 2,
          "hour": 20,
          "score": 13,
          "topic": "topic_08"
         },
         {
          "day": 2,
          "hour": 21,
          "score": 11.88,
          "topic": "topic_08"
         },
         {
          "day": 2,
          "hour": 22,
          "score": 6.1,
          "topic": "topic_08"
         },
         {
          "day": 2,
          "hour": 23,
          "score": 39.68,
          "topic": "topic_08"
         },
         {
          "day": 3,
          "hour": 0,
          "score": 30.56,
          "topic": "topic_08"
         },
         {
          "day": 3,
          "hour": 1,
          "score": 21.7,
          "topic": "topic_08"
         },
         {
          "day": 3,
          "hour": 2,
          "score": 16.88,
          "topic": "topic_08"
         },
         {
          "day": 3,
          "hour": 3,
          "score": 11.5,
          "topic": "topic_08"
         },
         {
          "day": 3,
          "hour": 4,
          "score": 2.24,
          "topic": "topic_08"
         },
         {
          "day": 3,
          "hour": 5,
          "score": 0,
          "topic": "topic_08"
         },
         {
          "day": 3,
          "hour": 6,
          "score": 0,
          "topic": "topic_08"
         },
         {
          "day": 3,
          "hour": 7,
          "score": 0,
          "topic": "topic_08"
         },
         {
          "day": 3,
          "hour": 8,
          "score": 0.41,
          "topic": "topic_08"
         },
         {
          "day": 3,
          "hour": 9,
          "score": 1.63,
          "topic": "topic_08"
         },
         {
          "day": 3,
          "hour": 10,
          "score": 0,
          "topic": "topic_08"
         },
         {
          "day": 3,
          "hour": 11,
          "score": 3.64,
          "topic": "topic_08"
         },
         {
          "day": 3,
          "hour": 12,
          "score": 10.07,
          "topic": "topic_08"
         },
         {
          "day": 3,
          "hour": 13,
          "score": 7.51,
          "topic": "topic_08"
         },
         {
          "day": 3,
          "hour": 14,
          "score": 5.48,
          "topic": "topic_08"
         },
         {
          "day": 3,
          "hour": 15,
          "score": 6.13,
          "topic": "topic_08"
         },
         {
          "day": 3,
          "hour": 16,
          "score": 1.93,
          "topic": "topic_08"
         },
         {
          "day": 3,
          "hour": 17,
          "score": 6.26,
          "topic": "topic_08"
         },
         {
          "day": 3,
          "hour": 18,
          "score": 6.05,
          "topic": "topic_08"
         },
         {
          "day": 3,
          "hour": 19,
          "score": 23.87,
          "topic": "topic_08"
         },
         {
          "day": 3,
          "hour": 20,
          "score": 26.77,
          "topic": "topic_08"
         },
         {
          "day": 3,
          "hour": 21,
          "score": 24.27,
          "topic": "topic_08"
         },
         {
          "day": 3,
          "hour": 22,
          "score": 20.08,
          "topic": "topic_08"
         },
         {
          "day": 3,
          "hour": 23,
          "score": 53.95,
          "topic": "topic_08"
         },
         {
          "day": 4,
          "hour": 0,
          "score": 42.07,
          "topic": "topic_08"
         },
         {
          "day": 4,
          "hour": 1,
          "score": 33.04,
          "topic": "topic_08"
         },
         {
          "day": 4,
          "hour": 2,
          "score": 26.45,
          "topic": "topic_08"
         },
         {
          "day": 4,
          "hour": 3,
          "score": 21.39,
          "topic": "topic_08"
         },
         {
          "day": 4,
          "hour": 4,
          "score": 9.89,
          "topic": "topic_08"
         },
         {
          "day": 4,
          "hour": 5,
          "score": 5.1,
          "topic": "topic_08"
         },
         {
          "day": 4,
          "hour": 6,
          "score": 2.43,
          "topic": "topic_08"
         },
         {
          "day": 4,
          "hour": 7,
          "score": 1.94,
          "topic": "topic_08"
         },
         {
          "day": 4,
          "hour": 8,
          "score": 5.68,
          "topic": "topic_08"
         },
         {
          "day": 4,
          "hour": 9,
          "score": 9.5,
          "topic": "topic_08"
         },
         {
          "day": 4,
          "hour": 10,
          "score": 9.88,
          "topic": "topic_08"
         },
         {
          "day": 4,
          "hour": 11,
          "score": 17.71,
          "topic": "topic_08"
         },
         {
          "day": 4,
          "hour": 12,
          "score": 25.6,
          "topic": "topic_08"
         },
         {
          "day": 4,
          "hour": 13,
          "score": 28.41,
          "topic": "topic_08"
         },
         {
          "day": 4,
          "hour": 14,
          "score": 26.37,
          "topic": "topic_08"
         },
         {
          "day": 4,
          "hour": 15,
          "score": 25.72,
          "topic": "topic_08"
         },
         {
          "day": 4,
          "hour": 16,
          "score": 26.43,
          "topic": "topic_08"
         },
         {
          "day": 4,
          "hour": 17,
          "score": 28.09,
          "topic": "topic_08"
         },
         {
          "day": 4,
          "hour": 18,
          "score": 28.93,
          "topic": "topic_08"
         },
         {
          "day": 4,
          "hour": 19,
          "score": 57.49,
          "topic": "topic_08"
         },
         {
          "day": 4,
          "hour": 20,
          "score": 73.51,
          "topic": "topic_08"
         },
         {
          "day": 4,
          "hour": 21,
          "score": 91.47,
          "topic": "topic_08"
         },
         {
          "day": 4,
          "hour": 22,
          "score": 93.03,
          "topic": "topic_08"
         },
         {
          "day": 4,
          "hour": 23,
          "score": 128.53,
          "topic": "topic_08"
         },
         {
          "day": 5,
          "hour": 0,
          "score": 109.97,
          "topic": "topic_08"
         },
         {
          "day": 5,
          "hour": 1,
          "score": 95.59,
          "topic": "topic_08"
         },
         {
          "day": 5,
          "hour": 2,
          "score": 81.76,
          "topic": "topic_08"
         },
         {
          "day": 5,
          "hour": 3,
          "score": 68.11,
          "topic": "topic_08"
         },
         {
          "day": 5,
          "hour": 4,
          "score": 50.12,
          "topic": "topic_08"
         },
         {
          "day": 5,
          "hour": 5,
          "score": 34.81,
          "topic": "topic_08"
         },
         {
          "day": 5,
          "hour": 6,
          "score": 20.35,
          "topic": "topic_08"
         },
         {
          "day": 5,
          "hour": 7,
          "score": 11.48,
          "topic": "topic_08"
         },
         {
          "day": 5,
          "hour": 8,
          "score": 2.78,
          "topic": "topic_08"
         },
         {
          "day": 5,
          "hour": 9,
          "score": 0,
          "topic": "topic_08"
         },
         {
          "day": 5,
          "hour": 10,
          "score": 0,
          "topic": "topic_08"
         },
         {
          "day": 5,
          "hour": 11,
          "score": 0,
          "topic": "topic_08"
         },
         {
          "day": 5,
          "hour": 12,
          "score": 5.5,
          "topic": "topic_08"
         },
         {
          "day": 5,
          "hour": 13,
          "score": 16.33,
          "topic": "topic_08"
         },
         {
          "day": 5,
          "hour": 14,
          "score": 23.16,
          "topic": "topic_08"
         },
         {
          "day": 5,
          "hour": 15,
          "score": 27.82,
          "topic": "topic_08"
         },
         {
          "day": 5,
          "hour": 16,
          "score": 19.59,
          "topic": "topic_08"
         },
         {
          "day": 5,
          "hour": 17,
          "score": 20.81,
          "topic": "topic_08"
         },
         {
          "day": 5,
          "hour": 18,
          "score": 33.61,
          "topic": "topic_08"
         },
         {
          "day": 5,
          "hour": 19,
          "score": 59.18,
          "topic": "topic_08"
         },
         {
          "day": 5,
          "hour": 20,
          "score": 90.81,
          "topic": "topic_08"
         },
         {
          "day": 5,
          "hour": 21,
          "score": 111.33,
          "topic": "topic_08"
         },
         {
          "day": 5,
          "hour": 22,
          "score": 118,
          "topic": "topic_08"
         },
         {
          "day": 5,
          "hour": 23,
          "score": 153.45,
          "topic": "topic_08"
         },
         {
          "day": 6,
          "hour": 0,
          "score": 133.42,
          "topic": "topic_08"
         },
         {
          "day": 6,
          "hour": 1,
          "score": 119.17,
          "topic": "topic_08"
         },
         {
          "day": 6,
          "hour": 2,
          "score": 103.7,
          "topic": "topic_08"
         },
         {
          "day": 6,
          "hour": 3,
          "score": 88.13,
          "topic": "topic_08"
         },
         {
          "day": 6,
          "hour": 4,
          "score": 68.1,
          "topic": "topic_08"
         },
         {
          "day": 6,
          "hour": 5,
          "score": 48.49,
          "topic": "topic_08"
         },
         {
          "day": 6,
          "hour": 6,
          "score": 33.47,
          "topic": "topic_08"
         },
         {
          "day": 6,
          "hour": 7,
          "score": 27.21,
          "topic": "topic_08"
         },
         {
          "day": 6,
          "hour": 8,
          "score": 18.23,
          "topic": "topic_08"
         },
         {
          "day": 6,
          "hour": 9,
          "score": 14.18,
          "topic": "topic_08"
         },
         {
          "day": 6,
          "hour": 10,
          "score": 9.12,
          "topic": "topic_08"
         },
         {
          "day": 6,
          "hour": 11,
          "score": 8.24,
          "topic": "topic_08"
         },
         {
          "day": 6,
          "hour": 12,
          "score": 2.9,
          "topic": "topic_08"
         },
         {
          "day": 6,
          "hour": 13,
          "score": 0,
          "topic": "topic_08"
         },
         {
          "day": 6,
          "hour": 14,
          "score": 0,
          "topic": "topic_08"
         },
         {
          "day": 6,
          "hour": 15,
          "score": 0,
          "topic": "topic_08"
         },
         {
          "day": 6,
          "hour": 16,
          "score": 0,
          "topic": "topic_08"
         },
         {
          "day": 6,
          "hour": 17,
          "score": 8.95,
          "topic": "topic_08"
         },
         {
          "day": 6,
          "hour": 18,
          "score": 14.99,
          "topic": "topic_08"
         },
         {
          "day": 6,
          "hour": 19,
          "score": 17.04,
          "topic": "topic_08"
         },
         {
          "day": 6,
          "hour": 20,
          "score": 19.01,
          "topic": "topic_08"
         },
         {
          "day": 6,
          "hour": 21,
          "score": 21,
          "topic": "topic_08"
         },
         {
          "day": 6,
          "hour": 22,
          "score": 13.07,
          "topic": "topic_08"
         },
         {
          "day": 6,
          "hour": 23,
          "score": 46.58,
          "topic": "topic_08"
         },
         {
          "day": 0,
          "hour": 0,
          "score": 2.84,
          "topic": "topic_09"
         },
         {
          "day": 0,
          "hour": 1,
          "score": 0.44,
          "topic": "topic_09"
         },
         {
          "day": 0,
          "hour": 2,
          "score": 0.96,
          "topic": "topic_09"
         },
         {
          "day": 0,
          "hour": 3,
          "score": 1.8,
          "topic": "topic_09"
         },
         {
          "day": 0,
          "hour": 4,
          "score": 4.94,
          "topic": "topic_09"
         },
         {
          "day": 0,
          "hour": 5,
          "score": 6.05,
          "topic": "topic_09"
         },
         {
          "day": 0,
          "hour": 6,
          "score": 14.03,
          "topic": "topic_09"
         },
         {
          "day": 0,
          "hour": 7,
          "score": 4.02,
          "topic": "topic_09"
         },
         {
          "day": 0,
          "hour": 8,
          "score": 2.21,
          "topic": "topic_09"
         },
         {
          "day": 0,
          "hour": 9,
          "score": 0,
          "topic": "topic_09"
         },
         {
          "day": 0,
          "hour": 10,
          "score": 0,
          "topic": "topic_09"
         },
         {
          "day": 0,
          "hour": 11,
          "score": 9.36,
          "topic": "topic_09"
         },
         {
          "day": 0,
          "hour": 12,
          "score": 16.35,
          "topic": "topic_09"
         },
         {
          "day": 0,
          "hour": 13,
          "score": 7.11,
          "topic": "topic_09"
         },
         {
          "day": 0,
          "hour": 14,
          "score": 1.51,
          "topic": "topic_09"
         },
         {
          "day": 0,
          "hour": 15,
          "score": 0,
          "topic": "topic_09"
         },
         {
          "day": 0,
          "hour": 16,
          "score": 3.27,
          "topic": "topic_09"
         },
         {
          "day": 0,
          "hour": 17,
          "score": 10.72,
          "topic": "topic_09"
         },
         {
          "day": 0,
          "hour": 18,
          "score": 0,
          "topic": "topic_09"
         },
         {
          "day": 0,
          "hour": 19,
          "score": 8.59,
          "topic": "topic_09"
         },
         {
          "day": 0,
          "hour": 20,
          "score": 7.42,
          "topic": "topic_09"
         },
         {
          "day": 0,
          "hour": 21,
          "score": 5.23,
          "topic": "topic_09"
         },
         {
          "day": 0,
          "hour": 22,
          "score": 0,
          "topic": "topic_09"
         },
         {
          "day": 0,
          "hour": 23,
          "score": 10.97,
          "topic": "topic_09"
         },
         {
          "day": 1,
          "hour": 0,
          "score": 5.66,
          "topic": "topic_09"
         },
         {
          "day": 1,
          "hour": 1,
          "score": 0,
          "topic": "topic_09"
         },
         {
          "day": 1,
          "hour": 2,
          "score": 0,
          "topic": "topic_09"
         },
         {
          "day": 1,
          "hour": 3,
          "score": 0,
          "topic": "topic_09"
         },
         {
          "day": 1,
          "hour": 4,
          "score": 0.62,
          "topic": "topic_09"
         },
         {
          "day": 1,
          "hour": 5,
          "score": 1.59,
          "topic": "topic_09"
         },
         {
          "day": 1,
          "hour": 6,
          "score": 8.18,
          "topic": "topic_09"
         },
         {
          "day": 1,
          "hour": 7,
          "score": 0,
          "topic": "topic_09"
         },
         {
          "day": 1,
          "hour": 8,
          "score": 0,
          "topic": "topic_09"
         },
         {
          "day": 1,
          "hour": 9,
          "score": 0,
          "topic": "topic_09"
         },
         {
          "day": 1,
          "hour": 10,
          "score": 0,
          "topic": "topic_09"
         },
         {
          "day": 1,
          "hour": 11,
          "score": 17.32,
          "topic": "topic_09"
         },
         {
          "day": 1,
          "hour": 12,
          "score": 25.89,
          "topic": "topic_09"
         },
         {
          "day": 1,
          "hour": 13,
          "score": 7.21,
          "topic": "topic_09"
         },
         {
          "day": 1,
          "hour": 14,
          "score": 0,
          "topic": "topic_09"
         },
         {
          "day": 1,
          "hour": 15,
          "score": 0,
          "topic": "topic_09"
         },
         {
          "day": 1,
          "hour": 16,
          "score": 3.63,
          "topic": "topic_09"
         },
         {
          "day": 1,
          "hour": 17,
          "score": 9,
          "topic": "topic_09"
         },
         {
          "day": 1,
          "hour": 18,
          "score": 0,
          "topic": "topic_09"
         },
         {
          "day": 1,
          "hour": 19,
          "score": 7.5,
          "topic": "topic_09"
         },
         {
          "day": 1,
          "hour": 20,
          "score": 8.6,
          "topic": "topic_09"
         },
         {
          "day": 1,
          "hour": 21,
          "score": 1.61,
          "topic": "topic_09"
         },
         {
          "day": 1,
          "hour": 22,
          "score": 0,
          "topic": "topic_09"
         },
         {
          "day": 1,
          "hour": 23,
          "score": 5.52,
          "topic": "topic_09"
         },
         {
          "day": 2,
          "hour": 0,
          "score": 3.4,
          "topic": "topic_09"
         },
         {
          "day": 2,
          "hour": 1,
          "score": 0,
          "topic": "topic_09"
         },
         {
          "day": 2,
          "hour": 2,
          "score": 0,
          "topic": "topic_09"
         },
         {
          "day": 2,
          "hour": 3,
          "score": 0.08,
          "topic": "topic_09"
         },
         {
          "day": 2,
          "hour": 4,
          "score": 2.48,
          "topic": "topic_09"
         },
         {
          "day": 2,
          "hour": 5,
          "score": 2.55,
          "topic": "topic_09"
         },
         {
          "day": 2,
          "hour": 6,
          "score": 7.08,
          "topic": "topic_09"
         },
         {
          "day": 2,
          "hour": 7,
          "score": 0,
          "topic": "topic_09"
         },
         {
          "day": 2,
          "hour": 8,
          "score": 0.72,
          "topic": "topic_09"
         },
         {
          "day": 2,
          "hour": 9,
          "score": 19.87,
          "topic": "topic_09"
         },
         {
          "day": 2,
          "hour": 10,
          "score": 35.19,
          "topic": "topic_09"
         },
         {
          "day": 2,
          "hour": 11,
          "score": 65.12,
          "topic": "topic_09"
         },
         {
          "day": 2,
          "hour": 12,
          "score": 51.46,
          "topic": "topic_09"
         },
         {
          "day": 2,
          "hour": 13,
          "score": 26.73,
          "topic": "topic_09"
         },
         {
          "day": 2,
          "hour": 14,
          "score": 10.45,
          "topic": "topic_09"
         },
         {
          "day": 2,
          "hour": 15,
          "score": 0,
          "topic": "topic_09"
         },
         {
          "day": 2,
          "hour": 16,
          "score": 5.95,
          "topic": "topic_09"
         },
         {
          "day": 2,
          "hour": 17,
          "score": 14.55,
          "topic": "topic_09"
         },
         {
          "day": 2,
          "hour": 18,
          "score": 0,
          "topic": "topic_09"
         },
         {
          "day": 2,
          "hour": 19,
          "score": 16.71,
          "topic": "topic_09"
         },
         {
          "day": 2,
          "hour": 20,
          "score": 14.51,
          "topic": "topic_09"
         },
         {
          "day": 2,
          "hour": 21,
          "score": 4.42,
          "topic": "topic_09"
         },
         {
          "day": 2,
          "hour": 22,
          "score": 0,
          "topic": "topic_09"
         },
         {
          "day": 2,
          "hour": 23,
          "score": 10.72,
          "topic": "topic_09"
         },
         {
          "day": 3,
          "hour": 0,
          "score": 7.09,
          "topic": "topic_09"
         },
         {
          "day": 3,
          "hour": 1,
          "score": 5.06,
          "topic": "topic_09"
         },
         {
          "day": 3,
          "hour": 2,
          "score": 1.79,
          "topic": "topic_09"
         },
         {
          "day": 3,
          "hour": 3,
          "score": 3.03,
          "topic": "topic_09"
         },
         {
          "day": 3,
          "hour": 4,
          "score": 4.47,
          "topic": "topic_09"
         },
         {
          "day": 3,
          "hour": 5,
          "score": 5.23,
          "topic": "topic_09"
         },
         {
          "day": 3,
          "hour": 6,
          "score": 10.36,
          "topic": "topic_09"
         },
         {
          "day": 3,
          "hour": 7,
          "score": 0.07,
          "topic": "topic_09"
         },
         {
          "day": 3,
          "hour": 8,
          "score": 2.38,
          "topic": "topic_09"
         },
         {
          "day": 3,
          "hour": 9,
          "score": 4.82,
          "topic": "topic_09"
         },
         {
          "day": 3,
          "hour": 10,
          "score": 8.61,
          "topic": "topic_09"
         },
         {
          "day": 3,
          "hour": 11,
          "score": 24.88,
          "topic": "topic_09"
         },
         {
          "day": 3,
          "hour": 12,
          "score": 26.46,
          "topic": "topic_09"
         },
         {
          "day": 3,
          "hour": 13,
          "score": 13.16,
          "topic": "topic_09"
         },
         {
          "day": 3,
          "hour": 14,
          "score": 0,
          "topic": "topic_09"
         },
         {
          "day": 3,
          "hour": 15,
          "score": 3.4,
          "topic": "topic_09"
         },
         {
          "day": 3,
          "hour": 16,
          "score": 1.2,
          "topic": "topic_09"
         },
         {
          "day": 3,
          "hour": 17,
          "score": 4.02,
          "topic": "topic_09"
         },
         {
          "day": 3,
          "hour": 18,
          "score": 0,
          "topic": "topic_09"
         },
         {
          "day": 3,
          "hour": 19,
          "score": 11.21,
          "topic": "topic_09"
         },
         {
          "day": 3,
          "hour": 20,
          "score": 11.61,
          "topic": "topic_09"
         },
         {
          "day": 3,
          "hour": 21,
          "score": 5.47,
          "topic": "topic_09"
         },
         {
          "day": 3,
          "hour": 22,
          "score": 0,
          "topic": "topic_09"
         },
         {
          "day": 3,
          "hour": 23,
          "score": 8.37,
          "topic": "topic_09"
         },
         {
          "day": 4,
          "hour": 0,
          "score": 5.69,
          "topic": "topic_09"
         },
         {
          "day": 4,
          "hour": 1,
          "score": 1.37,
          "topic": "topic_09"
         },
         {
          "day": 4,
          "hour": 2,
          "score": 0.49,
          "topic": "topic_09"
         },
         {
          "day": 4,
          "hour": 3,
          "score": 0.25,
          "topic": "topic_09"
         },
         {
          "day": 4,
          "hour": 4,
          "score": 2.29,
          "topic": "topic_09"
         },
         {
          "day": 4,
          "hour": 5,
          "score": 4.24,
          "topic": "topic_09"
         },
         {
          "day": 4,
          "hour": 6,
          "score": 9.86,
          "topic": "topic_09"
         },
         {
          "day": 4,
          "hour": 7,
          "score": 0.29,
          "topic": "topic_09"
         },
         {
          "day": 4,
          "hour": 8,
          "score": 0,
          "topic": "topic_09"
         },
         {
          "day": 4,
          "hour": 9,
          "score": 0.64,
          "topic": "topic_09"
         },
         {
          "day": 4,
          "hour": 10,
          "score": 5.36,
          "topic": "topic_09"
         },
         {
          "day": 4,
          "hour": 11,
          "score": 21.83,
          "topic": "topic_09"
         },
         {
          "day": 4,
          "hour": 12,
          "score": 28.47,
          "topic": "topic_09"
         },
         {
          "day": 4,
          "hour": 13,
          "score": 11.34,
          "topic": "topic_09"
         },
         {
          "day": 4,
          "hour": 14,
          "score": 0,
          "topic": "topic_09"
         },
         {
          "day": 4,
          "hour": 15,
          "score": 0,
          "topic": "topic_09"
         },
         {
          "day": 4,
          "hour": 16,
          "score": 0,
          "topic": "topic_09"
         },
         {
          "day": 4,
          "hour": 17,
          "score": 10.93,
          "topic": "topic_09"
         },
         {
          "day": 4,
          "hour": 18,
          "score": 1.39,
          "topic": "topic_09"
         },
         {
          "day": 4,
          "hour": 19,
          "score": 27.28,
          "topic": "topic_09"
         },
         {
          "day": 4,
          "hour": 20,
          "score": 47.79,
          "topic": "topic_09"
         },
         {
          "day": 4,
          "hour": 21,
          "score": 41.16,
          "topic": "topic_09"
         },
         {
          "day": 4,
          "hour": 22,
          "score": 8.83,
          "topic": "topic_09"
         },
         {
          "day": 4,
          "hour": 23,
          "score": 5.33,
          "topic": "topic_09"
         },
         {
          "day": 5,
          "hour": 0,
          "score": 0,
          "topic": "topic_09"
         },
         {
          "day": 5,
          "hour": 1,
          "score": 0,
          "topic": "topic_09"
         },
         {
          "day": 5,
          "hour": 2,
          "score": 0,
          "topic": "topic_09"
         },
         {
          "day": 5,
          "hour": 3,
          "score": 0,
          "topic": "topic_09"
         },
         {
          "day": 5,
          "hour": 4,
          "score": 0,
          "topic": "topic_09"
         },
         {
          "day": 5,
          "hour": 5,
          "score": 0,
          "topic": "topic_09"
         },
         {
          "day": 5,
          "hour": 6,
          "score": 7.79,
          "topic": "topic_09"
         },
         {
          "day": 5,
          "hour": 7,
          "score": 13.66,
          "topic": "topic_09"
         },
         {
          "day": 5,
          "hour": 8,
          "score": 12.65,
          "topic": "topic_09"
         },
         {
          "day": 5,
          "hour": 9,
          "score": 11.36,
          "topic": "topic_09"
         },
         {
          "day": 5,
          "hour": 10,
          "score": 15.89,
          "topic": "topic_09"
         },
         {
          "day": 5,
          "hour": 11,
          "score": 21.27,
          "topic": "topic_09"
         },
         {
          "day": 5,
          "hour": 12,
          "score": 20.51,
          "topic": "topic_09"
         },
         {
          "day": 5,
          "hour": 13,
          "score": 16.08,
          "topic": "topic_09"
         },
         {
          "day": 5,
          "hour": 14,
          "score": 10.75,
          "topic": "topic_09"
         },
         {
          "day": 5,
          "hour": 15,
          "score": 3.41,
          "topic": "topic_09"
         },
         {
          "day": 5,
          "hour": 16,
          "score": 0,
          "topic": "topic_09"
         },
         {
          "day": 5,
          "hour": 17,
          "score": 0,
          "topic": "topic_09"
         },
         {
          "day": 5,
          "hour": 18,
          "score": 0,
          "topic": "topic_09"
         },
         {
          "day": 5,
          "hour": 19,
          "score": 0,
          "topic": "topic_09"
         },
         {
          "day": 5,
          "hour": 20,
          "score": 13.77,
          "topic": "topic_09"
         },
         {
          "day": 5,
          "hour": 21,
          "score": 16.88,
          "topic": "topic_09"
         },
         {
          "day": 5,
          "hour": 22,
          "score": 10.99,
          "topic": "topic_09"
         },
         {
          "day": 5,
          "hour": 23,
          "score": 0,
          "topic": "topic_09"
         },
         {
          "day": 6,
          "hour": 0,
          "score": 4.92,
          "topic": "topic_09"
         },
         {
          "day": 6,
          "hour": 1,
          "score": 5.84,
          "topic": "topic_09"
         },
         {
          "day": 6,
          "hour": 2,
          "score": 6.55,
          "topic": "topic_09"
         },
         {
          "day": 6,
          "hour": 3,
          "score": 8.01,
          "topic": "topic_09"
         },
         {
          "day": 6,
          "hour": 4,
          "score": 6.43,
          "topic": "topic_09"
         },
         {
          "day": 6,
          "hour": 5,
          "score": 14.02,
          "topic": "topic_09"
         },
         {
          "day": 6,
          "hour": 6,
          "score": 43.34,
          "topic": "topic_09"
         },
         {
          "day": 6,
          "hour": 7,
          "score": 89.78,
          "topic": "topic_09"
         },
         {
          "day": 6,
          "hour": 8,
          "score": 127.76,
          "topic": "topic_09"
         },
         {
          "day": 6,
          "hour": 9,
          "score": 195.41,
          "topic": "topic_09"
         },
         {
          "day": 6,
          "hour": 10,
          "score": 243.54,
          "topic": "topic_09"
         },
         {
          "day": 6,
          "hour": 11,
          "score": 285.73,
          "topic": "topic_09"
         },
         {
          "day": 6,
          "hour": 12,
          "score": 255.54,
          "topic": "topic_09"
         },
         {
          "day": 6,
          "hour": 13,
          "score": 225.48,
          "topic": "topic_09"
         },
         {
          "day": 6,
          "hour": 14,
          "score": 195.19,
          "topic": "topic_09"
         },
         {
          "day": 6,
          "hour": 15,
          "score": 164.01,
          "topic": "topic_09"
         },
         {
          "day": 6,
          "hour": 16,
          "score": 124.92,
          "topic": "topic_09"
         },
         {
          "day": 6,
          "hour": 17,
          "score": 85.17,
          "topic": "topic_09"
         },
         {
          "day": 6,
          "hour": 18,
          "score": 56.87,
          "topic": "topic_09"
         },
         {
          "day": 6,
          "hour": 19,
          "score": 44.83,
          "topic": "topic_09"
         },
         {
          "day": 6,
          "hour": 20,
          "score": 39.22,
          "topic": "topic_09"
         },
         {
          "day": 6,
          "hour": 21,
          "score": 32.56,
          "topic": "topic_09"
         },
         {
          "day": 6,
          "hour": 22,
          "score": 17.3,
          "topic": "topic_09"
         },
         {
          "day": 6,
          "hour": 23,
          "score": 5.49,
          "topic": "topic_09"
         },
         {
          "day": 0,
          "hour": 0,
          "score": 0,
          "topic": "topic_10"
         },
         {
          "day": 0,
          "hour": 1,
          "score": 0,
          "topic": "topic_10"
         },
         {
          "day": 0,
          "hour": 2,
          "score": 0,
          "topic": "topic_10"
         },
         {
          "day": 0,
          "hour": 3,
          "score": 0,
          "topic": "topic_10"
         },
         {
          "day": 0,
          "hour": 4,
          "score": 0.27,
          "topic": "topic_10"
         },
         {
          "day": 0,
          "hour": 5,
          "score": 1.57,
          "topic": "topic_10"
         },
         {
          "day": 0,
          "hour": 6,
          "score": 1.23,
          "topic": "topic_10"
         },
         {
          "day": 0,
          "hour": 7,
          "score": 4.55,
          "topic": "topic_10"
         },
         {
          "day": 0,
          "hour": 8,
          "score": 0,
          "topic": "topic_10"
         },
         {
          "day": 0,
          "hour": 9,
          "score": 0,
          "topic": "topic_10"
         },
         {
          "day": 0,
          "hour": 10,
          "score": 1.77,
          "topic": "topic_10"
         },
         {
          "day": 0,
          "hour": 11,
          "score": 0,
          "topic": "topic_10"
         },
         {
          "day": 0,
          "hour": 12,
          "score": 0.09,
          "topic": "topic_10"
         },
         {
          "day": 0,
          "hour": 13,
          "score": 0.88,
          "topic": "topic_10"
         },
         {
          "day": 0,
          "hour": 14,
          "score": 3.22,
          "topic": "topic_10"
         },
         {
          "day": 0,
          "hour": 15,
          "score": 0,
          "topic": "topic_10"
         },
         {
          "day": 0,
          "hour": 16,
          "score": 0,
          "topic": "topic_10"
         },
         {
          "day": 0,
          "hour": 17,
          "score": 0,
          "topic": "topic_10"
         },
         {
          "day": 0,
          "hour": 18,
          "score": 18.29,
          "topic": "topic_10"
         },
         {
          "day": 0,
          "hour": 19,
          "score": 25.44,
          "topic": "topic_10"
         },
         {
          "day": 0,
          "hour": 20,
          "score": 22.58,
          "topic": "topic_10"
         },
         {
          "day": 0,
          "hour": 21,
          "score": 12.84,
          "topic": "topic_10"
         },
         {
          "day": 0,
          "hour": 22,
          "score": 0,
          "topic": "topic_10"
         },
         {
          "day": 0,
          "hour": 23,
          "score": 0,
          "topic": "topic_10"
         },
         {
          "day": 1,
          "hour": 0,
          "score": 1.64,
          "topic": "topic_10"
         },
         {
          "day": 1,
          "hour": 1,
          "score": 1.15,
          "topic": "topic_10"
         },
         {
          "day": 1,
          "hour": 2,
          "score": 1.68,
          "topic": "topic_10"
         },
         {
          "day": 1,
          "hour": 3,
          "score": 1.69,
          "topic": "topic_10"
         },
         {
          "day": 1,
          "hour": 4,
          "score": 4.04,
          "topic": "topic_10"
         },
         {
          "day": 1,
          "hour": 5,
          "score": 4.91,
          "topic": "topic_10"
         },
         {
          "day": 1,
          "hour": 6,
          "score": 5.43,
          "topic": "topic_10"
         },
         {
          "day": 1,
          "hour": 7,
          "score": 11.48,
          "topic": "topic_10"
         },
         {
          "day": 1,
          "hour": 8,
          "score": 9.62,
          "topic": "topic_10"
         },
         {
          "day": 1,
          "hour": 9,
          "score": 15.05,
          "topic": "topic_10"
         },
         {
          "day": 1,
          "hour": 10,
          "score": 21.07,
          "topic": "topic_10"
         },
         {
          "day": 1,
          "hour": 11,
          "score": 22.73,
          "topic": "topic_10"
         },
         {
          "day": 1,
          "hour": 12,
          "score": 22.96,
          "topic": "topic_10"
         },
         {
          "day": 1,
          "hour": 13,
          "score": 27.39,
          "topic": "topic_10"
         },
         {
          "day": 1,
          "hour": 14,
          "score": 30.34,
          "topic": "topic_10"
         },
         {
          "day": 1,
          "hour": 15,
          "score": 28.11,
          "topic": "topic_10"
         },
         {
          "day": 1,
          "hour": 16,
          "score": 21.87,
          "topic": "topic_10"
         },
         {
          "day": 1,
          "hour": 17,
          "score": 32.39,
          "topic": "topic_10"
         },
         {
          "day": 1,
          "hour": 18,
          "score": 77.24,
          "topic": "topic_10"
         },
         {
          "day": 1,
          "hour": 19,
          "score": 95.76,
          "topic": "topic_10"
         },
         {
          "day": 1,
          "hour": 20,
          "score": 88.74,
          "topic": "topic_10"
         },
         {
          "day": 1,
          "hour": 21,
          "score": 55.73,
          "topic": "topic_10"
         },
         {
          "day": 1,
          "hour": 22,
          "score": 15.9,
          "topic": "topic_10"
         },
         {
          "day": 1,
          "hour": 23,
          "score": 8.45,
          "topic": "topic_10"
         },
         {
          "day": 2,
          "hour": 0,
          "score": 3.53,
          "topic": "topic_10"
         },
         {
          "day": 2,
          "hour": 1,
          "score": 3.2,
          "topic": "topic_10"
         },
         {
          "day": 2,
          "hour": 2,
          "score": 3.26,
          "topic": "topic_10"
         },
         {
          "day": 2,
          "hour": 3,
          "score": 5.13,
          "topic": "topic_10"
         },
         {
          "day": 2,
          "hour": 4,
          "score": 6.54,
          "topic": "topic_10"
         },
         {
          "day": 2,
          "hour": 5,
          "score": 8.33,
          "topic": "topic_10"
         },
         {
          "day": 2,
          "hour": 6,
          "score": 9.2,
          "topic": "topic_10"
         },
         {
          "day": 2,
          "hour": 7,
          "score": 14.4,
          "topic": "topic_10"
         },
         {
          "day": 2,
          "hour": 8,
          "score": 13.27,
          "topic": "topic_10"
         },
         {
          "day": 2,
          "hour": 9,
          "score": 22.46,
          "topic": "topic_10"
         },
         {
          "day": 2,
          "hour": 10,
          "score": 28.24,
          "topic": "topic_10"
         },
         {
          "day": 2,
          "hour": 11,
          "score": 29.84,
          "topic": "topic_10"
         },
         {
          "day": 2,
          "hour": 12,
          "score": 29.63,
          "topic": "topic_10"
         },
         {
          "day": 2,
          "hour": 13,
          "score": 32.03,
          "topic": "topic_10"
         },
         {
          "day": 2,
          "hour": 14,
          "score": 34.14,
          "topic": "topic_10"
         },
         {
          "day": 2,
          "hour": 15,
          "score": 28.97,
          "topic": "topic_10"
         },
         {
          "day": 2,
          "hour": 16,
          "score": 24.39,
          "topic": "topic_10"
         },
         {
          "day": 2,
          "hour": 17,
          "score": 33.63,
          "topic": "topic_10"
         },
         {
          "day": 2,
          "hour": 18,
          "score": 80.64,
          "topic": "topic_10"
         },
         {
          "day": 2,
          "hour": 19,
          "score": 100.03,
          "topic": "topic_10"
         },
         {
          "day": 2,
          "hour": 20,
          "score": 92.98,
          "topic": "topic_10"
         },
         {
          "day": 2,
          "hour": 21,
          "score": 60.27,
          "topic": "topic_10"
         },
         {
          "day": 2,
          "hour": 22,
          "score": 26.2,
          "topic": "topic_10"
         },
         {
          "day": 2,
          "hour": 23,
          "score": 13.4,
          "topic": "topic_10"
         },
         {
          "day": 3,
          "hour": 0,
          "score": 8.29,
          "topic": "topic_10"
         },
         {
          "day": 3,
          "hour": 1,
          "score": 7.26,
          "topic": "topic_10"
         },
         {
          "day": 3,
          "hour": 2,
          "score": 6.46,
          "topic": "topic_10"
         },
         {
          "day": 3,
          "hour": 3,
          "score": 7.31,
          "topic": "topic_10"
         },
         {
          "day": 3,
          "hour": 4,
          "score": 8.52,
          "topic": "topic_10"
         },
         {
          "day": 3,
          "hour": 5,
          "score": 8.93,
          "topic": "topic_10"
         },
         {
          "day": 3,
          "hour": 6,
          "score": 8.77,
          "topic": "topic_10"
         },
         {
          "day": 3,
          "hour": 7,
          "score": 13.32,
          "topic": "topic_10"
         },
         {
          "day": 3,
          "hour": 8,
          "score": 10.32,
          "topic": "topic_10"
         },
         {
          "day": 3,
          "hour": 9,
          "score": 17.14,
          "topic": "topic_10"
         },
         {
          "day": 3,
          "hour": 10,
          "score": 21.36,
          "topic": "topic_10"
         },
         {
          "day": 3,
          "hour": 11,
          "score": 23.94,
          "topic": "topic_10"
         },
         {
          "day": 3,
          "hour": 12,
          "score": 22.4,
          "topic": "topic_10"
         },
         {
          "day": 3,
          "hour": 13,
          "score": 23.05,
          "topic": "topic_10"
         },
         {
          "day": 3,
          "hour": 14,
          "score": 23.57,
          "topic": "topic_10"
         },
         {
          "day": 3,
          "hour": 15,
          "score": 19.2,
          "topic": "topic_10"
         },
         {
          "day": 3,
          "hour": 16,
          "score": 14.99,
          "topic": "topic_10"
         },
         {
          "day": 3,
          "hour": 17,
          "score": 23.07,
          "topic": "topic_10"
         },
         {
          "day": 3,
          "hour": 18,
          "score": 64.52,
          "topic": "topic_10"
         },
         {
          "day": 3,
          "hour": 19,
          "score": 78.02,
          "topic": "topic_10"
         },
         {
          "day": 3,
          "hour": 20,
          "score": 73.77,
          "topic": "topic_10"
         },
         {
          "day": 3,
          "hour": 21,
          "score": 49.22,
          "topic": "topic_10"
         },
         {
          "day": 3,
          "hour": 22,
          "score": 14.78,
          "topic": "topic_10"
         },
         {
          "day": 3,
          "hour": 23,
          "score": 6.7,
          "topic": "topic_10"
         },
         {
          "day": 4,
          "hour": 0,
          "score": 0.83,
          "topic": "topic_10"
         },
         {
          "day": 4,
          "hour": 1,
          "score": 0.45,
          "topic": "topic_10"
         },
         {
          "day": 4,
          "hour": 2,
          "score": 0.7,
          "topic": "topic_10"
         },
         {
          "day": 4,
          "hour": 3,
          "score": 0.76,
          "topic": "topic_10"
         },
         {
          "day": 4,
          "hour": 4,
          "score": 3.71,
          "topic": "topic_10"
         },
         {
          "day": 4,
          "hour": 5,
          "score": 5.01,
          "topic": "topic_10"
         },
         {
          "day": 4,
          "hour": 6,
          "score": 4.7,
          "topic": "topic_10"
         },
         {
          "day": 4,
          "hour": 7,
          "score": 8.35,
          "topic": "topic_10"
         },
         {
          "day": 4,
          "hour": 8,
          "score": 2.25,
          "topic": "topic_10"
         },
         {
          "day": 4,
          "hour": 9,
          "score": 1.44,
          "topic": "topic_10"
         },
         {
          "day": 4,
          "hour": 10,
          "score": 4.4,
          "topic": "topic_10"
         },
         {
          "day": 4,
          "hour": 11,
          "score": 0.51,
          "topic": "topic_10"
         },
         {
          "day": 4,
          "hour": 12,
          "score": 0,
          "topic": "topic_10"
         },
         {
          "day": 4,
          "hour": 13,
          "score": 0,
          "topic": "topic_10"
         },
         {
          "day": 4,
          "hour": 14,
          "score": 2.24,
          "topic": "topic_10"
         },
         {
          "day": 4,
          "hour": 15,
          "score": 0,
          "topic": "topic_10"
         },
         {
          "day": 4,
          "hour": 16,
          "score": 0,
          "topic": "topic_10"
         },
         {
          "day": 4,
          "hour": 17,
          "score": 16.64,
          "topic": "topic_10"
         },
         {
          "day": 4,
          "hour": 18,
          "score": 70.53,
          "topic": "topic_10"
         },
         {
          "day": 4,
          "hour": 19,
          "score": 90.7,
          "topic": "topic_10"
         },
         {
          "day": 4,
          "hour": 20,
          "score": 89.43,
          "topic": "topic_10"
         },
         {
          "day": 4,
          "hour": 21,
          "score": 57.47,
          "topic": "topic_10"
         },
         {
          "day": 4,
          "hour": 22,
          "score": 23.04,
          "topic": "topic_10"
         },
         {
          "day": 4,
          "hour": 23,
          "score": 9.95,
          "topic": "topic_10"
         },
         {
          "day": 5,
          "hour": 0,
          "score": 0,
          "topic": "topic_10"
         },
         {
          "day": 5,
          "hour": 1,
          "score": 0,
          "topic": "topic_10"
         },
         {
          "day": 5,
          "hour": 2,
          "score": 0,
          "topic": "topic_10"
         },
         {
          "day": 5,
          "hour": 3,
          "score": 0,
          "topic": "topic_10"
         },
         {
          "day": 5,
          "hour": 4,
          "score": 1.21,
          "topic": "topic_10"
         },
         {
          "day": 5,
          "hour": 5,
          "score": 2.19,
          "topic": "topic_10"
         },
         {
          "day": 5,
          "hour": 6,
          "score": 0,
          "topic": "topic_10"
         },
         {
          "day": 5,
          "hour": 7,
          "score": 0,
          "topic": "topic_10"
         },
         {
          "day": 5,
          "hour": 8,
          "score": 3.75,
          "topic": "topic_10"
         },
         {
          "day": 5,
          "hour": 9,
          "score": 6.23,
          "topic": "topic_10"
         },
         {
          "day": 5,
          "hour": 10,
          "score": 5.12,
          "topic": "topic_10"
         },
         {
          "day": 5,
          "hour": 11,
          "score": 0.72,
          "topic": "topic_10"
         },
         {
          "day": 5,
          "hour": 12,
          "score": 0,
          "topic": "topic_10"
         },
         {
          "day": 5,
          "hour": 13,
          "score": 0,
          "topic": "topic_10"
         },
         {
          "day": 5,
          "hour": 14,
          "score": 4.89,
          "topic": "topic_10"
         },
         {
          "day": 5,
          "hour": 15,
          "score": 14.82,
          "topic": "topic_10"
         },
         {
          "day": 5,
          "hour": 16,
          "score": 50.44,
          "topic": "topic_10"
         },
         {
          "day": 5,
          "hour": 17,
          "score": 79.47,
          "topic": "topic_10"
         },
         {
          "day": 5,
          "hour": 18,
          "score": 98.3,
          "topic": "topic_10"
         },
         {
          "day": 5,
          "hour": 19,
          "score": 93.79,
          "topic": "topic_10"
         },
         {
          "day": 5,
          "hour": 20,
          "score": 72.11,
          "topic": "topic_10"
         },
         {
          "day": 5,
          "hour": 21,
          "score": 44.29,
          "topic": "topic_10"
         },
         {
          "day": 5,
          "hour": 22,
          "score": 14.43,
          "topic": "topic_10"
         },
         {
          "day": 5,
          "hour": 23,
          "score": 3.8,
          "topic": "topic_10"
         },
         {
          "day": 6,
          "hour": 0,
          "score": 0,
          "topic": "topic_10"
         },
         {
          "day": 6,
          "hour": 1,
          "score": 0,
          "topic": "topic_10"
         },
         {
          "day": 6,
          "hour": 2,
          "score": 0,
          "topic": "topic_10"
         },
         {
          "day": 6,
          "hour": 3,
          "score": 0,
          "topic": "topic_10"
         },
         {
          "day": 6,
          "hour": 4,
          "score": 0.11,
          "topic": "topic_10"
         },
         {
          "day": 6,
          "hour": 5,
          "score": 0.74,
          "topic": "topic_10"
         },
         {
          "day": 6,
          "hour": 6,
          "score": 0.47,
          "topic": "topic_10"
         },
         {
          "day": 6,
          "hour": 7,
          "score": 0,
          "topic": "topic_10"
         },
         {
          "day": 6,
          "hour": 8,
          "score": 2.53,
          "topic": "topic_10"
         },
         {
          "day": 6,
          "hour": 9,
          "score": 2.23,
          "topic": "topic_10"
         },
         {
          "day": 6,
          "hour": 10,
          "score": 0,
          "topic": "topic_10"
         },
         {
          "day": 6,
          "hour": 11,
          "score": 0,
          "topic": "topic_10"
         },
         {
          "day": 6,
          "hour": 12,
          "score": 0,
          "topic": "topic_10"
         },
         {
          "day": 6,
          "hour": 13,
          "score": 16.49,
          "topic": "topic_10"
         },
         {
          "day": 6,
          "hour": 14,
          "score": 25.19,
          "topic": "topic_10"
         },
         {
          "day": 6,
          "hour": 15,
          "score": 29.3,
          "topic": "topic_10"
         },
         {
          "day": 6,
          "hour": 16,
          "score": 28.73,
          "topic": "topic_10"
         },
         {
          "day": 6,
          "hour": 17,
          "score": 18.24,
          "topic": "topic_10"
         },
         {
          "day": 6,
          "hour": 18,
          "score": 17.18,
          "topic": "topic_10"
         },
         {
          "day": 6,
          "hour": 19,
          "score": 14.97,
          "topic": "topic_10"
         },
         {
          "day": 6,
          "hour": 20,
          "score": 13.46,
          "topic": "topic_10"
         },
         {
          "day": 6,
          "hour": 21,
          "score": 8.47,
          "topic": "topic_10"
         },
         {
          "day": 6,
          "hour": 22,
          "score": 0,
          "topic": "topic_10"
         },
         {
          "day": 6,
          "hour": 23,
          "score": 0.39,
          "topic": "topic_10"
         },
         {
          "day": 0,
          "hour": 0,
          "score": 6.18,
          "topic": "topic_11"
         },
         {
          "day": 0,
          "hour": 1,
          "score": 30.23,
          "topic": "topic_11"
         },
         {
          "day": 0,
          "hour": 2,
          "score": 39.7,
          "topic": "topic_11"
         },
         {
          "day": 0,
          "hour": 3,
          "score": 46.61,
          "topic": "topic_11"
         },
         {
          "day": 0,
          "hour": 4,
          "score": 86.68,
          "topic": "topic_11"
         },
         {
          "day": 0,
          "hour": 5,
          "score": 80.45,
          "topic": "topic_11"
         },
         {
          "day": 0,
          "hour": 6,
          "score": 51.4,
          "topic": "topic_11"
         },
         {
          "day": 0,
          "hour": 7,
          "score": 1.64,
          "topic": "topic_11"
         },
         {
          "day": 0,
          "hour": 8,
          "score": 0,
          "topic": "topic_11"
         },
         {
          "day": 0,
          "hour": 9,
          "score": 0.7,
          "topic": "topic_11"
         },
         {
          "day": 0,
          "hour": 10,
          "score": 4.66,
          "topic": "topic_11"
         },
         {
          "day": 0,
          "hour": 11,
          "score": 7.94,
          "topic": "topic_11"
         },
         {
          "day": 0,
          "hour": 12,
          "score": 7.52,
          "topic": "topic_11"
         },
         {
          "day": 0,
          "hour": 13,
          "score": 8.33,
          "topic": "topic_11"
         },
         {
          "day": 0,
          "hour": 14,
          "score": 2.37,
          "topic": "topic_11"
         },
         {
          "day": 0,
          "hour": 15,
          "score": 0,
          "topic": "topic_11"
         },
         {
          "day": 0,
          "hour": 16,
          "score": 0,
          "topic": "topic_11"
         },
         {
          "day": 0,
          "hour": 17,
          "score": 0.51,
          "topic": "topic_11"
         },
         {
          "day": 0,
          "hour": 18,
          "score": 0,
          "topic": "topic_11"
         },
         {
          "day": 0,
          "hour": 19,
          "score": 2.92,
          "topic": "topic_11"
         },
         {
          "day": 0,
          "hour": 20,
          "score": 6.76,
          "topic": "topic_11"
         },
         {
          "day": 0,
          "hour": 21,
          "score": 11.6,
          "topic": "topic_11"
         },
         {
          "day": 0,
          "hour": 22,
          "score": 20.52,
          "topic": "topic_11"
         },
         {
          "day": 0,
          "hour": 23,
          "score": 0,
          "topic": "topic_11"
         },
         {
          "day": 1,
          "hour": 0,
          "score": 2.22,
          "topic": "topic_11"
         },
         {
          "day": 1,
          "hour": 1,
          "score": 32.09,
          "topic": "topic_11"
         },
         {
          "day": 1,
          "hour": 2,
          "score": 44.59,
          "topic": "topic_11"
         },
         {
          "day": 1,
          "hour": 3,
          "score": 53.31,
          "topic": "topic_11"
         },
         {
          "day": 1,
          "hour": 4,
          "score": 103.46,
          "topic": "topic_11"
         },
         {
          "day": 1,
          "hour": 5,
          "score": 96.27,
          "topic": "topic_11"
         },
         {
          "day": 1,
          "hour": 6,
          "score": 63.88,
          "topic": "topic_11"
         },
         {
          "day": 1,
          "hour": 7,
          "score": 5.93,
          "topic": "topic_11"
         },
         {
          "day": 1,
          "hour": 8,
          "score": 0,
          "topic": "topic_11"
         },
         {
          "day": 1,
          "hour": 9,
          "score": 2.65,
          "topic": "topic_11"
         },
         {
          "day": 1,
          "hour": 10,
          "score": 7.37,
          "topic": "topic_11"
         },
         {
          "day": 1,
          "hour": 11,
          "score": 10.02,
          "topic": "topic_11"
         },
         {
          "day": 1,
          "hour": 12,
          "score": 11.5,
          "topic": "topic_11"
         },
         {
          "day": 1,
          "hour": 13,
          "score": 6.1,
          "topic": "topic_11"
         },
         {
          "day": 1,
          "hour": 14,
          "score": 0,
          "topic": "topic_11"
         },
         {
          "day": 1,
          "hour": 15,
          "score": 0,
          "topic": "topic_11"
         },
         {
          "day": 1,
          "hour": 16,
          "score": 0,
          "topic": "topic_11"
         },
         {
          "day": 1,
          "hour": 17,
          "score": 0,
          "topic": "topic_11"
         },
         {
          "day": 1,
          "hour": 18,
          "score": 0,
          "topic": "topic_11"
         },
         {
          "day": 1,
          "hour": 19,
          "score": 1.72,
          "topic": "topic_11"
         },
         {
          "day": 1,
          "hour": 20,
          "score": 8.15,
          "topic": "topic_11"
         },
         {
          "day": 1,
          "hour": 21,
          "score": 13.63,
          "topic": "topic_11"
         },
         {
          "day": 1,
          "hour": 22,
          "score": 26.64,
          "topic": "topic_11"
         },
         {
          "day": 1,
          "hour": 23,
          "score": 0,
          "topic": "topic_11"
         },
         {
          "day": 2,
          "hour": 0,
          "score": 1.87,
          "topic": "topic_11"
         },
         {
          "day": 2,
          "hour": 1,
          "score": 32.52,
          "topic": "topic_11"
         },
         {
          "day": 2,
          "hour": 2,
          "score": 44.4,
          "topic": "topic_11"
         },
         {
          "day": 2,
          "hour": 3,
          "score": 53.28,
          "topic": "topic_11"
         },
         {
          "day": 2,
          "hour": 4,
          "score": 103.52,
          "topic": "topic_11"
         },
         {
          "day": 2,
          "hour": 5,
          "score": 97.9,
          "topic": "topic_11"
         },
         {
          "day": 2,
          "hour": 6,
          "score": 65.29,
          "topic": "topic_11"
         },
         {
          "day": 2,
          "hour": 7,
          "score": 6.64,
          "topic": "topic_11"
         },
         {
          "day": 2,
          "hour": 8,
          "score": 0,
          "topic": "topic_11"
         },
         {
          "day": 2,
          "hour": 9,
          "score": 3.01,
          "topic": "topic_11"
         },
         {
          "day": 2,
          "hour": 10,
          "score": 7.89,
          "topic": "topic_11"
         },
         {
          "day": 2,
          "hour": 11,
          "score": 10.7,
          "topic": "topic_11"
         },
         {
          "day": 2,
          "hour": 12,
          "score": 11.1,
          "topic": "topic_11"
         },
         {
          "day": 2,
          "hour": 13,
          "score": 5.53,
          "topic": "topic_11"
         },
         {
          "day": 2,
          "hour": 14,
          "score": 3.63,
          "topic": "topic_11"
         },
         {
          "day": 2,
          "hour": 15,
          "score": 0,
          "topic": "topic_11"
         },
         {
          "day": 2,
          "hour": 16,
          "score": 0,
          "topic": "topic_11"
         },
         {
          "day": 2,
          "hour": 17,
          "score": 0,
          "topic": "topic_11"
         },
         {
          "day": 2,
          "hour": 18,
          "score": 0,
          "topic": "topic_11"
         },
         {
          "day": 2,
          "hour": 19,
          "score": 3.99,
          "topic": "topic_11"
         },
         {
          "day": 2,
          "hour": 20,
          "score": 9.86,
          "topic": "topic_11"
         },
         {
          "day": 2,
          "hour": 21,
          "score": 15.3,
          "topic": "topic_11"
         },
         {
          "day": 2,
          "hour": 22,
          "score": 27.85,
          "topic": "topic_11"
         },
         {
          "day": 2,
          "hour": 23,
          "score": 2.98,
          "topic": "topic_11"
         },
         {
          "day": 3,
          "hour": 0,
          "score": 3.33,
          "topic": "topic_11"
         },
         {
          "day": 3,
          "hour": 1,
          "score": 34.18,
          "topic": "topic_11"
         },
         {
          "day": 3,
          "hour": 2,
          "score": 46.29,
          "topic": "topic_11"
         },
         {
          "day": 3,
          "hour": 3,
          "score": 55.37,
          "topic": "topic_11"
         },
         {
          "day": 3,
          "hour": 4,
          "score": 105.81,
          "topic": "topic_11"
         },
         {
          "day": 3,
          "hour": 5,
          "score": 100.54,
          "topic": "topic_11"
         },
         {
          "day": 3,
          "hour": 6,
          "score": 66.63,
          "topic": "topic_11"
         },
         {
          "day": 3,
          "hour": 7,
          "score": 7.48,
          "topic": "topic_11"
         },
         {
          "day": 3,
          "hour": 8,
          "score": 0,
          "topic": "topic_11"
         },
         {
          "day": 3,
          "hour": 9,
          "score": 2.29,
          "topic": "topic_11"
         },
         {
          "day": 3,
          "hour": 10,
          "score": 8.54,
          "topic": "topic_11"
         },
         {
          "day": 3,
          "hour": 11,
          "score": 11.57,
          "topic": "topic_11"
         },
         {
          "day": 3,
          "hour": 12,
          "score": 10.53,
          "topic": "topic_11"
         },
         {
          "day": 3,
          "hour": 13,
          "score": 8.84,
          "topic": "topic_11"
         },
         {
          "day": 3,
          "hour": 14,
          "score": 5.83,
          "topic": "topic_11"
         },
         {
          "day": 3,
          "hour": 15,
          "score": 3.8,
          "topic": "topic_11"
         },
         {
          "day": 3,
          "hour": 16,
          "score": 0.79,
          "topic": "topic_11"
         },
         {
          "day": 3,
          "hour": 17,
          "score": 0.83,
          "topic": "topic_11"
         },
         {
          "day": 3,
          "hour": 18,
          "score": 0,
          "topic": "topic_11"
         },
         {
          "day": 3,
          "hour": 19,
          "score": 5.15,
          "topic": "topic_11"
         },
         {
          "day": 3,
          "hour": 20,
          "score": 8.92,
          "topic": "topic_11"
         },
         {
          "day": 3,
          "hour": 21,
          "score": 14.23,
          "topic": "topic_11"
         },
         {
          "day": 3,
          "hour": 22,
          "score": 27.75,
          "topic": "topic_11"
         },
         {
          "day": 3,
          "hour": 23,
          "score": 0,
          "topic": "topic_11"
         },
         {
          "day": 4,
          "hour": 0,
          "score": 2.16,
          "topic": "topic_11"
         },
         {
          "day": 4,
          "hour": 1,
          "score": 33.42,
          "topic": "topic_11"
         },
         {
          "day": 4,
          "hour": 2,
          "score": 46.31,
          "topic": "topic_11"
         },
         {
          "day": 4,
          "hour": 3,
          "score": 55.6,
          "topic": "topic_11"
         },
         {
          "day": 4,
          "hour": 4,
          "score": 105.69,
          "topic": "topic_11"
         },
         {
          "day": 4,
          "hour": 5,
          "score": 99.21,
          "topic": "topic_11"
         },
         {
          "day": 4,
          "hour": 6,
          "score": 68.58,
          "topic": "topic_11"
         },
         {
          "day": 4,
          "hour": 7,
          "score": 11.81,
          "topic": "topic_11"
         },
         {
          "day": 4,
          "hour": 8,
          "score": 0.34,
          "topic": "topic_11"
         },
         {
          "day": 4,
          "hour": 9,
          "score": 7.29,
          "topic": "topic_11"
         },
         {
          "day": 4,
          "hour": 10,
          "score": 10.5,
          "topic": "topic_11"
         },
         {
          "day": 4,
          "hour": 11,
          "score": 15.57,
          "topic": "topic_11"
         },
         {
          "day": 4,
          "hour": 12,
          "score": 17.77,
          "topic": "topic_11"
         },
         {
          "day": 4,
          "hour": 13,
          "score": 15.54,
          "topic": "topic_11"
         },
         {
          "day": 4,
          "hour": 14,
          "score": 11.38,
          "topic": "topic_11"
         },
         {
          "day": 4,
          "hour": 15,
          "score": 7.97,
          "topic": "topic_11"
         },
         {
          "day": 4,
          "hour": 16,
          "score": 4.53,
          "topic": "topic_11"
         },
         {
          "day": 4,
          "hour": 17,
          "score": 6.36,
          "topic": "topic_11"
         },
         {
          "day": 4,
          "hour": 18,
          "score": 2.1,
          "topic": "topic_11"
         },
         {
          "day": 4,
          "hour": 19,
          "score": 12.2,
          "topic": "topic_11"
         },
         {
          "day": 4,
          "hour": 20,
          "score": 15.75,
          "topic": "topic_11"
         },
         {
          "day": 4,
          "hour": 21,
          "score": 15.59,
          "topic": "topic_11"
         },
         {
          "day": 4,
          "hour": 22,
          "score": 24.3,
          "topic": "topic_11"
         },
         {
          "day": 4,
          "hour": 23,
          "score": 0.9,
          "topic": "topic_11"
         },
         {
          "day": 5,
          "hour": 0,
          "score": 0,
          "topic": "topic_11"
         },
         {
          "day": 5,
          "hour": 1,
          "score": 30.94,
          "topic": "topic_11"
         },
         {
          "day": 5,
          "hour": 2,
          "score": 46.29,
          "topic": "topic_11"
         },
         {
          "day": 5,
          "hour": 3,
          "score": 56.18,
          "topic": "topic_11"
         },
         {
          "day": 5,
          "hour": 4,
          "score": 108.28,
          "topic": "topic_11"
         },
         {
          "day": 5,
          "hour": 5,
          "score": 103.37,
          "topic": "topic_11"
         },
         {
          "day": 5,
          "hour": 6,
          "score": 81.42,
          "topic": "topic_11"
         },
         {
          "day": 5,
          "hour": 7,
          "score": 57.83,
          "topic": "topic_11"
         },
         {
          "day": 5,
          "hour": 8,
          "score": 33.48,
          "topic": "topic_11"
         },
         {
          "day": 5,
          "hour": 9,
          "score": 13.88,
          "topic": "topic_11"
         },
         {
          "day": 5,
          "hour": 10,
          "score": 3.16,
          "topic": "topic_11"
         },
         {
          "day": 5,
          "hour": 11,
          "score": 0,
          "topic": "topic_11"
         },
         {
          "day": 5,
          "hour": 12,
          "score": 0,
          "topic": "topic_11"
         },
         {
          "day": 5,
          "hour": 13,
          "score": 0,
          "topic": "topic_11"
         },
         {
          "day": 5,
          "hour": 14,
          "score": 0,
          "topic": "topic_11"
         },
         {
          "day": 5,
          "hour": 15,
          "score": 0,
          "topic": "topic_11"
         },
         {
          "day": 5,
          "hour": 16,
          "score": 0,
          "topic": "topic_11"
         },
         {
          "day": 5,
          "hour": 17,
          "score": 0,
          "topic": "topic_11"
         },
         {
          "day": 5,
          "hour": 18,
          "score": 0,
          "topic": "topic_11"
         },
         {
          "day": 5,
          "hour": 19,
          "score": 0,
          "topic": "topic_11"
         },
         {
          "day": 5,
          "hour": 20,
          "score": 1.36,
          "topic": "topic_11"
         },
         {
          "day": 5,
          "hour": 21,
          "score": 13.69,
          "topic": "topic_11"
         },
         {
          "day": 5,
          "hour": 22,
          "score": 43.39,
          "topic": "topic_11"
         },
         {
          "day": 5,
          "hour": 23,
          "score": 20.22,
          "topic": "topic_11"
         },
         {
          "day": 6,
          "hour": 0,
          "score": 0,
          "topic": "topic_11"
         },
         {
          "day": 6,
          "hour": 1,
          "score": 26.2,
          "topic": "topic_11"
         },
         {
          "day": 6,
          "hour": 2,
          "score": 39.66,
          "topic": "topic_11"
         },
         {
          "day": 6,
          "hour": 3,
          "score": 48.39,
          "topic": "topic_11"
         },
         {
          "day": 6,
          "hour": 4,
          "score": 99.94,
          "topic": "topic_11"
         },
         {
          "day": 6,
          "hour": 5,
          "score": 94.19,
          "topic": "topic_11"
         },
         {
          "day": 6,
          "hour": 6,
          "score": 77.47,
          "topic": "topic_11"
         },
         {
          "day": 6,
          "hour": 7,
          "score": 60.5,
          "topic": "topic_11"
         },
         {
          "day": 6,
          "hour": 8,
          "score": 40.34,
          "topic": "topic_11"
         },
         {
          "day": 6,
          "hour": 9,
          "score": 21.92,
          "topic": "topic_11"
         },
         {
          "day": 6,
          "hour": 10,
          "score": 8.07,
          "topic": "topic_11"
         },
         {
          "day": 6,
          "hour": 11,
          "score": 0,
          "topic": "topic_11"
         },
         {
          "day": 6,
          "hour": 12,
          "score": 0,
          "topic": "topic_11"
         },
         {
          "day": 6,
          "hour": 13,
          "score": 0,
          "topic": "topic_11"
         },
         {
          "day": 6,
          "hour": 14,
          "score": 0,
          "topic": "topic_11"
         },
         {
          "day": 6,
          "hour": 15,
          "score": 0,
          "topic": "topic_11"
         },
         {
          "day": 6,
          "hour": 16,
          "score": 0,
          "topic": "topic_11"
         },
         {
          "day": 6,
          "hour": 17,
          "score": 0,
          "topic": "topic_11"
         },
         {
          "day": 6,
          "hour": 18,
          "score": 0,
          "topic": "topic_11"
         },
         {
          "day": 6,
          "hour": 19,
          "score": 0.6,
          "topic": "topic_11"
         },
         {
          "day": 6,
          "hour": 20,
          "score": 3.65,
          "topic": "topic_11"
         },
         {
          "day": 6,
          "hour": 21,
          "score": 18.84,
          "topic": "topic_11"
         },
         {
          "day": 6,
          "hour": 22,
          "score": 36.08,
          "topic": "topic_11"
         },
         {
          "day": 6,
          "hour": 23,
          "score": 10.67,
          "topic": "topic_11"
         },
         {
          "day": 0,
          "hour": 0,
          "score": 1.52,
          "topic": "topic_12"
         },
         {
          "day": 0,
          "hour": 1,
          "score": 0.58,
          "topic": "topic_12"
         },
         {
          "day": 0,
          "hour": 2,
          "score": 0,
          "topic": "topic_12"
         },
         {
          "day": 0,
          "hour": 3,
          "score": 0,
          "topic": "topic_12"
         },
         {
          "day": 0,
          "hour": 4,
          "score": 0,
          "topic": "topic_12"
         },
         {
          "day": 0,
          "hour": 5,
          "score": 0.73,
          "topic": "topic_12"
         },
         {
          "day": 0,
          "hour": 6,
          "score": 2.63,
          "topic": "topic_12"
         },
         {
          "day": 0,
          "hour": 7,
          "score": 0,
          "topic": "topic_12"
         },
         {
          "day": 0,
          "hour": 8,
          "score": 0.73,
          "topic": "topic_12"
         },
         {
          "day": 0,
          "hour": 9,
          "score": 11.48,
          "topic": "topic_12"
         },
         {
          "day": 0,
          "hour": 10,
          "score": 20.23,
          "topic": "topic_12"
         },
         {
          "day": 0,
          "hour": 11,
          "score": 27.18,
          "topic": "topic_12"
         },
         {
          "day": 0,
          "hour": 12,
          "score": 36.42,
          "topic": "topic_12"
         },
         {
          "day": 0,
          "hour": 13,
          "score": 41.04,
          "topic": "topic_12"
         },
         {
          "day": 0,
          "hour": 14,
          "score": 50.49,
          "topic": "topic_12"
         },
         {
          "day": 0,
          "hour": 15,
          "score": 49.66,
          "topic": "topic_12"
         },
         {
          "day": 0,
          "hour": 16,
          "score": 41.03,
          "topic": "topic_12"
         },
         {
          "day": 0,
          "hour": 17,
          "score": 20.54,
          "topic": "topic_12"
         },
         {
          "day": 0,
          "hour": 18,
          "score": 0,
          "topic": "topic_12"
         },
         {
          "day": 0,
          "hour": 19,
          "score": 0,
          "topic": "topic_12"
         },
         {
          "day": 0,
          "hour": 20,
          "score": 0,
          "topic": "topic_12"
         },
         {
          "day": 0,
          "hour": 21,
          "score": 0,
          "topic": "topic_12"
         },
         {
          "day": 0,
          "hour": 22,
          "score": 0,
          "topic": "topic_12"
         },
         {
          "day": 0,
          "hour": 23,
          "score": 2.44,
          "topic": "topic_12"
         },
         {
          "day": 1,
          "hour": 0,
          "score": 5.05,
          "topic": "topic_12"
         },
         {
          "day": 1,
          "hour": 1,
          "score": 2.61,
          "topic": "topic_12"
         },
         {
          "day": 1,
          "hour": 2,
          "score": 2.13,
          "topic": "topic_12"
         },
         {
          "day": 1,
          "hour": 3,
          "score": 1.49,
          "topic": "topic_12"
         },
         {
          "day": 1,
          "hour": 4,
          "score": 2.17,
          "topic": "topic_12"
         },
         {
          "day": 1,
          "hour": 5,
          "score": 3.42,
          "topic": "topic_12"
         },
         {
          "day": 1,
          "hour": 6,
          "score": 6.09,
          "topic": "topic_12"
         },
         {
          "day": 1,
          "hour": 7,
          "score": 0.01,
          "topic": "topic_12"
         },
         {
          "day": 1,
          "hour": 8,
          "score": 9.51,
          "topic": "topic_12"
         },
         {
          "day": 1,
          "hour": 9,
          "score": 26.51,
          "topic": "topic_12"
         },
         {
          "day": 1,
          "hour": 10,
          "score": 42.16,
          "topic": "topic_12"
         },
         {
          "day": 1,
          "hour": 11,
          "score": 52.23,
          "topic": "topic_12"
         },
         {
          "day": 1,
          "hour": 12,
          "score": 62.23,
          "topic": "topic_12"
         },
         {
          "day": 1,
          "hour": 13,
          "score": 74.87,
          "topic": "topic_12"
         },
         {
          "day": 1,
          "hour": 14,
          "score": 86.01,
          "topic": "topic_12"
         },
         {
          "day": 1,
          "hour": 15,
          "score": 79.91,
          "topic": "topic_12"
         },
         {
          "day": 1,
          "hour": 16,
          "score": 67.15,
          "topic": "topic_12"
         },
         {
          "day": 1,
          "hour": 17,
          "score": 39.05,
          "topic": "topic_12"
         },
         {
          "day": 1,
          "hour": 18,
          "score": 5.63,
          "topic": "topic_12"
         },
         {
          "day": 1,
          "hour": 19,
          "score": 7.63,
          "topic": "topic_12"
         },
         {
          "day": 1,
          "hour": 20,
          "score": 6.16,
          "topic": "topic_12"
         },
         {
          "day": 1,
          "hour": 21,
          "score": 1.95,
          "topic": "topic_12"
         },
         {
          "day": 1,
          "hour": 22,
          "score": 1.66,
          "topic": "topic_12"
         },
         {
          "day": 1,
          "hour": 23,
          "score": 4.88,
          "topic": "topic_12"
         },
         {
          "day": 2,
          "hour": 0,
          "score": 5.38,
          "topic": "topic_12"
         },
         {
          "day": 2,
          "hour": 1,
          "score": 3.46,
          "topic": "topic_12"
         },
         {
          "day": 2,
          "hour": 2,
          "score": 2.6,
          "topic": "topic_12"
         },
         {
          "day": 2,
          "hour": 3,
          "score": 2.22,
          "topic": "topic_12"
         },
         {
          "day": 2,
          "hour": 4,
          "score": 2.81,
          "topic": "topic_12"
         },
         {
          "day": 2,
          "hour": 5,
          "score": 4.04,
          "topic": "topic_12"
         },
         {
          "day": 2,
          "hour": 6,
          "score": 6.81,
          "topic": "topic_12"
         },
         {
          "day": 2,
          "hour": 7,
          "score": 1.03,
          "topic": "topic_12"
         },
         {
          "day": 2,
          "hour": 8,
          "score": 10.46,
          "topic": "topic_12"
         },
         {
          "day": 2,
          "hour": 9,
          "score": 28.23,
          "topic": "topic_12"
         },
         {
          "day": 2,
          "hour": 10,
          "score": 45.04,
          "topic": "topic_12"
         },
         {
          "day": 2,
          "hour": 11,
          "score": 57.52,
          "topic": "topic_12"
         },
         {
          "day": 2,
          "hour": 12,
          "score": 66.64,
          "topic": "topic_12"
         },
         {
          "day": 2,
          "hour": 13,
          "score": 78.13,
          "topic": "topic_12"
         },
         {
          "day": 2,
          "hour": 14,
          "score": 80.08,
          "topic": "topic_12"
         },
         {
          "day": 2,
          "hour": 15,
          "score": 79.6,
          "topic": "topic_12"
         },
         {
          "day": 2,
          "hour": 16,
          "score": 66.23,
          "topic": "topic_12"
         },
         {
          "day": 2,
          "hour": 17,
          "score": 36.2,
          "topic": "topic_12"
         },
         {
          "day": 2,
          "hour": 18,
          "score": 4.45,
          "topic": "topic_12"
         },
         {
          "day": 2,
          "hour": 19,
          "score": 6.93,
          "topic": "topic_12"
         },
         {
          "day": 2,
          "hour": 20,
          "score": 4.66,
          "topic": "topic_12"
         },
         {
          "day": 2,
          "hour": 21,
          "score": 2.3,
          "topic": "topic_12"
         },
         {
          "day": 2,
          "hour": 22,
          "score": 2.03,
          "topic": "topic_12"
         },
         {
          "day": 2,
          "hour": 23,
          "score": 3.8,
          "topic": "topic_12"
         },
         {
          "day": 3,
          "hour": 0,
          "score": 5.46,
          "topic": "topic_12"
         },
         {
          "day": 3,
          "hour": 1,
          "score": 3.69,
          "topic": "topic_12"
         },
         {
          "day": 3,
          "hour": 2,
          "score": 3.1,
          "topic": "topic_12"
         },
         {
          "day": 3,
          "hour": 3,
          "score": 2.43,
          "topic": "topic_12"
         },
         {
          "day": 3,
          "hour": 4,
          "score": 2.85,
          "topic": "topic_12"
         },
         {
          "day": 3,
          "hour": 5,
          "score": 4.13,
          "topic": "topic_12"
         },
         {
          "day": 3,
          "hour": 6,
          "score": 7.05,
          "topic": "topic_12"
         },
         {
          "day": 3,
          "hour": 7,
          "score": 1.44,
          "topic": "topic_12"
         },
         {
          "day": 3,
          "hour": 8,
          "score": 8.87,
          "topic": "topic_12"
         },
         {
          "day": 3,
          "hour": 9,
          "score": 24.47,
          "topic": "topic_12"
         },
         {
          "day": 3,
          "hour": 10,
          "score": 39.49,
          "topic": "topic_12"
         },
         {
          "day": 3,
          "hour": 11,
          "score": 52.28,
          "topic": "topic_12"
         },
         {
          "day": 3,
          "hour": 12,
          "score": 61.71,
          "topic": "topic_12"
         },
         {
          "day": 3,
          "hour": 13,
          "score": 71.2,
          "topic": "topic_12"
         },
         {
          "day": 3,
          "hour": 14,
          "score": 78.87,
          "topic": "topic_12"
         },
         {
          "day": 3,
          "hour": 15,
          "score": 75.12,
          "topic": "topic_12"
         },
         {
          "day": 3,
          "hour": 16,
          "score": 60.79,
          "topic": "topic_12"
         },
         {
          "day": 3,
          "hour": 17,
          "score": 33.83,
          "topic": "topic_12"
         },
         {
          "day": 3,
          "hour": 18,
          "score": 2.45,
          "topic": "topic_12"
         },
         {
          "day": 3,
          "hour": 19,
          "score": 4.67,
          "topic": "topic_12"
         },
         {
          "day": 3,
          "hour": 20,
          "score": 2.46,
          "topic": "topic_12"
         },
         {
          "day": 3,
          "hour": 21,
          "score": 0.05,
          "topic": "topic_12"
         },
         {
          "day": 3,
          "hour": 22,
          "score": 1.2,
          "topic": "topic_12"
         },
         {
          "day": 3,
          "hour": 23,
          "score": 3.91,
          "topic": "topic_12"
         },
         {
          "day": 4,
          "hour": 0,
          "score": 4.71,
          "topic": "topic_12"
         },
         {
          "day": 4,
          "hour": 1,
          "score": 2.7,
          "topic": "topic_12"
         },
         {
          "day": 4,
          "hour": 2,
          "score": 2.24,
          "topic": "topic_12"
         },
         {
          "day": 4,
          "hour": 3,
          "score": 1.65,
          "topic": "topic_12"
         },
         {
          "day": 4,
          "hour": 4,
          "score": 2.45,
          "topic": "topic_12"
         },
         {
          "day": 4,
          "hour": 5,
          "score": 3.66,
          "topic": "topic_12"
         },
         {
          "day": 4,
          "hour": 6,
          "score": 6.21,
          "topic": "topic_12"
         },
         {
          "day": 4,
          "hour": 7,
          "score": 0.3,
          "topic": "topic_12"
         },
         {
          "day": 4,
          "hour": 8,
          "score": 6.83,
          "topic": "topic_12"
         },
         {
          "day": 4,
          "hour": 9,
          "score": 18.59,
          "topic": "topic_12"
         },
         {
          "day": 4,
          "hour": 10,
          "score": 29.9,
          "topic": "topic_12"
         },
         {
          "day": 4,
          "hour": 11,
          "score": 38.59,
          "topic": "topic_12"
         },
         {
          "day": 4,
          "hour": 12,
          "score": 47.15,
          "topic": "topic_12"
         },
         {
          "day": 4,
          "hour": 13,
          "score": 51.08,
          "topic": "topic_12"
         },
         {
          "day": 4,
          "hour": 14,
          "score": 58.84,
          "topic": "topic_12"
         },
         {
          "day": 4,
          "hour": 15,
          "score": 53.79,
          "topic": "topic_12"
         },
         {
          "day": 4,
          "hour": 16,
          "score": 40.6,
          "topic": "topic_12"
         },
         {
          "day": 4,
          "hour": 17,
          "score": 16.44,
          "topic": "topic_12"
         },
         {
          "day": 4,
          "hour": 18,
          "score": 0,
          "topic": "topic_12"
         },
         {
          "day": 4,
          "hour": 19,
          "score": 0,
          "topic": "topic_12"
         },
         {
          "day": 4,
          "hour": 20,
          "score": 1.19,
          "topic": "topic_12"
         },
         {
          "day": 4,
          "hour": 21,
          "score": 0.6,
          "topic": "topic_12"
         },
         {
          "day": 4,
          "hour": 22,
          "score": 0,
          "topic": "topic_12"
         },
         {
          "day": 4,
          "hour": 23,
          "score": 1.32,
          "topic": "topic_12"
         },
         {
          "day": 5,
          "hour": 0,
          "score": 1.34,
          "topic": "topic_12"
         },
         {
          "day": 5,
          "hour": 1,
          "score": 0,
          "topic": "topic_12"
         },
         {
          "day": 5,
          "hour": 2,
          "score": 0,
          "topic": "topic_12"
         },
         {
          "day": 5,
          "hour": 3,
          "score": 0,
          "topic": "topic_12"
         },
         {
          "day": 5,
          "hour": 4,
          "score": 0,
          "topic": "topic_12"
         },
         {
          "day": 5,
          "hour": 5,
          "score": 0.28,
          "topic": "topic_12"
         },
         {
          "day": 5,
          "hour": 6,
          "score": 2.29,
          "topic": "topic_12"
         },
         {
          "day": 5,
          "hour": 7,
          "score": 4.4,
          "topic": "topic_12"
         },
         {
          "day": 5,
          "hour": 8,
          "score": 4.86,
          "topic": "topic_12"
         },
         {
          "day": 5,
          "hour": 9,
          "score": 4.7,
          "topic": "topic_12"
         },
         {
          "day": 5,
          "hour": 10,
          "score": 5.03,
          "topic": "topic_12"
         },
         {
          "day": 5,
          "hour": 11,
          "score": 4.97,
          "topic": "topic_12"
         },
         {
          "day": 5,
          "hour": 12,
          "score": 4.56,
          "topic": "topic_12"
         },
         {
          "day": 5,
          "hour": 13,
          "score": 2.56,
          "topic": "topic_12"
         },
         {
          "day": 5,
          "hour": 14,
          "score": 1.71,
          "topic": "topic_12"
         },
         {
          "day": 5,
          "hour": 15,
          "score": 1.63,
          "topic": "topic_12"
         },
         {
          "day": 5,
          "hour": 16,
          "score": 2.34,
          "topic": "topic_12"
         },
         {
          "day": 5,
          "hour": 17,
          "score": 1.78,
          "topic": "topic_12"
         },
         {
          "day": 5,
          "hour": 18,
          "score": 3.57,
          "topic": "topic_12"
         },
         {
          "day": 5,
          "hour": 19,
          "score": 6.31,
          "topic": "topic_12"
         },
         {
          "day": 5,
          "hour": 20,
          "score": 4.26,
          "topic": "topic_12"
         },
         {
          "day": 5,
          "hour": 21,
          "score": 2.16,
          "topic": "topic_12"
         },
         {
          "day": 5,
          "hour": 22,
          "score": 0,
          "topic": "topic_12"
         },
         {
          "day": 5,
          "hour": 23,
          "score": 0,
          "topic": "topic_12"
         },
         {
          "day": 6,
          "hour": 0,
          "score": 1.03,
          "topic": "topic_12"
         },
         {
          "day": 6,
          "hour": 1,
          "score": 0.45,
          "topic": "topic_12"
         },
         {
          "day": 6,
          "hour": 2,
          "score": 0,
          "topic": "topic_12"
         },
         {
          "day": 6,
          "hour": 3,
          "score": 0,
          "topic": "topic_12"
         },
         {
          "day": 6,
          "hour": 4,
          "score": 0,
          "topic": "topic_12"
         },
         {
          "day": 6,
          "hour": 5,
          "score": 0,
          "topic": "topic_12"
         },
         {
          "day": 6,
          "hour": 6,
          "score": 2.61,
          "topic": "topic_12"
         },
         {
          "day": 6,
          "hour": 7,
          "score": 5.27,
          "topic": "topic_12"
         },
         {
          "day": 6,
          "hour": 8,
          "score": 5.88,
          "topic": "topic_12"
         },
         {
          "day": 6,
          "hour": 9,
          "score": 5.54,
          "topic": "topic_12"
         },
         {
          "day": 6,
          "hour": 10,
          "score": 6.26,
          "topic": "topic_12"
         },
         {
          "day": 6,
          "hour": 11,
          "score": 4.52,
          "topic": "topic_12"
         },
         {
          "day": 6,
          "hour": 12,
          "score": 0,
          "topic": "topic_12"
         },
         {
          "day": 6,
          "hour": 13,
          "score": 0,
          "topic": "topic_12"
         },
         {
          "day": 6,
          "hour": 14,
          "score": 0,
          "topic": "topic_12"
         },
         {
          "day": 6,
          "hour": 15,
          "score": 0,
          "topic": "topic_12"
         },
         {
          "day": 6,
          "hour": 16,
          "score": 0,
          "topic": "topic_12"
         },
         {
          "day": 6,
          "hour": 17,
          "score": 0.05,
          "topic": "topic_12"
         },
         {
          "day": 6,
          "hour": 18,
          "score": 0.06,
          "topic": "topic_12"
         },
         {
          "day": 6,
          "hour": 19,
          "score": 0,
          "topic": "topic_12"
         },
         {
          "day": 6,
          "hour": 20,
          "score": 0,
          "topic": "topic_12"
         },
         {
          "day": 6,
          "hour": 21,
          "score": 0,
          "topic": "topic_12"
         },
         {
          "day": 6,
          "hour": 22,
          "score": 0,
          "topic": "topic_12"
         },
         {
          "day": 6,
          "hour": 23,
          "score": 1.76,
          "topic": "topic_12"
         },
         {
          "day": 0,
          "hour": 0,
          "score": 15.13,
          "topic": "topic_13"
         },
         {
          "day": 0,
          "hour": 1,
          "score": 14.05,
          "topic": "topic_13"
         },
         {
          "day": 0,
          "hour": 2,
          "score": 14.86,
          "topic": "topic_13"
         },
         {
          "day": 0,
          "hour": 3,
          "score": 13.38,
          "topic": "topic_13"
         },
         {
          "day": 0,
          "hour": 4,
          "score": 10.76,
          "topic": "topic_13"
         },
         {
          "day": 0,
          "hour": 5,
          "score": 10.17,
          "topic": "topic_13"
         },
         {
          "day": 0,
          "hour": 6,
          "score": 14.17,
          "topic": "topic_13"
         },
         {
          "day": 0,
          "hour": 7,
          "score": 12.4,
          "topic": "topic_13"
         },
         {
          "day": 0,
          "hour": 8,
          "score": 6.52,
          "topic": "topic_13"
         },
         {
          "day": 0,
          "hour": 9,
          "score": 5.21,
          "topic": "topic_13"
         },
         {
          "day": 0,
          "hour": 10,
          "score": 9.88,
          "topic": "topic_13"
         },
         {
          "day": 0,
          "hour": 11,
          "score": 14.55,
          "topic": "topic_13"
         },
         {
          "day": 0,
          "hour": 12,
          "score": 39.7,
          "topic": "topic_13"
         },
         {
          "day": 0,
          "hour": 13,
          "score": 60.04,
          "topic": "topic_13"
         },
         {
          "day": 0,
          "hour": 14,
          "score": 95.91,
          "topic": "topic_13"
         },
         {
          "day": 0,
          "hour": 15,
          "score": 108.87,
          "topic": "topic_13"
         },
         {
          "day": 0,
          "hour": 16,
          "score": 96.29,
          "topic": "topic_13"
         },
         {
          "day": 0,
          "hour": 17,
          "score": 59.15,
          "topic": "topic_13"
         },
         {
          "day": 0,
          "hour": 18,
          "score": 22.92,
          "topic": "topic_13"
         },
         {
          "day": 0,
          "hour": 19,
          "score": 15.48,
          "topic": "topic_13"
         },
         {
          "day": 0,
          "hour": 20,
          "score": 10.01,
          "topic": "topic_13"
         },
         {
          "day": 0,
          "hour": 21,
          "score": 3.63,
          "topic": "topic_13"
         },
         {
          "day": 0,
          "hour": 22,
          "score": 0.91,
          "topic": "topic_13"
         },
         {
          "day": 0,
          "hour": 23,
          "score": 0,
          "topic": "topic_13"
         },
         {
          "day": 1,
          "hour": 0,
          "score": 9.98,
          "topic": "topic_13"
         },
         {
          "day": 1,
          "hour": 1,
          "score": 11.92,
          "topic": "topic_13"
         },
         {
          "day": 1,
          "hour": 2,
          "score": 9.9,
          "topic": "topic_13"
         },
         {
          "day": 1,
          "hour": 3,
          "score": 12.79,
          "topic": "topic_13"
         },
         {
          "day": 1,
          "hour": 4,
          "score": 7.83,
          "topic": "topic_13"
         },
         {
          "day": 1,
          "hour": 5,
          "score": 5.76,
          "topic": "topic_13"
         },
         {
          "day": 1,
          "hour": 6,
          "score": 10.32,
          "topic": "topic_13"
         },
         {
          "day": 1,
          "hour": 7,
          "score": 13.71,
          "topic": "topic_13"
         },
         {
          "day": 1,
          "hour": 8,
          "score": 9.34,
          "topic": "topic_13"
         },
         {
          "day": 1,
          "hour": 9,
          "score": 6.95,
          "topic": "topic_13"
         },
         {
          "day": 1,
          "hour": 10,
          "score": 4.86,
          "topic": "topic_13"
         },
         {
          "day": 1,
          "hour": 11,
          "score": 0,
          "topic": "topic_13"
         },
         {
          "day": 1,
          "hour": 12,
          "score": 0.57,
          "topic": "topic_13"
         },
         {
          "day": 1,
          "hour": 13,
          "score": 31.61,
          "topic": "topic_13"
         },
         {
          "day": 1,
          "hour": 14,
          "score": 67.07,
          "topic": "topic_13"
         },
         {
          "day": 1,
          "hour": 15,
          "score": 63.7,
          "topic": "topic_13"
         },
         {
          "day": 1,
          "hour": 16,
          "score": 52.47,
          "topic": "topic_13"
         },
         {
          "day": 1,
          "hour": 17,
          "score": 17.82,
          "topic": "topic_13"
         },
         {
          "day": 1,
          "hour": 18,
          "score": 0,
          "topic": "topic_13"
         },
         {
          "day": 1,
          "hour": 19,
          "score": 0,
          "topic": "topic_13"
         },
         {
          "day": 1,
          "hour": 20,
          "score": 0,
          "topic": "topic_13"
         },
         {
          "day": 1,
          "hour": 21,
          "score": 0,
          "topic": "topic_13"
         },
         {
          "day": 1,
          "hour": 22,
          "score": 0.8,
          "topic": "topic_13"
         },
         {
          "day": 1,
          "hour": 23,
          "score": 0,
          "topic": "topic_13"
         },
         {
          "day": 2,
          "hour": 0,
          "score": 10.14,
          "topic": "topic_13"
         },
         {
          "day": 2,
          "hour": 1,
          "score": 11.52,
          "topic": "topic_13"
         },
         {
          "day": 2,
          "hour": 2,
          "score": 12.46,
          "topic": "topic_13"
         },
         {
          "day": 2,
          "hour": 3,
          "score": 14.46,
          "topic": "topic_13"
         },
         {
          "day": 2,
          "hour": 4,
          "score": 8.33,
          "topic": "topic_13"
         },
         {
          "day": 2,
          "hour": 5,
          "score": 6.1,
          "topic": "topic_13"
         },
         {
          "day": 2,
          "hour": 6,
          "score": 11.58,
          "topic": "topic_13"
         },
         {
          "day": 2,
          "hour": 7,
          "score": 15.76,
          "topic": "topic_13"
         },
         {
          "day": 2,
          "hour": 8,
          "score": 12.9,
          "topic": "topic_13"
         },
         {
          "day": 2,
          "hour": 9,
          "score": 10.46,
          "topic": "topic_13"
         },
         {
          "day": 2,
          "hour": 10,
          "score": 7.95,
          "topic": "topic_13"
         },
         {
          "day": 2,
          "hour": 11,
          "score": 5.06,
          "topic": "topic_13"
         },
         {
          "day": 2,
          "hour": 12,
          "score": 17.38,
          "topic": "topic_13"
         },
         {
          "day": 2,
          "hour": 13,
          "score": 50.71,
          "topic": "topic_13"
         },
         {
          "day": 2,
          "hour": 14,
          "score": 60.74,
          "topic": "topic_13"
         },
         {
          "day": 2,
          "hour": 15,
          "score": 87.25,
          "topic": "topic_13"
         },
         {
          "day": 2,
          "hour": 16,
          "score": 66.77,
          "topic": "topic_13"
         },
         {
          "day": 2,
          "hour": 17,
          "score": 25.23,
          "topic": "topic_13"
         },
         {
          "day": 2,
          "hour": 18,
          "score": 4.41,
          "topic": "topic_13"
         },
         {
          "day": 2,
          "hour": 19,
          "score": 2.65,
          "topic": "topic_13"
         },
         {
          "day": 2,
          "hour": 20,
          "score": 2.93,
          "topic": "topic_13"
         },
         {
          "day": 2,
          "hour": 21,
          "score": 0,
          "topic": "topic_13"
         },
         {
          "day": 2,
          "hour": 22,
          "score": 3.92,
          "topic": "topic_13"
         },
         {
          "day": 2,
          "hour": 23,
          "score": 0,
          "topic": "topic_13"
         },
         {
          "day": 3,
          "hour": 0,
          "score": 10.01,
          "topic": "topic_13"
         },
         {
          "day": 3,
          "hour": 1,
          "score": 12.4,
          "topic": "topic_13"
         },
         {
          "day": 3,
          "hour": 2,
          "score": 14.99,
          "topic": "topic_13"
         },
         {
          "day": 3,
          "hour": 3,
          "score": 13.81,
          "topic": "topic_13"
         },
         {
          "day": 3,
          "hour": 4,
          "score": 8.99,
          "topic": "topic_13"
         },
         {
          "day": 3,
          "hour": 5,
          "score": 6.27,
          "topic": "topic_13"
         },
         {
          "day": 3,
          "hour": 6,
          "score": 10.52,
          "topic": "topic_13"
         },
         {
          "day": 3,
          "hour": 7,
          "score": 16.67,
          "topic": "topic_13"
         },
         {
          "day": 3,
          "hour": 8,
          "score": 11.01,
          "topic": "topic_13"
         },
         {
          "day": 3,
          "hour": 9,
          "score": 15.44,
          "topic": "topic_13"
         },
         {
          "day": 3,
          "hour": 10,
          "score": 23.28,
          "topic": "topic_13"
         },
         {
          "day": 3,
          "hour": 11,
          "score": 13.21,
          "topic": "topic_13"
         },
         {
          "day": 3,
          "hour": 12,
          "score": 23.98,
          "topic": "topic_13"
         },
         {
          "day": 3,
          "hour": 13,
          "score": 50.18,
          "topic": "topic_13"
         },
         {
          "day": 3,
          "hour": 14,
          "score": 70.46,
          "topic": "topic_13"
         },
         {
          "day": 3,
          "hour": 15,
          "score": 66.92,
          "topic": "topic_13"
         },
         {
          "day": 3,
          "hour": 16,
          "score": 53.45,
          "topic": "topic_13"
         },
         {
          "day": 3,
          "hour": 17,
          "score": 13.91,
          "topic": "topic_13"
         },
         {
          "day": 3,
          "hour": 18,
          "score": 0,
          "topic": "topic_13"
         },
         {
          "day": 3,
          "hour": 19,
          "score": 0,
          "topic": "topic_13"
         },
         {
          "day": 3,
          "hour": 20,
          "score": 0,
          "topic": "topic_13"
         },
         {
          "day": 3,
          "hour": 21,
          "score": 0,
          "topic": "topic_13"
         },
         {
          "day": 3,
          "hour": 22,
          "score": 0.22,
          "topic": "topic_13"
         },
         {
          "day": 3,
          "hour": 23,
          "score": 0,
          "topic": "topic_13"
         },
         {
          "day": 4,
          "hour": 0,
          "score": 7.81,
          "topic": "topic_13"
         },
         {
          "day": 4,
          "hour": 1,
          "score": 8.38,
          "topic": "topic_13"
         },
         {
          "day": 4,
          "hour": 2,
          "score": 9.57,
          "topic": "topic_13"
         },
         {
          "day": 4,
          "hour": 3,
          "score": 11.35,
          "topic": "topic_13"
         },
         {
          "day": 4,
          "hour": 4,
          "score": 6.56,
          "topic": "topic_13"
         },
         {
          "day": 4,
          "hour": 5,
          "score": 4.72,
          "topic": "topic_13"
         },
         {
          "day": 4,
          "hour": 6,
          "score": 8.69,
          "topic": "topic_13"
         },
         {
          "day": 4,
          "hour": 7,
          "score": 8.69,
          "topic": "topic_13"
         },
         {
          "day": 4,
          "hour": 8,
          "score": 0,
          "topic": "topic_13"
         },
         {
          "day": 4,
          "hour": 9,
          "score": 0,
          "topic": "topic_13"
         },
         {
          "day": 4,
          "hour": 10,
          "score": 0,
          "topic": "topic_13"
         },
         {
          "day": 4,
          "hour": 11,
          "score": 0,
          "topic": "topic_13"
         },
         {
          "day": 4,
          "hour": 12,
          "score": 0,
          "topic": "topic_13"
         },
         {
          "day": 4,
          "hour": 13,
          "score": 16.46,
          "topic": "topic_13"
         },
         {
          "day": 4,
          "hour": 14,
          "score": 47.22,
          "topic": "topic_13"
         },
         {
          "day": 4,
          "hour": 15,
          "score": 49.94,
          "topic": "topic_13"
         },
         {
          "day": 4,
          "hour": 16,
          "score": 38.52,
          "topic": "topic_13"
         },
         {
          "day": 4,
          "hour": 17,
          "score": 9.17,
          "topic": "topic_13"
         },
         {
          "day": 4,
          "hour": 18,
          "score": 0,
          "topic": "topic_13"
         },
         {
          "day": 4,
          "hour": 19,
          "score": 0,
          "topic": "topic_13"
         },
         {
          "day": 4,
          "hour": 20,
          "score": 0,
          "topic": "topic_13"
         },
         {
          "day": 4,
          "hour": 21,
          "score": 0,
          "topic": "topic_13"
         },
         {
          "day": 4,
          "hour": 22,
          "score": 0,
          "topic": "topic_13"
         },
         {
          "day": 4,
          "hour": 23,
          "score": 0,
          "topic": "topic_13"
         },
         {
          "day": 5,
          "hour": 0,
          "score": 0,
          "topic": "topic_13"
         },
         {
          "day": 5,
          "hour": 1,
          "score": 4.37,
          "topic": "topic_13"
         },
         {
          "day": 5,
          "hour": 2,
          "score": 7.85,
          "topic": "topic_13"
         },
         {
          "day": 5,
          "hour": 3,
          "score": 11.66,
          "topic": "topic_13"
         },
         {
          "day": 5,
          "hour": 4,
          "score": 10.82,
          "topic": "topic_13"
         },
         {
          "day": 5,
          "hour": 5,
          "score": 6.04,
          "topic": "topic_13"
         },
         {
          "day": 5,
          "hour": 6,
          "score": 0.16,
          "topic": "topic_13"
         },
         {
          "day": 5,
          "hour": 7,
          "score": 0,
          "topic": "topic_13"
         },
         {
          "day": 5,
          "hour": 8,
          "score": 0,
          "topic": "topic_13"
         },
         {
          "day": 5,
          "hour": 9,
          "score": 0,
          "topic": "topic_13"
         },
         {
          "day": 5,
          "hour": 10,
          "score": 0,
          "topic": "topic_13"
         },
         {
          "day": 5,
          "hour": 11,
          "score": 21.24,
          "topic": "topic_13"
         },
         {
          "day": 5,
          "hour": 12,
          "score": 44.57,
          "topic": "topic_13"
         },
         {
          "day": 5,
          "hour": 13,
          "score": 81.37,
          "topic": "topic_13"
         },
         {
          "day": 5,
          "hour": 14,
          "score": 126.23,
          "topic": "topic_13"
         },
         {
          "day": 5,
          "hour": 15,
          "score": 161.33,
          "topic": "topic_13"
         },
         {
          "day": 5,
          "hour": 16,
          "score": 178.8,
          "topic": "topic_13"
         },
         {
          "day": 5,
          "hour": 17,
          "score": 163.24,
          "topic": "topic_13"
         },
         {
          "day": 5,
          "hour": 18,
          "score": 112.98,
          "topic": "topic_13"
         },
         {
          "day": 5,
          "hour": 19,
          "score": 64.84,
          "topic": "topic_13"
         },
         {
          "day": 5,
          "hour": 20,
          "score": 25.75,
          "topic": "topic_13"
         },
         {
          "day": 5,
          "hour": 21,
          "score": 16.17,
          "topic": "topic_13"
         },
         {
          "day": 5,
          "hour": 22,
          "score": 28.71,
          "topic": "topic_13"
         },
         {
          "day": 5,
          "hour": 23,
          "score": 41.83,
          "topic": "topic_13"
         },
         {
          "day": 6,
          "hour": 0,
          "score": 0,
          "topic": "topic_13"
         },
         {
          "day": 6,
          "hour": 1,
          "score": 0,
          "topic": "topic_13"
         },
         {
          "day": 6,
          "hour": 2,
          "score": 0,
          "topic": "topic_13"
         },
         {
          "day": 6,
          "hour": 3,
          "score": 0,
          "topic": "topic_13"
         },
         {
          "day": 6,
          "hour": 4,
          "score": 0.32,
          "topic": "topic_13"
         },
         {
          "day": 6,
          "hour": 5,
          "score": 0,
          "topic": "topic_13"
         },
         {
          "day": 6,
          "hour": 6,
          "score": 0,
          "topic": "topic_13"
         },
         {
          "day": 6,
          "hour": 7,
          "score": 0,
          "topic": "topic_13"
         },
         {
          "day": 6,
          "hour": 8,
          "score": 0,
          "topic": "topic_13"
         },
         {
          "day": 6,
          "hour": 9,
          "score": 0.15,
          "topic": "topic_13"
         },
         {
          "day": 6,
          "hour": 10,
          "score": 21.62,
          "topic": "topic_13"
         },
         {
          "day": 6,
          "hour": 11,
          "score": 34.97,
          "topic": "topic_13"
         },
         {
          "day": 6,
          "hour": 12,
          "score": 62.08,
          "topic": "topic_13"
         },
         {
          "day": 6,
          "hour": 13,
          "score": 103.21,
          "topic": "topic_13"
         },
         {
          "day": 6,
          "hour": 14,
          "score": 152.71,
          "topic": "topic_13"
         },
         {
          "day": 6,
          "hour": 15,
          "score": 163.18,
          "topic": "topic_13"
         },
         {
          "day": 6,
          "hour": 16,
          "score": 146.05,
          "topic": "topic_13"
         },
         {
          "day": 6,
          "hour": 17,
          "score": 107.62,
          "topic": "topic_13"
         },
         {
          "day": 6,
          "hour": 18,
          "score": 50.1,
          "topic": "topic_13"
         },
         {
          "day": 6,
          "hour": 19,
          "score": 10.92,
          "topic": "topic_13"
         },
         {
          "day": 6,
          "hour": 20,
          "score": 0,
          "topic": "topic_13"
         },
         {
          "day": 6,
          "hour": 21,
          "score": 7.89,
          "topic": "topic_13"
         },
         {
          "day": 6,
          "hour": 22,
          "score": 10.52,
          "topic": "topic_13"
         },
         {
          "day": 6,
          "hour": 23,
          "score": 17.13,
          "topic": "topic_13"
         },
         {
          "day": 0,
          "hour": 0,
          "score": 0,
          "topic": "topic_14"
         },
         {
          "day": 0,
          "hour": 1,
          "score": 1.22,
          "topic": "topic_14"
         },
         {
          "day": 0,
          "hour": 2,
          "score": 1.58,
          "topic": "topic_14"
         },
         {
          "day": 0,
          "hour": 3,
          "score": 1.96,
          "topic": "topic_14"
         },
         {
          "day": 0,
          "hour": 4,
          "score": 0,
          "topic": "topic_14"
         },
         {
          "day": 0,
          "hour": 5,
          "score": 0,
          "topic": "topic_14"
         },
         {
          "day": 0,
          "hour": 6,
          "score": 3.22,
          "topic": "topic_14"
         },
         {
          "day": 0,
          "hour": 7,
          "score": 31.62,
          "topic": "topic_14"
         },
         {
          "day": 0,
          "hour": 8,
          "score": 82.91,
          "topic": "topic_14"
         },
         {
          "day": 0,
          "hour": 9,
          "score": 84.43,
          "topic": "topic_14"
         },
         {
          "day": 0,
          "hour": 10,
          "score": 68.28,
          "topic": "topic_14"
         },
         {
          "day": 0,
          "hour": 11,
          "score": 47.73,
          "topic": "topic_14"
         },
         {
          "day": 0,
          "hour": 12,
          "score": 29.28,
          "topic": "topic_14"
         },
         {
          "day": 0,
          "hour": 13,
          "score": 22.44,
          "topic": "topic_14"
         },
         {
          "day": 0,
          "hour": 14,
          "score": 9.08,
          "topic": "topic_14"
         },
         {
          "day": 0,
          "hour": 15,
          "score": 9.67,
          "topic": "topic_14"
         },
         {
          "day": 0,
          "hour": 16,
          "score": 18.07,
          "topic": "topic_14"
         },
         {
          "day": 0,
          "hour": 17,
          "score": 34.78,
          "topic": "topic_14"
         },
         {
          "day": 0,
          "hour": 18,
          "score": 25.48,
          "topic": "topic_14"
         },
         {
          "day": 0,
          "hour": 19,
          "score": 1.44,
          "topic": "topic_14"
         },
         {
          "day": 0,
          "hour": 20,
          "score": 0,
          "topic": "topic_14"
         },
         {
          "day": 0,
          "hour": 21,
          "score": 1.31,
          "topic": "topic_14"
         },
         {
          "day": 0,
          "hour": 22,
          "score": 6.53,
          "topic": "topic_14"
         },
         {
          "day": 0,
          "hour": 23,
          "score": 0,
          "topic": "topic_14"
         },
         {
          "day": 1,
          "hour": 0,
          "score": 1.41,
          "topic": "topic_14"
         },
         {
          "day": 1,
          "hour": 1,
          "score": 2.99,
          "topic": "topic_14"
         },
         {
          "day": 1,
          "hour": 2,
          "score": 3.65,
          "topic": "topic_14"
         },
         {
          "day": 1,
          "hour": 3,
          "score": 3.35,
          "topic": "topic_14"
         },
         {
          "day": 1,
          "hour": 4,
          "score": 0,
          "topic": "topic_14"
         },
         {
          "day": 1,
          "hour": 5,
          "score": 0,
          "topic": "topic_14"
         },
         {
          "day": 1,
          "hour": 6,
          "score": 3.6,
          "topic": "topic_14"
         },
         {
          "day": 1,
          "hour": 7,
          "score": 39.96,
          "topic": "topic_14"
         },
         {
          "day": 1,
          "hour": 8,
          "score": 97.65,
          "topic": "topic_14"
         },
         {
          "day": 1,
          "hour": 9,
          "score": 94.06,
          "topic": "topic_14"
         },
         {
          "day": 1,
          "hour": 10,
          "score": 70.31,
          "topic": "topic_14"
         },
         {
          "day": 1,
          "hour": 11,
          "score": 44.11,
          "topic": "topic_14"
         },
         {
          "day": 1,
          "hour": 12,
          "score": 24.36,
          "topic": "topic_14"
         },
         {
          "day": 1,
          "hour": 13,
          "score": 12.55,
          "topic": "topic_14"
         },
         {
          "day": 1,
          "hour": 14,
          "score": 0,
          "topic": "topic_14"
         },
         {
          "day": 1,
          "hour": 15,
          "score": 7.64,
          "topic": "topic_14"
         },
         {
          "day": 1,
          "hour": 16,
          "score": 19.56,
          "topic": "topic_14"
         },
         {
          "day": 1,
          "hour": 17,
          "score": 44.19,
          "topic": "topic_14"
         },
         {
          "day": 1,
          "hour": 18,
          "score": 37.13,
          "topic": "topic_14"
         },
         {
          "day": 1,
          "hour": 19,
          "score": 3.37,
          "topic": "topic_14"
         },
         {
          "day": 1,
          "hour": 20,
          "score": 1.11,
          "topic": "topic_14"
         },
         {
          "day": 1,
          "hour": 21,
          "score": 6.33,
          "topic": "topic_14"
         },
         {
          "day": 1,
          "hour": 22,
          "score": 9.97,
          "topic": "topic_14"
         },
         {
          "day": 1,
          "hour": 23,
          "score": 0,
          "topic": "topic_14"
         },
         {
          "day": 2,
          "hour": 0,
          "score": 0.6,
          "topic": "topic_14"
         },
         {
          "day": 2,
          "hour": 1,
          "score": 2.42,
          "topic": "topic_14"
         },
         {
          "day": 2,
          "hour": 2,
          "score": 3.16,
          "topic": "topic_14"
         },
         {
          "day": 2,
          "hour": 3,
          "score": 2.83,
          "topic": "topic_14"
         },
         {
          "day": 2,
          "hour": 4,
          "score": 0,
          "topic": "topic_14"
         },
         {
          "day": 2,
          "hour": 5,
          "score": 0,
          "topic": "topic_14"
         },
         {
          "day": 2,
          "hour": 6,
          "score": 3.58,
          "topic": "topic_14"
         },
         {
          "day": 2,
          "hour": 7,
          "score": 38.18,
          "topic": "topic_14"
         },
         {
          "day": 2,
          "hour": 8,
          "score": 95.3,
          "topic": "topic_14"
         },
         {
          "day": 2,
          "hour": 9,
          "score": 93.22,
          "topic": "topic_14"
         },
         {
          "day": 2,
          "hour": 10,
          "score": 68.63,
          "topic": "topic_14"
         },
         {
          "day": 2,
          "hour": 11,
          "score": 37.7,
          "topic": "topic_14"
         },
         {
          "day": 2,
          "hour": 12,
          "score": 14.85,
          "topic": "topic_14"
         },
         {
          "day": 2,
          "hour": 13,
          "score": 2.93,
          "topic": "topic_14"
         },
         {
          "day": 2,
          "hour": 14,
          "score": 0,
          "topic": "topic_14"
         },
         {
          "day": 2,
          "hour": 15,
          "score": 0,
          "topic": "topic_14"
         },
         {
          "day": 2,
          "hour": 16,
          "score": 13.22,
          "topic": "topic_14"
         },
         {
          "day": 2,
          "hour": 17,
          "score": 41.67,
          "topic": "topic_14"
         },
         {
          "day": 2,
          "hour": 18,
          "score": 33.29,
          "topic": "topic_14"
         },
         {
          "day": 2,
          "hour": 19,
          "score": 0,
          "topic": "topic_14"
         },
         {
          "day": 2,
          "hour": 20,
          "score": 0,
          "topic": "topic_14"
         },
         {
          "day": 2,
          "hour": 21,
          "score": 1.33,
          "topic": "topic_14"
         },
         {
          "day": 2,
          "hour": 22,
          "score": 6.87,
          "topic": "topic_14"
         },
         {
          "day": 2,
          "hour": 23,
          "score": 0.13,
          "topic": "topic_14"
         },
         {
          "day": 3,
          "hour": 0,
          "score": 0,
          "topic": "topic_14"
         },
         {
          "day": 3,
          "hour": 1,
          "score": 1.69,
          "topic": "topic_14"
         },
         {
          "day": 3,
          "hour": 2,
          "score": 2.41,
          "topic": "topic_14"
         },
         {
          "day": 3,
          "hour": 3,
          "score": 2.82,
          "topic": "topic_14"
         },
         {
          "day": 3,
          "hour": 4,
          "score": 0.07,
          "topic": "topic_14"
         },
         {
          "day": 3,
          "hour": 5,
          "score": 0,
          "topic": "topic_14"
         },
         {
          "day": 3,
          "hour": 6,
          "score": 3.24,
          "topic": "topic_14"
         },
         {
          "day": 3,
          "hour": 7,
          "score": 37.81,
          "topic": "topic_14"
         },
         {
          "day": 3,
          "hour": 8,
          "score": 97.3,
          "topic": "topic_14"
         },
         {
          "day": 3,
          "hour": 9,
          "score": 94.82,
          "topic": "topic_14"
         },
         {
          "day": 3,
          "hour": 10,
          "score": 71.57,
          "topic": "topic_14"
         },
         {
          "day": 3,
          "hour": 11,
          "score": 40.1,
          "topic": "topic_14"
         },
         {
          "day": 3,
          "hour": 12,
          "score": 21.03,
          "topic": "topic_14"
         },
         {
          "day": 3,
          "hour": 13,
          "score": 10.44,
          "topic": "topic_14"
         },
         {
          "day": 3,
          "hour": 14,
          "score": 0.41,
          "topic": "topic_14"
         },
         {
          "day": 3,
          "hour": 15,
          "score": 6.94,
          "topic": "topic_14"
         },
         {
          "day": 3,
          "hour": 16,
          "score": 20.59,
          "topic": "topic_14"
         },
         {
          "day": 3,
          "hour": 17,
          "score": 46.66,
          "topic": "topic_14"
         },
         {
          "day": 3,
          "hour": 18,
          "score": 36,
          "topic": "topic_14"
         },
         {
          "day": 3,
          "hour": 19,
          "score": 1.62,
          "topic": "topic_14"
         },
         {
          "day": 3,
          "hour": 20,
          "score": 0,
          "topic": "topic_14"
         },
         {
          "day": 3,
          "hour": 21,
          "score": 3.78,
          "topic": "topic_14"
         },
         {
          "day": 3,
          "hour": 22,
          "score": 7.39,
          "topic": "topic_14"
         },
         {
          "day": 3,
          "hour": 23,
          "score": 0,
          "topic": "topic_14"
         },
         {
          "day": 4,
          "hour": 0,
          "score": 0.83,
          "topic": "topic_14"
         },
         {
          "day": 4,
          "hour": 1,
          "score": 2.92,
          "topic": "topic_14"
         },
         {
          "day": 4,
          "hour": 2,
          "score": 3.16,
          "topic": "topic_14"
         },
         {
          "day": 4,
          "hour": 3,
          "score": 3.38,
          "topic": "topic_14"
         },
         {
          "day": 4,
          "hour": 4,
          "score": 0.12,
          "topic": "topic_14"
         },
         {
          "day": 4,
          "hour": 5,
          "score": 0,
          "topic": "topic_14"
         },
         {
          "day": 4,
          "hour": 6,
          "score": 3.36,
          "topic": "topic_14"
         },
         {
          "day": 4,
          "hour": 7,
          "score": 38.94,
          "topic": "topic_14"
         },
         {
          "day": 4,
          "hour": 8,
          "score": 100.61,
          "topic": "topic_14"
         },
         {
          "day": 4,
          "hour": 9,
          "score": 106.24,
          "topic": "topic_14"
         },
         {
          "day": 4,
          "hour": 10,
          "score": 88.23,
          "topic": "topic_14"
         },
         {
          "day": 4,
          "hour": 11,
          "score": 63.73,
          "topic": "topic_14"
         },
         {
          "day": 4,
          "hour": 12,
          "score": 44.86,
          "topic": "topic_14"
         },
         {
          "day": 4,
          "hour": 13,
          "score": 42.07,
          "topic": "topic_14"
         },
         {
          "day": 4,
          "hour": 14,
          "score": 29.67,
          "topic": "topic_14"
         },
         {
          "day": 4,
          "hour": 15,
          "score": 30.08,
          "topic": "topic_14"
         },
         {
          "day": 4,
          "hour": 16,
          "score": 41.08,
          "topic": "topic_14"
         },
         {
          "day": 4,
          "hour": 17,
          "score": 57.62,
          "topic": "topic_14"
         },
         {
          "day": 4,
          "hour": 18,
          "score": 35.23,
          "topic": "topic_14"
         },
         {
          "day": 4,
          "hour": 19,
          "score": 4.81,
          "topic": "topic_14"
         },
         {
          "day": 4,
          "hour": 20,
          "score": 0.66,
          "topic": "topic_14"
         },
         {
          "day": 4,
          "hour": 21,
          "score": 3.25,
          "topic": "topic_14"
         },
         {
          "day": 4,
          "hour": 22,
          "score": 5.84,
          "topic": "topic_14"
         },
         {
          "day": 4,
          "hour": 23,
          "score": 0,
          "topic": "topic_14"
         },
         {
          "day": 5,
          "hour": 0,
          "score": 2.38,
          "topic": "topic_14"
         },
         {
          "day": 5,
          "hour": 1,
          "score": 4.13,
          "topic": "topic_14"
         },
         {
          "day": 5,
          "hour": 2,
          "score": 4.55,
          "topic": "topic_14"
         },
         {
          "day": 5,
          "hour": 3,
          "score": 4.22,
          "topic": "topic_14"
         },
         {
          "day": 5,
          "hour": 4,
          "score": 1.58,
          "topic": "topic_14"
         },
         {
          "day": 5,
          "hour": 5,
          "score": 0.45,
          "topic": "topic_14"
         },
         {
          "day": 5,
          "hour": 6,
          "score": 0,
          "topic": "topic_14"
         },
         {
          "day": 5,
          "hour": 7,
          "score": 0,
          "topic": "topic_14"
         },
         {
          "day": 5,
          "hour": 8,
          "score": 4.96,
          "topic": "topic_14"
         },
         {
          "day": 5,
          "hour": 9,
          "score": 6.73,
          "topic": "topic_14"
         },
         {
          "day": 5,
          "hour": 10,
          "score": 7.3,
          "topic": "topic_14"
         },
         {
          "day": 5,
          "hour": 11,
          "score": 5.16,
          "topic": "topic_14"
         },
         {
          "day": 5,
          "hour": 12,
          "score": 1.22,
          "topic": "topic_14"
         },
         {
          "day": 5,
          "hour": 13,
          "score": 0,
          "topic": "topic_14"
         },
         {
          "day": 5,
          "hour": 14,
          "score": 0,
          "topic": "topic_14"
         },
         {
          "day": 5,
          "hour": 15,
          "score": 0,
          "topic": "topic_14"
         },
         {
          "day": 5,
          "hour": 16,
          "score": 1.15,
          "topic": "topic_14"
         },
         {
          "day": 5,
          "hour": 17,
          "score": 3.9,
          "topic": "topic_14"
         },
         {
          "day": 5,
          "hour": 18,
          "score": 4.21,
          "topic": "topic_14"
         },
         {
          "day": 5,
          "hour": 19,
          "score": 3.16,
          "topic": "topic_14"
         },
         {
          "day": 5,
          "hour": 20,
          "score": 1.09,
          "topic": "topic_14"
         },
         {
          "day": 5,
          "hour": 21,
          "score": 0.2,
          "topic": "topic_14"
         },
         {
          "day": 5,
          "hour": 22,
          "score": 0,
          "topic": "topic_14"
         },
         {
          "day": 5,
          "hour": 23,
          "score": 2.21,
          "topic": "topic_14"
         },
         {
          "day": 6,
          "hour": 0,
          "score": 0,
          "topic": "topic_14"
         },
         {
          "day": 6,
          "hour": 1,
          "score": 0.22,
          "topic": "topic_14"
         },
         {
          "day": 6,
          "hour": 2,
          "score": 1.37,
          "topic": "topic_14"
         },
         {
          "day": 6,
          "hour": 3,
          "score": 2.03,
          "topic": "topic_14"
         },
         {
          "day": 6,
          "hour": 4,
          "score": 0,
          "topic": "topic_14"
         },
         {
          "day": 6,
          "hour": 5,
          "score": 0,
          "topic": "topic_14"
         },
         {
          "day": 6,
          "hour": 6,
          "score": 0,
          "topic": "topic_14"
         },
         {
          "day": 6,
          "hour": 7,
          "score": 0,
          "topic": "topic_14"
         },
         {
          "day": 6,
          "hour": 8,
          "score": 0,
          "topic": "topic_14"
         },
         {
          "day": 6,
          "hour": 9,
          "score": 2.49,
          "topic": "topic_14"
         },
         {
          "day": 6,
          "hour": 10,
          "score": 0,
          "topic": "topic_14"
         },
         {
          "day": 6,
          "hour": 11,
          "score": 0,
          "topic": "topic_14"
         },
         {
          "day": 6,
          "hour": 12,
          "score": 0,
          "topic": "topic_14"
         },
         {
          "day": 6,
          "hour": 13,
          "score": 1.66,
          "topic": "topic_14"
         },
         {
          "day": 6,
          "hour": 14,
          "score": 0,
          "topic": "topic_14"
         },
         {
          "day": 6,
          "hour": 15,
          "score": 0,
          "topic": "topic_14"
         },
         {
          "day": 6,
          "hour": 16,
          "score": 0,
          "topic": "topic_14"
         },
         {
          "day": 6,
          "hour": 17,
          "score": 0,
          "topic": "topic_14"
         },
         {
          "day": 6,
          "hour": 18,
          "score": 0,
          "topic": "topic_14"
         },
         {
          "day": 6,
          "hour": 19,
          "score": 0.06,
          "topic": "topic_14"
         },
         {
          "day": 6,
          "hour": 20,
          "score": 0,
          "topic": "topic_14"
         },
         {
          "day": 6,
          "hour": 21,
          "score": 0,
          "topic": "topic_14"
         },
         {
          "day": 6,
          "hour": 22,
          "score": 0,
          "topic": "topic_14"
         },
         {
          "day": 6,
          "hour": 23,
          "score": 0,
          "topic": "topic_14"
         }
        ]
       },
       "facet": {
        "row": {
         "field": "topic",
         "type": "nominal"
        }
       },
       "resolve": {
        "scale": {
         "color": "independent",
         "x": "independent",
         "y": "shared"
        }
       },
       "spec": {
        "encoding": {
         "color": {
          "field": "score",
          "legend": null,
          "type": "quantitative"
         },
         "x": {
          "axis": {
           "title": ""
          },
          "field": "hour",
          "type": "ordinal"
         },
         "y": {
          "axis": {
           "title": ""
          },
          "field": "day",
          "type": "ordinal"
         }
        },
        "height": 40,
        "mark": "rect",
        "width": 160
       }
      },
      "image/png": "[encoded data removed]",
      "text/plain": [
       "<VegaLite 2 object>\n",
       "\n",
       "If you see this message, it means the renderer has not been properly enabled\n",
       "for the frontend that you are using. For more information, see\n",
       "https://altair-viz.github.io/user_guide/troubleshooting.html\n"
      ]
     },
     "execution_count": 14,
     "metadata": {},
     "output_type": "execute_result"
    }
   ],
   "source": [
    "alt.Chart(df_topic)\\\n",
    ".mark_rect()\\\n",
    ".encode(\n",
    "    alt.X('hour:O', axis=alt.Axis(title='')),\n",
    "    alt.Y('day:O', axis=alt.Axis(title='')),\n",
    "    color=alt.Color('score:Q', legend=None)\n",
    ")\\\n",
    ".properties(width=160, height=40)\\\n",
    ".facet(row='topic:N')\\\n",
    ".resolve_scale(color='independent', x='independent')"
   ]
  },
  {
   "cell_type": "markdown",
   "metadata": {},
   "source": [
    "## Mapping Topics\n",
    "\n",
    "We'd like to see where these topics are located in Seoul. So we are going to make a choropleth map with these topics. \n",
    "\n",
    "You can download Polygons for Seoul's census tracts from here:\n",
    "\n",
    "https://data.seoul.go.kr/together/statbook/fileDownload.do?cotCd=999&filename=%ED%86%B5%EA%B3%84%EC%A7%80%EC%97%AD%EA%B2%BD%EA%B3%84(2016%EB%85%84%20%EA%B8%B0%EC%A4%80).zip\n",
    "\n",
    "Unzip the zipped shapefile in the raw data folder.\n",
    "Its columns are:\n",
    "\n",
    "* census tract ID\n",
    "* neighborhood name\n",
    "* neighborhood code\n",
    "* geometry"
   ]
  },
  {
   "cell_type": "code",
   "execution_count": 16,
   "metadata": {},
   "outputs": [
    {
     "data": {
      "text/html": [
       "<div>\n",
       "<style scoped>\n",
       "    .dataframe tbody tr th:only-of-type {\n",
       "        vertical-align: middle;\n",
       "    }\n",
       "\n",
       "    .dataframe tbody tr th {\n",
       "        vertical-align: top;\n",
       "    }\n",
       "\n",
       "    .dataframe thead th {\n",
       "        text-align: right;\n",
       "    }\n",
       "</style>\n",
       "<table border=\"1\" class=\"dataframe\">\n",
       "  <thead>\n",
       "    <tr style=\"text-align: right;\">\n",
       "      <th></th>\n",
       "      <th>TOT_REG_CD</th>\n",
       "      <th>ADM_NM</th>\n",
       "      <th>ADM_CD</th>\n",
       "      <th>geometry</th>\n",
       "    </tr>\n",
       "  </thead>\n",
       "  <tbody>\n",
       "    <tr>\n",
       "      <th>0</th>\n",
       "      <td>1101053010006</td>\n",
       "      <td>사직동</td>\n",
       "      <td>1101053</td>\n",
       "      <td>POLYGON ((953231.9682865143 1953435.865716934,...</td>\n",
       "    </tr>\n",
       "    <tr>\n",
       "      <th>1</th>\n",
       "      <td>1101053010001</td>\n",
       "      <td>사직동</td>\n",
       "      <td>1101053</td>\n",
       "      <td>POLYGON ((952858.5655841827 1952976.274114609,...</td>\n",
       "    </tr>\n",
       "    <tr>\n",
       "      <th>2</th>\n",
       "      <td>1101053010003</td>\n",
       "      <td>사직동</td>\n",
       "      <td>1101053</td>\n",
       "      <td>POLYGON ((952889.1776866913 1953405.245515823,...</td>\n",
       "    </tr>\n",
       "    <tr>\n",
       "      <th>3</th>\n",
       "      <td>1101053010002</td>\n",
       "      <td>사직동</td>\n",
       "      <td>1101053</td>\n",
       "      <td>POLYGON ((953093.8012866974 1953337.962316513,...</td>\n",
       "    </tr>\n",
       "    <tr>\n",
       "      <th>4</th>\n",
       "      <td>1101053010005</td>\n",
       "      <td>사직동</td>\n",
       "      <td>1101053</td>\n",
       "      <td>POLYGON ((953553.9324855804 1953335.741514206,...</td>\n",
       "    </tr>\n",
       "  </tbody>\n",
       "</table>\n",
       "</div>"
      ],
      "text/plain": [
       "      TOT_REG_CD ADM_NM   ADM_CD  \\\n",
       "0  1101053010006    사직동  1101053   \n",
       "1  1101053010001    사직동  1101053   \n",
       "2  1101053010003    사직동  1101053   \n",
       "3  1101053010002    사직동  1101053   \n",
       "4  1101053010005    사직동  1101053   \n",
       "\n",
       "                                            geometry  \n",
       "0  POLYGON ((953231.9682865143 1953435.865716934,...  \n",
       "1  POLYGON ((952858.5655841827 1952976.274114609,...  \n",
       "2  POLYGON ((952889.1776866913 1953405.245515823,...  \n",
       "3  POLYGON ((953093.8012866974 1953337.962316513,...  \n",
       "4  POLYGON ((953553.9324855804 1953335.741514206,...  "
      ]
     },
     "execution_count": 16,
     "metadata": {},
     "output_type": "execute_result"
    }
   ],
   "source": [
    "map_census = gpd.read_file(\"../data/raw/geo/census.shp\")\n",
    "map_census.crs = \"+proj=tmerc +lat_0=38 +lon_0=127.5 +k=0.9996 +x_0=1000000 +y_0=2000000 +ellps=GRS80 +units=m +no_defs\"\n",
    "map_census.head()"
   ]
  },
  {
   "cell_type": "markdown",
   "metadata": {},
   "source": [
    "Convert basis matrix to dataframe so that each census has columns for topic coefficients."
   ]
  },
  {
   "cell_type": "code",
   "execution_count": 17,
   "metadata": {},
   "outputs": [
    {
     "data": {
      "text/html": [
       "<div>\n",
       "<style scoped>\n",
       "    .dataframe tbody tr th:only-of-type {\n",
       "        vertical-align: middle;\n",
       "    }\n",
       "\n",
       "    .dataframe tbody tr th {\n",
       "        vertical-align: top;\n",
       "    }\n",
       "\n",
       "    .dataframe thead th {\n",
       "        text-align: right;\n",
       "    }\n",
       "</style>\n",
       "<table border=\"1\" class=\"dataframe\">\n",
       "  <thead>\n",
       "    <tr style=\"text-align: right;\">\n",
       "      <th></th>\n",
       "      <th>topic_0</th>\n",
       "      <th>topic_1</th>\n",
       "      <th>topic_2</th>\n",
       "      <th>topic_3</th>\n",
       "      <th>topic_4</th>\n",
       "      <th>topic_5</th>\n",
       "      <th>topic_6</th>\n",
       "      <th>topic_7</th>\n",
       "      <th>topic_8</th>\n",
       "      <th>topic_9</th>\n",
       "      <th>topic_10</th>\n",
       "      <th>topic_11</th>\n",
       "      <th>topic_12</th>\n",
       "      <th>topic_13</th>\n",
       "      <th>topic_14</th>\n",
       "      <th>census</th>\n",
       "    </tr>\n",
       "  </thead>\n",
       "  <tbody>\n",
       "    <tr>\n",
       "      <th>0</th>\n",
       "      <td>0.200457</td>\n",
       "      <td>0.710532</td>\n",
       "      <td>0.395868</td>\n",
       "      <td>0.248690</td>\n",
       "      <td>0.170698</td>\n",
       "      <td>0.281523</td>\n",
       "      <td>0.024225</td>\n",
       "      <td>0.322707</td>\n",
       "      <td>0.095283</td>\n",
       "      <td>0.111171</td>\n",
       "      <td>0.011434</td>\n",
       "      <td>0.000000</td>\n",
       "      <td>0.011590</td>\n",
       "      <td>0.012488</td>\n",
       "      <td>0.037747</td>\n",
       "      <td>1101053010001</td>\n",
       "    </tr>\n",
       "    <tr>\n",
       "      <th>1</th>\n",
       "      <td>0.473830</td>\n",
       "      <td>0.501101</td>\n",
       "      <td>0.334258</td>\n",
       "      <td>0.248905</td>\n",
       "      <td>0.304003</td>\n",
       "      <td>0.216378</td>\n",
       "      <td>0.083374</td>\n",
       "      <td>0.317937</td>\n",
       "      <td>0.088882</td>\n",
       "      <td>0.135593</td>\n",
       "      <td>0.188795</td>\n",
       "      <td>0.201619</td>\n",
       "      <td>0.028933</td>\n",
       "      <td>0.003299</td>\n",
       "      <td>0.000000</td>\n",
       "      <td>1101053010002</td>\n",
       "    </tr>\n",
       "    <tr>\n",
       "      <th>2</th>\n",
       "      <td>0.443544</td>\n",
       "      <td>0.520957</td>\n",
       "      <td>0.396194</td>\n",
       "      <td>0.155919</td>\n",
       "      <td>0.267671</td>\n",
       "      <td>0.213643</td>\n",
       "      <td>0.065363</td>\n",
       "      <td>0.223066</td>\n",
       "      <td>0.082684</td>\n",
       "      <td>0.095490</td>\n",
       "      <td>0.082886</td>\n",
       "      <td>0.196928</td>\n",
       "      <td>0.290170</td>\n",
       "      <td>0.165393</td>\n",
       "      <td>0.078174</td>\n",
       "      <td>1101053010003</td>\n",
       "    </tr>\n",
       "    <tr>\n",
       "      <th>3</th>\n",
       "      <td>0.718746</td>\n",
       "      <td>0.234565</td>\n",
       "      <td>0.292588</td>\n",
       "      <td>0.299573</td>\n",
       "      <td>0.185510</td>\n",
       "      <td>0.175202</td>\n",
       "      <td>0.139269</td>\n",
       "      <td>0.112771</td>\n",
       "      <td>0.122211</td>\n",
       "      <td>0.075298</td>\n",
       "      <td>0.182186</td>\n",
       "      <td>0.063464</td>\n",
       "      <td>0.001316</td>\n",
       "      <td>0.154874</td>\n",
       "      <td>0.272023</td>\n",
       "      <td>1101053010004</td>\n",
       "    </tr>\n",
       "    <tr>\n",
       "      <th>4</th>\n",
       "      <td>0.838854</td>\n",
       "      <td>0.123478</td>\n",
       "      <td>0.151904</td>\n",
       "      <td>0.277128</td>\n",
       "      <td>0.233916</td>\n",
       "      <td>0.168970</td>\n",
       "      <td>0.037430</td>\n",
       "      <td>0.152268</td>\n",
       "      <td>0.129689</td>\n",
       "      <td>0.081394</td>\n",
       "      <td>0.097217</td>\n",
       "      <td>0.048599</td>\n",
       "      <td>0.028010</td>\n",
       "      <td>0.192185</td>\n",
       "      <td>0.019272</td>\n",
       "      <td>1101053010005</td>\n",
       "    </tr>\n",
       "  </tbody>\n",
       "</table>\n",
       "</div>"
      ],
      "text/plain": [
       "    topic_0   topic_1   topic_2   topic_3   topic_4   topic_5   topic_6  \\\n",
       "0  0.200457  0.710532  0.395868  0.248690  0.170698  0.281523  0.024225   \n",
       "1  0.473830  0.501101  0.334258  0.248905  0.304003  0.216378  0.083374   \n",
       "2  0.443544  0.520957  0.396194  0.155919  0.267671  0.213643  0.065363   \n",
       "3  0.718746  0.234565  0.292588  0.299573  0.185510  0.175202  0.139269   \n",
       "4  0.838854  0.123478  0.151904  0.277128  0.233916  0.168970  0.037430   \n",
       "\n",
       "    topic_7   topic_8   topic_9  topic_10  topic_11  topic_12  topic_13  \\\n",
       "0  0.322707  0.095283  0.111171  0.011434  0.000000  0.011590  0.012488   \n",
       "1  0.317937  0.088882  0.135593  0.188795  0.201619  0.028933  0.003299   \n",
       "2  0.223066  0.082684  0.095490  0.082886  0.196928  0.290170  0.165393   \n",
       "3  0.112771  0.122211  0.075298  0.182186  0.063464  0.001316  0.154874   \n",
       "4  0.152268  0.129689  0.081394  0.097217  0.048599  0.028010  0.192185   \n",
       "\n",
       "   topic_14         census  \n",
       "0  0.037747  1101053010001  \n",
       "1  0.000000  1101053010002  \n",
       "2  0.078174  1101053010003  \n",
       "3  0.272023  1101053010004  \n",
       "4  0.019272  1101053010005  "
      ]
     },
     "execution_count": 17,
     "metadata": {},
     "output_type": "execute_result"
    }
   ],
   "source": [
    "# row-wise normalization \n",
    "df_census = pd.DataFrame(\n",
    "    normalize(basis, norm='l2', axis=1)\n",
    ")\n",
    "\n",
    "#df_census = pd.DataFrame(basis)\n",
    "df_census.columns = [\"topic_{}\".format(i) for i in list(df_census.columns)]\n",
    "df_census['census'] = list(df_pop_wide.index)\n",
    "df_census['census'] = df_census['census'].apply(str)\n",
    "df_census.head()"
   ]
  },
  {
   "cell_type": "markdown",
   "metadata": {},
   "source": [
    "Join the two dataframe into one. "
   ]
  },
  {
   "cell_type": "code",
   "execution_count": 18,
   "metadata": {},
   "outputs": [],
   "source": [
    "df_map = pd.merge(map_census, df_census, right_on='census', left_on='TOT_REG_CD')\n",
    "df_map.drop(columns=['TOT_REG_CD', 'ADM_CD'], inplace=True)"
   ]
  },
  {
   "cell_type": "markdown",
   "metadata": {},
   "source": [
    "### plots"
   ]
  },
  {
   "cell_type": "markdown",
   "metadata": {},
   "source": [
    "Topic 0 is for weekday daytime activities. We can see the central business districts such as Jongro, Yeouido, and Teheran street."
   ]
  },
  {
   "cell_type": "code",
   "execution_count": 21,
   "metadata": {},
   "outputs": [
    {
     "data": {
      "text/plain": [
       "<matplotlib.axes._subplots.AxesSubplot at 0x105ad76d8>"
      ]
     },
     "execution_count": 21,
     "metadata": {},
     "output_type": "execute_result"
    },
    {
     "data": {
      "image/png": "[encoded data removed]",
      "text/plain": [
       "<Figure size 504x504 with 1 Axes>"
      ]
     },
     "metadata": {
      "needs_background": "light"
     },
     "output_type": "display_data"
    }
   ],
   "source": [
    "df_map.plot(column='topic_0', figsize=(7,7))"
   ]
  },
  {
   "cell_type": "markdown",
   "metadata": {},
   "source": [
    "Topic 8 is for weekend evenings. We can see Itaewon, Hongdae, Gangnam, and Ui valley."
   ]
  },
  {
   "cell_type": "code",
   "execution_count": 23,
   "metadata": {},
   "outputs": [
    {
     "data": {
      "text/plain": [
       "<matplotlib.axes._subplots.AxesSubplot at 0x11f59e9b0>"
      ]
     },
     "execution_count": 23,
     "metadata": {},
     "output_type": "execute_result"
    },
    {
     "data": {
      "image/png": "[encoded data removed]",
      "text/plain": [
       "<Figure size 504x504 with 1 Axes>"
      ]
     },
     "metadata": {
      "needs_background": "light"
     },
     "output_type": "display_data"
    }
   ],
   "source": [
    "df_map.plot(column='topic_8', figsize=(7,7))"
   ]
  },
  {
   "cell_type": "markdown",
   "metadata": {},
   "source": [
    "## Generate datasets for web mapping application\n"
   ]
  },
  {
   "cell_type": "markdown",
   "metadata": {},
   "source": [
    "### Geojson"
   ]
  },
  {
   "cell_type": "code",
   "execution_count": 137,
   "metadata": {},
   "outputs": [],
   "source": [
    "# chagne crs to epsg:4326\n",
    "df_map_wgs = df_map.to_crs({'init': 'epsg:4326'})\n",
    "\n",
    "# export geopandas dataframe to geojson\n",
    "geojson = \"../data/processed/census-topic.geojson\"\n",
    "if os.path.exists(geojson):\n",
    "    os.remove(geojson)\n",
    "df_map_wgs.to_file(geojson, driver=\"GeoJSON\")"
   ]
  },
  {
   "cell_type": "markdown",
   "metadata": {},
   "source": [
    "### max value table for web app"
   ]
  },
  {
   "cell_type": "code",
   "execution_count": 140,
   "metadata": {},
   "outputs": [
    {
     "data": {
      "text/plain": [
       "'{\"ADM_NM\":\"\\\\ud751\\\\uc11d\\\\ub3d9\",\"topic_0\":0.9718522162,\"topic_1\":0.9866239885,\"topic_2\":0.951059973,\"topic_3\":0.8887156619,\"topic_4\":0.8163271901,\"topic_5\":0.9724691302,\"topic_6\":0.463504019,\"topic_7\":0.7101315165,\"topic_8\":0.8556915534,\"topic_9\":0.6162096342,\"topic_10\":0.9179109952,\"topic_11\":0.875136506,\"topic_12\":0.981917131,\"topic_13\":0.5738386082,\"topic_14\":0.7383929433,\"census\":\"1125074033301\"}'"
      ]
     },
     "execution_count": 140,
     "metadata": {},
     "output_type": "execute_result"
    }
   ],
   "source": [
    "df_map_wgs.max(axis=0).to_json()"
   ]
  },
  {
   "cell_type": "markdown",
   "metadata": {},
   "source": [
    "### vector tiles\n",
    "\n",
    "- Create mbtiles using tippecanoe and \n",
    "- unzip tiles with mb-util. \n",
    "- Then upload the tiles to S3.\n",
    "\n",
    "```\n",
    "cd ../data/processed\n",
    "tippecanoe -o census-topic.mbtiles -Z9 -z14 -S12 -ab -pk -pC  census-topic.geojson -f\n",
    "mb-util census-topic.mbtiles tile --image_format=pbf\n",
    "aws s3 sync tile s3://seoul-topics/tile\n",
    "```"
   ]
  },
  {
   "cell_type": "markdown",
   "metadata": {},
   "source": [
    "### Web Application\n",
    "https://s3.amazonaws.com/seoul-topics/www/index.html"
   ]
  }
 ],
 "metadata": {
  "kernelspec": {
   "display_name": "Python 3",
   "language": "python",
   "name": "python3"
  },
  "language_info": {
   "codemirror_mode": {
    "name": "ipython",
    "version": 3
   },
   "file_extension": ".py",
   "mimetype": "text/x-python",
   "name": "python",
   "nbconvert_exporter": "python",
   "pygments_lexer": "ipython3",
   "version": "3.6.4"
  }
 },
 "nbformat": 4,
 "nbformat_minor": 2
}
